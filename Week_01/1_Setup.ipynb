{
 "cells": [
  {
   "cell_type": "markdown",
   "id": "3629793c",
   "metadata": {},
   "source": [
    "# Language \n",
    "\n",
    "- Some history: R first developed at Bell Lab (in 70s along with C, old language) as a tool specifically for data analysis.\n",
    "\n",
    "- Two different communities; R statistics and social science, Python computer science.\n",
    "\n",
    "- R more like a software package; Python more interaction with the underlying system. "
   ]
  },
  {
   "cell_type": "markdown",
   "id": "58aa558e",
   "metadata": {},
   "source": [
    "# Anaconda (for Python, Jupyter Notebook, R, Java and more)"
   ]
  },
  {
   "cell_type": "markdown",
   "id": "34653b83",
   "metadata": {},
   "source": [
    "What is anaconda: Package, dependency and environment management for any language---Python, R, Ruby, Lua, Scala, Java, JavaScript, C/ C++, FORTRAN.\n",
    "\n",
    "\n",
    "Conda is an open-source package management system and environment management system that runs on Windows, macOS, and Linux. Conda quickly installs, runs, and updates packages and their dependencies. Conda easily creates, saves, loads, and switches between environments on your local computer. \n",
    "\n",
    "\n",
    "So why Anaconda? To manage your coding environment more flexibly, which is key to reproduce people's results on your machine\n",
    "\n",
    "\n",
    "After installation, open Terminal (mac) or Anaconda Prompt (windows) and run Conda commands "
   ]
  },
  {
   "cell_type": "markdown",
   "id": "33f3cf79",
   "metadata": {},
   "source": [
    "- Create a new virtual environment\n",
    "```\n",
    "conda create --name css_2024\n",
    "```\n",
    "\n",
    "- Create a new virtual environment with a specific version of Python (or any other package)\n",
    "```\n",
    "conda create --name css_2024 python=3.10\n",
    "```\n",
    "\n",
    "- Enter the new environment \n",
    "```\n",
    "conda activate css_2024\n",
    "```\n",
    "\n",
    "- Install key packages\n",
    "```\n",
    "conda install pandas jupyter matplotlib\n",
    "```\n",
    "\n",
    "- Check existing packages in the environment \n",
    "```\n",
    "conda list\n",
    "```\n",
    "\n",
    "- Leave the environment \n",
    "```\n",
    "conda deactivate\n",
    "```\n",
    "\n",
    "- Delete an environment\n",
    "```\n",
    "conda env remove -n myenv\n",
    "```"
   ]
  },
  {
   "cell_type": "markdown",
   "id": "f7623eb3",
   "metadata": {},
   "source": [
    "# Jupyter Notebook"
   ]
  },
  {
   "cell_type": "markdown",
   "id": "f88d930d",
   "metadata": {},
   "source": [
    "Two main ingredients in a notebook are:\n",
    "- **cells**: A container for code or text (e.g., this is written within a markdown cell)\n",
    "- **kernels**: The \"computational engine\" which executes code blocks of the notebook"
   ]
  },
  {
   "cell_type": "markdown",
   "id": "e73336cc",
   "metadata": {},
   "source": [
    "### Cells\n",
    "\n",
    "Cells can contain either **code** or **markdown**\n",
    "\n",
    "Check out keyboard shortcuts via `Cmd/Ctrl + Shift + P` or the 'keyboard' button.\n",
    "\n",
    "Some useful shorcuts:\n",
    "- `Shift + Enter`: Executes the current cell and moves to the next\n",
    "- `Esc`: Enter command mode; quicker navigation across cells\n",
    "    - Change a cell into **code** using `y` and **markdown** using `m`\n",
    "- `Tab`: Auto-completion\n",
    "- `Shift + Tab`: introspection; equivalent to `?`"
   ]
  },
  {
   "cell_type": "code",
   "execution_count": 1,
   "id": "e1b01b6c",
   "metadata": {},
   "outputs": [],
   "source": [
    "an_apple = 1\n",
    "an_orange = 2"
   ]
  },
  {
   "cell_type": "code",
   "execution_count": 2,
   "id": "e8775415",
   "metadata": {},
   "outputs": [
    {
     "data": {
      "text/plain": [
       "1"
      ]
     },
     "execution_count": 2,
     "metadata": {},
     "output_type": "execute_result"
    }
   ],
   "source": [
    "an_apple"
   ]
  },
  {
   "cell_type": "code",
   "execution_count": 5,
   "id": "770fd420",
   "metadata": {},
   "outputs": [],
   "source": [
    "def product(a, b):\n",
    "    \"\"\"\n",
    "    Multiply two numbers together\n",
    "\n",
    "    Returns\n",
    "    -------\n",
    "    the_product : type of arguments\n",
    "    \"\"\"\n",
    "    return a * b"
   ]
  },
  {
   "cell_type": "code",
   "execution_count": 6,
   "id": "1695d473",
   "metadata": {},
   "outputs": [
    {
     "data": {
      "text/plain": [
       "600"
      ]
     },
     "execution_count": 6,
     "metadata": {},
     "output_type": "execute_result"
    }
   ],
   "source": [
    "product(20, 30)"
   ]
  },
  {
   "cell_type": "code",
   "execution_count": 7,
   "id": "d4b58367",
   "metadata": {},
   "outputs": [
    {
     "name": "stdout",
     "output_type": "stream",
     "text": [
      "/Users/jingchenli/Desktop/Tutorial2024/Week_01\r\n"
     ]
    }
   ],
   "source": [
    "!pwd #print working directory"
   ]
  },
  {
   "cell_type": "code",
   "execution_count": 8,
   "id": "0da0d827",
   "metadata": {},
   "outputs": [
    {
     "name": "stdout",
     "output_type": "stream",
     "text": [
      "1_API_Web.ipynb       1_Setup.ipynb         clock.html\r\n",
      "1_Python_basics.ipynb Code and Data.pdf     hello.py\r\n"
     ]
    }
   ],
   "source": [
    "!ls "
   ]
  },
  {
   "cell_type": "code",
   "execution_count": 9,
   "id": "c6d4b57a",
   "metadata": {},
   "outputs": [
    {
     "name": "stdout",
     "output_type": "stream",
     "text": [
      "Hello world.\r\n"
     ]
    }
   ],
   "source": [
    "!python hello.py"
   ]
  },
  {
   "cell_type": "markdown",
   "id": "a6a3f678",
   "metadata": {},
   "source": [
    "### Google Colab\n",
    "\n",
    "If you run into problems working with jupyter notebook on your computer, you may also use the online notebook environment provided by Google [here](https://colab.research.google.com/notebooks/intro.ipynb)"
   ]
  },
  {
   "cell_type": "code",
   "execution_count": 10,
   "id": "60a45a06",
   "metadata": {},
   "outputs": [
    {
     "data": {
      "image/png": "[encoded data removed]",
      "text/plain": [
       "<Figure size 640x480 with 1 Axes>"
      ]
     },
     "metadata": {},
     "output_type": "display_data"
    }
   ],
   "source": [
    "import numpy as np\n",
    "from matplotlib import pyplot as plt\n",
    "\n",
    "ys = 200 + np.random.randn(100)\n",
    "x = [x for x in range(len(ys))]\n",
    "\n",
    "plt.plot(x, ys, '-')\n",
    "plt.fill_between(x, ys, 195, where=(ys > 195), facecolor='g', alpha=0.6)\n",
    "\n",
    "plt.title(\"Sample Visualization\")\n",
    "plt.show()"
   ]
  },
  {
   "cell_type": "markdown",
   "id": "2c53b4c8",
   "metadata": {},
   "source": [
    "# Resources\n",
    "\n",
    "[O'Reilly](https://www.oreilly.com) is a great source for technical knowledge. All UST students should have automatic subscription. \n",
    "\n",
    "**Use [ChatGPT](https://chat.openai.com/) and other AI systems as your learning assitant!**\n",
    "\n",
    "Technical skills are better learned interactively and iteratively. "
   ]
  },
  {
   "cell_type": "markdown",
   "id": "34fe1a29",
   "metadata": {},
   "source": [
    "# Motivation for further self-study\n",
    "\n",
    "#### Two famous economists on why social scientists should learn from computer scientists in [managing code and data](https://web.stanford.edu/~gentzkow/research/CodeAndData.pdf). \n",
    "\n",
    "#### Co-founder of Anaconda [talks about](https://youtu.be/X0-SXS6zdEQ?t=5988) what's exciting about all these technical tools.\n",
    "- We will use these tools extensively later in this course. "
   ]
  }
 ],
 "metadata": {
  "kernelspec": {
   "display_name": "Python 3 (ipykernel)",
   "language": "python",
   "name": "python3"
  },
  "language_info": {
   "codemirror_mode": {
    "name": "ipython",
    "version": 3
   },
   "file_extension": ".py",
   "mimetype": "text/x-python",
   "name": "python",
   "nbconvert_exporter": "python",
   "pygments_lexer": "ipython3",
   "version": "3.9.12"
  },
  "vscode": {
   "interpreter": {
    "hash": "017238bbfd654dd33bf785849b92926b283e8d49a08333fbcfe4217fb1dd6281"
   }
  }
 },
 "nbformat": 4,
 "nbformat_minor": 5
}
