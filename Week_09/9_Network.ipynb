{
 "cells": [
  {
   "cell_type": "markdown",
   "metadata": {},
   "source": [
    "# Network Data & Software"
   ]
  },
  {
   "cell_type": "markdown",
   "metadata": {},
   "source": [
    "\n",
    "- Where to find network data\n",
    "    - Google; search on GitHub (universal solution)\n",
    "    - http://snap.stanford.edu/data/ (mostly big network)\n",
    "    - https://networkdata.ics.uci.edu/ (mostly small network)\n",
    "    - http://networkrepository.com/index.php (a more modern one)"
   ]
  },
  {
   "cell_type": "markdown",
   "metadata": {},
   "source": [
    "- Software for network data\n",
    "    - Visualization and basic stuff: Gephi (light-weighted); Cytoscape\n",
    "    - Python: networkx/igraph\n",
    "    - R: igraph"
   ]
  },
  {
   "cell_type": "markdown",
   "metadata": {},
   "source": [
    "- Different formats of network data\n",
    "- See [Gephi’s document](https://gephi.org/users/supported-graph-formats/\n",
    ") for example. Differnet software may support differnet formats.\n",
    "- CSV is the most basic and most transferrable formation. You can just write networks as a matrix, edge list, or adjacency list."
   ]
  },
  {
   "cell_type": "markdown",
   "metadata": {},
   "source": [
    "# Network data using Gephi"
   ]
  },
  {
   "cell_type": "markdown",
   "metadata": {},
   "source": [
    "We use the data on the network of the characters in Les Misérables for illustration.\n"
   ]
  },
  {
   "cell_type": "markdown",
   "metadata": {},
   "source": [
    "# NetworkX in Python "
   ]
  },
  {
   "cell_type": "markdown",
   "metadata": {
    "hidden": true
   },
   "source": [
    "NetworkX is a Python package for the creation, manipulation, and study of the structure, dynamics, and functions of complex networks. https://networkx.org/documentation/stable/index.html\n",
    "\n",
    "Tutorial Online: https://ericmjl.github.io/Network-Analysis-Made-Simple/"
   ]
  },
  {
   "cell_type": "markdown",
   "metadata": {},
   "source": [
    "##  Read  raw data"
   ]
  },
  {
   "cell_type": "code",
   "execution_count": null,
   "metadata": {},
   "outputs": [],
   "source": []
  },
  {
   "cell_type": "code",
   "execution_count": 2,
   "metadata": {},
   "outputs": [
    {
     "name": "stdout",
     "output_type": "stream",
     "text": [
      "Collecting networkx\n",
      "  Using cached networkx-3.3-py3-none-any.whl.metadata (5.1 kB)\n",
      "Using cached networkx-3.3-py3-none-any.whl (1.7 MB)\n",
      "Installing collected packages: networkx\n",
      "Successfully installed networkx-3.3\n"
     ]
    }
   ],
   "source": [
    "!pip install networkx"
   ]
  },
  {
   "cell_type": "code",
   "execution_count": 3,
   "metadata": {},
   "outputs": [],
   "source": [
    "import networkx as nx\n",
    "\n",
    "import csv\n",
    "from operator import itemgetter"
   ]
  },
  {
   "cell_type": "code",
   "execution_count": 4,
   "metadata": {},
   "outputs": [
    {
     "data": {
      "text/plain": [
       "'3.3'"
      ]
     },
     "execution_count": 4,
     "metadata": {},
     "output_type": "execute_result"
    }
   ],
   "source": [
    "nx.__version__"
   ]
  },
  {
   "cell_type": "markdown",
   "metadata": {},
   "source": [
    "- We first use the CSV module to load the nodes and edges. \n",
    "- Two datasets: \n",
    "    - a list of nodes and \n",
    "    - a list of edge pairs (as tuples of nodes)."
   ]
  },
  {
   "cell_type": "code",
   "execution_count": 5,
   "metadata": {},
   "outputs": [
    {
     "name": "stdout",
     "output_type": "stream",
     "text": [
      "Name,Historical Significance,Gender,Birthdate,Deathdate,ID\n",
      "Joseph Wyeth,religious writer,male,1663,1731,10013191\n",
      "Alexander Skene of Newtyle,local politician and author,male,1621,1694,10011149\n",
      "James Logan,colonial official and scholar,male,1674,1751,10007567\n",
      "Dorcas Erbery,Quaker preacher,female,1656,1659,10003983\n",
      "Lilias Skene,Quaker preacher and poet,male,1626,1697,10011152\n",
      "William Mucklow,religious writer,male,1630,1713,10008595\n",
      "Thomas Salthouse,Quaker preacher and writer,male,1630,1691,10010643\n",
      "William Dewsbury,Quaker activist,male,1621,1688,10003478\n",
      "John Audland,Quaker preacher,male,1630,1664,10000411\n"
     ]
    }
   ],
   "source": [
    "!head -10 quakers_nodelist.csv"
   ]
  },
  {
   "cell_type": "code",
   "execution_count": 6,
   "metadata": {},
   "outputs": [
    {
     "name": "stdout",
     "output_type": "stream",
     "text": [
      "Source,Target\n",
      "George Keith,Robert Barclay\n",
      "George Keith,Benjamin Furly\n",
      "George Keith,Anne Conway Viscountess Conway and Killultagh\n",
      "George Keith,Franciscus Mercurius van Helmont\n",
      "George Keith,William Penn\n",
      "George Keith,George Fox\n",
      "George Keith,George Whitehead\n",
      "George Keith,William Bradford\n",
      "James Parnel,Benjamin Furly\n",
      "James Parnel,Stephen Crisp\n",
      "Peter Collinson,John Bartram\n",
      "Peter Collinson,James Logan\n",
      "Joseph Wyeth,Thomas Ellwood\n",
      "Alexander Skene of Newtyle,Lilias Skene\n",
      "Dorcas Erbery,James Nayler\n",
      "William Mucklow,George Fox\n",
      "Franciscus Mercurius van Helmont,Benjamin Furly\n",
      "William Dewsbury,Edward Burrough\n",
      "William Dewsbury,George Fox\n"
     ]
    }
   ],
   "source": [
    "!head -20 quakers_edgelist.csv"
   ]
  },
  {
   "cell_type": "code",
   "execution_count": 7,
   "metadata": {},
   "outputs": [
    {
     "data": {
      "text/plain": [
       "[['Joseph Wyeth', 'religious writer', 'male', '1663', '1731', '10013191'],\n",
       " ['Alexander Skene of Newtyle',\n",
       "  'local politician and author',\n",
       "  'male',\n",
       "  '1621',\n",
       "  '1694',\n",
       "  '10011149'],\n",
       " ['James Logan',\n",
       "  'colonial official and scholar',\n",
       "  'male',\n",
       "  '1674',\n",
       "  '1751',\n",
       "  '10007567'],\n",
       " ['Dorcas Erbery', 'Quaker preacher', 'female', '1656', '1659', '10003983'],\n",
       " ['Lilias Skene',\n",
       "  'Quaker preacher and poet',\n",
       "  'male',\n",
       "  '1626',\n",
       "  '1697',\n",
       "  '10011152'],\n",
       " ['William Mucklow', 'religious writer', 'male', '1630', '1713', '10008595'],\n",
       " ['Thomas Salthouse',\n",
       "  'Quaker preacher and writer',\n",
       "  'male',\n",
       "  '1630',\n",
       "  '1691',\n",
       "  '10010643'],\n",
       " ['William Dewsbury', 'Quaker activist', 'male', '1621', '1688', '10003478'],\n",
       " ['John Audland', 'Quaker preacher', 'male', '1630', '1664', '10000411'],\n",
       " ['Richard Claridge',\n",
       "  'Quaker minister and schoolmaster',\n",
       "  'male',\n",
       "  '1649',\n",
       "  '1723',\n",
       "  '10002469'],\n",
       " ['William Bradford', 'printer', 'male', '1663', '1752', '10001445'],\n",
       " ['Fettiplace Bellers',\n",
       "  'philosophical writer and playwright',\n",
       "  'male',\n",
       "  '1687',\n",
       "  '1750',\n",
       "  '10000933'],\n",
       " ['John Bellers',\n",
       "  'political economist and cloth merchant',\n",
       "  'male',\n",
       "  '1654',\n",
       "  '1725',\n",
       "  '10000934'],\n",
       " ['Isabel Yeamans', 'Quaker preacher', 'female', '1637', '1704', '10013226'],\n",
       " ['George Fox the younger',\n",
       "  'religious writer',\n",
       "  'male',\n",
       "  '1551',\n",
       "  '1661',\n",
       "  '10004523'],\n",
       " ['George Fox',\n",
       "  ' a founder of the Religious Society of Friends (Quakers)',\n",
       "  'male',\n",
       "  '1624',\n",
       "  '1691',\n",
       "  '10004524'],\n",
       " ['John Stubbs', 'Quaker minister', 'male', '1618', '1675', '10011695'],\n",
       " ['Anne Camm', 'Quaker preacher', 'female', '1627', '1705', '10001967'],\n",
       " ['John Camm', 'Quaker preacher', 'male', '1605', '1657', '10001968'],\n",
       " ['Thomas Camm',\n",
       "  'Quaker preacher and writer',\n",
       "  'male',\n",
       "  '1640',\n",
       "  '1708',\n",
       "  '10001969'],\n",
       " ['Katharine Evans',\n",
       "  'Quaker missionary',\n",
       "  'female',\n",
       "  '1618',\n",
       "  '1692',\n",
       "  '10004036'],\n",
       " ['Lydia Lancaster', 'Quaker minister', 'female', '1683', '1761', '10007110'],\n",
       " ['Samuel Clarridge', 'Quaker activist', 'male', '1631', '1704', '10002504'],\n",
       " ['Thomas Lower',\n",
       "  'Quaker activist and physician',\n",
       "  'male',\n",
       "  '1633',\n",
       "  '1720',\n",
       "  '10007626'],\n",
       " ['Gervase Benson', 'Quaker leader', 'male', '1569', '1679', '10000972'],\n",
       " ['Stephen Crisp',\n",
       "  'Quaker activist and writer',\n",
       "  'male',\n",
       "  '1628',\n",
       "  '1692',\n",
       "  '10003022'],\n",
       " ['James Claypoole',\n",
       "  'merchant and pioneer settler in America',\n",
       "  'male',\n",
       "  '1634',\n",
       "  '1687',\n",
       "  '10002513'],\n",
       " ['Thomas Holme', 'Quaker missionary', 'male', '1626', '1666', '10006100'],\n",
       " ['John Freame', 'banker and lobbyist', 'male', '1665', '1745', '10004564'],\n",
       " ['John Swinton', 'politician', 'male', '1620', '1679', '10011742'],\n",
       " ['William Mead',\n",
       "  'Quaker patron and merchant',\n",
       "  'male',\n",
       "  '1627',\n",
       "  '1713',\n",
       "  '10008161'],\n",
       " ['Henry Pickworth',\n",
       "  'religious controversialist',\n",
       "  'male',\n",
       "  '1673',\n",
       "  '1738',\n",
       "  '10009697'],\n",
       " ['John Crook',\n",
       "  'Quaker leader and writer',\n",
       "  'male',\n",
       "  '1616',\n",
       "  '1699',\n",
       "  '10003063'],\n",
       " ['Gilbert Latey', 'Quaker activist', 'male', '1626', '1705', '10007166'],\n",
       " ['Ellis Hookes', 'Quaker administrator', 'male', '1635', '1681', '10006146'],\n",
       " ['Joseph Besse',\n",
       "  'historian of Quakerism',\n",
       "  'male',\n",
       "  '1683',\n",
       "  '1757',\n",
       "  '10001027'],\n",
       " ['James Nayler',\n",
       "  'Quaker preacher and writer',\n",
       "  'male',\n",
       "  '1618',\n",
       "  '1660',\n",
       "  '10008713'],\n",
       " ['Elizabeth Hooten', 'Quaker preacher', 'female', '1562', '1672', '10006153'],\n",
       " ['George Whitehead',\n",
       "  'Quaker leader and writer',\n",
       "  'male',\n",
       "  '1637',\n",
       "  '1724',\n",
       "  '10012813'],\n",
       " ['John Whitehead',\n",
       "  'Quaker minister and preacher',\n",
       "  'male',\n",
       "  '1630',\n",
       "  '1696',\n",
       "  '10012815'],\n",
       " ['William Crouch',\n",
       "  'Quaker leader and writer',\n",
       "  'male',\n",
       "  '1628',\n",
       "  '1711',\n",
       "  '10003087'],\n",
       " ['Benjamin Furly',\n",
       "  'merchant and religious writer',\n",
       "  'male',\n",
       "  '1636',\n",
       "  '1714',\n",
       "  '10004625'],\n",
       " ['Silvanus Bevan', 'apothecary', 'male', '1691', '1765', '10001041'],\n",
       " ['Robert Rich',\n",
       "  'Quaker adherent and sectary',\n",
       "  'male',\n",
       "  '1607',\n",
       "  '1679',\n",
       "  '10010260'],\n",
       " ['John Whiting',\n",
       "  'Quaker bibliographer and writer',\n",
       "  'male',\n",
       "  '1656',\n",
       "  '1722',\n",
       "  '10012829'],\n",
       " ['Christopher Taylor',\n",
       "  'religious writer and schoolmaster',\n",
       "  'male',\n",
       "  '1614',\n",
       "  '1686',\n",
       "  '10011811'],\n",
       " ['Thomas Lawson',\n",
       "  'Quaker minister and botanist',\n",
       "  'male',\n",
       "  '1630',\n",
       "  '1691',\n",
       "  '10007210'],\n",
       " ['Richard Farnworth',\n",
       "  'Quaker preacher and writer',\n",
       "  'male',\n",
       "  '1630',\n",
       "  '1666',\n",
       "  '10004141'],\n",
       " ['William Coddington',\n",
       "  'merchant and official in America',\n",
       "  'male',\n",
       "  '1601',\n",
       "  '1678',\n",
       "  '10002606'],\n",
       " ['Thomas Taylor',\n",
       "  'Quaker minister and writer',\n",
       "  'male',\n",
       "  '1617',\n",
       "  '1682',\n",
       "  '10011824'],\n",
       " ['Richard Vickris', 'religious writer', 'male', '1590', '1700', '10012350'],\n",
       " ['Robert Barclay',\n",
       "  'religious writer and colonial governor',\n",
       "  'male',\n",
       "  '1648',\n",
       "  '1690',\n",
       "  '10054848'],\n",
       " ['Jane Sowle', '', 'female', '1631', '1711', '10011331'],\n",
       " ['Tace Sowle', 'printer and bookseller', 'male', '1666', '1749', '10011332'],\n",
       " ['Leonard Fell',\n",
       "  'Quaker missionary and writer',\n",
       "  'male',\n",
       "  '1624',\n",
       "  '1701',\n",
       "  '10004169'],\n",
       " ['Margaret Fell', 'Quaker leader', 'female', '1614', '1702', '10004170'],\n",
       " ['George Bishop',\n",
       "  'government official and religious writer',\n",
       "  'male',\n",
       "  '1558',\n",
       "  '1668',\n",
       "  '10001097'],\n",
       " ['Elizabeth Leavens',\n",
       "  'Quaker missionary',\n",
       "  'female',\n",
       "  '1555',\n",
       "  '1665',\n",
       "  '10007246'],\n",
       " ['Thomas Curtis', 'Quaker schismatic', 'male', '1602', '1712', '10003161'],\n",
       " ['Alice Curwen', 'Quaker missionary', 'female', '1619', '1679', '10003162'],\n",
       " ['Alexander Parker',\n",
       "  'Quaker preacher and author',\n",
       "  'male',\n",
       "  '1628',\n",
       "  '1689',\n",
       "  '10009307'],\n",
       " ['John Wilkinson', 'Quaker schismatic', 'male', '1652', '1683', '10012893'],\n",
       " ['Thomas Aldam',\n",
       "  'Quaker preacher and writer',\n",
       "  'male',\n",
       "  '1616',\n",
       "  '1660',\n",
       "  '10000099'],\n",
       " ['David Barclay of Ury',\n",
       "  'soldier and politician',\n",
       "  'male',\n",
       "  '1610',\n",
       "  '1686',\n",
       "  '10000621'],\n",
       " ['David Barclay', 'merchant', 'male', '1682', '1769', '10000622'],\n",
       " ['Sir Charles Wager',\n",
       "  'naval officer and politician',\n",
       "  'male',\n",
       "  '1666',\n",
       "  '1743',\n",
       "  '10012403'],\n",
       " ['George Keith',\n",
       "  'Quaker schismatic and Church of England clergyman',\n",
       "  'male',\n",
       "  '1638',\n",
       "  '1716',\n",
       "  '10006784'],\n",
       " ['James Parnel', 'Quaker martyr', 'male', '1636', '1656', '10009347'],\n",
       " ['Peter Collinson', 'botanist', 'male', '1694', '1768', '10002694'],\n",
       " ['Franciscus Mercurius van Helmont',\n",
       "  'physician and cabbalist',\n",
       "  'male',\n",
       "  '1614',\n",
       "  '1698',\n",
       "  '10005781'],\n",
       " ['William Caton', 'Quaker preacher', 'male', '1636', '1665', '10002203'],\n",
       " ['Francis Howgill', 'Quaker activist', 'male', '1618', '1669', '10006305'],\n",
       " ['Richard Hubberthorne',\n",
       "  'Quaker activist',\n",
       "  'male',\n",
       "  '1628',\n",
       "  '1662',\n",
       "  '10006314'],\n",
       " ['William Ames', 'Quaker preacher', 'male', '1552', '1662', '10000175'],\n",
       " ['William Rogers', 'Quaker schismatic', 'male', '1601', '1711', '10010417'],\n",
       " ['Isaac Norris',\n",
       "  'colonial official and merchant',\n",
       "  'male',\n",
       "  '1671',\n",
       "  '1735',\n",
       "  '10008884'],\n",
       " ['Anthony Sharp', 'Quaker leader', 'male', '1643', '1707', '10010941'],\n",
       " ['Mary Fisher', 'Quaker missionary', 'female', '1623', '1698', '10004290'],\n",
       " ['Anne Conway Viscountess Conway and Killultagh',\n",
       "  'philosopher',\n",
       "  'female',\n",
       "  '1631',\n",
       "  '1679',\n",
       "  '10002755'],\n",
       " ['Samuel Fisher',\n",
       "  'Quaker preacher and writer',\n",
       "  'male',\n",
       "  '1604',\n",
       "  '1665',\n",
       "  '10004292'],\n",
       " ['Francis Bugg', 'Quaker apostate', 'male', '1640', '1727', '10001737'],\n",
       " ['Sarah Gibbons',\n",
       "  'Quaker preacher in America',\n",
       "  'female',\n",
       "  '1634',\n",
       "  '1659',\n",
       "  '10004811'],\n",
       " ['William Tomlinson', 'religious writer', 'male', '1650', '1696', '10011989'],\n",
       " ['Humphrey Norton',\n",
       "  'Quaker missionary and author',\n",
       "  'male',\n",
       "  '1655',\n",
       "  '1660',\n",
       "  '10008917'],\n",
       " ['William Gibson', 'Quaker leader', 'male', '1628', '1684', '10004827'],\n",
       " ['Gideon Wanton',\n",
       "  'merchant and colonial governor',\n",
       "  'male',\n",
       "  '1693',\n",
       "  '1767',\n",
       "  '10012509'],\n",
       " ['John Wanton',\n",
       "  'merchant and colonial governor',\n",
       "  'male',\n",
       "  '1672',\n",
       "  '1740',\n",
       "  '10012510'],\n",
       " ['Grace Chamber', 'Quaker minister', 'female', '1676', '1762', '10002274'],\n",
       " ['Mary Prince', 'Quaker preacher', 'female', '1569', '1679', '10009959'],\n",
       " ['John Bartram',\n",
       "  'botanist and explorer in America',\n",
       "  'male',\n",
       "  '1699',\n",
       "  '1777',\n",
       "  '10000745'],\n",
       " ['Edward Haistwell', 'merchant', 'male', '1658', '1709', '10005359'],\n",
       " ['John ap John', 'Quaker leader', 'male', '1625', '1697', '10000243'],\n",
       " ['John Rous', 'Quaker missionary', 'male', '1585', '1695', '10010488'],\n",
       " ['Anthony Pearson',\n",
       "  'Quaker administrator',\n",
       "  'male',\n",
       "  '1627',\n",
       "  '1666',\n",
       "  '10009470'],\n",
       " ['Solomon Eccles',\n",
       "  'musician and Quaker missionary',\n",
       "  'male',\n",
       "  '1617',\n",
       "  '1682',\n",
       "  '10003859'],\n",
       " ['John Burnyeat', 'Quaker minister', 'male', '1631', '1690', '10001815'],\n",
       " ['Edward Burrough',\n",
       "  'Quaker activist and writer',\n",
       "  'male',\n",
       "  '1633',\n",
       "  '1663',\n",
       "  '10001818'],\n",
       " ['Rebecca Travers',\n",
       "  'Quaker preacher and writer',\n",
       "  'female',\n",
       "  '1609',\n",
       "  '1688',\n",
       "  '10012062'],\n",
       " ['William Edmundson', 'Quaker leader', 'male', '1627', '1712', '10003882'],\n",
       " ['Sarah Cheevers', 'Quaker missionary', 'female', '1608', '1664', '10002354'],\n",
       " ['Edward Pyott',\n",
       "  'parliamentarian army officer',\n",
       "  'male',\n",
       "  '1560',\n",
       "  '1670',\n",
       "  '10010036'],\n",
       " ['Daniel Quare',\n",
       "  'maker of clocks, watches, and barometers',\n",
       "  'male',\n",
       "  '1648',\n",
       "  '1724',\n",
       "  '10010037'],\n",
       " ['John Penington',\n",
       "  'Quaker apologist and controversialist',\n",
       "  'male',\n",
       "  '1655',\n",
       "  '1710',\n",
       "  '10009526'],\n",
       " ['Mary Penington', 'Quaker and writer', 'female', '1623', '1682', '10009527'],\n",
       " ['Charles Marshall',\n",
       "  'Quaker preacher and apothecary',\n",
       "  'male',\n",
       "  '1637',\n",
       "  '1698',\n",
       "  '10007992'],\n",
       " ['Humphrey Woolrich', 'religious writer', 'male', '1633', '1707', '10013112'],\n",
       " ['William Penn',\n",
       "  'Quaker leader and founder of Pennsylvania',\n",
       "  'male',\n",
       "  '1644',\n",
       "  '1718',\n",
       "  '10009531'],\n",
       " ['Mary Pennyman', '', 'female', '1630', '1701', '10009535'],\n",
       " ['Dorothy Waugh', 'Quaker preacher', 'female', '1636', '1666', '10012614'],\n",
       " ['David Lloyd',\n",
       "  'lawyer and politician in America',\n",
       "  'male',\n",
       "  '1656',\n",
       "  '1731',\n",
       "  '10007509'],\n",
       " ['Lewis Morris', 'politician in America', 'male', '1671', '1746', '10008534'],\n",
       " ['Martha Simmonds',\n",
       "  'Quaker and author',\n",
       "  'female',\n",
       "  '1624',\n",
       "  '1665',\n",
       "  '10011100'],\n",
       " ['John Story', 'Quaker schismatic', 'male', '1571', '1681', '10011613'],\n",
       " ['Thomas Story',\n",
       "  'Quaker minister and journal writer',\n",
       "  'male',\n",
       "  '1670',\n",
       "  '1742',\n",
       "  '10011614'],\n",
       " ['Thomas Ellwood',\n",
       "  'religious controversialist',\n",
       "  'male',\n",
       "  '1639',\n",
       "  '1713',\n",
       "  '10003945'],\n",
       " ['William Simpson', 'Quaker preacher', 'male', '1627', '1671', '10011114'],\n",
       " ['Samuel Bownas',\n",
       "  'Quaker minister and writer',\n",
       "  'male',\n",
       "  '1677',\n",
       "  '1753',\n",
       "  '10001390'],\n",
       " ['John Perrot', 'Quaker schismatic', 'male', '1555', '1665', '10009584'],\n",
       " ['Hannah Stranger',\n",
       "  'Quaker missionary',\n",
       "  'female',\n",
       "  '1656',\n",
       "  '1671',\n",
       "  '10011632']]"
      ]
     },
     "execution_count": 7,
     "metadata": {},
     "output_type": "execute_result"
    }
   ],
   "source": [
    "with open('quakers_nodelist.csv', 'r') as nodecsv:\n",
    "    nodereader = csv.reader(nodecsv) \n",
    "    nodes = [n for n in nodereader][1:]\n",
    "nodes"
   ]
  },
  {
   "cell_type": "code",
   "execution_count": 8,
   "metadata": {},
   "outputs": [
    {
     "data": {
      "text/plain": [
       "['Joseph Wyeth',\n",
       " 'Alexander Skene of Newtyle',\n",
       " 'James Logan',\n",
       " 'Dorcas Erbery',\n",
       " 'Lilias Skene',\n",
       " 'William Mucklow',\n",
       " 'Thomas Salthouse',\n",
       " 'William Dewsbury',\n",
       " 'John Audland',\n",
       " 'Richard Claridge',\n",
       " 'William Bradford',\n",
       " 'Fettiplace Bellers',\n",
       " 'John Bellers',\n",
       " 'Isabel Yeamans',\n",
       " 'George Fox the younger',\n",
       " 'George Fox',\n",
       " 'John Stubbs',\n",
       " 'Anne Camm',\n",
       " 'John Camm',\n",
       " 'Thomas Camm',\n",
       " 'Katharine Evans',\n",
       " 'Lydia Lancaster',\n",
       " 'Samuel Clarridge',\n",
       " 'Thomas Lower',\n",
       " 'Gervase Benson',\n",
       " 'Stephen Crisp',\n",
       " 'James Claypoole',\n",
       " 'Thomas Holme',\n",
       " 'John Freame',\n",
       " 'John Swinton',\n",
       " 'William Mead',\n",
       " 'Henry Pickworth',\n",
       " 'John Crook',\n",
       " 'Gilbert Latey',\n",
       " 'Ellis Hookes',\n",
       " 'Joseph Besse',\n",
       " 'James Nayler',\n",
       " 'Elizabeth Hooten',\n",
       " 'George Whitehead',\n",
       " 'John Whitehead',\n",
       " 'William Crouch',\n",
       " 'Benjamin Furly',\n",
       " 'Silvanus Bevan',\n",
       " 'Robert Rich',\n",
       " 'John Whiting',\n",
       " 'Christopher Taylor',\n",
       " 'Thomas Lawson',\n",
       " 'Richard Farnworth',\n",
       " 'William Coddington',\n",
       " 'Thomas Taylor',\n",
       " 'Richard Vickris',\n",
       " 'Robert Barclay',\n",
       " 'Jane Sowle',\n",
       " 'Tace Sowle',\n",
       " 'Leonard Fell',\n",
       " 'Margaret Fell',\n",
       " 'George Bishop',\n",
       " 'Elizabeth Leavens',\n",
       " 'Thomas Curtis',\n",
       " 'Alice Curwen',\n",
       " 'Alexander Parker',\n",
       " 'John Wilkinson',\n",
       " 'Thomas Aldam',\n",
       " 'David Barclay of Ury',\n",
       " 'David Barclay',\n",
       " 'Sir Charles Wager',\n",
       " 'George Keith',\n",
       " 'James Parnel',\n",
       " 'Peter Collinson',\n",
       " 'Franciscus Mercurius van Helmont',\n",
       " 'William Caton',\n",
       " 'Francis Howgill',\n",
       " 'Richard Hubberthorne',\n",
       " 'William Ames',\n",
       " 'William Rogers',\n",
       " 'Isaac Norris',\n",
       " 'Anthony Sharp',\n",
       " 'Mary Fisher',\n",
       " 'Anne Conway Viscountess Conway and Killultagh',\n",
       " 'Samuel Fisher',\n",
       " 'Francis Bugg',\n",
       " 'Sarah Gibbons',\n",
       " 'William Tomlinson',\n",
       " 'Humphrey Norton',\n",
       " 'William Gibson',\n",
       " 'Gideon Wanton',\n",
       " 'John Wanton',\n",
       " 'Grace Chamber',\n",
       " 'Mary Prince',\n",
       " 'John Bartram',\n",
       " 'Edward Haistwell',\n",
       " 'John ap John',\n",
       " 'John Rous',\n",
       " 'Anthony Pearson',\n",
       " 'Solomon Eccles',\n",
       " 'John Burnyeat',\n",
       " 'Edward Burrough',\n",
       " 'Rebecca Travers',\n",
       " 'William Edmundson',\n",
       " 'Sarah Cheevers',\n",
       " 'Edward Pyott',\n",
       " 'Daniel Quare',\n",
       " 'John Penington',\n",
       " 'Mary Penington',\n",
       " 'Charles Marshall',\n",
       " 'Humphrey Woolrich',\n",
       " 'William Penn',\n",
       " 'Mary Pennyman',\n",
       " 'Dorothy Waugh',\n",
       " 'David Lloyd',\n",
       " 'Lewis Morris',\n",
       " 'Martha Simmonds',\n",
       " 'John Story',\n",
       " 'Thomas Story',\n",
       " 'Thomas Ellwood',\n",
       " 'William Simpson',\n",
       " 'Samuel Bownas',\n",
       " 'John Perrot',\n",
       " 'Hannah Stranger']"
      ]
     },
     "execution_count": 8,
     "metadata": {},
     "output_type": "execute_result"
    }
   ],
   "source": [
    "node_names = [n[0] for n in nodes] # Get a list of only the node names\n",
    "node_names"
   ]
  },
  {
   "cell_type": "code",
   "execution_count": 9,
   "metadata": {},
   "outputs": [
    {
     "data": {
      "text/plain": [
       "[('George Keith', 'Robert Barclay'),\n",
       " ('George Keith', 'Benjamin Furly'),\n",
       " ('George Keith', 'Anne Conway Viscountess Conway and Killultagh'),\n",
       " ('George Keith', 'Franciscus Mercurius van Helmont'),\n",
       " ('George Keith', 'William Penn'),\n",
       " ('George Keith', 'George Fox'),\n",
       " ('George Keith', 'George Whitehead'),\n",
       " ('George Keith', 'William Bradford'),\n",
       " ('James Parnel', 'Benjamin Furly'),\n",
       " ('James Parnel', 'Stephen Crisp'),\n",
       " ('Peter Collinson', 'John Bartram'),\n",
       " ('Peter Collinson', 'James Logan'),\n",
       " ('Joseph Wyeth', 'Thomas Ellwood'),\n",
       " ('Alexander Skene of Newtyle', 'Lilias Skene'),\n",
       " ('Dorcas Erbery', 'James Nayler'),\n",
       " ('William Mucklow', 'George Fox'),\n",
       " ('Franciscus Mercurius van Helmont', 'Benjamin Furly'),\n",
       " ('William Dewsbury', 'Edward Burrough'),\n",
       " ('William Dewsbury', 'George Fox'),\n",
       " ('William Dewsbury', 'John Crook'),\n",
       " ('John Audland', 'John Camm'),\n",
       " ('John Audland', 'Francis Howgill'),\n",
       " ('John Audland', 'Edward Pyott'),\n",
       " ('John Audland', 'Charles Marshall'),\n",
       " ('John Audland', 'George Fox'),\n",
       " ('John Audland', 'Anne Camm'),\n",
       " ('Francis Howgill', 'Martha Simmonds'),\n",
       " ('Francis Howgill', 'James Nayler'),\n",
       " ('Francis Howgill', 'Edward Burrough'),\n",
       " ('Francis Howgill', 'George Fox'),\n",
       " ('Francis Howgill', 'Richard Farnworth'),\n",
       " ('Francis Howgill', 'William Crouch'),\n",
       " ('William Bradford', 'William Penn'),\n",
       " ('William Bradford', 'Tace Sowle'),\n",
       " ('John Bellers', 'Fettiplace Bellers'),\n",
       " ('William Rogers', 'Thomas Ellwood'),\n",
       " ('William Rogers', 'George Whitehead'),\n",
       " ('Martha Simmonds', 'Hannah Stranger'),\n",
       " ('Martha Simmonds', 'James Nayler'),\n",
       " ('Isabel Yeamans', 'William Penn'),\n",
       " ('George Fox the younger', 'Margaret Fell'),\n",
       " ('George Fox', 'Ellis Hookes'),\n",
       " ('George Fox', 'William Mead'),\n",
       " ('George Fox', 'Elizabeth Hooten'),\n",
       " ('George Fox', 'Margaret Fell'),\n",
       " ('George Fox', 'John Crook'),\n",
       " ('George Fox', 'George Whitehead'),\n",
       " ('George Fox', 'Benjamin Furly'),\n",
       " ('George Fox', 'Thomas Salthouse'),\n",
       " ('George Fox', 'James Nayler'),\n",
       " ('George Fox', 'Edward Burrough'),\n",
       " ('George Fox', 'John Wilkinson'),\n",
       " ('George Fox', 'Thomas Ellwood'),\n",
       " ('George Fox', 'William Coddington'),\n",
       " ('George Fox', 'John Stubbs'),\n",
       " ('George Fox', 'John Perrot'),\n",
       " ('George Fox', 'Leonard Fell'),\n",
       " ('George Fox', 'William Penn'),\n",
       " ('John Stubbs', 'Benjamin Furly'),\n",
       " ('John Stubbs', 'William Caton'),\n",
       " ('John Stubbs', 'Samuel Fisher'),\n",
       " ('John Stubbs', 'John Burnyeat'),\n",
       " ('John Camm', 'Charles Marshall'),\n",
       " ('John Camm', 'Thomas Camm'),\n",
       " ('John Camm', 'Edward Pyott'),\n",
       " ('Thomas Camm', 'John Story'),\n",
       " ('Thomas Camm', 'Anne Camm'),\n",
       " ('John Wilkinson', 'Charles Marshall'),\n",
       " ('John Wilkinson', 'Solomon Eccles'),\n",
       " ('John Wilkinson', 'John Story'),\n",
       " ('John Wilkinson', 'Alexander Parker'),\n",
       " ('Isaac Norris', 'William Penn'),\n",
       " ('John Swinton', 'David Barclay of Ury'),\n",
       " ('James Nayler', 'Hannah Stranger'),\n",
       " ('James Nayler', 'Gervase Benson'),\n",
       " ('James Nayler', 'Margaret Fell'),\n",
       " ('James Nayler', 'Richard Farnworth'),\n",
       " ('James Nayler', 'George Whitehead'),\n",
       " ('James Nayler', 'John Perrot'),\n",
       " ('James Nayler', 'Robert Rich'),\n",
       " ('James Nayler', 'Anthony Pearson'),\n",
       " ('James Nayler', 'Thomas Ellwood'),\n",
       " ('James Nayler', 'Edward Burrough'),\n",
       " ('James Nayler', 'Rebecca Travers'),\n",
       " ('James Nayler', 'William Tomlinson'),\n",
       " ('Anthony Sharp', 'Samuel Clarridge'),\n",
       " ('Anthony Sharp', 'Thomas Curtis'),\n",
       " ('Anthony Sharp', 'William Edmundson'),\n",
       " ('Thomas Salthouse', 'Margaret Fell'),\n",
       " ('William Ames', 'William Caton'),\n",
       " ('Mary Fisher', 'John Perrot'),\n",
       " ('Mary Fisher', 'Mary Prince'),\n",
       " ('Lydia Lancaster', 'Grace Chamber'),\n",
       " ('Henry Pickworth', 'Francis Bugg'),\n",
       " ('Samuel Clarridge', 'James Claypoole'),\n",
       " ('Francis Bugg', 'George Whitehead'),\n",
       " ('Thomas Lower', 'Margaret Fell'),\n",
       " ('Sarah Gibbons', 'Dorothy Waugh'),\n",
       " ('Gervase Benson', 'Anthony Pearson'),\n",
       " ('Stephen Crisp', 'William Caton'),\n",
       " ('Stephen Crisp', 'Benjamin Furly'),\n",
       " ('John Freame', 'David Barclay'),\n",
       " ('Humphrey Norton', 'John Rous'),\n",
       " ('William Gibson', 'Thomas Holme'),\n",
       " ('Gideon Wanton', 'John Wanton'),\n",
       " ('William Mead', 'Margaret Fell'),\n",
       " ('Benjamin Furly', 'Robert Barclay'),\n",
       " ('Benjamin Furly', 'Alexander Parker'),\n",
       " ('Benjamin Furly', 'William Caton'),\n",
       " ('Benjamin Furly', 'William Penn'),\n",
       " ('James Logan', 'John Bartram'),\n",
       " ('James Logan', 'William Penn'),\n",
       " ('James Logan', 'David Lloyd'),\n",
       " ('Mary Prince', 'John Perrot'),\n",
       " ('Edward Haistwell', 'William Penn'),\n",
       " ('John ap John', 'John Burnyeat'),\n",
       " ('John Crook', 'John Perrot'),\n",
       " ('John Crook', 'Edward Burrough'),\n",
       " ('Gilbert Latey', 'Edward Burrough'),\n",
       " ('Gilbert Latey', 'George Whitehead'),\n",
       " ('Richard Hubberthorne', 'George Whitehead'),\n",
       " ('Richard Hubberthorne', 'Richard Farnworth'),\n",
       " ('Joseph Besse', 'Richard Claridge'),\n",
       " ('Joseph Besse', 'Samuel Bownas'),\n",
       " ('George Whitehead', 'Alexander Parker'),\n",
       " ('George Whitehead', 'John Whitehead'),\n",
       " ('George Whitehead', 'Daniel Quare'),\n",
       " ('George Whitehead', 'William Penn'),\n",
       " ('George Whitehead', 'John Story'),\n",
       " ('George Whitehead', 'Rebecca Travers'),\n",
       " ('Silvanus Bevan', 'Daniel Quare'),\n",
       " ('Solomon Eccles', 'John Story'),\n",
       " ('Robert Rich', 'William Tomlinson'),\n",
       " ('John Burnyeat', 'William Edmundson'),\n",
       " ('John Burnyeat', 'William Penn'),\n",
       " ('Katharine Evans', 'Sarah Cheevers'),\n",
       " ('Edward Burrough', 'John Perrot'),\n",
       " ('Edward Burrough', 'Thomas Ellwood'),\n",
       " ('Edward Burrough', 'William Crouch'),\n",
       " ('John Whiting', 'Christopher Taylor'),\n",
       " ('Rebecca Travers', 'Alice Curwen'),\n",
       " ('Rebecca Travers', 'William Penn'),\n",
       " ('William Caton', 'Margaret Fell'),\n",
       " ('Thomas Lawson', 'Margaret Fell'),\n",
       " ('Thomas Lawson', 'Alexander Parker'),\n",
       " ('Richard Farnworth', 'John Perrot'),\n",
       " ('Richard Farnworth', 'Margaret Fell'),\n",
       " ('Richard Farnworth', 'Anthony Pearson'),\n",
       " ('Thomas Taylor', 'Christopher Taylor'),\n",
       " ('John Penington', 'Mary Penington'),\n",
       " ('Humphrey Woolrich', 'Mary Pennyman'),\n",
       " ('William Penn', 'Tace Sowle'),\n",
       " ('William Penn', 'James Claypoole'),\n",
       " ('William Penn', 'Thomas Story'),\n",
       " ('William Penn', 'Mary Penington'),\n",
       " ('William Penn', 'David Lloyd'),\n",
       " ('William Penn', 'Margaret Fell'),\n",
       " ('William Penn', 'Richard Claridge'),\n",
       " ('Richard Vickris', 'George Bishop'),\n",
       " ('Robert Barclay', 'David Barclay of Ury'),\n",
       " ('Jane Sowle', 'Tace Sowle'),\n",
       " ('Margaret Fell', 'Alexander Parker'),\n",
       " ('Margaret Fell', 'Elizabeth Leavens'),\n",
       " ('Margaret Fell', 'Anthony Pearson'),\n",
       " ('Elizabeth Leavens', 'Thomas Holme'),\n",
       " ('Lewis Morris', 'Sir Charles Wager'),\n",
       " ('Mary Penington', 'Thomas Curtis'),\n",
       " ('Mary Penington', 'Thomas Ellwood'),\n",
       " ('Thomas Curtis', 'Thomas Ellwood'),\n",
       " ('Thomas Curtis', 'William Simpson'),\n",
       " ('Thomas Curtis', 'John Story'),\n",
       " ('Alexander Parker', 'Sir Charles Wager'),\n",
       " ('John Story', 'Thomas Ellwood'),\n",
       " ('Thomas Aldam', 'Anthony Pearson')]"
      ]
     },
     "execution_count": 9,
     "metadata": {},
     "output_type": "execute_result"
    }
   ],
   "source": [
    "with open('quakers_edgelist.csv', 'r') as edgecsv: \n",
    "    edgereader = csv.reader(edgecsv) \n",
    "    edges = [tuple(e) for e in edgereader][1:]\n",
    "    \n",
    "edges"
   ]
  },
  {
   "cell_type": "code",
   "execution_count": 10,
   "metadata": {},
   "outputs": [
    {
     "data": {
      "text/plain": [
       "119"
      ]
     },
     "execution_count": 10,
     "metadata": {},
     "output_type": "execute_result"
    }
   ],
   "source": [
    "len(node_names)"
   ]
  },
  {
   "cell_type": "code",
   "execution_count": 11,
   "metadata": {},
   "outputs": [
    {
     "data": {
      "text/plain": [
       "174"
      ]
     },
     "execution_count": 11,
     "metadata": {},
     "output_type": "execute_result"
    }
   ],
   "source": [
    "len(edges)"
   ]
  },
  {
   "cell_type": "markdown",
   "metadata": {},
   "source": [
    "## Create a `Graph' object"
   ]
  },
  {
   "cell_type": "code",
   "execution_count": 12,
   "metadata": {},
   "outputs": [],
   "source": [
    "G = nx.Graph()"
   ]
  },
  {
   "cell_type": "markdown",
   "metadata": {},
   "source": [
    "- create a “graph object,” a special NetworkX data type, using NetworkX"
   ]
  },
  {
   "cell_type": "markdown",
   "metadata": {},
   "source": [
    "- This will create a new Graph object, G, with nothing in it. Now you can add your lists of nodes and edges like so:"
   ]
  },
  {
   "cell_type": "code",
   "execution_count": 13,
   "metadata": {},
   "outputs": [],
   "source": [
    "G.add_nodes_from(node_names)\n",
    "G.add_edges_from(edges)"
   ]
  },
  {
   "cell_type": "markdown",
   "metadata": {},
   "source": [
    "- This is one of several ways to add data to a network object. \n",
    "- You can check out the [NetworkX documentation](https://networkx.org/documentation/stable/tutorial.html#adding-attributes-to-graphs-nodes-and-edges) for information about adding weighted edges, or adding nodes and edges one-at-a-time."
   ]
  },
  {
   "cell_type": "code",
   "execution_count": 14,
   "metadata": {},
   "outputs": [
    {
     "data": {
      "text/plain": [
       "['Joseph Wyeth',\n",
       " 'Alexander Skene of Newtyle',\n",
       " 'James Logan',\n",
       " 'Dorcas Erbery',\n",
       " 'Lilias Skene',\n",
       " 'William Mucklow',\n",
       " 'Thomas Salthouse',\n",
       " 'William Dewsbury',\n",
       " 'John Audland',\n",
       " 'Richard Claridge',\n",
       " 'William Bradford',\n",
       " 'Fettiplace Bellers',\n",
       " 'John Bellers',\n",
       " 'Isabel Yeamans',\n",
       " 'George Fox the younger',\n",
       " 'George Fox',\n",
       " 'John Stubbs',\n",
       " 'Anne Camm',\n",
       " 'John Camm',\n",
       " 'Thomas Camm',\n",
       " 'Katharine Evans',\n",
       " 'Lydia Lancaster',\n",
       " 'Samuel Clarridge',\n",
       " 'Thomas Lower',\n",
       " 'Gervase Benson',\n",
       " 'Stephen Crisp',\n",
       " 'James Claypoole',\n",
       " 'Thomas Holme',\n",
       " 'John Freame',\n",
       " 'John Swinton',\n",
       " 'William Mead',\n",
       " 'Henry Pickworth',\n",
       " 'John Crook',\n",
       " 'Gilbert Latey',\n",
       " 'Ellis Hookes',\n",
       " 'Joseph Besse',\n",
       " 'James Nayler',\n",
       " 'Elizabeth Hooten',\n",
       " 'George Whitehead',\n",
       " 'John Whitehead',\n",
       " 'William Crouch',\n",
       " 'Benjamin Furly',\n",
       " 'Silvanus Bevan',\n",
       " 'Robert Rich',\n",
       " 'John Whiting',\n",
       " 'Christopher Taylor',\n",
       " 'Thomas Lawson',\n",
       " 'Richard Farnworth',\n",
       " 'William Coddington',\n",
       " 'Thomas Taylor',\n",
       " 'Richard Vickris',\n",
       " 'Robert Barclay',\n",
       " 'Jane Sowle',\n",
       " 'Tace Sowle',\n",
       " 'Leonard Fell',\n",
       " 'Margaret Fell',\n",
       " 'George Bishop',\n",
       " 'Elizabeth Leavens',\n",
       " 'Thomas Curtis',\n",
       " 'Alice Curwen',\n",
       " 'Alexander Parker',\n",
       " 'John Wilkinson',\n",
       " 'Thomas Aldam',\n",
       " 'David Barclay of Ury',\n",
       " 'David Barclay',\n",
       " 'Sir Charles Wager',\n",
       " 'George Keith',\n",
       " 'James Parnel',\n",
       " 'Peter Collinson',\n",
       " 'Franciscus Mercurius van Helmont',\n",
       " 'William Caton',\n",
       " 'Francis Howgill',\n",
       " 'Richard Hubberthorne',\n",
       " 'William Ames',\n",
       " 'William Rogers',\n",
       " 'Isaac Norris',\n",
       " 'Anthony Sharp',\n",
       " 'Mary Fisher',\n",
       " 'Anne Conway Viscountess Conway and Killultagh',\n",
       " 'Samuel Fisher',\n",
       " 'Francis Bugg',\n",
       " 'Sarah Gibbons',\n",
       " 'William Tomlinson',\n",
       " 'Humphrey Norton',\n",
       " 'William Gibson',\n",
       " 'Gideon Wanton',\n",
       " 'John Wanton',\n",
       " 'Grace Chamber',\n",
       " 'Mary Prince',\n",
       " 'John Bartram',\n",
       " 'Edward Haistwell',\n",
       " 'John ap John',\n",
       " 'John Rous',\n",
       " 'Anthony Pearson',\n",
       " 'Solomon Eccles',\n",
       " 'John Burnyeat',\n",
       " 'Edward Burrough',\n",
       " 'Rebecca Travers',\n",
       " 'William Edmundson',\n",
       " 'Sarah Cheevers',\n",
       " 'Edward Pyott',\n",
       " 'Daniel Quare',\n",
       " 'John Penington',\n",
       " 'Mary Penington',\n",
       " 'Charles Marshall',\n",
       " 'Humphrey Woolrich',\n",
       " 'William Penn',\n",
       " 'Mary Pennyman',\n",
       " 'Dorothy Waugh',\n",
       " 'David Lloyd',\n",
       " 'Lewis Morris',\n",
       " 'Martha Simmonds',\n",
       " 'John Story',\n",
       " 'Thomas Story',\n",
       " 'Thomas Ellwood',\n",
       " 'William Simpson',\n",
       " 'Samuel Bownas',\n",
       " 'John Perrot',\n",
       " 'Hannah Stranger']"
      ]
     },
     "execution_count": 14,
     "metadata": {},
     "output_type": "execute_result"
    }
   ],
   "source": [
    "list(G.nodes)"
   ]
  },
  {
   "cell_type": "code",
   "execution_count": 15,
   "metadata": {
    "scrolled": true
   },
   "outputs": [
    {
     "data": {
      "text/plain": [
       "[('Joseph Wyeth', 'Thomas Ellwood'),\n",
       " ('Alexander Skene of Newtyle', 'Lilias Skene'),\n",
       " ('James Logan', 'Peter Collinson'),\n",
       " ('James Logan', 'John Bartram'),\n",
       " ('James Logan', 'William Penn'),\n",
       " ('James Logan', 'David Lloyd'),\n",
       " ('Dorcas Erbery', 'James Nayler'),\n",
       " ('William Mucklow', 'George Fox'),\n",
       " ('Thomas Salthouse', 'George Fox'),\n",
       " ('Thomas Salthouse', 'Margaret Fell')]"
      ]
     },
     "execution_count": 15,
     "metadata": {},
     "output_type": "execute_result"
    }
   ],
   "source": [
    "list(G.edges)[:10]"
   ]
  },
  {
   "cell_type": "markdown",
   "metadata": {},
   "source": [
    "## Add Attributes"
   ]
  },
  {
   "cell_type": "markdown",
   "metadata": {},
   "source": [
    "- For NetworkX, a Graph object is one big thing (your network) made up of two kinds of smaller things (your nodes and your edges). \n",
    "- So far we’ve already import the nodes and edges (as pairs of nodes),\n",
    "- NetworkX also allows us to add attributes to both nodes and edges, providing more information about each of them.\n",
    "\n",
    "\n",
    "- This list contains all of the rows from quakers_nodelist.csv, including columns for name, historical significance, gender, birth year, death year, and SDFB ID. You’ll want to loop through this list and add this information to our graph. There are a couple ways to do this, but NetworkX provides two convenient functions for adding attributes to all of a Graph’s nodes or edges at once: `nx.set_node_attributes()` and `nx.set_edge_attributes()`. To use these functions, you’ll need your attribute data to be in the form of a **Python dictionary**, in which node names are the keys and the attributes you want to add are the values. You’ll want to create a dictionary for each one of your attributes, and then add them using the functions above. The first thing you must do is create five empty dictionaries, using curly braces:"
   ]
  },
  {
   "cell_type": "code",
   "execution_count": 16,
   "metadata": {},
   "outputs": [],
   "source": [
    "hist_sig = {}\n",
    "gender = {}\n",
    "birth = {}\n",
    "death = {}\n",
    "id = {}"
   ]
  },
  {
   "cell_type": "markdown",
   "metadata": {},
   "source": [
    "- Now we can loop through our nodes list and add the appropriate items to each dictionary. \n",
    "- We do this by knowing in advance the position, or index, of each attribute. Because  `quaker_nodelist.csv` file is well-organized, we know that the person’s name will always be the first item in the list: index 0, since you always start counting with 0 in Python. \n",
    "- The person’s historical significance will be index 1, their gender will be index 2, and so on. Therefore we can construct our dictionaries like so:6"
   ]
  },
  {
   "cell_type": "code",
   "execution_count": 17,
   "metadata": {},
   "outputs": [
    {
     "data": {
      "text/plain": [
       "[['Joseph Wyeth', 'religious writer', 'male', '1663', '1731', '10013191'],\n",
       " ['Alexander Skene of Newtyle',\n",
       "  'local politician and author',\n",
       "  'male',\n",
       "  '1621',\n",
       "  '1694',\n",
       "  '10011149'],\n",
       " ['James Logan',\n",
       "  'colonial official and scholar',\n",
       "  'male',\n",
       "  '1674',\n",
       "  '1751',\n",
       "  '10007567']]"
      ]
     },
     "execution_count": 17,
     "metadata": {},
     "output_type": "execute_result"
    }
   ],
   "source": [
    "nodes[:3]"
   ]
  },
  {
   "cell_type": "code",
   "execution_count": 18,
   "metadata": {},
   "outputs": [],
   "source": [
    "for node in nodes: # Loop through the list, one row at a time\n",
    "    hist_sig[node[0]] = node[1]\n",
    "    gender[node[0]] = node[2]\n",
    "    birth[node[0]] = node[3]\n",
    "    death[node[0]] = node[4]\n",
    "    id[node[0]] = node[5]"
   ]
  },
  {
   "cell_type": "code",
   "execution_count": 19,
   "metadata": {},
   "outputs": [
    {
     "data": {
      "text/plain": [
       "{'Joseph Wyeth': 'religious writer',\n",
       " 'Alexander Skene of Newtyle': 'local politician and author',\n",
       " 'James Logan': 'colonial official and scholar',\n",
       " 'Dorcas Erbery': 'Quaker preacher',\n",
       " 'Lilias Skene': 'Quaker preacher and poet',\n",
       " 'William Mucklow': 'religious writer',\n",
       " 'Thomas Salthouse': 'Quaker preacher and writer',\n",
       " 'William Dewsbury': 'Quaker activist',\n",
       " 'John Audland': 'Quaker preacher',\n",
       " 'Richard Claridge': 'Quaker minister and schoolmaster',\n",
       " 'William Bradford': 'printer',\n",
       " 'Fettiplace Bellers': 'philosophical writer and playwright',\n",
       " 'John Bellers': 'political economist and cloth merchant',\n",
       " 'Isabel Yeamans': 'Quaker preacher',\n",
       " 'George Fox the younger': 'religious writer',\n",
       " 'George Fox': ' a founder of the Religious Society of Friends (Quakers)',\n",
       " 'John Stubbs': 'Quaker minister',\n",
       " 'Anne Camm': 'Quaker preacher',\n",
       " 'John Camm': 'Quaker preacher',\n",
       " 'Thomas Camm': 'Quaker preacher and writer',\n",
       " 'Katharine Evans': 'Quaker missionary',\n",
       " 'Lydia Lancaster': 'Quaker minister',\n",
       " 'Samuel Clarridge': 'Quaker activist',\n",
       " 'Thomas Lower': 'Quaker activist and physician',\n",
       " 'Gervase Benson': 'Quaker leader',\n",
       " 'Stephen Crisp': 'Quaker activist and writer',\n",
       " 'James Claypoole': 'merchant and pioneer settler in America',\n",
       " 'Thomas Holme': 'Quaker missionary',\n",
       " 'John Freame': 'banker and lobbyist',\n",
       " 'John Swinton': 'politician',\n",
       " 'William Mead': 'Quaker patron and merchant',\n",
       " 'Henry Pickworth': 'religious controversialist',\n",
       " 'John Crook': 'Quaker leader and writer',\n",
       " 'Gilbert Latey': 'Quaker activist',\n",
       " 'Ellis Hookes': 'Quaker administrator',\n",
       " 'Joseph Besse': 'historian of Quakerism',\n",
       " 'James Nayler': 'Quaker preacher and writer',\n",
       " 'Elizabeth Hooten': 'Quaker preacher',\n",
       " 'George Whitehead': 'Quaker leader and writer',\n",
       " 'John Whitehead': 'Quaker minister and preacher',\n",
       " 'William Crouch': 'Quaker leader and writer',\n",
       " 'Benjamin Furly': 'merchant and religious writer',\n",
       " 'Silvanus Bevan': 'apothecary',\n",
       " 'Robert Rich': 'Quaker adherent and sectary',\n",
       " 'John Whiting': 'Quaker bibliographer and writer',\n",
       " 'Christopher Taylor': 'religious writer and schoolmaster',\n",
       " 'Thomas Lawson': 'Quaker minister and botanist',\n",
       " 'Richard Farnworth': 'Quaker preacher and writer',\n",
       " 'William Coddington': 'merchant and official in America',\n",
       " 'Thomas Taylor': 'Quaker minister and writer',\n",
       " 'Richard Vickris': 'religious writer',\n",
       " 'Robert Barclay': 'religious writer and colonial governor',\n",
       " 'Jane Sowle': '',\n",
       " 'Tace Sowle': 'printer and bookseller',\n",
       " 'Leonard Fell': 'Quaker missionary and writer',\n",
       " 'Margaret Fell': 'Quaker leader',\n",
       " 'George Bishop': 'government official and religious writer',\n",
       " 'Elizabeth Leavens': 'Quaker missionary',\n",
       " 'Thomas Curtis': 'Quaker schismatic',\n",
       " 'Alice Curwen': 'Quaker missionary',\n",
       " 'Alexander Parker': 'Quaker preacher and author',\n",
       " 'John Wilkinson': 'Quaker schismatic',\n",
       " 'Thomas Aldam': 'Quaker preacher and writer',\n",
       " 'David Barclay of Ury': 'soldier and politician',\n",
       " 'David Barclay': 'merchant',\n",
       " 'Sir Charles Wager': 'naval officer and politician',\n",
       " 'George Keith': 'Quaker schismatic and Church of England clergyman',\n",
       " 'James Parnel': 'Quaker martyr',\n",
       " 'Peter Collinson': 'botanist',\n",
       " 'Franciscus Mercurius van Helmont': 'physician and cabbalist',\n",
       " 'William Caton': 'Quaker preacher',\n",
       " 'Francis Howgill': 'Quaker activist',\n",
       " 'Richard Hubberthorne': 'Quaker activist',\n",
       " 'William Ames': 'Quaker preacher',\n",
       " 'William Rogers': 'Quaker schismatic',\n",
       " 'Isaac Norris': 'colonial official and merchant',\n",
       " 'Anthony Sharp': 'Quaker leader',\n",
       " 'Mary Fisher': 'Quaker missionary',\n",
       " 'Anne Conway Viscountess Conway and Killultagh': 'philosopher',\n",
       " 'Samuel Fisher': 'Quaker preacher and writer',\n",
       " 'Francis Bugg': 'Quaker apostate',\n",
       " 'Sarah Gibbons': 'Quaker preacher in America',\n",
       " 'William Tomlinson': 'religious writer',\n",
       " 'Humphrey Norton': 'Quaker missionary and author',\n",
       " 'William Gibson': 'Quaker leader',\n",
       " 'Gideon Wanton': 'merchant and colonial governor',\n",
       " 'John Wanton': 'merchant and colonial governor',\n",
       " 'Grace Chamber': 'Quaker minister',\n",
       " 'Mary Prince': 'Quaker preacher',\n",
       " 'John Bartram': 'botanist and explorer in America',\n",
       " 'Edward Haistwell': 'merchant',\n",
       " 'John ap John': 'Quaker leader',\n",
       " 'John Rous': 'Quaker missionary',\n",
       " 'Anthony Pearson': 'Quaker administrator',\n",
       " 'Solomon Eccles': 'musician and Quaker missionary',\n",
       " 'John Burnyeat': 'Quaker minister',\n",
       " 'Edward Burrough': 'Quaker activist and writer',\n",
       " 'Rebecca Travers': 'Quaker preacher and writer',\n",
       " 'William Edmundson': 'Quaker leader',\n",
       " 'Sarah Cheevers': 'Quaker missionary',\n",
       " 'Edward Pyott': 'parliamentarian army officer',\n",
       " 'Daniel Quare': 'maker of clocks, watches, and barometers',\n",
       " 'John Penington': 'Quaker apologist and controversialist',\n",
       " 'Mary Penington': 'Quaker and writer',\n",
       " 'Charles Marshall': 'Quaker preacher and apothecary',\n",
       " 'Humphrey Woolrich': 'religious writer',\n",
       " 'William Penn': 'Quaker leader and founder of Pennsylvania',\n",
       " 'Mary Pennyman': '',\n",
       " 'Dorothy Waugh': 'Quaker preacher',\n",
       " 'David Lloyd': 'lawyer and politician in America',\n",
       " 'Lewis Morris': 'politician in America',\n",
       " 'Martha Simmonds': 'Quaker and author',\n",
       " 'John Story': 'Quaker schismatic',\n",
       " 'Thomas Story': 'Quaker minister and journal writer',\n",
       " 'Thomas Ellwood': 'religious controversialist',\n",
       " 'William Simpson': 'Quaker preacher',\n",
       " 'Samuel Bownas': 'Quaker minister and writer',\n",
       " 'John Perrot': 'Quaker schismatic',\n",
       " 'Hannah Stranger': 'Quaker missionary'}"
      ]
     },
     "execution_count": 19,
     "metadata": {},
     "output_type": "execute_result"
    }
   ],
   "source": [
    "hist_sig"
   ]
  },
  {
   "cell_type": "markdown",
   "metadata": {},
   "source": [
    "- Now we have a set of dictionaries for attributes that can be added to nodes in the Graph object.\n",
    "- The `set_node_attributes` function takes three variables: \n",
    "    - the Graph to which you’re adding the attribute, \n",
    "    - the dictionary of id-attribute pairs,\n",
    "    - the name of the new attribute. \n",
    "- The code for adding your six attributes looks like this:"
   ]
  },
  {
   "cell_type": "code",
   "execution_count": 20,
   "metadata": {},
   "outputs": [],
   "source": [
    "nx.set_node_attributes(G, hist_sig, 'historical_significance')\n",
    "nx.set_node_attributes(G, gender, 'gender')\n",
    "nx.set_node_attributes(G, birth, 'birth_year')\n",
    "nx.set_node_attributes(G, death, 'death_year')\n",
    "nx.set_node_attributes(G, id, 'sdfb_id')"
   ]
  },
  {
   "cell_type": "markdown",
   "metadata": {},
   "source": [
    "- Now all of the nodes have these five attributes, \n",
    "- Below, we show an example of printing out all the birth years of the nodes by looping through them and accessing the birth_year attribute:"
   ]
  },
  {
   "cell_type": "code",
   "execution_count": 21,
   "metadata": {},
   "outputs": [
    {
     "data": {
      "text/plain": [
       "{'historical_significance': 'colonial official and scholar',\n",
       " 'gender': 'male',\n",
       " 'birth_year': '1674',\n",
       " 'death_year': '1751',\n",
       " 'sdfb_id': '10007567'}"
      ]
     },
     "execution_count": 21,
     "metadata": {},
     "output_type": "execute_result"
    }
   ],
   "source": [
    "G.nodes['James Logan']"
   ]
  },
  {
   "cell_type": "code",
   "execution_count": 22,
   "metadata": {},
   "outputs": [
    {
     "name": "stdout",
     "output_type": "stream",
     "text": [
      "Joseph Wyeth 1663\n",
      "Alexander Skene of Newtyle 1621\n",
      "James Logan 1674\n",
      "Dorcas Erbery 1656\n",
      "Lilias Skene 1626\n",
      "William Mucklow 1630\n",
      "Thomas Salthouse 1630\n",
      "William Dewsbury 1621\n",
      "John Audland 1630\n",
      "Richard Claridge 1649\n",
      "William Bradford 1663\n",
      "Fettiplace Bellers 1687\n",
      "John Bellers 1654\n",
      "Isabel Yeamans 1637\n",
      "George Fox the younger 1551\n",
      "George Fox 1624\n",
      "John Stubbs 1618\n",
      "Anne Camm 1627\n",
      "John Camm 1605\n",
      "Thomas Camm 1640\n",
      "Katharine Evans 1618\n",
      "Lydia Lancaster 1683\n",
      "Samuel Clarridge 1631\n",
      "Thomas Lower 1633\n",
      "Gervase Benson 1569\n",
      "Stephen Crisp 1628\n",
      "James Claypoole 1634\n",
      "Thomas Holme 1626\n",
      "John Freame 1665\n",
      "John Swinton 1620\n",
      "William Mead 1627\n",
      "Henry Pickworth 1673\n",
      "John Crook 1616\n",
      "Gilbert Latey 1626\n",
      "Ellis Hookes 1635\n",
      "Joseph Besse 1683\n",
      "James Nayler 1618\n",
      "Elizabeth Hooten 1562\n",
      "George Whitehead 1637\n",
      "John Whitehead 1630\n",
      "William Crouch 1628\n",
      "Benjamin Furly 1636\n",
      "Silvanus Bevan 1691\n",
      "Robert Rich 1607\n",
      "John Whiting 1656\n",
      "Christopher Taylor 1614\n",
      "Thomas Lawson 1630\n",
      "Richard Farnworth 1630\n",
      "William Coddington 1601\n",
      "Thomas Taylor 1617\n",
      "Richard Vickris 1590\n",
      "Robert Barclay 1648\n",
      "Jane Sowle 1631\n",
      "Tace Sowle 1666\n",
      "Leonard Fell 1624\n",
      "Margaret Fell 1614\n",
      "George Bishop 1558\n",
      "Elizabeth Leavens 1555\n",
      "Thomas Curtis 1602\n",
      "Alice Curwen 1619\n",
      "Alexander Parker 1628\n",
      "John Wilkinson 1652\n",
      "Thomas Aldam 1616\n",
      "David Barclay of Ury 1610\n",
      "David Barclay 1682\n",
      "Sir Charles Wager 1666\n",
      "George Keith 1638\n",
      "James Parnel 1636\n",
      "Peter Collinson 1694\n",
      "Franciscus Mercurius van Helmont 1614\n",
      "William Caton 1636\n",
      "Francis Howgill 1618\n",
      "Richard Hubberthorne 1628\n",
      "William Ames 1552\n",
      "William Rogers 1601\n",
      "Isaac Norris 1671\n",
      "Anthony Sharp 1643\n",
      "Mary Fisher 1623\n",
      "Anne Conway Viscountess Conway and Killultagh 1631\n",
      "Samuel Fisher 1604\n",
      "Francis Bugg 1640\n",
      "Sarah Gibbons 1634\n",
      "William Tomlinson 1650\n",
      "Humphrey Norton 1655\n",
      "William Gibson 1628\n",
      "Gideon Wanton 1693\n",
      "John Wanton 1672\n",
      "Grace Chamber 1676\n",
      "Mary Prince 1569\n",
      "John Bartram 1699\n",
      "Edward Haistwell 1658\n",
      "John ap John 1625\n",
      "John Rous 1585\n",
      "Anthony Pearson 1627\n",
      "Solomon Eccles 1617\n",
      "John Burnyeat 1631\n",
      "Edward Burrough 1633\n",
      "Rebecca Travers 1609\n",
      "William Edmundson 1627\n",
      "Sarah Cheevers 1608\n",
      "Edward Pyott 1560\n",
      "Daniel Quare 1648\n",
      "John Penington 1655\n",
      "Mary Penington 1623\n",
      "Charles Marshall 1637\n",
      "Humphrey Woolrich 1633\n",
      "William Penn 1644\n",
      "Mary Pennyman 1630\n",
      "Dorothy Waugh 1636\n",
      "David Lloyd 1656\n",
      "Lewis Morris 1671\n",
      "Martha Simmonds 1624\n",
      "John Story 1571\n",
      "Thomas Story 1670\n",
      "Thomas Ellwood 1639\n",
      "William Simpson 1627\n",
      "Samuel Bownas 1677\n",
      "John Perrot 1555\n",
      "Hannah Stranger 1656\n"
     ]
    }
   ],
   "source": [
    "for n in G.nodes: # Loop through every node, in our data \"n\" will be the name of the person\n",
    "    print(n, G.nodes[n]['birth_year']) # Access every node by its name, and then by the attribute \"birth_year\""
   ]
  },
  {
   "cell_type": "markdown",
   "metadata": {},
   "source": [
    "## Drawing graphs"
   ]
  },
  {
   "cell_type": "markdown",
   "metadata": {},
   "source": [
    "NetworkX is not primarily a graph drawing package but basic drawing with Matplotlib as well as an interface to use the open source Graphviz software package are included. These are part of the networkx.drawing module and will be imported if possible."
   ]
  },
  {
   "cell_type": "code",
   "execution_count": 25,
   "metadata": {},
   "outputs": [
    {
     "data": {
      "image/png": "[encoded data removed]",
      "text/plain": [
       "<Figure size 640x480 with 2 Axes>"
      ]
     },
     "metadata": {},
     "output_type": "display_data"
    }
   ],
   "source": [
    "import matplotlib.pyplot as plt\n",
    "\n",
    "G1 = nx.petersen_graph()\n",
    "\n",
    "plt.subplot(121)\n",
    "nx.draw(G1, with_labels=True, font_weight='bold')\n",
    "plt.subplot(122)\n",
    "nx.draw_shell(G1, nlist=[range(5, 10), range(5)], with_labels=True, font_weight='bold')\n",
    "plt.show()"
   ]
  },
  {
   "cell_type": "code",
   "execution_count": 26,
   "metadata": {
    "scrolled": true
   },
   "outputs": [
    {
     "data": {
      "image/png": "[encoded data removed]",
      "text/plain": [
       "<Figure size 640x480 with 1 Axes>"
      ]
     },
     "metadata": {},
     "output_type": "display_data"
    }
   ],
   "source": [
    "nx.draw(G, with_labels=True)\n",
    "plt.show()"
   ]
  },
  {
   "cell_type": "code",
   "execution_count": 27,
   "metadata": {},
   "outputs": [
    {
     "data": {
      "image/png": "[encoded data removed]",
      "text/plain": [
       "<Figure size 1000x700 with 1 Axes>"
      ]
     },
     "metadata": {},
     "output_type": "display_data"
    }
   ],
   "source": [
    "plt.figure(figsize=(10,7))\n",
    "\n",
    "nx.draw_networkx(G, alpha=0.3, with_labels=False, edge_color='.4')\n",
    "plt.tight_layout()"
   ]
  },
  {
   "cell_type": "markdown",
   "metadata": {},
   "source": [
    "## Metrics available in NetworkX"
   ]
  },
  {
   "cell_type": "markdown",
   "metadata": {},
   "source": [
    "### Network Density"
   ]
  },
  {
   "cell_type": "markdown",
   "metadata": {},
   "source": [
    "You can calculate network density by running nx.density(G). "
   ]
  },
  {
   "cell_type": "code",
   "execution_count": 28,
   "metadata": {},
   "outputs": [
    {
     "name": "stdout",
     "output_type": "stream",
     "text": [
      "Network density: 0.02478279447372169\n"
     ]
    }
   ],
   "source": [
    "density = nx.density(G)\n",
    "print(\"Network density:\", density)"
   ]
  },
  {
   "cell_type": "markdown",
   "metadata": {},
   "source": [
    "In this case, the density of our network is approximately 0.0248. On a scale of 0 to 1, not a very dense network, which comports with what you can see in the visualization. \n",
    "\n",
    "A 0 would mean that there are no connections at all, and a 1 would indicate that all possible edges are present (a perfectly connected network)\n",
    "\n",
    "This network we created is on the lower end of that scale, but still far from 0."
   ]
  },
  {
   "cell_type": "markdown",
   "metadata": {},
   "source": [
    "### Shortest Path"
   ]
  },
  {
   "cell_type": "markdown",
   "metadata": {},
   "source": [
    "- A shortest path measurement calculates the shortest possible series of nodes and edges that stand between any two nodes, something hard to see in large network visualizations. \n",
    "\n",
    "- This measure is essentially finding friends-of-friends—if my mother knows someone that I don’t, then mom is the shortest path between me and that person. \n",
    "\n",
    "- To calculate a shortest path, you’ll need to pass several input variables (information you give to a Python function): the whole graph, your source node, and your target node.\n",
    "\n",
    "- An example: the shortest path between `Margaret Fell` and `George Whitehead`.\n",
    "\n",
    "- Since we used names to uniquely identify our nodes in the network, you can access those nodes (as the source and target of your path), using the names directly."
   ]
  },
  {
   "cell_type": "code",
   "execution_count": 29,
   "metadata": {},
   "outputs": [
    {
     "name": "stdout",
     "output_type": "stream",
     "text": [
      "Shortest path between Fell and Whitehead: ['Margaret Fell', 'George Fox', 'George Whitehead']\n"
     ]
    }
   ],
   "source": [
    "fell_whitehead_path = nx.shortest_path(G, source=\"Margaret Fell\", target=\"George Whitehead\")\n",
    "\n",
    "print(\"Shortest path between Fell and Whitehead:\", fell_whitehead_path)"
   ]
  },
  {
   "cell_type": "code",
   "execution_count": 30,
   "metadata": {},
   "outputs": [
    {
     "name": "stdout",
     "output_type": "stream",
     "text": [
      "Length of that path: 2\n"
     ]
    }
   ],
   "source": [
    "print(\"Length of that path:\", len(fell_whitehead_path)-1)"
   ]
  },
  {
   "cell_type": "markdown",
   "metadata": {},
   "source": [
    "### Connectivity"
   ]
  },
  {
   "cell_type": "code",
   "execution_count": 31,
   "metadata": {},
   "outputs": [
    {
     "data": {
      "text/plain": [
       "False"
      ]
     },
     "execution_count": 31,
     "metadata": {},
     "output_type": "execute_result"
    }
   ],
   "source": [
    "# If your Graph has more than one component, this will return False:\n",
    "nx.is_connected(G)"
   ]
  },
  {
   "cell_type": "code",
   "execution_count": 32,
   "metadata": {},
   "outputs": [
    {
     "data": {
      "text/plain": [
       "[{'Alexander Parker',\n",
       "  'Alice Curwen',\n",
       "  'Anne Camm',\n",
       "  'Anne Conway Viscountess Conway and Killultagh',\n",
       "  'Anthony Pearson',\n",
       "  'Anthony Sharp',\n",
       "  'Benjamin Furly',\n",
       "  'Charles Marshall',\n",
       "  'Daniel Quare',\n",
       "  'David Barclay of Ury',\n",
       "  'David Lloyd',\n",
       "  'Dorcas Erbery',\n",
       "  'Edward Burrough',\n",
       "  'Edward Haistwell',\n",
       "  'Edward Pyott',\n",
       "  'Elizabeth Hooten',\n",
       "  'Elizabeth Leavens',\n",
       "  'Ellis Hookes',\n",
       "  'Francis Bugg',\n",
       "  'Francis Howgill',\n",
       "  'Franciscus Mercurius van Helmont',\n",
       "  'George Fox',\n",
       "  'George Fox the younger',\n",
       "  'George Keith',\n",
       "  'George Whitehead',\n",
       "  'Gervase Benson',\n",
       "  'Gilbert Latey',\n",
       "  'Hannah Stranger',\n",
       "  'Henry Pickworth',\n",
       "  'Isaac Norris',\n",
       "  'Isabel Yeamans',\n",
       "  'James Claypoole',\n",
       "  'James Logan',\n",
       "  'James Nayler',\n",
       "  'James Parnel',\n",
       "  'Jane Sowle',\n",
       "  'John Audland',\n",
       "  'John Bartram',\n",
       "  'John Burnyeat',\n",
       "  'John Camm',\n",
       "  'John Crook',\n",
       "  'John Penington',\n",
       "  'John Perrot',\n",
       "  'John Story',\n",
       "  'John Stubbs',\n",
       "  'John Swinton',\n",
       "  'John Whitehead',\n",
       "  'John Wilkinson',\n",
       "  'John ap John',\n",
       "  'Joseph Besse',\n",
       "  'Joseph Wyeth',\n",
       "  'Leonard Fell',\n",
       "  'Lewis Morris',\n",
       "  'Margaret Fell',\n",
       "  'Martha Simmonds',\n",
       "  'Mary Fisher',\n",
       "  'Mary Penington',\n",
       "  'Mary Prince',\n",
       "  'Peter Collinson',\n",
       "  'Rebecca Travers',\n",
       "  'Richard Claridge',\n",
       "  'Richard Farnworth',\n",
       "  'Richard Hubberthorne',\n",
       "  'Robert Barclay',\n",
       "  'Robert Rich',\n",
       "  'Samuel Bownas',\n",
       "  'Samuel Clarridge',\n",
       "  'Samuel Fisher',\n",
       "  'Silvanus Bevan',\n",
       "  'Sir Charles Wager',\n",
       "  'Solomon Eccles',\n",
       "  'Stephen Crisp',\n",
       "  'Tace Sowle',\n",
       "  'Thomas Aldam',\n",
       "  'Thomas Camm',\n",
       "  'Thomas Curtis',\n",
       "  'Thomas Ellwood',\n",
       "  'Thomas Holme',\n",
       "  'Thomas Lawson',\n",
       "  'Thomas Lower',\n",
       "  'Thomas Salthouse',\n",
       "  'Thomas Story',\n",
       "  'William Ames',\n",
       "  'William Bradford',\n",
       "  'William Caton',\n",
       "  'William Coddington',\n",
       "  'William Crouch',\n",
       "  'William Dewsbury',\n",
       "  'William Edmundson',\n",
       "  'William Gibson',\n",
       "  'William Mead',\n",
       "  'William Mucklow',\n",
       "  'William Penn',\n",
       "  'William Rogers',\n",
       "  'William Simpson',\n",
       "  'William Tomlinson'},\n",
       " {'Alexander Skene of Newtyle', 'Lilias Skene'},\n",
       " {'Fettiplace Bellers', 'John Bellers'},\n",
       " {'Katharine Evans', 'Sarah Cheevers'},\n",
       " {'Grace Chamber', 'Lydia Lancaster'},\n",
       " {'David Barclay', 'John Freame'},\n",
       " {'Christopher Taylor', 'John Whiting', 'Thomas Taylor'},\n",
       " {'George Bishop', 'Richard Vickris'},\n",
       " {'Dorothy Waugh', 'Sarah Gibbons'},\n",
       " {'Humphrey Norton', 'John Rous'},\n",
       " {'Gideon Wanton', 'John Wanton'},\n",
       " {'Humphrey Woolrich', 'Mary Pennyman'}]"
      ]
     },
     "execution_count": 32,
     "metadata": {},
     "output_type": "execute_result"
    }
   ],
   "source": [
    "# Next, use nx.connected_components to get the list of components,\n",
    "components = nx.connected_components(G)\n",
    "list(components)"
   ]
  },
  {
   "cell_type": "code",
   "execution_count": 34,
   "metadata": {},
   "outputs": [
    {
     "data": {
      "text/plain": [
       "{'Alexander Parker',\n",
       " 'Alice Curwen',\n",
       " 'Anne Camm',\n",
       " 'Anne Conway Viscountess Conway and Killultagh',\n",
       " 'Anthony Pearson',\n",
       " 'Anthony Sharp',\n",
       " 'Benjamin Furly',\n",
       " 'Charles Marshall',\n",
       " 'Daniel Quare',\n",
       " 'David Barclay of Ury',\n",
       " 'David Lloyd',\n",
       " 'Dorcas Erbery',\n",
       " 'Edward Burrough',\n",
       " 'Edward Haistwell',\n",
       " 'Edward Pyott',\n",
       " 'Elizabeth Hooten',\n",
       " 'Elizabeth Leavens',\n",
       " 'Ellis Hookes',\n",
       " 'Francis Bugg',\n",
       " 'Francis Howgill',\n",
       " 'Franciscus Mercurius van Helmont',\n",
       " 'George Fox',\n",
       " 'George Fox the younger',\n",
       " 'George Keith',\n",
       " 'George Whitehead',\n",
       " 'Gervase Benson',\n",
       " 'Gilbert Latey',\n",
       " 'Hannah Stranger',\n",
       " 'Henry Pickworth',\n",
       " 'Isaac Norris',\n",
       " 'Isabel Yeamans',\n",
       " 'James Claypoole',\n",
       " 'James Logan',\n",
       " 'James Nayler',\n",
       " 'James Parnel',\n",
       " 'Jane Sowle',\n",
       " 'John Audland',\n",
       " 'John Bartram',\n",
       " 'John Burnyeat',\n",
       " 'John Camm',\n",
       " 'John Crook',\n",
       " 'John Penington',\n",
       " 'John Perrot',\n",
       " 'John Story',\n",
       " 'John Stubbs',\n",
       " 'John Swinton',\n",
       " 'John Whitehead',\n",
       " 'John Wilkinson',\n",
       " 'John ap John',\n",
       " 'Joseph Besse',\n",
       " 'Joseph Wyeth',\n",
       " 'Leonard Fell',\n",
       " 'Lewis Morris',\n",
       " 'Margaret Fell',\n",
       " 'Martha Simmonds',\n",
       " 'Mary Fisher',\n",
       " 'Mary Penington',\n",
       " 'Mary Prince',\n",
       " 'Peter Collinson',\n",
       " 'Rebecca Travers',\n",
       " 'Richard Claridge',\n",
       " 'Richard Farnworth',\n",
       " 'Richard Hubberthorne',\n",
       " 'Robert Barclay',\n",
       " 'Robert Rich',\n",
       " 'Samuel Bownas',\n",
       " 'Samuel Clarridge',\n",
       " 'Samuel Fisher',\n",
       " 'Silvanus Bevan',\n",
       " 'Sir Charles Wager',\n",
       " 'Solomon Eccles',\n",
       " 'Stephen Crisp',\n",
       " 'Tace Sowle',\n",
       " 'Thomas Aldam',\n",
       " 'Thomas Camm',\n",
       " 'Thomas Curtis',\n",
       " 'Thomas Ellwood',\n",
       " 'Thomas Holme',\n",
       " 'Thomas Lawson',\n",
       " 'Thomas Lower',\n",
       " 'Thomas Salthouse',\n",
       " 'Thomas Story',\n",
       " 'William Ames',\n",
       " 'William Bradford',\n",
       " 'William Caton',\n",
       " 'William Coddington',\n",
       " 'William Crouch',\n",
       " 'William Dewsbury',\n",
       " 'William Edmundson',\n",
       " 'William Gibson',\n",
       " 'William Mead',\n",
       " 'William Mucklow',\n",
       " 'William Penn',\n",
       " 'William Rogers',\n",
       " 'William Simpson',\n",
       " 'William Tomlinson'}"
      ]
     },
     "execution_count": 34,
     "metadata": {},
     "output_type": "execute_result"
    }
   ],
   "source": [
    "# then use the max() command to find the largest one:\n",
    "components = nx.connected_components(G)\n",
    "largest_component = max(components, key=len)\n",
    "\n",
    "largest_component"
   ]
  },
  {
   "cell_type": "code",
   "execution_count": 35,
   "metadata": {},
   "outputs": [
    {
     "name": "stdout",
     "output_type": "stream",
     "text": [
      "Network diameter of largest component: 8\n"
     ]
    }
   ],
   "source": [
    "# Create a \"subgraph\" of just the largest component\n",
    "# Then calculate the diameter of the subgraph, just like we did with density.\n",
    "\n",
    "subgraph = G.subgraph(largest_component) # effectively the 'filter' we see in Gephi\n",
    "diameter = nx.diameter(subgraph)\n",
    "print(\"Network diameter of largest component:\", diameter)"
   ]
  },
  {
   "cell_type": "markdown",
   "metadata": {},
   "source": [
    "### Degree"
   ]
  },
  {
   "cell_type": "code",
   "execution_count": 36,
   "metadata": {},
   "outputs": [
    {
     "data": {
      "text/plain": [
       "6"
      ]
     },
     "execution_count": 36,
     "metadata": {},
     "output_type": "execute_result"
    }
   ],
   "source": [
    "G.degree('Alexander Parker')"
   ]
  },
  {
   "cell_type": "code",
   "execution_count": 37,
   "metadata": {},
   "outputs": [],
   "source": [
    "degree_dict = dict(G.degree(G.nodes()))\n",
    "nx.set_node_attributes(G, degree_dict, 'degree')"
   ]
  },
  {
   "cell_type": "code",
   "execution_count": 38,
   "metadata": {},
   "outputs": [
    {
     "data": {
      "text/plain": [
       "{'historical_significance': 'Quaker leader and founder of Pennsylvania',\n",
       " 'gender': 'male',\n",
       " 'birth_year': '1644',\n",
       " 'death_year': '1718',\n",
       " 'sdfb_id': '10009531',\n",
       " 'degree': 18}"
      ]
     },
     "execution_count": 38,
     "metadata": {},
     "output_type": "execute_result"
    }
   ],
   "source": [
    "G.nodes['William Penn']"
   ]
  },
  {
   "cell_type": "code",
   "execution_count": 39,
   "metadata": {},
   "outputs": [],
   "source": [
    "sorted_degree = sorted(degree_dict.items(), key=itemgetter(1), reverse=True)"
   ]
  },
  {
   "cell_type": "markdown",
   "metadata": {},
   "source": [
    "You can sort betweenness (or eigenvector) centrality by changing the variable names in the sorting code above, as:"
   ]
  },
  {
   "cell_type": "code",
   "execution_count": 40,
   "metadata": {},
   "outputs": [
    {
     "name": "stdout",
     "output_type": "stream",
     "text": [
      "Top 20 nodes by degree:\n",
      "('George Fox', 22)\n",
      "('William Penn', 18)\n",
      "('James Nayler', 16)\n",
      "('George Whitehead', 13)\n",
      "('Margaret Fell', 13)\n",
      "('Benjamin Furly', 10)\n",
      "('Edward Burrough', 9)\n",
      "('George Keith', 8)\n",
      "('Thomas Ellwood', 8)\n",
      "('Francis Howgill', 7)\n",
      "('John Perrot', 7)\n",
      "('John Audland', 6)\n",
      "('Richard Farnworth', 6)\n",
      "('Alexander Parker', 6)\n",
      "('John Story', 6)\n",
      "('John Stubbs', 5)\n",
      "('Thomas Curtis', 5)\n",
      "('John Wilkinson', 5)\n",
      "('William Caton', 5)\n",
      "('Anthony Pearson', 5)\n"
     ]
    }
   ],
   "source": [
    "print(\"Top 20 nodes by degree:\")\n",
    "for d in sorted_degree[:20]:\n",
    "    print(d)"
   ]
  },
  {
   "cell_type": "markdown",
   "metadata": {},
   "source": [
    "## Exporting Data"
   ]
  },
  {
   "cell_type": "markdown",
   "metadata": {},
   "source": [
    "NetworkX supports a very large number of file formats for data export. You could even export your graph as a Pandas dataframe if there were more advanced statistical operations you wanted to run. \n",
    "\n",
    "Most of the export options work in roughly the same way, so for this tutorial you’ll learn how to export your data into Gephi’s GEXF format. Once you’ve exported the file, you can upload it directly into Gephi for visualization."
   ]
  },
  {
   "cell_type": "code",
   "execution_count": 41,
   "metadata": {},
   "outputs": [],
   "source": [
    "nx.write_gexf(G, 'quaker_network.gexf')"
   ]
  },
  {
   "cell_type": "code",
   "execution_count": 42,
   "metadata": {},
   "outputs": [],
   "source": [
    "G = nx.read_gexf('quaker_network.gexf')"
   ]
  },
  {
   "cell_type": "code",
   "execution_count": 43,
   "metadata": {},
   "outputs": [
    {
     "data": {
      "text/plain": [
       "{'historical_significance': 'Quaker leader and founder of Pennsylvania',\n",
       " 'gender': 'male',\n",
       " 'birth_year': '1644',\n",
       " 'death_year': '1718',\n",
       " 'sdfb_id': '10009531',\n",
       " 'degree': 18,\n",
       " 'label': 'William Penn'}"
      ]
     },
     "execution_count": 43,
     "metadata": {},
     "output_type": "execute_result"
    }
   ],
   "source": [
    "G.nodes['William Penn']"
   ]
  },
  {
   "cell_type": "code",
   "execution_count": null,
   "metadata": {},
   "outputs": [],
   "source": []
  }
 ],
 "metadata": {
  "kernelspec": {
   "display_name": "Python 3 (ipykernel)",
   "language": "python",
   "name": "python3"
  },
  "language_info": {
   "codemirror_mode": {
    "name": "ipython",
    "version": 3
   },
   "file_extension": ".py",
   "mimetype": "text/x-python",
   "name": "python",
   "nbconvert_exporter": "python",
   "pygments_lexer": "ipython3",
   "version": "3.11.9"
  },
  "toc": {
   "base_numbering": 1,
   "nav_menu": {},
   "number_sections": true,
   "sideBar": true,
   "skip_h1_title": false,
   "title_cell": "Table of Contents",
   "title_sidebar": "Contents",
   "toc_cell": false,
   "toc_position": {},
   "toc_section_display": true,
   "toc_window_display": false
  }
 },
 "nbformat": 4,
 "nbformat_minor": 4
}
