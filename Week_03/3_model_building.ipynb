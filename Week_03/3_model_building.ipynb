{
 "cells": [
  {
   "cell_type": "markdown",
   "metadata": {},
   "source": [
    "# Build and Validate a Model"
   ]
  },
  {
   "cell_type": "code",
   "execution_count": 1,
   "metadata": {},
   "outputs": [],
   "source": [
    "import pandas as pd\n",
    "import numpy as np\n",
    "\n",
    "# Allows charts to appear in the notebook\n",
    "%matplotlib inline"
   ]
  },
  {
   "cell_type": "code",
   "execution_count": 2,
   "metadata": {},
   "outputs": [],
   "source": [
    "# data source: UCI\n",
    "# https://archive.ics.uci.edu/ml/datasets.php\n",
    "data = pd.read_csv(\"heart_disease/heart.csv\")"
   ]
  },
  {
   "cell_type": "markdown",
   "metadata": {},
   "source": [
    "## Check Data"
   ]
  },
  {
   "cell_type": "code",
   "execution_count": 3,
   "metadata": {},
   "outputs": [
    {
     "data": {
      "text/html": [
       "<div>\n",
       "<style scoped>\n",
       "    .dataframe tbody tr th:only-of-type {\n",
       "        vertical-align: middle;\n",
       "    }\n",
       "\n",
       "    .dataframe tbody tr th {\n",
       "        vertical-align: top;\n",
       "    }\n",
       "\n",
       "    .dataframe thead th {\n",
       "        text-align: right;\n",
       "    }\n",
       "</style>\n",
       "<table border=\"1\" class=\"dataframe\">\n",
       "  <thead>\n",
       "    <tr style=\"text-align: right;\">\n",
       "      <th></th>\n",
       "      <th>age</th>\n",
       "      <th>sex</th>\n",
       "      <th>cp</th>\n",
       "      <th>trestbps</th>\n",
       "      <th>chol</th>\n",
       "      <th>fbs</th>\n",
       "      <th>restecg</th>\n",
       "      <th>thalach</th>\n",
       "      <th>exang</th>\n",
       "      <th>oldpeak</th>\n",
       "      <th>slope</th>\n",
       "      <th>ca</th>\n",
       "      <th>thal</th>\n",
       "      <th>target</th>\n",
       "    </tr>\n",
       "  </thead>\n",
       "  <tbody>\n",
       "    <tr>\n",
       "      <th>0</th>\n",
       "      <td>63</td>\n",
       "      <td>1</td>\n",
       "      <td>3</td>\n",
       "      <td>145</td>\n",
       "      <td>233</td>\n",
       "      <td>1</td>\n",
       "      <td>0</td>\n",
       "      <td>150</td>\n",
       "      <td>0</td>\n",
       "      <td>2.3</td>\n",
       "      <td>0</td>\n",
       "      <td>0</td>\n",
       "      <td>1</td>\n",
       "      <td>1</td>\n",
       "    </tr>\n",
       "    <tr>\n",
       "      <th>1</th>\n",
       "      <td>37</td>\n",
       "      <td>1</td>\n",
       "      <td>2</td>\n",
       "      <td>130</td>\n",
       "      <td>250</td>\n",
       "      <td>0</td>\n",
       "      <td>1</td>\n",
       "      <td>187</td>\n",
       "      <td>0</td>\n",
       "      <td>3.5</td>\n",
       "      <td>0</td>\n",
       "      <td>0</td>\n",
       "      <td>2</td>\n",
       "      <td>1</td>\n",
       "    </tr>\n",
       "    <tr>\n",
       "      <th>2</th>\n",
       "      <td>41</td>\n",
       "      <td>0</td>\n",
       "      <td>1</td>\n",
       "      <td>130</td>\n",
       "      <td>204</td>\n",
       "      <td>0</td>\n",
       "      <td>0</td>\n",
       "      <td>172</td>\n",
       "      <td>0</td>\n",
       "      <td>1.4</td>\n",
       "      <td>2</td>\n",
       "      <td>0</td>\n",
       "      <td>2</td>\n",
       "      <td>1</td>\n",
       "    </tr>\n",
       "    <tr>\n",
       "      <th>3</th>\n",
       "      <td>56</td>\n",
       "      <td>1</td>\n",
       "      <td>1</td>\n",
       "      <td>120</td>\n",
       "      <td>236</td>\n",
       "      <td>0</td>\n",
       "      <td>1</td>\n",
       "      <td>178</td>\n",
       "      <td>0</td>\n",
       "      <td>0.8</td>\n",
       "      <td>2</td>\n",
       "      <td>0</td>\n",
       "      <td>2</td>\n",
       "      <td>1</td>\n",
       "    </tr>\n",
       "    <tr>\n",
       "      <th>4</th>\n",
       "      <td>57</td>\n",
       "      <td>0</td>\n",
       "      <td>0</td>\n",
       "      <td>120</td>\n",
       "      <td>354</td>\n",
       "      <td>0</td>\n",
       "      <td>1</td>\n",
       "      <td>163</td>\n",
       "      <td>1</td>\n",
       "      <td>0.6</td>\n",
       "      <td>2</td>\n",
       "      <td>0</td>\n",
       "      <td>2</td>\n",
       "      <td>1</td>\n",
       "    </tr>\n",
       "    <tr>\n",
       "      <th>5</th>\n",
       "      <td>57</td>\n",
       "      <td>1</td>\n",
       "      <td>0</td>\n",
       "      <td>140</td>\n",
       "      <td>192</td>\n",
       "      <td>0</td>\n",
       "      <td>1</td>\n",
       "      <td>148</td>\n",
       "      <td>0</td>\n",
       "      <td>0.4</td>\n",
       "      <td>1</td>\n",
       "      <td>0</td>\n",
       "      <td>1</td>\n",
       "      <td>1</td>\n",
       "    </tr>\n",
       "    <tr>\n",
       "      <th>6</th>\n",
       "      <td>56</td>\n",
       "      <td>0</td>\n",
       "      <td>1</td>\n",
       "      <td>140</td>\n",
       "      <td>294</td>\n",
       "      <td>0</td>\n",
       "      <td>0</td>\n",
       "      <td>153</td>\n",
       "      <td>0</td>\n",
       "      <td>1.3</td>\n",
       "      <td>1</td>\n",
       "      <td>0</td>\n",
       "      <td>2</td>\n",
       "      <td>1</td>\n",
       "    </tr>\n",
       "    <tr>\n",
       "      <th>7</th>\n",
       "      <td>44</td>\n",
       "      <td>1</td>\n",
       "      <td>1</td>\n",
       "      <td>120</td>\n",
       "      <td>263</td>\n",
       "      <td>0</td>\n",
       "      <td>1</td>\n",
       "      <td>173</td>\n",
       "      <td>0</td>\n",
       "      <td>0.0</td>\n",
       "      <td>2</td>\n",
       "      <td>0</td>\n",
       "      <td>3</td>\n",
       "      <td>1</td>\n",
       "    </tr>\n",
       "    <tr>\n",
       "      <th>8</th>\n",
       "      <td>52</td>\n",
       "      <td>1</td>\n",
       "      <td>2</td>\n",
       "      <td>172</td>\n",
       "      <td>199</td>\n",
       "      <td>1</td>\n",
       "      <td>1</td>\n",
       "      <td>162</td>\n",
       "      <td>0</td>\n",
       "      <td>0.5</td>\n",
       "      <td>2</td>\n",
       "      <td>0</td>\n",
       "      <td>3</td>\n",
       "      <td>1</td>\n",
       "    </tr>\n",
       "    <tr>\n",
       "      <th>9</th>\n",
       "      <td>57</td>\n",
       "      <td>1</td>\n",
       "      <td>2</td>\n",
       "      <td>150</td>\n",
       "      <td>168</td>\n",
       "      <td>0</td>\n",
       "      <td>1</td>\n",
       "      <td>174</td>\n",
       "      <td>0</td>\n",
       "      <td>1.6</td>\n",
       "      <td>2</td>\n",
       "      <td>0</td>\n",
       "      <td>2</td>\n",
       "      <td>1</td>\n",
       "    </tr>\n",
       "  </tbody>\n",
       "</table>\n",
       "</div>"
      ],
      "text/plain": [
       "   age  sex  cp  trestbps  chol  fbs  restecg  thalach  exang  oldpeak  slope  \\\n",
       "0   63    1   3       145   233    1        0      150      0      2.3      0   \n",
       "1   37    1   2       130   250    0        1      187      0      3.5      0   \n",
       "2   41    0   1       130   204    0        0      172      0      1.4      2   \n",
       "3   56    1   1       120   236    0        1      178      0      0.8      2   \n",
       "4   57    0   0       120   354    0        1      163      1      0.6      2   \n",
       "5   57    1   0       140   192    0        1      148      0      0.4      1   \n",
       "6   56    0   1       140   294    0        0      153      0      1.3      1   \n",
       "7   44    1   1       120   263    0        1      173      0      0.0      2   \n",
       "8   52    1   2       172   199    1        1      162      0      0.5      2   \n",
       "9   57    1   2       150   168    0        1      174      0      1.6      2   \n",
       "\n",
       "   ca  thal  target  \n",
       "0   0     1       1  \n",
       "1   0     2       1  \n",
       "2   0     2       1  \n",
       "3   0     2       1  \n",
       "4   0     2       1  \n",
       "5   0     1       1  \n",
       "6   0     2       1  \n",
       "7   0     3       1  \n",
       "8   0     3       1  \n",
       "9   0     2       1  "
      ]
     },
     "execution_count": 3,
     "metadata": {},
     "output_type": "execute_result"
    }
   ],
   "source": [
    "data.head(10)"
   ]
  },
  {
   "cell_type": "code",
   "execution_count": 5,
   "metadata": {},
   "outputs": [
    {
     "data": {
      "text/plain": [
       "(303, 14)"
      ]
     },
     "execution_count": 5,
     "metadata": {},
     "output_type": "execute_result"
    }
   ],
   "source": [
    "data.shape"
   ]
  },
  {
   "cell_type": "code",
   "execution_count": 6,
   "metadata": {
    "scrolled": true
   },
   "outputs": [
    {
     "data": {
      "text/plain": [
       "age         0\n",
       "sex         0\n",
       "cp          0\n",
       "trestbps    0\n",
       "chol        0\n",
       "fbs         0\n",
       "restecg     0\n",
       "thalach     0\n",
       "exang       0\n",
       "oldpeak     0\n",
       "slope       0\n",
       "ca          0\n",
       "thal        0\n",
       "target      0\n",
       "dtype: int64"
      ]
     },
     "execution_count": 6,
     "metadata": {},
     "output_type": "execute_result"
    }
   ],
   "source": [
    "data.isnull().sum()"
   ]
  },
  {
   "cell_type": "code",
   "execution_count": 7,
   "metadata": {},
   "outputs": [
    {
     "data": {
      "text/plain": [
       "1    165\n",
       "0    138\n",
       "Name: target, dtype: int64"
      ]
     },
     "execution_count": 7,
     "metadata": {},
     "output_type": "execute_result"
    }
   ],
   "source": [
    "data['target'].value_counts() "
   ]
  },
  {
   "cell_type": "code",
   "execution_count": 8,
   "metadata": {},
   "outputs": [
    {
     "data": {
      "text/plain": [
       "<Axes: >"
      ]
     },
     "execution_count": 8,
     "metadata": {},
     "output_type": "execute_result"
    },
    {
     "data": {
      "image/png": "[encoded data removed]",
      "text/plain": [
       "<Figure size 640x480 with 1 Axes>"
      ]
     },
     "metadata": {},
     "output_type": "display_data"
    }
   ],
   "source": [
    "data.target.value_counts().plot(kind = 'barh')"
   ]
  },
  {
   "cell_type": "code",
   "execution_count": 9,
   "metadata": {},
   "outputs": [],
   "source": [
    "#Get Target data \n",
    "y = data['target']\n",
    "\n",
    "#Load X Variables into a Pandas Dataframe with columns \n",
    "X = data.drop(['target'], axis = 1)"
   ]
  },
  {
   "cell_type": "code",
   "execution_count": 10,
   "metadata": {},
   "outputs": [
    {
     "name": "stdout",
     "output_type": "stream",
     "text": [
      "X : (303, 13)\n",
      "y : (303,)\n"
     ]
    }
   ],
   "source": [
    "print(f'X : {X.shape}')\n",
    "print(f'y : {y.shape}')"
   ]
  },
  {
   "cell_type": "code",
   "execution_count": 11,
   "metadata": {},
   "outputs": [
    {
     "data": {
      "text/html": [
       "<div>\n",
       "<style scoped>\n",
       "    .dataframe tbody tr th:only-of-type {\n",
       "        vertical-align: middle;\n",
       "    }\n",
       "\n",
       "    .dataframe tbody tr th {\n",
       "        vertical-align: top;\n",
       "    }\n",
       "\n",
       "    .dataframe thead th {\n",
       "        text-align: right;\n",
       "    }\n",
       "</style>\n",
       "<table border=\"1\" class=\"dataframe\">\n",
       "  <thead>\n",
       "    <tr style=\"text-align: right;\">\n",
       "      <th></th>\n",
       "      <th>age</th>\n",
       "      <th>sex</th>\n",
       "      <th>cp</th>\n",
       "      <th>trestbps</th>\n",
       "      <th>chol</th>\n",
       "      <th>fbs</th>\n",
       "      <th>restecg</th>\n",
       "      <th>thalach</th>\n",
       "      <th>exang</th>\n",
       "      <th>oldpeak</th>\n",
       "      <th>slope</th>\n",
       "      <th>ca</th>\n",
       "      <th>thal</th>\n",
       "    </tr>\n",
       "  </thead>\n",
       "  <tbody>\n",
       "    <tr>\n",
       "      <th>0</th>\n",
       "      <td>63</td>\n",
       "      <td>1</td>\n",
       "      <td>3</td>\n",
       "      <td>145</td>\n",
       "      <td>233</td>\n",
       "      <td>1</td>\n",
       "      <td>0</td>\n",
       "      <td>150</td>\n",
       "      <td>0</td>\n",
       "      <td>2.3</td>\n",
       "      <td>0</td>\n",
       "      <td>0</td>\n",
       "      <td>1</td>\n",
       "    </tr>\n",
       "    <tr>\n",
       "      <th>1</th>\n",
       "      <td>37</td>\n",
       "      <td>1</td>\n",
       "      <td>2</td>\n",
       "      <td>130</td>\n",
       "      <td>250</td>\n",
       "      <td>0</td>\n",
       "      <td>1</td>\n",
       "      <td>187</td>\n",
       "      <td>0</td>\n",
       "      <td>3.5</td>\n",
       "      <td>0</td>\n",
       "      <td>0</td>\n",
       "      <td>2</td>\n",
       "    </tr>\n",
       "    <tr>\n",
       "      <th>2</th>\n",
       "      <td>41</td>\n",
       "      <td>0</td>\n",
       "      <td>1</td>\n",
       "      <td>130</td>\n",
       "      <td>204</td>\n",
       "      <td>0</td>\n",
       "      <td>0</td>\n",
       "      <td>172</td>\n",
       "      <td>0</td>\n",
       "      <td>1.4</td>\n",
       "      <td>2</td>\n",
       "      <td>0</td>\n",
       "      <td>2</td>\n",
       "    </tr>\n",
       "    <tr>\n",
       "      <th>3</th>\n",
       "      <td>56</td>\n",
       "      <td>1</td>\n",
       "      <td>1</td>\n",
       "      <td>120</td>\n",
       "      <td>236</td>\n",
       "      <td>0</td>\n",
       "      <td>1</td>\n",
       "      <td>178</td>\n",
       "      <td>0</td>\n",
       "      <td>0.8</td>\n",
       "      <td>2</td>\n",
       "      <td>0</td>\n",
       "      <td>2</td>\n",
       "    </tr>\n",
       "    <tr>\n",
       "      <th>4</th>\n",
       "      <td>57</td>\n",
       "      <td>0</td>\n",
       "      <td>0</td>\n",
       "      <td>120</td>\n",
       "      <td>354</td>\n",
       "      <td>0</td>\n",
       "      <td>1</td>\n",
       "      <td>163</td>\n",
       "      <td>1</td>\n",
       "      <td>0.6</td>\n",
       "      <td>2</td>\n",
       "      <td>0</td>\n",
       "      <td>2</td>\n",
       "    </tr>\n",
       "    <tr>\n",
       "      <th>...</th>\n",
       "      <td>...</td>\n",
       "      <td>...</td>\n",
       "      <td>...</td>\n",
       "      <td>...</td>\n",
       "      <td>...</td>\n",
       "      <td>...</td>\n",
       "      <td>...</td>\n",
       "      <td>...</td>\n",
       "      <td>...</td>\n",
       "      <td>...</td>\n",
       "      <td>...</td>\n",
       "      <td>...</td>\n",
       "      <td>...</td>\n",
       "    </tr>\n",
       "    <tr>\n",
       "      <th>298</th>\n",
       "      <td>57</td>\n",
       "      <td>0</td>\n",
       "      <td>0</td>\n",
       "      <td>140</td>\n",
       "      <td>241</td>\n",
       "      <td>0</td>\n",
       "      <td>1</td>\n",
       "      <td>123</td>\n",
       "      <td>1</td>\n",
       "      <td>0.2</td>\n",
       "      <td>1</td>\n",
       "      <td>0</td>\n",
       "      <td>3</td>\n",
       "    </tr>\n",
       "    <tr>\n",
       "      <th>299</th>\n",
       "      <td>45</td>\n",
       "      <td>1</td>\n",
       "      <td>3</td>\n",
       "      <td>110</td>\n",
       "      <td>264</td>\n",
       "      <td>0</td>\n",
       "      <td>1</td>\n",
       "      <td>132</td>\n",
       "      <td>0</td>\n",
       "      <td>1.2</td>\n",
       "      <td>1</td>\n",
       "      <td>0</td>\n",
       "      <td>3</td>\n",
       "    </tr>\n",
       "    <tr>\n",
       "      <th>300</th>\n",
       "      <td>68</td>\n",
       "      <td>1</td>\n",
       "      <td>0</td>\n",
       "      <td>144</td>\n",
       "      <td>193</td>\n",
       "      <td>1</td>\n",
       "      <td>1</td>\n",
       "      <td>141</td>\n",
       "      <td>0</td>\n",
       "      <td>3.4</td>\n",
       "      <td>1</td>\n",
       "      <td>2</td>\n",
       "      <td>3</td>\n",
       "    </tr>\n",
       "    <tr>\n",
       "      <th>301</th>\n",
       "      <td>57</td>\n",
       "      <td>1</td>\n",
       "      <td>0</td>\n",
       "      <td>130</td>\n",
       "      <td>131</td>\n",
       "      <td>0</td>\n",
       "      <td>1</td>\n",
       "      <td>115</td>\n",
       "      <td>1</td>\n",
       "      <td>1.2</td>\n",
       "      <td>1</td>\n",
       "      <td>1</td>\n",
       "      <td>3</td>\n",
       "    </tr>\n",
       "    <tr>\n",
       "      <th>302</th>\n",
       "      <td>57</td>\n",
       "      <td>0</td>\n",
       "      <td>1</td>\n",
       "      <td>130</td>\n",
       "      <td>236</td>\n",
       "      <td>0</td>\n",
       "      <td>0</td>\n",
       "      <td>174</td>\n",
       "      <td>0</td>\n",
       "      <td>0.0</td>\n",
       "      <td>1</td>\n",
       "      <td>1</td>\n",
       "      <td>2</td>\n",
       "    </tr>\n",
       "  </tbody>\n",
       "</table>\n",
       "<p>303 rows × 13 columns</p>\n",
       "</div>"
      ],
      "text/plain": [
       "     age  sex  cp  trestbps  chol  fbs  restecg  thalach  exang  oldpeak  \\\n",
       "0     63    1   3       145   233    1        0      150      0      2.3   \n",
       "1     37    1   2       130   250    0        1      187      0      3.5   \n",
       "2     41    0   1       130   204    0        0      172      0      1.4   \n",
       "3     56    1   1       120   236    0        1      178      0      0.8   \n",
       "4     57    0   0       120   354    0        1      163      1      0.6   \n",
       "..   ...  ...  ..       ...   ...  ...      ...      ...    ...      ...   \n",
       "298   57    0   0       140   241    0        1      123      1      0.2   \n",
       "299   45    1   3       110   264    0        1      132      0      1.2   \n",
       "300   68    1   0       144   193    1        1      141      0      3.4   \n",
       "301   57    1   0       130   131    0        1      115      1      1.2   \n",
       "302   57    0   1       130   236    0        0      174      0      0.0   \n",
       "\n",
       "     slope  ca  thal  \n",
       "0        0   0     1  \n",
       "1        0   0     2  \n",
       "2        2   0     2  \n",
       "3        2   0     2  \n",
       "4        2   0     2  \n",
       "..     ...  ..   ...  \n",
       "298      1   0     3  \n",
       "299      1   0     3  \n",
       "300      1   2     3  \n",
       "301      1   1     3  \n",
       "302      1   1     2  \n",
       "\n",
       "[303 rows x 13 columns]"
      ]
     },
     "execution_count": 11,
     "metadata": {},
     "output_type": "execute_result"
    }
   ],
   "source": [
    "X"
   ]
  },
  {
   "cell_type": "code",
   "execution_count": 12,
   "metadata": {},
   "outputs": [
    {
     "data": {
      "text/plain": [
       "0      1\n",
       "1      1\n",
       "2      1\n",
       "3      1\n",
       "4      1\n",
       "      ..\n",
       "298    0\n",
       "299    0\n",
       "300    0\n",
       "301    0\n",
       "302    0\n",
       "Name: target, Length: 303, dtype: int64"
      ]
     },
     "execution_count": 12,
     "metadata": {},
     "output_type": "execute_result"
    }
   ],
   "source": [
    "y"
   ]
  },
  {
   "cell_type": "markdown",
   "metadata": {},
   "source": [
    "## Divide Data into Train and test"
   ]
  },
  {
   "cell_type": "code",
   "execution_count": 13,
   "metadata": {},
   "outputs": [],
   "source": [
    "from sklearn.model_selection import train_test_split\n",
    "\n",
    "X_train, X_test, y_train, y_test = train_test_split(X, y, test_size=0.20, random_state=0)"
   ]
  },
  {
   "cell_type": "code",
   "execution_count": 14,
   "metadata": {},
   "outputs": [
    {
     "name": "stdout",
     "output_type": "stream",
     "text": [
      "X_train : (242, 13)\n",
      "y_train : (242,)\n",
      "X_test : (61, 13)\n",
      "y_test : (61,)\n"
     ]
    }
   ],
   "source": [
    "print(f'X_train : {X_train.shape}')\n",
    "print(f'y_train : {y_train.shape}')\n",
    "print(f'X_test : {X_test.shape}')\n",
    "print(f'y_test : {y_test.shape}')"
   ]
  },
  {
   "cell_type": "markdown",
   "metadata": {},
   "source": [
    "## Build Basic Random Forest Model"
   ]
  },
  {
   "cell_type": "code",
   "execution_count": 15,
   "metadata": {},
   "outputs": [],
   "source": [
    "from sklearn.ensemble import RandomForestClassifier\n",
    "\n",
    "rf_Model = RandomForestClassifier().fit(X_train, y_train)"
   ]
  },
  {
   "cell_type": "markdown",
   "metadata": {},
   "source": [
    "- In random forests, each tree in the ensemble is built from a sample drawn with replacement (i.e., a bootstrap sample) from the training set.\n",
    "\n",
    "- Furthermore, when splitting each node during the construction of a tree, the best split is found either from all input features or a random subset of size max_features.\n",
    "\n",
    "- The purpose of these two sources of randomness is to **decrease the variance of the forest estimator**. (High-dimensional data!)\n",
    "\n",
    "- Indeed, individual decision trees typically exhibit high variance and tend to overfit. The injected randomness in forests yield decision trees with somewhat decoupled prediction errors. By taking an average of those predictions, some errors can cancel out. \n",
    "\n",
    "- Random forests achieve a reduced variance by combining diverse trees, sometimes at the cost of a slight increase in bias. In practice the variance reduction is often significant hence yielding an overall better model."
   ]
  },
  {
   "cell_type": "markdown",
   "metadata": {},
   "source": [
    "## Prediction"
   ]
  },
  {
   "cell_type": "code",
   "execution_count": 16,
   "metadata": {},
   "outputs": [],
   "source": [
    "# Create a function to guess when an observation has heart disease \n",
    "def heartdisease(age,sex,cp,trestbps,chol,fbs,restecg,thalach,exang,oldpeak,slope,ca,thal):\n",
    "    if(rf_Model.predict([[age,sex,cp,trestbps,chol,fbs,restecg,thalach,exang,oldpeak,slope,ca,thal]]))==1:\n",
    "        print('You have heart disease!')\n",
    "    else:\n",
    "        print('You\\'re fine!')"
   ]
  },
  {
   "cell_type": "code",
   "execution_count": 17,
   "metadata": {},
   "outputs": [
    {
     "name": "stdout",
     "output_type": "stream",
     "text": [
      "You have heart disease!\n"
     ]
    },
    {
     "name": "stderr",
     "output_type": "stream",
     "text": [
      "/Users/jingchenli/opt/anaconda3/lib/python3.9/site-packages/sklearn/base.py:439: UserWarning: X does not have valid feature names, but RandomForestClassifier was fitted with feature names\n",
      "  warnings.warn(\n"
     ]
    }
   ],
   "source": [
    "heartdisease(63,1,3,145,233,1,0,150,0,2.3,0,0,1)"
   ]
  },
  {
   "cell_type": "code",
   "execution_count": 18,
   "metadata": {},
   "outputs": [
    {
     "name": "stdout",
     "output_type": "stream",
     "text": [
      "You have heart disease!\n"
     ]
    },
    {
     "name": "stderr",
     "output_type": "stream",
     "text": [
      "/Users/jingchenli/opt/anaconda3/lib/python3.9/site-packages/sklearn/base.py:439: UserWarning: X does not have valid feature names, but RandomForestClassifier was fitted with feature names\n",
      "  warnings.warn(\n"
     ]
    }
   ],
   "source": [
    "heartdisease(56,0,1,130,236,0,0,174,0,0.0,1,1,2)"
   ]
  },
  {
   "cell_type": "code",
   "execution_count": 19,
   "metadata": {},
   "outputs": [
    {
     "name": "stdout",
     "output_type": "stream",
     "text": [
      "You have heart disease!\n"
     ]
    },
    {
     "name": "stderr",
     "output_type": "stream",
     "text": [
      "/Users/jingchenli/opt/anaconda3/lib/python3.9/site-packages/sklearn/base.py:439: UserWarning: X does not have valid feature names, but RandomForestClassifier was fitted with feature names\n",
      "  warnings.warn(\n"
     ]
    }
   ],
   "source": [
    "heartdisease(58,0,1,130,236,0,0,174,0,0.0,1,1,2)"
   ]
  },
  {
   "cell_type": "markdown",
   "metadata": {},
   "source": [
    "## Check Accuracy"
   ]
  },
  {
   "cell_type": "code",
   "execution_count": 20,
   "metadata": {
    "scrolled": false
   },
   "outputs": [
    {
     "name": "stdout",
     "output_type": "stream",
     "text": [
      "Train Accuracy - : 1.000\n",
      "Test Accuracy - : 0.852\n"
     ]
    }
   ],
   "source": [
    "print ('Train Accuracy - : {:.3f}'.format(rf_Model.score(X_train,y_train)))\n",
    "print ('Test Accuracy - : {:.3f}'.format(rf_Model.score(X_test,y_test)))"
   ]
  },
  {
   "cell_type": "code",
   "execution_count": 21,
   "metadata": {},
   "outputs": [
    {
     "data": {
      "text/plain": [
       "0.8524590163934426"
      ]
     },
     "execution_count": 21,
     "metadata": {},
     "output_type": "execute_result"
    }
   ],
   "source": [
    "rf_Model.score(X_test,y_test)"
   ]
  },
  {
   "cell_type": "markdown",
   "metadata": {},
   "source": [
    "## Cross Validation\n",
    "\n",
    "<img src=\"./img/cross_val.png\" width=\"600\"/>"
   ]
  },
  {
   "cell_type": "code",
   "execution_count": 22,
   "metadata": {},
   "outputs": [],
   "source": [
    "from sklearn.model_selection import cross_validate\n",
    "\n",
    "val_res = cross_validate(RandomForestClassifier(), X, y, cv=5, return_train_score=True)"
   ]
  },
  {
   "cell_type": "code",
   "execution_count": 23,
   "metadata": {},
   "outputs": [
    {
     "data": {
      "text/html": [
       "<div>\n",
       "<style scoped>\n",
       "    .dataframe tbody tr th:only-of-type {\n",
       "        vertical-align: middle;\n",
       "    }\n",
       "\n",
       "    .dataframe tbody tr th {\n",
       "        vertical-align: top;\n",
       "    }\n",
       "\n",
       "    .dataframe thead th {\n",
       "        text-align: right;\n",
       "    }\n",
       "</style>\n",
       "<table border=\"1\" class=\"dataframe\">\n",
       "  <thead>\n",
       "    <tr style=\"text-align: right;\">\n",
       "      <th></th>\n",
       "      <th>fit_time</th>\n",
       "      <th>score_time</th>\n",
       "      <th>test_score</th>\n",
       "      <th>train_score</th>\n",
       "    </tr>\n",
       "  </thead>\n",
       "  <tbody>\n",
       "    <tr>\n",
       "      <th>0</th>\n",
       "      <td>0.094433</td>\n",
       "      <td>0.005988</td>\n",
       "      <td>0.836066</td>\n",
       "      <td>1.0</td>\n",
       "    </tr>\n",
       "    <tr>\n",
       "      <th>1</th>\n",
       "      <td>0.091210</td>\n",
       "      <td>0.006198</td>\n",
       "      <td>0.868852</td>\n",
       "      <td>1.0</td>\n",
       "    </tr>\n",
       "    <tr>\n",
       "      <th>2</th>\n",
       "      <td>0.094075</td>\n",
       "      <td>0.006086</td>\n",
       "      <td>0.786885</td>\n",
       "      <td>1.0</td>\n",
       "    </tr>\n",
       "    <tr>\n",
       "      <th>3</th>\n",
       "      <td>0.094430</td>\n",
       "      <td>0.006102</td>\n",
       "      <td>0.750000</td>\n",
       "      <td>1.0</td>\n",
       "    </tr>\n",
       "    <tr>\n",
       "      <th>4</th>\n",
       "      <td>0.094102</td>\n",
       "      <td>0.006339</td>\n",
       "      <td>0.750000</td>\n",
       "      <td>1.0</td>\n",
       "    </tr>\n",
       "  </tbody>\n",
       "</table>\n",
       "</div>"
      ],
      "text/plain": [
       "   fit_time  score_time  test_score  train_score\n",
       "0  0.094433    0.005988    0.836066          1.0\n",
       "1  0.091210    0.006198    0.868852          1.0\n",
       "2  0.094075    0.006086    0.786885          1.0\n",
       "3  0.094430    0.006102    0.750000          1.0\n",
       "4  0.094102    0.006339    0.750000          1.0"
      ]
     },
     "execution_count": 23,
     "metadata": {},
     "output_type": "execute_result"
    }
   ],
   "source": [
    "pd.DataFrame(val_res)"
   ]
  },
  {
   "cell_type": "code",
   "execution_count": 24,
   "metadata": {},
   "outputs": [
    {
     "data": {
      "text/plain": [
       "0.798360655737705"
      ]
     },
     "execution_count": 24,
     "metadata": {},
     "output_type": "execute_result"
    }
   ],
   "source": [
    "val_res['test_score'].mean()"
   ]
  },
  {
   "cell_type": "markdown",
   "metadata": {},
   "source": [
    "Note cross validation doesn't give us a 'better' model. The purpose is to assess how well a given model generalizes. "
   ]
  },
  {
   "cell_type": "markdown",
   "metadata": {},
   "source": [
    "## Parameter Tuning & Model Selection "
   ]
  },
  {
   "cell_type": "code",
   "execution_count": 25,
   "metadata": {},
   "outputs": [
    {
     "name": "stdout",
     "output_type": "stream",
     "text": [
      "Best score: 0.8852\n",
      "Best parameters: {'n_estimators': 50}\n"
     ]
    }
   ],
   "source": [
    "# A simple manual example\n",
    "\n",
    "best_score = 0\n",
    "\n",
    "for n in [20, 50, 100, 300]:\n",
    "    rf_model = RandomForestClassifier(n_estimators = n).fit(X_train, y_train)\n",
    "    score = rf_model.score(X_test, y_test)\n",
    "    if score > best_score:\n",
    "        best_score = score\n",
    "        best_parameters = {'n_estimators': n}\n",
    "\n",
    "print(\"Best score: {:.4f}\".format(best_score))\n",
    "print(\"Best parameters: {}\".format(best_parameters))"
   ]
  },
  {
   "cell_type": "code",
   "execution_count": 26,
   "metadata": {},
   "outputs": [
    {
     "data": {
      "text/plain": [
       "[20, 51, 82, 113, 144, 175, 206, 237, 268, 300]"
      ]
     },
     "execution_count": 26,
     "metadata": {},
     "output_type": "execute_result"
    }
   ],
   "source": [
    "[int(x) for x in np.linspace(start = 20, stop = 300, num = 10)]"
   ]
  },
  {
   "cell_type": "code",
   "execution_count": 27,
   "metadata": {},
   "outputs": [
    {
     "data": {
      "text/plain": [
       "{'n_estimators': [20, 51, 82, 113, 144, 175, 206, 237, 268, 300],\n",
       " 'max_depth': [2, 4],\n",
       " 'min_samples_split': [2, 5],\n",
       " 'min_samples_leaf': [1, 2, 3, 4],\n",
       " 'bootstrap': [True, False]}"
      ]
     },
     "execution_count": 27,
     "metadata": {},
     "output_type": "execute_result"
    }
   ],
   "source": [
    "# Create the param grid\n",
    "\n",
    "# Number of trees in random forest\n",
    "n_estimators = [int(x) for x in np.linspace(start = 20, stop = 300, num = 10)]\n",
    "# Maximum number of levels in tree\n",
    "max_depth = [2,4]\n",
    "# Minimum number of samples required to split a node\n",
    "min_samples_split = [2,5]\n",
    "# Minimum number of samples required at each leaf node\n",
    "min_samples_leaf = [1,2,3,4]\n",
    "# Method of selecting samples for training each tree\n",
    "bootstrap = [True, False]\n",
    "\n",
    "param_grid = {'n_estimators': n_estimators,\n",
    "               'max_depth': max_depth,\n",
    "               'min_samples_split': min_samples_split,\n",
    "               'min_samples_leaf': min_samples_leaf,\n",
    "               'bootstrap': bootstrap}\n",
    "param_grid"
   ]
  },
  {
   "cell_type": "markdown",
   "metadata": {},
   "source": [
    "\n",
    "- **GridSearch**\n",
    "    - Exhaustive search over specified parameter values for an estimator.\n",
    "    - GridSearchCV implements a “fit” and a “score” method. It also implements “predict”, “predict_proba”, “decision_function”, “transform” and “inverse_transform” if they are implemented in the estimator used.\n",
    "    - The parameters of the estimator used to apply these methods are optimized by cross-validated grid-search over a parameter grid.\n",
    "    - details: https://scikit-learn.org/stable/modules/generated/sklearn.model_selection.GridSearchCV.html\n",
    "\n",
    "- cv is cross-validation, \n",
    "    - here I use 3 fold cross validation \n",
    "    - for more info, please see: https://machinelearningmastery.com/k-fold-cross-validation/\n",
    "\n",
    "- n_jobs = int, default=None\n",
    "    - Number of jobs to run in parallel. \n",
    "    - None means 1 unless in a joblib.parallel_backend context. \n",
    "    - -1 means using all processors.\n",
    "\n",
    "- verboseinteger\n",
    "    - Controls the verbosity: the higher, the more messages."
   ]
  },
  {
   "cell_type": "code",
   "execution_count": 28,
   "metadata": {},
   "outputs": [],
   "source": [
    "from sklearn.model_selection import GridSearchCV\n",
    "\n",
    "rf_Grid = GridSearchCV(estimator = RandomForestClassifier(), \n",
    "                       param_grid = param_grid, cv = 3, verbose=2, n_jobs = 6)"
   ]
  },
  {
   "cell_type": "code",
   "execution_count": 29,
   "metadata": {
    "scrolled": true
   },
   "outputs": [
    {
     "name": "stdout",
     "output_type": "stream",
     "text": [
      "Fitting 3 folds for each of 320 candidates, totalling 960 fits\n"
     ]
    },
    {
     "data": {
      "text/html": [
       "<style>#sk-container-id-1 {color: black;background-color: white;}#sk-container-id-1 pre{padding: 0;}#sk-container-id-1 div.sk-toggleable {background-color: white;}#sk-container-id-1 label.sk-toggleable__label {cursor: pointer;display: block;width: 100%;margin-bottom: 0;padding: 0.3em;box-sizing: border-box;text-align: center;}#sk-container-id-1 label.sk-toggleable__label-arrow:before {content: \"▸\";float: left;margin-right: 0.25em;color: #696969;}#sk-container-id-1 label.sk-toggleable__label-arrow:hover:before {color: black;}#sk-container-id-1 div.sk-estimator:hover label.sk-toggleable__label-arrow:before {color: black;}#sk-container-id-1 div.sk-toggleable__content {max-height: 0;max-width: 0;overflow: hidden;text-align: left;background-color: #f0f8ff;}#sk-container-id-1 div.sk-toggleable__content pre {margin: 0.2em;color: black;border-radius: 0.25em;background-color: #f0f8ff;}#sk-container-id-1 input.sk-toggleable__control:checked~div.sk-toggleable__content {max-height: 200px;max-width: 100%;overflow: auto;}#sk-container-id-1 input.sk-toggleable__control:checked~label.sk-toggleable__label-arrow:before {content: \"▾\";}#sk-container-id-1 div.sk-estimator input.sk-toggleable__control:checked~label.sk-toggleable__label {background-color: #d4ebff;}#sk-container-id-1 div.sk-label input.sk-toggleable__control:checked~label.sk-toggleable__label {background-color: #d4ebff;}#sk-container-id-1 input.sk-hidden--visually {border: 0;clip: rect(1px 1px 1px 1px);clip: rect(1px, 1px, 1px, 1px);height: 1px;margin: -1px;overflow: hidden;padding: 0;position: absolute;width: 1px;}#sk-container-id-1 div.sk-estimator {font-family: monospace;background-color: #f0f8ff;border: 1px dotted black;border-radius: 0.25em;box-sizing: border-box;margin-bottom: 0.5em;}#sk-container-id-1 div.sk-estimator:hover {background-color: #d4ebff;}#sk-container-id-1 div.sk-parallel-item::after {content: \"\";width: 100%;border-bottom: 1px solid gray;flex-grow: 1;}#sk-container-id-1 div.sk-label:hover label.sk-toggleable__label {background-color: #d4ebff;}#sk-container-id-1 div.sk-serial::before {content: \"\";position: absolute;border-left: 1px solid gray;box-sizing: border-box;top: 0;bottom: 0;left: 50%;z-index: 0;}#sk-container-id-1 div.sk-serial {display: flex;flex-direction: column;align-items: center;background-color: white;padding-right: 0.2em;padding-left: 0.2em;position: relative;}#sk-container-id-1 div.sk-item {position: relative;z-index: 1;}#sk-container-id-1 div.sk-parallel {display: flex;align-items: stretch;justify-content: center;background-color: white;position: relative;}#sk-container-id-1 div.sk-item::before, #sk-container-id-1 div.sk-parallel-item::before {content: \"\";position: absolute;border-left: 1px solid gray;box-sizing: border-box;top: 0;bottom: 0;left: 50%;z-index: -1;}#sk-container-id-1 div.sk-parallel-item {display: flex;flex-direction: column;z-index: 1;position: relative;background-color: white;}#sk-container-id-1 div.sk-parallel-item:first-child::after {align-self: flex-end;width: 50%;}#sk-container-id-1 div.sk-parallel-item:last-child::after {align-self: flex-start;width: 50%;}#sk-container-id-1 div.sk-parallel-item:only-child::after {width: 0;}#sk-container-id-1 div.sk-dashed-wrapped {border: 1px dashed gray;margin: 0 0.4em 0.5em 0.4em;box-sizing: border-box;padding-bottom: 0.4em;background-color: white;}#sk-container-id-1 div.sk-label label {font-family: monospace;font-weight: bold;display: inline-block;line-height: 1.2em;}#sk-container-id-1 div.sk-label-container {text-align: center;}#sk-container-id-1 div.sk-container {/* jupyter's `normalize.less` sets `[hidden] { display: none; }` but bootstrap.min.css set `[hidden] { display: none !important; }` so we also need the `!important` here to be able to override the default hidden behavior on the sphinx rendered scikit-learn.org. See: https://github.com/scikit-learn/scikit-learn/issues/21755 */display: inline-block !important;position: relative;}#sk-container-id-1 div.sk-text-repr-fallback {display: none;}</style><div id=\"sk-container-id-1\" class=\"sk-top-container\"><div class=\"sk-text-repr-fallback\"><pre>GridSearchCV(cv=3, estimator=RandomForestClassifier(), n_jobs=6,\n",
       "             param_grid={&#x27;bootstrap&#x27;: [True, False], &#x27;max_depth&#x27;: [2, 4],\n",
       "                         &#x27;min_samples_leaf&#x27;: [1, 2, 3, 4],\n",
       "                         &#x27;min_samples_split&#x27;: [2, 5],\n",
       "                         &#x27;n_estimators&#x27;: [20, 51, 82, 113, 144, 175, 206, 237,\n",
       "                                          268, 300]},\n",
       "             verbose=2)</pre><b>In a Jupyter environment, please rerun this cell to show the HTML representation or trust the notebook. <br />On GitHub, the HTML representation is unable to render, please try loading this page with nbviewer.org.</b></div><div class=\"sk-container\" hidden><div class=\"sk-item sk-dashed-wrapped\"><div class=\"sk-label-container\"><div class=\"sk-label sk-toggleable\"><input class=\"sk-toggleable__control sk-hidden--visually\" id=\"sk-estimator-id-1\" type=\"checkbox\" ><label for=\"sk-estimator-id-1\" class=\"sk-toggleable__label sk-toggleable__label-arrow\">GridSearchCV</label><div class=\"sk-toggleable__content\"><pre>GridSearchCV(cv=3, estimator=RandomForestClassifier(), n_jobs=6,\n",
       "             param_grid={&#x27;bootstrap&#x27;: [True, False], &#x27;max_depth&#x27;: [2, 4],\n",
       "                         &#x27;min_samples_leaf&#x27;: [1, 2, 3, 4],\n",
       "                         &#x27;min_samples_split&#x27;: [2, 5],\n",
       "                         &#x27;n_estimators&#x27;: [20, 51, 82, 113, 144, 175, 206, 237,\n",
       "                                          268, 300]},\n",
       "             verbose=2)</pre></div></div></div><div class=\"sk-parallel\"><div class=\"sk-parallel-item\"><div class=\"sk-item\"><div class=\"sk-label-container\"><div class=\"sk-label sk-toggleable\"><input class=\"sk-toggleable__control sk-hidden--visually\" id=\"sk-estimator-id-2\" type=\"checkbox\" ><label for=\"sk-estimator-id-2\" class=\"sk-toggleable__label sk-toggleable__label-arrow\">estimator: RandomForestClassifier</label><div class=\"sk-toggleable__content\"><pre>RandomForestClassifier()</pre></div></div></div><div class=\"sk-serial\"><div class=\"sk-item\"><div class=\"sk-estimator sk-toggleable\"><input class=\"sk-toggleable__control sk-hidden--visually\" id=\"sk-estimator-id-3\" type=\"checkbox\" ><label for=\"sk-estimator-id-3\" class=\"sk-toggleable__label sk-toggleable__label-arrow\">RandomForestClassifier</label><div class=\"sk-toggleable__content\"><pre>RandomForestClassifier()</pre></div></div></div></div></div></div></div></div></div></div>"
      ],
      "text/plain": [
       "GridSearchCV(cv=3, estimator=RandomForestClassifier(), n_jobs=6,\n",
       "             param_grid={'bootstrap': [True, False], 'max_depth': [2, 4],\n",
       "                         'min_samples_leaf': [1, 2, 3, 4],\n",
       "                         'min_samples_split': [2, 5],\n",
       "                         'n_estimators': [20, 51, 82, 113, 144, 175, 206, 237,\n",
       "                                          268, 300]},\n",
       "             verbose=2)"
      ]
     },
     "execution_count": 29,
     "metadata": {},
     "output_type": "execute_result"
    }
   ],
   "source": [
    "rf_Grid.fit(X_train, y_train)"
   ]
  },
  {
   "cell_type": "code",
   "execution_count": 30,
   "metadata": {},
   "outputs": [
    {
     "data": {
      "text/plain": [
       "{'bootstrap': True,\n",
       " 'max_depth': 4,\n",
       " 'min_samples_leaf': 4,\n",
       " 'min_samples_split': 2,\n",
       " 'n_estimators': 20}"
      ]
     },
     "execution_count": 30,
     "metadata": {},
     "output_type": "execute_result"
    }
   ],
   "source": [
    "rf_Grid.best_params_"
   ]
  },
  {
   "cell_type": "markdown",
   "metadata": {},
   "source": [
    "## Check Accuracy Again"
   ]
  },
  {
   "cell_type": "code",
   "execution_count": 31,
   "metadata": {},
   "outputs": [
    {
     "name": "stdout",
     "output_type": "stream",
     "text": [
      "Train Accuracy - : 0.8760\n",
      "Test Accuracy - : 0.8197\n"
     ]
    }
   ],
   "source": [
    "print ('Train Accuracy - : {:.4f}'.format(rf_Grid.score(X_train,y_train)))\n",
    "print ('Test Accuracy - : {:.4f}'.format(rf_Grid.score(X_test,y_test)))\n"
   ]
  },
  {
   "cell_type": "markdown",
   "metadata": {},
   "source": [
    "# Alternative Evaluation Metrics"
   ]
  },
  {
   "cell_type": "code",
   "execution_count": 32,
   "metadata": {},
   "outputs": [
    {
     "data": {
      "text/plain": [
       "0.8524590163934426"
      ]
     },
     "execution_count": 32,
     "metadata": {},
     "output_type": "execute_result"
    }
   ],
   "source": [
    "rf_Model.score(X_test,y_test)"
   ]
  },
  {
   "cell_type": "code",
   "execution_count": 33,
   "metadata": {},
   "outputs": [],
   "source": [
    "# Confusion matrix \n",
    "\n",
    "from sklearn.metrics import confusion_matrix\n",
    "\n",
    "confusion = confusion_matrix(y_test, rf_Model.predict(X_test))"
   ]
  },
  {
   "cell_type": "code",
   "execution_count": 34,
   "metadata": {},
   "outputs": [
    {
     "data": {
      "text/plain": [
       "array([[22,  5],\n",
       "       [ 4, 30]])"
      ]
     },
     "execution_count": 34,
     "metadata": {},
     "output_type": "execute_result"
    }
   ],
   "source": [
    "confusion"
   ]
  },
  {
   "cell_type": "markdown",
   "metadata": {},
   "source": [
    "Note the orientation of the confusion matrix here is different from the one we see in class: \n",
    "\n",
    "<img src=\"./img/confusion_matrix.png\" width=\"400\"/>"
   ]
  },
  {
   "cell_type": "code",
   "execution_count": 36,
   "metadata": {},
   "outputs": [
    {
     "data": {
      "text/plain": [
       "0.8524590163934426"
      ]
     },
     "execution_count": 36,
     "metadata": {},
     "output_type": "execute_result"
    }
   ],
   "source": [
    "# accuracy score \n",
    "(22 + 30) / (22 + 4 + 5 + 30) # NOTE the result can be different every time you train"
   ]
  },
  {
   "cell_type": "code",
   "execution_count": 37,
   "metadata": {},
   "outputs": [
    {
     "name": "stdout",
     "output_type": "stream",
     "text": [
      "              precision    recall  f1-score   support\n",
      "\n",
      "  no disease       0.85      0.81      0.83        27\n",
      "     disease       0.86      0.88      0.87        34\n",
      "\n",
      "    accuracy                           0.85        61\n",
      "   macro avg       0.85      0.85      0.85        61\n",
      "weighted avg       0.85      0.85      0.85        61\n",
      "\n"
     ]
    }
   ],
   "source": [
    "from sklearn.metrics import classification_report\n",
    "print(classification_report(y_test, rf_Model.predict(X_test), target_names=[\"no disease\", \"disease\"]))"
   ]
  },
  {
   "cell_type": "markdown",
   "metadata": {},
   "source": [
    "## Precision-Recall Curve"
   ]
  },
  {
   "cell_type": "code",
   "execution_count": 38,
   "metadata": {},
   "outputs": [],
   "source": [
    "import matplotlib.pyplot as plt\n",
    "from sklearn.metrics import precision_recall_curve\n",
    "\n",
    "precision, recall, thresholds = precision_recall_curve(y_test, rf_Model.predict_proba(X_test)[:, 1])"
   ]
  },
  {
   "cell_type": "markdown",
   "metadata": {},
   "source": [
    "Note `precision_recall_curve` requires the second argument to be a certainty measure of the positive class (class = 1)"
   ]
  },
  {
   "cell_type": "code",
   "execution_count": 39,
   "metadata": {},
   "outputs": [
    {
     "data": {
      "text/plain": [
       "array([[0.84, 0.16],\n",
       "       [0.42, 0.58],\n",
       "       [0.36, 0.64],\n",
       "       [1.  , 0.  ],\n",
       "       [0.83, 0.17],\n",
       "       [0.33, 0.67],\n",
       "       [0.77, 0.23],\n",
       "       [0.95, 0.05],\n",
       "       [0.92, 0.08],\n",
       "       [0.92, 0.08],\n",
       "       [0.49, 0.51],\n",
       "       [0.03, 0.97],\n",
       "       [0.95, 0.05],\n",
       "       [0.02, 0.98],\n",
       "       [0.06, 0.94],\n",
       "       [0.29, 0.71],\n",
       "       [0.76, 0.24],\n",
       "       [0.12, 0.88],\n",
       "       [0.96, 0.04],\n",
       "       [0.39, 0.61],\n",
       "       [0.12, 0.88],\n",
       "       [0.67, 0.33],\n",
       "       [0.8 , 0.2 ],\n",
       "       [0.78, 0.22],\n",
       "       [0.28, 0.72],\n",
       "       [0.67, 0.33],\n",
       "       [0.74, 0.26],\n",
       "       [0.53, 0.47],\n",
       "       [0.14, 0.86],\n",
       "       [0.36, 0.64],\n",
       "       [0.36, 0.64],\n",
       "       [0.82, 0.18],\n",
       "       [0.04, 0.96],\n",
       "       [0.22, 0.78],\n",
       "       [0.02, 0.98],\n",
       "       [0.51, 0.49],\n",
       "       [0.84, 0.16],\n",
       "       [0.06, 0.94],\n",
       "       [0.85, 0.15],\n",
       "       [0.66, 0.34],\n",
       "       [0.27, 0.73],\n",
       "       [0.56, 0.44],\n",
       "       [0.1 , 0.9 ],\n",
       "       [0.88, 0.12],\n",
       "       [0.54, 0.46],\n",
       "       [0.42, 0.58],\n",
       "       [0.16, 0.84],\n",
       "       [0.47, 0.53],\n",
       "       [0.94, 0.06],\n",
       "       [0.23, 0.77],\n",
       "       [0.06, 0.94],\n",
       "       [0.45, 0.55],\n",
       "       [0.04, 0.96],\n",
       "       [0.25, 0.75],\n",
       "       [0.03, 0.97],\n",
       "       [0.83, 0.17],\n",
       "       [0.21, 0.79],\n",
       "       [0.36, 0.64],\n",
       "       [0.21, 0.79],\n",
       "       [0.05, 0.95],\n",
       "       [0.19, 0.81]])"
      ]
     },
     "execution_count": 39,
     "metadata": {},
     "output_type": "execute_result"
    }
   ],
   "source": [
    "rf_Model.predict_proba(X_test)"
   ]
  },
  {
   "cell_type": "code",
   "execution_count": 41,
   "metadata": {},
   "outputs": [
    {
     "data": {
      "text/plain": [
       "<matplotlib.legend.Legend at 0x7ff77811f1f0>"
      ]
     },
     "execution_count": 41,
     "metadata": {},
     "output_type": "execute_result"
    },
    {
     "data": {
      "image/png": "[encoded data removed]",
      "text/plain": [
       "<Figure size 640x480 with 1 Axes>"
      ]
     },
     "metadata": {},
     "output_type": "display_data"
    }
   ],
   "source": [
    "plt.plot(precision, recall, label=\"precision recall curve\")\n",
    "plt.xlabel(\"Precision\")\n",
    "plt.ylabel(\"Recall\")\n",
    "plt.legend(loc=\"best\")"
   ]
  },
  {
   "cell_type": "markdown",
   "metadata": {},
   "source": [
    "## ROC Curve"
   ]
  },
  {
   "cell_type": "code",
   "execution_count": 42,
   "metadata": {},
   "outputs": [],
   "source": [
    "from sklearn.metrics import roc_curve\n",
    "\n",
    "fpr, tpr, thresholds = roc_curve(y_test, rf_Model.predict_proba(X_test)[:, 1])"
   ]
  },
  {
   "cell_type": "code",
   "execution_count": 43,
   "metadata": {},
   "outputs": [
    {
     "data": {
      "text/plain": [
       "<matplotlib.legend.Legend at 0x7ff748eec700>"
      ]
     },
     "execution_count": 43,
     "metadata": {},
     "output_type": "execute_result"
    },
    {
     "data": {
      "image/png": "[encoded data removed]",
      "text/plain": [
       "<Figure size 640x480 with 1 Axes>"
      ]
     },
     "metadata": {},
     "output_type": "display_data"
    }
   ],
   "source": [
    "plt.plot(fpr, tpr, label=\"ROC Curve\")\n",
    "plt.xlabel(\"FPR\")\n",
    "plt.ylabel(\"TPR (recall)\")\n",
    "plt.legend(loc=\"best\")"
   ]
  },
  {
   "cell_type": "markdown",
   "metadata": {},
   "source": [
    "## Compare two models "
   ]
  },
  {
   "cell_type": "code",
   "execution_count": 44,
   "metadata": {},
   "outputs": [],
   "source": [
    "from sklearn.svm import SVC\n",
    "\n",
    "svm_Model = SVC().fit(X_train, y_train)"
   ]
  },
  {
   "cell_type": "code",
   "execution_count": 45,
   "metadata": {},
   "outputs": [],
   "source": [
    "fpr_svm, tpr_svm, thresholds_svm = roc_curve(y_test, svm_Model.decision_function(X_test))"
   ]
  },
  {
   "cell_type": "code",
   "execution_count": 46,
   "metadata": {},
   "outputs": [
    {
     "data": {
      "text/plain": [
       "<matplotlib.legend.Legend at 0x7ff748f04280>"
      ]
     },
     "execution_count": 46,
     "metadata": {},
     "output_type": "execute_result"
    },
    {
     "data": {
      "image/png": "[encoded data removed]",
      "text/plain": [
       "<Figure size 640x480 with 1 Axes>"
      ]
     },
     "metadata": {},
     "output_type": "display_data"
    }
   ],
   "source": [
    "plt.plot(fpr, tpr, label=\"ROC Curve RF\")\n",
    "plt.plot(fpr_svm, tpr_svm, label=\"ROC Curve SVM\")\n",
    "\n",
    "plt.xlabel(\"FPR\")\n",
    "plt.ylabel(\"TPR (recall)\")\n",
    "plt.legend(loc=\"best\")"
   ]
  },
  {
   "cell_type": "markdown",
   "metadata": {},
   "source": [
    "## AUC Score"
   ]
  },
  {
   "cell_type": "code",
   "execution_count": 47,
   "metadata": {},
   "outputs": [
    {
     "name": "stdout",
     "output_type": "stream",
     "text": [
      "AUC for Random Forest: 0.930\n",
      "AUC for SVC: 0.812\n"
     ]
    }
   ],
   "source": [
    "from sklearn.metrics import roc_auc_score\n",
    "\n",
    "rf_auc = roc_auc_score(y_test, rf_Model.predict_proba(X_test)[:, 1])\n",
    "svc_auc = roc_auc_score(y_test, svm_Model.decision_function(X_test))\n",
    "\n",
    "print(\"AUC for Random Forest: {:.3f}\".format(rf_auc))\n",
    "print(\"AUC for SVC: {:.3f}\".format(svc_auc))"
   ]
  },
  {
   "cell_type": "code",
   "execution_count": 48,
   "metadata": {},
   "outputs": [],
   "source": [
    "rf_Grid_2 = GridSearchCV(estimator = RandomForestClassifier(), \n",
    "                       param_grid = param_grid, cv = 3, verbose=2, n_jobs = 6, \n",
    "                       scoring = 'roc_auc')"
   ]
  },
  {
   "cell_type": "code",
   "execution_count": 49,
   "metadata": {},
   "outputs": [
    {
     "name": "stdout",
     "output_type": "stream",
     "text": [
      "Fitting 3 folds for each of 320 candidates, totalling 960 fits\n",
      "[CV] END bootstrap=True, max_depth=2, min_samples_leaf=1, min_samples_split=2, n_estimators=51; total time=   0.1s\n",
      "[CV] END bootstrap=True, max_depth=2, min_samples_leaf=1, min_samples_split=2, n_estimators=144; total time=   0.3s\n",
      "[CV] END bootstrap=True, max_depth=2, min_samples_leaf=1, min_samples_split=2, n_estimators=206; total time=   0.4s\n",
      "[CV] END bootstrap=True, max_depth=2, min_samples_leaf=1, min_samples_split=2, n_estimators=268; total time=   0.5s\n",
      "[CV] END bootstrap=True, max_depth=2, min_samples_leaf=1, min_samples_split=5, n_estimators=20; total time=   0.0s\n",
      "[CV] END bootstrap=True, max_depth=2, min_samples_leaf=1, min_samples_split=5, n_estimators=51; total time=   0.1s\n",
      "[CV] END bootstrap=True, max_depth=2, min_samples_leaf=1, min_samples_split=5, n_estimators=82; total time=   0.1s\n",
      "[CV] END bootstrap=True, max_depth=2, min_samples_leaf=1, min_samples_split=5, n_estimators=113; total time=   0.2s\n",
      "[CV] END bootstrap=True, max_depth=2, min_samples_leaf=1, min_samples_split=5, n_estimators=175; total time=   0.3s\n",
      "[CV] END bootstrap=True, max_depth=2, min_samples_leaf=1, min_samples_split=5, n_estimators=237; total time=   0.4s\n",
      "[CV] END bootstrap=True, max_depth=2, min_samples_leaf=1, min_samples_split=5, n_estimators=300; total time=   0.5s\n",
      "[CV] END bootstrap=True, max_depth=2, min_samples_leaf=2, min_samples_split=2, n_estimators=144; total time=   0.2s\n",
      "[CV] END bootstrap=True, max_depth=2, min_samples_leaf=2, min_samples_split=2, n_estimators=206; total time=   0.3s\n",
      "[CV] END bootstrap=True, max_depth=2, min_samples_leaf=2, min_samples_split=2, n_estimators=268; total time=   0.5s\n",
      "[CV] END bootstrap=True, max_depth=2, min_samples_leaf=2, min_samples_split=5, n_estimators=51; total time=   0.1s\n",
      "[CV] END bootstrap=True, max_depth=2, min_samples_leaf=2, min_samples_split=5, n_estimators=82; total time=   0.1s\n",
      "[CV] END bootstrap=True, max_depth=2, min_samples_leaf=2, min_samples_split=5, n_estimators=113; total time=   0.2s\n",
      "[CV] END bootstrap=True, max_depth=2, min_samples_leaf=2, min_samples_split=5, n_estimators=175; total time=   0.3s\n",
      "[CV] END bootstrap=True, max_depth=2, min_samples_leaf=2, min_samples_split=5, n_estimators=237; total time=   0.4s\n",
      "[CV] END bootstrap=True, max_depth=2, min_samples_leaf=2, min_samples_split=5, n_estimators=300; total time=   0.5s\n",
      "[CV] END bootstrap=True, max_depth=2, min_samples_leaf=3, min_samples_split=2, n_estimators=113; total time=   0.2s\n",
      "[CV] END bootstrap=True, max_depth=2, min_samples_leaf=3, min_samples_split=2, n_estimators=175; total time=   0.3s\n",
      "[CV] END bootstrap=True, max_depth=2, min_samples_leaf=3, min_samples_split=2, n_estimators=237; total time=   0.4s\n",
      "[CV] END bootstrap=True, max_depth=2, min_samples_leaf=3, min_samples_split=2, n_estimators=300; total time=   0.5s\n",
      "[CV] END bootstrap=True, max_depth=2, min_samples_leaf=3, min_samples_split=5, n_estimators=144; total time=   0.2s\n",
      "[CV] END bootstrap=True, max_depth=2, min_samples_leaf=3, min_samples_split=5, n_estimators=206; total time=   0.4s\n",
      "[CV] END bootstrap=True, max_depth=2, min_samples_leaf=3, min_samples_split=5, n_estimators=268; total time=   0.4s\n",
      "[CV] END bootstrap=True, max_depth=2, min_samples_leaf=4, min_samples_split=2, n_estimators=20; total time=   0.0s\n",
      "[CV] END bootstrap=True, max_depth=2, min_samples_leaf=4, min_samples_split=2, n_estimators=51; total time=   0.1s\n",
      "[CV] END bootstrap=True, max_depth=2, min_samples_leaf=4, min_samples_split=2, n_estimators=82; total time=   0.1s\n",
      "[CV] END bootstrap=True, max_depth=2, min_samples_leaf=4, min_samples_split=2, n_estimators=144; total time=   0.2s\n",
      "[CV] END bootstrap=True, max_depth=2, min_samples_leaf=4, min_samples_split=2, n_estimators=206; total time=   0.3s\n",
      "[CV] END bootstrap=True, max_depth=2, min_samples_leaf=4, min_samples_split=2, n_estimators=268; total time=   0.4s\n",
      "[CV] END bootstrap=True, max_depth=2, min_samples_leaf=4, min_samples_split=5, n_estimators=20; total time=   0.0s\n",
      "[CV] END bootstrap=True, max_depth=2, min_samples_leaf=4, min_samples_split=5, n_estimators=20; total time=   0.0s\n",
      "[CV] END bootstrap=True, max_depth=2, min_samples_leaf=4, min_samples_split=5, n_estimators=51; total time=   0.1s\n",
      "[CV] END bootstrap=True, max_depth=2, min_samples_leaf=4, min_samples_split=5, n_estimators=82; total time=   0.1s\n",
      "[CV] END bootstrap=True, max_depth=2, min_samples_leaf=4, min_samples_split=5, n_estimators=144; total time=   0.2s\n",
      "[CV] END bootstrap=True, max_depth=2, min_samples_leaf=4, min_samples_split=5, n_estimators=206; total time=   0.4s\n",
      "[CV] END bootstrap=True, max_depth=2, min_samples_leaf=4, min_samples_split=5, n_estimators=268; total time=   0.5s\n",
      "[CV] END bootstrap=True, max_depth=4, min_samples_leaf=1, min_samples_split=2, n_estimators=20; total time=   0.0s\n",
      "[CV] END bootstrap=True, max_depth=4, min_samples_leaf=1, min_samples_split=2, n_estimators=20; total time=   0.0s\n",
      "[CV] END bootstrap=True, max_depth=4, min_samples_leaf=1, min_samples_split=2, n_estimators=51; total time=   0.1s\n",
      "[CV] END bootstrap=True, max_depth=4, min_samples_leaf=1, min_samples_split=2, n_estimators=82; total time=   0.1s\n",
      "[CV] END bootstrap=True, max_depth=4, min_samples_leaf=1, min_samples_split=2, n_estimators=113; total time=   0.2s\n",
      "[CV] END bootstrap=True, max_depth=4, min_samples_leaf=1, min_samples_split=2, n_estimators=175; total time=   0.3s\n",
      "[CV] END bootstrap=True, max_depth=4, min_samples_leaf=1, min_samples_split=2, n_estimators=237; total time=   0.4s\n",
      "[CV] END bootstrap=True, max_depth=4, min_samples_leaf=1, min_samples_split=2, n_estimators=300; total time=   0.5s\n",
      "[CV] END bootstrap=True, max_depth=4, min_samples_leaf=1, min_samples_split=5, n_estimators=144; total time=   0.2s\n",
      "[CV] END bootstrap=True, max_depth=4, min_samples_leaf=1, min_samples_split=5, n_estimators=206; total time=   0.3s\n",
      "[CV] END bootstrap=True, max_depth=4, min_samples_leaf=1, min_samples_split=5, n_estimators=268; total time=   0.5s\n",
      "[CV] END bootstrap=True, max_depth=4, min_samples_leaf=2, min_samples_split=2, n_estimators=51; total time=   0.1s\n",
      "[CV] END bootstrap=True, max_depth=4, min_samples_leaf=2, min_samples_split=2, n_estimators=82; total time=   0.2s\n",
      "[CV] END bootstrap=True, max_depth=4, min_samples_leaf=2, min_samples_split=2, n_estimators=113; total time=   0.2s\n",
      "[CV] END bootstrap=True, max_depth=4, min_samples_leaf=2, min_samples_split=2, n_estimators=175; total time=   0.3s\n",
      "[CV] END bootstrap=True, max_depth=4, min_samples_leaf=2, min_samples_split=2, n_estimators=237; total time=   0.4s\n",
      "[CV] END bootstrap=True, max_depth=4, min_samples_leaf=2, min_samples_split=2, n_estimators=300; total time=   0.5s\n",
      "[CV] END bootstrap=True, max_depth=4, min_samples_leaf=2, min_samples_split=5, n_estimators=144; total time=   0.3s\n",
      "[CV] END bootstrap=True, max_depth=4, min_samples_leaf=2, min_samples_split=5, n_estimators=206; total time=   0.4s\n",
      "[CV] END bootstrap=True, max_depth=4, min_samples_leaf=2, min_samples_split=5, n_estimators=268; total time=   0.5s\n",
      "[CV] END bootstrap=True, max_depth=4, min_samples_leaf=3, min_samples_split=2, n_estimators=20; total time=   0.0s\n",
      "[CV] END bootstrap=True, max_depth=4, min_samples_leaf=3, min_samples_split=2, n_estimators=51; total time=   0.1s\n",
      "[CV] END bootstrap=True, max_depth=4, min_samples_leaf=3, min_samples_split=2, n_estimators=82; total time=   0.2s\n",
      "[CV] END bootstrap=True, max_depth=4, min_samples_leaf=3, min_samples_split=2, n_estimators=113; total time=   0.2s\n",
      "[CV] END bootstrap=True, max_depth=4, min_samples_leaf=3, min_samples_split=2, n_estimators=175; total time=   0.3s\n",
      "[CV] END bootstrap=True, max_depth=4, min_samples_leaf=3, min_samples_split=2, n_estimators=237; total time=   0.4s\n",
      "[CV] END bootstrap=True, max_depth=4, min_samples_leaf=3, min_samples_split=2, n_estimators=300; total time=   0.5s\n",
      "[CV] END bootstrap=True, max_depth=4, min_samples_leaf=3, min_samples_split=5, n_estimators=144; total time=   0.3s\n",
      "[CV] END bootstrap=True, max_depth=4, min_samples_leaf=3, min_samples_split=5, n_estimators=206; total time=   0.4s\n",
      "[CV] END bootstrap=True, max_depth=4, min_samples_leaf=3, min_samples_split=5, n_estimators=268; total time=   0.5s\n",
      "[CV] END bootstrap=True, max_depth=4, min_samples_leaf=4, min_samples_split=2, n_estimators=20; total time=   0.0s\n",
      "[CV] END bootstrap=True, max_depth=4, min_samples_leaf=4, min_samples_split=2, n_estimators=51; total time=   0.1s\n",
      "[CV] END bootstrap=True, max_depth=4, min_samples_leaf=4, min_samples_split=2, n_estimators=82; total time=   0.2s\n",
      "[CV] END bootstrap=True, max_depth=4, min_samples_leaf=4, min_samples_split=2, n_estimators=144; total time=   0.3s\n",
      "[CV] END bootstrap=True, max_depth=4, min_samples_leaf=4, min_samples_split=2, n_estimators=206; total time=   0.4s\n",
      "[CV] END bootstrap=True, max_depth=4, min_samples_leaf=4, min_samples_split=2, n_estimators=268; total time=   0.5s\n",
      "[CV] END bootstrap=True, max_depth=4, min_samples_leaf=4, min_samples_split=5, n_estimators=20; total time=   0.0s\n",
      "[CV] END bootstrap=True, max_depth=4, min_samples_leaf=4, min_samples_split=5, n_estimators=51; total time=   0.1s\n",
      "[CV] END bootstrap=True, max_depth=4, min_samples_leaf=4, min_samples_split=5, n_estimators=82; total time=   0.2s\n",
      "[CV] END bootstrap=True, max_depth=4, min_samples_leaf=4, min_samples_split=5, n_estimators=113; total time=   0.2s\n",
      "[CV] END bootstrap=True, max_depth=4, min_samples_leaf=4, min_samples_split=5, n_estimators=175; total time=   0.3s\n",
      "[CV] END bootstrap=True, max_depth=4, min_samples_leaf=4, min_samples_split=5, n_estimators=237; total time=   0.4s\n",
      "[CV] END bootstrap=True, max_depth=4, min_samples_leaf=4, min_samples_split=5, n_estimators=300; total time=   0.6s\n",
      "[CV] END bootstrap=False, max_depth=2, min_samples_leaf=1, min_samples_split=2, n_estimators=144; total time=   0.2s\n",
      "[CV] END bootstrap=False, max_depth=2, min_samples_leaf=1, min_samples_split=2, n_estimators=206; total time=   0.3s\n",
      "[CV] END bootstrap=False, max_depth=2, min_samples_leaf=1, min_samples_split=2, n_estimators=268; total time=   0.4s\n",
      "[CV] END bootstrap=False, max_depth=2, min_samples_leaf=1, min_samples_split=5, n_estimators=51; total time=   0.1s\n",
      "[CV] END bootstrap=False, max_depth=2, min_samples_leaf=1, min_samples_split=5, n_estimators=82; total time=   0.1s\n",
      "[CV] END bootstrap=False, max_depth=2, min_samples_leaf=1, min_samples_split=5, n_estimators=144; total time=   0.2s\n",
      "[CV] END bootstrap=False, max_depth=2, min_samples_leaf=1, min_samples_split=5, n_estimators=206; total time=   0.3s\n",
      "[CV] END bootstrap=False, max_depth=2, min_samples_leaf=1, min_samples_split=5, n_estimators=268; total time=   0.4s\n",
      "[CV] END bootstrap=False, max_depth=2, min_samples_leaf=2, min_samples_split=2, n_estimators=20; total time=   0.0s\n",
      "[CV] END bootstrap=False, max_depth=2, min_samples_leaf=2, min_samples_split=2, n_estimators=51; total time=   0.1s\n",
      "[CV] END bootstrap=False, max_depth=2, min_samples_leaf=2, min_samples_split=2, n_estimators=82; total time=   0.1s\n",
      "[CV] END bootstrap=False, max_depth=2, min_samples_leaf=2, min_samples_split=2, n_estimators=144; total time=   0.2s\n",
      "[CV] END bootstrap=False, max_depth=2, min_samples_leaf=2, min_samples_split=2, n_estimators=206; total time=   0.3s\n",
      "[CV] END bootstrap=False, max_depth=2, min_samples_leaf=2, min_samples_split=2, n_estimators=268; total time=   0.4s\n",
      "[CV] END bootstrap=False, max_depth=2, min_samples_leaf=2, min_samples_split=5, n_estimators=20; total time=   0.0s\n",
      "[CV] END bootstrap=False, max_depth=2, min_samples_leaf=2, min_samples_split=5, n_estimators=51; total time=   0.1s\n",
      "[CV] END bootstrap=False, max_depth=2, min_samples_leaf=2, min_samples_split=5, n_estimators=82; total time=   0.1s\n",
      "[CV] END bootstrap=False, max_depth=2, min_samples_leaf=2, min_samples_split=5, n_estimators=113; total time=   0.2s\n",
      "[CV] END bootstrap=False, max_depth=2, min_samples_leaf=2, min_samples_split=5, n_estimators=175; total time=   0.3s\n",
      "[CV] END bootstrap=False, max_depth=2, min_samples_leaf=2, min_samples_split=5, n_estimators=237; total time=   0.4s\n",
      "[CV] END bootstrap=False, max_depth=2, min_samples_leaf=2, min_samples_split=5, n_estimators=300; total time=   0.5s\n",
      "[CV] END bootstrap=False, max_depth=2, min_samples_leaf=3, min_samples_split=2, n_estimators=144; total time=   0.2s\n",
      "[CV] END bootstrap=False, max_depth=2, min_samples_leaf=3, min_samples_split=2, n_estimators=206; total time=   0.3s\n",
      "[CV] END bootstrap=False, max_depth=2, min_samples_leaf=3, min_samples_split=2, n_estimators=268; total time=   0.4s\n",
      "[CV] END bootstrap=False, max_depth=2, min_samples_leaf=3, min_samples_split=5, n_estimators=20; total time=   0.0s\n",
      "[CV] END bootstrap=False, max_depth=2, min_samples_leaf=3, min_samples_split=5, n_estimators=51; total time=   0.1s\n",
      "[CV] END bootstrap=False, max_depth=2, min_samples_leaf=3, min_samples_split=5, n_estimators=82; total time=   0.1s\n",
      "[CV] END bootstrap=False, max_depth=2, min_samples_leaf=3, min_samples_split=5, n_estimators=144; total time=   0.2s\n",
      "[CV] END bootstrap=False, max_depth=2, min_samples_leaf=3, min_samples_split=5, n_estimators=206; total time=   0.3s\n",
      "[CV] END bootstrap=False, max_depth=2, min_samples_leaf=3, min_samples_split=5, n_estimators=268; total time=   0.4s\n",
      "[CV] END bootstrap=False, max_depth=2, min_samples_leaf=4, min_samples_split=2, n_estimators=51; total time=   0.1s\n",
      "[CV] END bootstrap=False, max_depth=2, min_samples_leaf=4, min_samples_split=2, n_estimators=82; total time=   0.1s\n",
      "[CV] END bootstrap=False, max_depth=2, min_samples_leaf=4, min_samples_split=2, n_estimators=113; total time=   0.2s\n",
      "[CV] END bootstrap=False, max_depth=2, min_samples_leaf=4, min_samples_split=2, n_estimators=175; total time=   0.4s\n",
      "[CV] END bootstrap=False, max_depth=2, min_samples_leaf=4, min_samples_split=2, n_estimators=268; total time=   0.4s\n",
      "[CV] END bootstrap=False, max_depth=2, min_samples_leaf=4, min_samples_split=5, n_estimators=20; total time=   0.0s\n",
      "[CV] END bootstrap=False, max_depth=2, min_samples_leaf=4, min_samples_split=5, n_estimators=51; total time=   0.1s\n",
      "[CV] END bootstrap=False, max_depth=2, min_samples_leaf=4, min_samples_split=5, n_estimators=82; total time=   0.1s\n",
      "[CV] END bootstrap=False, max_depth=2, min_samples_leaf=4, min_samples_split=5, n_estimators=113; total time=   0.2s\n",
      "[CV] END bootstrap=False, max_depth=2, min_samples_leaf=4, min_samples_split=5, n_estimators=175; total time=   0.3s\n",
      "[CV] END bootstrap=False, max_depth=2, min_samples_leaf=4, min_samples_split=5, n_estimators=237; total time=   0.4s\n",
      "[CV] END bootstrap=False, max_depth=2, min_samples_leaf=4, min_samples_split=5, n_estimators=300; total time=   0.5s\n",
      "[CV] END bootstrap=False, max_depth=4, min_samples_leaf=1, min_samples_split=2, n_estimators=144; total time=   0.3s\n",
      "[CV] END bootstrap=False, max_depth=4, min_samples_leaf=1, min_samples_split=2, n_estimators=206; total time=   0.3s\n",
      "[CV] END bootstrap=False, max_depth=4, min_samples_leaf=1, min_samples_split=2, n_estimators=268; total time=   0.4s\n",
      "[CV] END bootstrap=False, max_depth=4, min_samples_leaf=1, min_samples_split=5, n_estimators=20; total time=   0.0s\n",
      "[CV] END bootstrap=False, max_depth=4, min_samples_leaf=1, min_samples_split=5, n_estimators=51; total time=   0.1s\n",
      "[CV] END bootstrap=False, max_depth=4, min_samples_leaf=1, min_samples_split=5, n_estimators=82; total time=   0.1s\n",
      "[CV] END bootstrap=False, max_depth=4, min_samples_leaf=1, min_samples_split=5, n_estimators=113; total time=   0.2s\n",
      "[CV] END bootstrap=False, max_depth=4, min_samples_leaf=1, min_samples_split=5, n_estimators=175; total time=   0.3s\n",
      "[CV] END bootstrap=False, max_depth=4, min_samples_leaf=1, min_samples_split=5, n_estimators=237; total time=   0.4s\n",
      "[CV] END bootstrap=False, max_depth=4, min_samples_leaf=1, min_samples_split=5, n_estimators=300; total time=   0.5s\n",
      "[CV] END bootstrap=False, max_depth=4, min_samples_leaf=2, min_samples_split=2, n_estimators=144; total time=   0.2s\n",
      "[CV] END bootstrap=False, max_depth=4, min_samples_leaf=2, min_samples_split=2, n_estimators=206; total time=   0.4s\n",
      "[CV] END bootstrap=False, max_depth=4, min_samples_leaf=2, min_samples_split=2, n_estimators=268; total time=   0.4s\n",
      "[CV] END bootstrap=False, max_depth=4, min_samples_leaf=2, min_samples_split=5, n_estimators=20; total time=   0.0s\n",
      "[CV] END bootstrap=False, max_depth=4, min_samples_leaf=2, min_samples_split=5, n_estimators=51; total time=   0.1s\n",
      "[CV] END bootstrap=True, max_depth=2, min_samples_leaf=1, min_samples_split=2, n_estimators=51; total time=   0.1s\n",
      "[CV] END bootstrap=True, max_depth=2, min_samples_leaf=1, min_samples_split=2, n_estimators=113; total time=   0.2s\n",
      "[CV] END bootstrap=True, max_depth=2, min_samples_leaf=1, min_samples_split=2, n_estimators=175; total time=   0.3s\n",
      "[CV] END bootstrap=True, max_depth=2, min_samples_leaf=1, min_samples_split=2, n_estimators=237; total time=   0.4s\n",
      "[CV] END bootstrap=True, max_depth=2, min_samples_leaf=1, min_samples_split=2, n_estimators=300; total time=   0.5s\n",
      "[CV] END bootstrap=True, max_depth=2, min_samples_leaf=1, min_samples_split=5, n_estimators=113; total time=   0.2s\n",
      "[CV] END bootstrap=True, max_depth=2, min_samples_leaf=1, min_samples_split=5, n_estimators=175; total time=   0.3s\n",
      "[CV] END bootstrap=True, max_depth=2, min_samples_leaf=1, min_samples_split=5, n_estimators=237; total time=   0.4s\n",
      "[CV] END bootstrap=True, max_depth=2, min_samples_leaf=1, min_samples_split=5, n_estimators=300; total time=   0.5s\n",
      "[CV] END bootstrap=True, max_depth=2, min_samples_leaf=2, min_samples_split=2, n_estimators=144; total time=   0.2s\n",
      "[CV] END bootstrap=True, max_depth=2, min_samples_leaf=2, min_samples_split=2, n_estimators=206; total time=   0.3s\n",
      "[CV] END bootstrap=True, max_depth=2, min_samples_leaf=2, min_samples_split=2, n_estimators=268; total time=   0.4s\n",
      "[CV] END bootstrap=True, max_depth=2, min_samples_leaf=2, min_samples_split=5, n_estimators=20; total time=   0.0s\n",
      "[CV] END bootstrap=True, max_depth=2, min_samples_leaf=2, min_samples_split=5, n_estimators=20; total time=   0.0s\n",
      "[CV] END bootstrap=True, max_depth=2, min_samples_leaf=2, min_samples_split=5, n_estimators=51; total time=   0.1s\n",
      "[CV] END bootstrap=True, max_depth=2, min_samples_leaf=2, min_samples_split=5, n_estimators=82; total time=   0.1s\n",
      "[CV] END bootstrap=True, max_depth=2, min_samples_leaf=2, min_samples_split=5, n_estimators=113; total time=   0.2s\n",
      "[CV] END bootstrap=True, max_depth=2, min_samples_leaf=2, min_samples_split=5, n_estimators=175; total time=   0.3s\n",
      "[CV] END bootstrap=True, max_depth=2, min_samples_leaf=2, min_samples_split=5, n_estimators=237; total time=   0.4s\n",
      "[CV] END bootstrap=True, max_depth=2, min_samples_leaf=2, min_samples_split=5, n_estimators=300; total time=   0.5s\n",
      "[CV] END bootstrap=True, max_depth=2, min_samples_leaf=3, min_samples_split=2, n_estimators=144; total time=   0.2s\n",
      "[CV] END bootstrap=True, max_depth=2, min_samples_leaf=3, min_samples_split=2, n_estimators=206; total time=   0.3s\n",
      "[CV] END bootstrap=True, max_depth=2, min_samples_leaf=3, min_samples_split=2, n_estimators=268; total time=   0.5s\n",
      "[CV] END bootstrap=True, max_depth=2, min_samples_leaf=3, min_samples_split=5, n_estimators=20; total time=   0.0s\n",
      "[CV] END bootstrap=True, max_depth=2, min_samples_leaf=3, min_samples_split=5, n_estimators=51; total time=   0.1s\n",
      "[CV] END bootstrap=True, max_depth=2, min_samples_leaf=3, min_samples_split=5, n_estimators=82; total time=   0.1s\n",
      "[CV] END bootstrap=True, max_depth=2, min_samples_leaf=3, min_samples_split=5, n_estimators=113; total time=   0.2s\n",
      "[CV] END bootstrap=True, max_depth=2, min_samples_leaf=3, min_samples_split=5, n_estimators=175; total time=   0.3s\n",
      "[CV] END bootstrap=True, max_depth=2, min_samples_leaf=3, min_samples_split=5, n_estimators=237; total time=   0.4s\n",
      "[CV] END bootstrap=True, max_depth=2, min_samples_leaf=3, min_samples_split=5, n_estimators=300; total time=   0.5s\n",
      "[CV] END bootstrap=True, max_depth=2, min_samples_leaf=4, min_samples_split=2, n_estimators=144; total time=   0.2s\n",
      "[CV] END bootstrap=True, max_depth=2, min_samples_leaf=4, min_samples_split=2, n_estimators=206; total time=   0.3s\n",
      "[CV] END bootstrap=True, max_depth=2, min_samples_leaf=4, min_samples_split=2, n_estimators=268; total time=   0.4s\n",
      "[CV] END bootstrap=True, max_depth=2, min_samples_leaf=4, min_samples_split=5, n_estimators=20; total time=   0.0s\n",
      "[CV] END bootstrap=True, max_depth=2, min_samples_leaf=4, min_samples_split=5, n_estimators=51; total time=   0.1s\n",
      "[CV] END bootstrap=True, max_depth=2, min_samples_leaf=4, min_samples_split=5, n_estimators=82; total time=   0.1s\n",
      "[CV] END bootstrap=True, max_depth=2, min_samples_leaf=4, min_samples_split=5, n_estimators=113; total time=   0.2s\n",
      "[CV] END bootstrap=True, max_depth=2, min_samples_leaf=4, min_samples_split=5, n_estimators=175; total time=   0.3s\n",
      "[CV] END bootstrap=True, max_depth=2, min_samples_leaf=4, min_samples_split=5, n_estimators=237; total time=   0.5s\n",
      "[CV] END bootstrap=True, max_depth=2, min_samples_leaf=4, min_samples_split=5, n_estimators=300; total time=   0.6s\n",
      "[CV] END bootstrap=True, max_depth=4, min_samples_leaf=1, min_samples_split=2, n_estimators=144; total time=   0.2s\n",
      "[CV] END bootstrap=True, max_depth=4, min_samples_leaf=1, min_samples_split=2, n_estimators=206; total time=   0.4s\n",
      "[CV] END bootstrap=True, max_depth=4, min_samples_leaf=1, min_samples_split=2, n_estimators=268; total time=   0.4s\n",
      "[CV] END bootstrap=True, max_depth=4, min_samples_leaf=1, min_samples_split=5, n_estimators=20; total time=   0.0s\n",
      "[CV] END bootstrap=True, max_depth=4, min_samples_leaf=1, min_samples_split=5, n_estimators=51; total time=   0.1s\n",
      "[CV] END bootstrap=True, max_depth=4, min_samples_leaf=1, min_samples_split=5, n_estimators=82; total time=   0.1s\n",
      "[CV] END bootstrap=True, max_depth=4, min_samples_leaf=1, min_samples_split=5, n_estimators=113; total time=   0.2s\n",
      "[CV] END bootstrap=True, max_depth=4, min_samples_leaf=1, min_samples_split=5, n_estimators=175; total time=   0.3s\n",
      "[CV] END bootstrap=True, max_depth=4, min_samples_leaf=1, min_samples_split=5, n_estimators=237; total time=   0.4s\n",
      "[CV] END bootstrap=True, max_depth=4, min_samples_leaf=1, min_samples_split=5, n_estimators=300; total time=   0.5s\n",
      "[CV] END bootstrap=True, max_depth=4, min_samples_leaf=2, min_samples_split=2, n_estimators=144; total time=   0.2s\n",
      "[CV] END bootstrap=True, max_depth=4, min_samples_leaf=2, min_samples_split=2, n_estimators=206; total time=   0.3s\n",
      "[CV] END bootstrap=True, max_depth=4, min_samples_leaf=2, min_samples_split=2, n_estimators=268; total time=   0.4s\n",
      "[CV] END bootstrap=True, max_depth=4, min_samples_leaf=2, min_samples_split=5, n_estimators=20; total time=   0.0s\n",
      "[CV] END bootstrap=True, max_depth=4, min_samples_leaf=2, min_samples_split=5, n_estimators=20; total time=   0.0s\n",
      "[CV] END bootstrap=True, max_depth=4, min_samples_leaf=2, min_samples_split=5, n_estimators=51; total time=   0.1s\n",
      "[CV] END bootstrap=True, max_depth=4, min_samples_leaf=2, min_samples_split=5, n_estimators=82; total time=   0.1s\n",
      "[CV] END bootstrap=True, max_depth=4, min_samples_leaf=2, min_samples_split=5, n_estimators=113; total time=   0.2s\n",
      "[CV] END bootstrap=True, max_depth=4, min_samples_leaf=2, min_samples_split=5, n_estimators=175; total time=   0.3s\n",
      "[CV] END bootstrap=True, max_depth=4, min_samples_leaf=2, min_samples_split=5, n_estimators=237; total time=   0.5s\n",
      "[CV] END bootstrap=True, max_depth=4, min_samples_leaf=2, min_samples_split=5, n_estimators=300; total time=   0.6s\n",
      "[CV] END bootstrap=True, max_depth=4, min_samples_leaf=3, min_samples_split=2, n_estimators=144; total time=   0.3s\n",
      "[CV] END bootstrap=True, max_depth=4, min_samples_leaf=3, min_samples_split=2, n_estimators=206; total time=   0.4s\n",
      "[CV] END bootstrap=True, max_depth=4, min_samples_leaf=3, min_samples_split=2, n_estimators=268; total time=   0.5s\n",
      "[CV] END bootstrap=True, max_depth=4, min_samples_leaf=3, min_samples_split=5, n_estimators=20; total time=   0.0s\n",
      "[CV] END bootstrap=True, max_depth=4, min_samples_leaf=3, min_samples_split=5, n_estimators=51; total time=   0.1s\n",
      "[CV] END bootstrap=True, max_depth=4, min_samples_leaf=3, min_samples_split=5, n_estimators=82; total time=   0.1s\n",
      "[CV] END bootstrap=True, max_depth=4, min_samples_leaf=3, min_samples_split=5, n_estimators=113; total time=   0.2s\n",
      "[CV] END bootstrap=True, max_depth=4, min_samples_leaf=3, min_samples_split=5, n_estimators=175; total time=   0.3s\n",
      "[CV] END bootstrap=True, max_depth=4, min_samples_leaf=3, min_samples_split=5, n_estimators=237; total time=   0.4s\n",
      "[CV] END bootstrap=True, max_depth=4, min_samples_leaf=3, min_samples_split=5, n_estimators=300; total time=   0.5s\n",
      "[CV] END bootstrap=True, max_depth=4, min_samples_leaf=4, min_samples_split=2, n_estimators=144; total time=   0.3s\n",
      "[CV] END bootstrap=True, max_depth=4, min_samples_leaf=4, min_samples_split=2, n_estimators=206; total time=   0.4s\n",
      "[CV] END bootstrap=True, max_depth=4, min_samples_leaf=4, min_samples_split=2, n_estimators=268; total time=   0.5s\n",
      "[CV] END bootstrap=True, max_depth=4, min_samples_leaf=4, min_samples_split=5, n_estimators=20; total time=   0.0s\n",
      "[CV] END bootstrap=True, max_depth=4, min_samples_leaf=4, min_samples_split=5, n_estimators=51; total time=   0.1s\n",
      "[CV] END bootstrap=True, max_depth=4, min_samples_leaf=4, min_samples_split=5, n_estimators=82; total time=   0.2s\n",
      "[CV] END bootstrap=True, max_depth=4, min_samples_leaf=4, min_samples_split=5, n_estimators=113; total time=   0.2s\n",
      "[CV] END bootstrap=True, max_depth=4, min_samples_leaf=4, min_samples_split=5, n_estimators=175; total time=   0.3s\n",
      "[CV] END bootstrap=True, max_depth=4, min_samples_leaf=4, min_samples_split=5, n_estimators=237; total time=   0.4s\n",
      "[CV] END bootstrap=True, max_depth=4, min_samples_leaf=4, min_samples_split=5, n_estimators=300; total time=   0.6s\n",
      "[CV] END bootstrap=False, max_depth=2, min_samples_leaf=1, min_samples_split=2, n_estimators=144; total time=   0.2s\n",
      "[CV] END bootstrap=False, max_depth=2, min_samples_leaf=1, min_samples_split=2, n_estimators=206; total time=   0.3s\n",
      "[CV] END bootstrap=False, max_depth=2, min_samples_leaf=1, min_samples_split=2, n_estimators=268; total time=   0.4s\n",
      "[CV] END bootstrap=False, max_depth=2, min_samples_leaf=1, min_samples_split=5, n_estimators=51; total time=   0.1s\n",
      "[CV] END bootstrap=False, max_depth=2, min_samples_leaf=1, min_samples_split=5, n_estimators=82; total time=   0.1s\n",
      "[CV] END bootstrap=False, max_depth=2, min_samples_leaf=1, min_samples_split=5, n_estimators=144; total time=   0.2s\n",
      "[CV] END bootstrap=False, max_depth=2, min_samples_leaf=1, min_samples_split=5, n_estimators=206; total time=   0.3s\n",
      "[CV] END bootstrap=False, max_depth=2, min_samples_leaf=1, min_samples_split=5, n_estimators=268; total time=   0.4s\n",
      "[CV] END bootstrap=False, max_depth=2, min_samples_leaf=2, min_samples_split=2, n_estimators=51; total time=   0.1s\n",
      "[CV] END bootstrap=False, max_depth=2, min_samples_leaf=2, min_samples_split=2, n_estimators=82; total time=   0.1s\n",
      "[CV] END bootstrap=False, max_depth=2, min_samples_leaf=2, min_samples_split=2, n_estimators=113; total time=   0.2s\n",
      "[CV] END bootstrap=False, max_depth=2, min_samples_leaf=2, min_samples_split=2, n_estimators=175; total time=   0.3s\n",
      "[CV] END bootstrap=False, max_depth=2, min_samples_leaf=2, min_samples_split=2, n_estimators=237; total time=   0.3s\n",
      "[CV] END bootstrap=False, max_depth=2, min_samples_leaf=2, min_samples_split=2, n_estimators=300; total time=   0.5s\n",
      "[CV] END bootstrap=False, max_depth=2, min_samples_leaf=2, min_samples_split=5, n_estimators=144; total time=   0.3s\n",
      "[CV] END bootstrap=False, max_depth=2, min_samples_leaf=2, min_samples_split=5, n_estimators=206; total time=   0.4s\n",
      "[CV] END bootstrap=False, max_depth=2, min_samples_leaf=2, min_samples_split=5, n_estimators=268; total time=   0.4s\n",
      "[CV] END bootstrap=False, max_depth=2, min_samples_leaf=3, min_samples_split=2, n_estimators=20; total time=   0.0s\n",
      "[CV] END bootstrap=False, max_depth=2, min_samples_leaf=3, min_samples_split=2, n_estimators=51; total time=   0.1s\n",
      "[CV] END bootstrap=False, max_depth=2, min_samples_leaf=3, min_samples_split=2, n_estimators=82; total time=   0.1s\n",
      "[CV] END bootstrap=False, max_depth=2, min_samples_leaf=3, min_samples_split=2, n_estimators=113; total time=   0.2s\n",
      "[CV] END bootstrap=False, max_depth=2, min_samples_leaf=3, min_samples_split=2, n_estimators=175; total time=   0.3s\n",
      "[CV] END bootstrap=False, max_depth=2, min_samples_leaf=3, min_samples_split=2, n_estimators=237; total time=   0.4s\n",
      "[CV] END bootstrap=False, max_depth=2, min_samples_leaf=3, min_samples_split=2, n_estimators=300; total time=   0.5s\n",
      "[CV] END bootstrap=False, max_depth=2, min_samples_leaf=3, min_samples_split=5, n_estimators=144; total time=   0.2s\n",
      "[CV] END bootstrap=False, max_depth=2, min_samples_leaf=3, min_samples_split=5, n_estimators=206; total time=   0.3s\n",
      "[CV] END bootstrap=False, max_depth=2, min_samples_leaf=3, min_samples_split=5, n_estimators=268; total time=   0.4s\n",
      "[CV] END bootstrap=False, max_depth=2, min_samples_leaf=4, min_samples_split=2, n_estimators=20; total time=   0.0s\n",
      "[CV] END bootstrap=False, max_depth=2, min_samples_leaf=4, min_samples_split=2, n_estimators=20; total time=   0.0s\n",
      "[CV] END bootstrap=False, max_depth=2, min_samples_leaf=4, min_samples_split=2, n_estimators=51; total time=   0.1s\n",
      "[CV] END bootstrap=False, max_depth=2, min_samples_leaf=4, min_samples_split=2, n_estimators=82; total time=   0.1s\n",
      "[CV] END bootstrap=False, max_depth=2, min_samples_leaf=4, min_samples_split=2, n_estimators=113; total time=   0.2s\n",
      "[CV] END bootstrap=False, max_depth=2, min_samples_leaf=4, min_samples_split=2, n_estimators=175; total time=   0.3s\n",
      "[CV] END bootstrap=False, max_depth=2, min_samples_leaf=4, min_samples_split=2, n_estimators=237; total time=   0.4s\n",
      "[CV] END bootstrap=False, max_depth=2, min_samples_leaf=4, min_samples_split=2, n_estimators=300; total time=   0.5s\n",
      "[CV] END bootstrap=False, max_depth=2, min_samples_leaf=4, min_samples_split=5, n_estimators=144; total time=   0.2s\n",
      "[CV] END bootstrap=False, max_depth=2, min_samples_leaf=4, min_samples_split=5, n_estimators=206; total time=   0.3s\n",
      "[CV] END bootstrap=False, max_depth=2, min_samples_leaf=4, min_samples_split=5, n_estimators=268; total time=   0.4s\n",
      "[CV] END bootstrap=False, max_depth=4, min_samples_leaf=1, min_samples_split=2, n_estimators=20; total time=   0.0s\n",
      "[CV] END bootstrap=False, max_depth=4, min_samples_leaf=1, min_samples_split=2, n_estimators=51; total time=   0.1s\n",
      "[CV] END bootstrap=False, max_depth=4, min_samples_leaf=1, min_samples_split=2, n_estimators=82; total time=   0.1s\n",
      "[CV] END bootstrap=False, max_depth=4, min_samples_leaf=1, min_samples_split=2, n_estimators=113; total time=   0.2s\n",
      "[CV] END bootstrap=False, max_depth=4, min_samples_leaf=1, min_samples_split=2, n_estimators=175; total time=   0.3s\n",
      "[CV] END bootstrap=False, max_depth=4, min_samples_leaf=1, min_samples_split=2, n_estimators=237; total time=   0.4s\n",
      "[CV] END bootstrap=False, max_depth=4, min_samples_leaf=1, min_samples_split=2, n_estimators=300; total time=   0.5s\n",
      "[CV] END bootstrap=False, max_depth=4, min_samples_leaf=1, min_samples_split=5, n_estimators=144; total time=   0.2s\n",
      "[CV] END bootstrap=False, max_depth=4, min_samples_leaf=1, min_samples_split=5, n_estimators=206; total time=   0.4s\n",
      "[CV] END bootstrap=False, max_depth=4, min_samples_leaf=1, min_samples_split=5, n_estimators=268; total time=   0.5s\n",
      "[CV] END bootstrap=False, max_depth=4, min_samples_leaf=2, min_samples_split=2, n_estimators=20; total time=   0.0s\n",
      "[CV] END bootstrap=False, max_depth=4, min_samples_leaf=2, min_samples_split=2, n_estimators=51; total time=   0.1s\n",
      "[CV] END bootstrap=False, max_depth=4, min_samples_leaf=2, min_samples_split=2, n_estimators=82; total time=   0.1s\n",
      "[CV] END bootstrap=False, max_depth=4, min_samples_leaf=2, min_samples_split=2, n_estimators=144; total time=   0.2s\n",
      "[CV] END bootstrap=False, max_depth=4, min_samples_leaf=2, min_samples_split=2, n_estimators=206; total time=   0.3s\n",
      "[CV] END bootstrap=False, max_depth=4, min_samples_leaf=2, min_samples_split=2, n_estimators=268; total time=   0.4s\n",
      "[CV] END bootstrap=False, max_depth=4, min_samples_leaf=2, min_samples_split=5, n_estimators=20; total time=   0.0s\n",
      "[CV] END bootstrap=False, max_depth=4, min_samples_leaf=2, min_samples_split=5, n_estimators=51; total time=   0.1s\n",
      "[CV] END bootstrap=False, max_depth=4, min_samples_leaf=2, min_samples_split=5, n_estimators=82; total time=   0.1s\n",
      "[CV] END bootstrap=False, max_depth=4, min_samples_leaf=2, min_samples_split=5, n_estimators=113; total time=   0.2s\n",
      "[CV] END bootstrap=False, max_depth=4, min_samples_leaf=2, min_samples_split=5, n_estimators=175; total time=   0.3s\n"
     ]
    },
    {
     "name": "stdout",
     "output_type": "stream",
     "text": [
      "[CV] END bootstrap=True, max_depth=2, min_samples_leaf=1, min_samples_split=2, n_estimators=20; total time=   0.1s\n",
      "[CV] END bootstrap=True, max_depth=2, min_samples_leaf=1, min_samples_split=2, n_estimators=82; total time=   0.1s\n",
      "[CV] END bootstrap=True, max_depth=2, min_samples_leaf=1, min_samples_split=2, n_estimators=144; total time=   0.3s\n",
      "[CV] END bootstrap=True, max_depth=2, min_samples_leaf=1, min_samples_split=2, n_estimators=206; total time=   0.4s\n",
      "[CV] END bootstrap=True, max_depth=2, min_samples_leaf=1, min_samples_split=2, n_estimators=268; total time=   0.5s\n",
      "[CV] END bootstrap=True, max_depth=2, min_samples_leaf=1, min_samples_split=5, n_estimators=51; total time=   0.1s\n",
      "[CV] END bootstrap=True, max_depth=2, min_samples_leaf=1, min_samples_split=5, n_estimators=82; total time=   0.1s\n",
      "[CV] END bootstrap=True, max_depth=2, min_samples_leaf=1, min_samples_split=5, n_estimators=113; total time=   0.2s\n",
      "[CV] END bootstrap=True, max_depth=2, min_samples_leaf=1, min_samples_split=5, n_estimators=175; total time=   0.3s\n",
      "[CV] END bootstrap=True, max_depth=2, min_samples_leaf=1, min_samples_split=5, n_estimators=237; total time=   0.4s\n",
      "[CV] END bootstrap=True, max_depth=2, min_samples_leaf=1, min_samples_split=5, n_estimators=300; total time=   0.5s\n",
      "[CV] END bootstrap=True, max_depth=2, min_samples_leaf=2, min_samples_split=2, n_estimators=144; total time=   0.3s\n",
      "[CV] END bootstrap=True, max_depth=2, min_samples_leaf=2, min_samples_split=2, n_estimators=206; total time=   0.4s\n",
      "[CV] END bootstrap=True, max_depth=2, min_samples_leaf=2, min_samples_split=2, n_estimators=268; total time=   0.4s\n",
      "[CV] END bootstrap=True, max_depth=2, min_samples_leaf=2, min_samples_split=5, n_estimators=20; total time=   0.0s\n",
      "[CV] END bootstrap=True, max_depth=2, min_samples_leaf=2, min_samples_split=5, n_estimators=51; total time=   0.1s\n",
      "[CV] END bootstrap=True, max_depth=2, min_samples_leaf=2, min_samples_split=5, n_estimators=82; total time=   0.1s\n",
      "[CV] END bootstrap=True, max_depth=2, min_samples_leaf=2, min_samples_split=5, n_estimators=113; total time=   0.2s\n",
      "[CV] END bootstrap=True, max_depth=2, min_samples_leaf=2, min_samples_split=5, n_estimators=175; total time=   0.3s\n",
      "[CV] END bootstrap=True, max_depth=2, min_samples_leaf=2, min_samples_split=5, n_estimators=237; total time=   0.4s\n",
      "[CV] END bootstrap=True, max_depth=2, min_samples_leaf=2, min_samples_split=5, n_estimators=300; total time=   0.5s\n",
      "[CV] END bootstrap=True, max_depth=2, min_samples_leaf=3, min_samples_split=2, n_estimators=144; total time=   0.2s\n",
      "[CV] END bootstrap=True, max_depth=2, min_samples_leaf=3, min_samples_split=2, n_estimators=206; total time=   0.3s\n",
      "[CV] END bootstrap=True, max_depth=2, min_samples_leaf=3, min_samples_split=2, n_estimators=268; total time=   0.5s\n",
      "[CV] END bootstrap=True, max_depth=2, min_samples_leaf=3, min_samples_split=5, n_estimators=20; total time=   0.0s\n",
      "[CV] END bootstrap=True, max_depth=2, min_samples_leaf=3, min_samples_split=5, n_estimators=51; total time=   0.1s\n",
      "[CV] END bootstrap=True, max_depth=2, min_samples_leaf=3, min_samples_split=5, n_estimators=82; total time=   0.1s\n",
      "[CV] END bootstrap=True, max_depth=2, min_samples_leaf=3, min_samples_split=5, n_estimators=113; total time=   0.2s\n",
      "[CV] END bootstrap=True, max_depth=2, min_samples_leaf=3, min_samples_split=5, n_estimators=175; total time=   0.3s\n",
      "[CV] END bootstrap=True, max_depth=2, min_samples_leaf=3, min_samples_split=5, n_estimators=237; total time=   0.4s\n",
      "[CV] END bootstrap=True, max_depth=2, min_samples_leaf=3, min_samples_split=5, n_estimators=300; total time=   0.5s\n",
      "[CV] END bootstrap=True, max_depth=2, min_samples_leaf=4, min_samples_split=2, n_estimators=144; total time=   0.2s\n",
      "[CV] END bootstrap=True, max_depth=2, min_samples_leaf=4, min_samples_split=2, n_estimators=206; total time=   0.3s\n",
      "[CV] END bootstrap=True, max_depth=2, min_samples_leaf=4, min_samples_split=2, n_estimators=268; total time=   0.4s\n",
      "[CV] END bootstrap=True, max_depth=2, min_samples_leaf=4, min_samples_split=5, n_estimators=51; total time=   0.1s\n",
      "[CV] END bootstrap=True, max_depth=2, min_samples_leaf=4, min_samples_split=5, n_estimators=82; total time=   0.1s\n",
      "[CV] END bootstrap=True, max_depth=2, min_samples_leaf=4, min_samples_split=5, n_estimators=113; total time=   0.2s\n",
      "[CV] END bootstrap=True, max_depth=2, min_samples_leaf=4, min_samples_split=5, n_estimators=175; total time=   0.3s\n",
      "[CV] END bootstrap=True, max_depth=2, min_samples_leaf=4, min_samples_split=5, n_estimators=237; total time=   0.4s\n",
      "[CV] END bootstrap=True, max_depth=2, min_samples_leaf=4, min_samples_split=5, n_estimators=300; total time=   0.6s\n",
      "[CV] END bootstrap=True, max_depth=4, min_samples_leaf=1, min_samples_split=2, n_estimators=113; total time=   0.2s\n",
      "[CV] END bootstrap=True, max_depth=4, min_samples_leaf=1, min_samples_split=2, n_estimators=175; total time=   0.3s\n",
      "[CV] END bootstrap=True, max_depth=4, min_samples_leaf=1, min_samples_split=2, n_estimators=237; total time=   0.4s\n",
      "[CV] END bootstrap=True, max_depth=4, min_samples_leaf=1, min_samples_split=2, n_estimators=300; total time=   0.5s\n",
      "[CV] END bootstrap=True, max_depth=4, min_samples_leaf=1, min_samples_split=5, n_estimators=144; total time=   0.2s\n",
      "[CV] END bootstrap=True, max_depth=4, min_samples_leaf=1, min_samples_split=5, n_estimators=206; total time=   0.3s\n",
      "[CV] END bootstrap=True, max_depth=4, min_samples_leaf=1, min_samples_split=5, n_estimators=268; total time=   0.5s\n",
      "[CV] END bootstrap=True, max_depth=4, min_samples_leaf=2, min_samples_split=2, n_estimators=20; total time=   0.0s\n",
      "[CV] END bootstrap=True, max_depth=4, min_samples_leaf=2, min_samples_split=2, n_estimators=51; total time=   0.1s\n",
      "[CV] END bootstrap=True, max_depth=4, min_samples_leaf=2, min_samples_split=2, n_estimators=82; total time=   0.1s\n",
      "[CV] END bootstrap=True, max_depth=4, min_samples_leaf=2, min_samples_split=2, n_estimators=144; total time=   0.2s\n",
      "[CV] END bootstrap=True, max_depth=4, min_samples_leaf=2, min_samples_split=2, n_estimators=206; total time=   0.4s\n",
      "[CV] END bootstrap=True, max_depth=4, min_samples_leaf=2, min_samples_split=2, n_estimators=268; total time=   0.5s\n",
      "[CV] END bootstrap=True, max_depth=4, min_samples_leaf=2, min_samples_split=5, n_estimators=20; total time=   0.0s\n",
      "[CV] END bootstrap=True, max_depth=4, min_samples_leaf=2, min_samples_split=5, n_estimators=51; total time=   0.1s\n",
      "[CV] END bootstrap=True, max_depth=4, min_samples_leaf=2, min_samples_split=5, n_estimators=82; total time=   0.1s\n",
      "[CV] END bootstrap=True, max_depth=4, min_samples_leaf=2, min_samples_split=5, n_estimators=113; total time=   0.2s\n",
      "[CV] END bootstrap=True, max_depth=4, min_samples_leaf=2, min_samples_split=5, n_estimators=175; total time=   0.3s\n",
      "[CV] END bootstrap=True, max_depth=4, min_samples_leaf=2, min_samples_split=5, n_estimators=237; total time=   0.5s\n",
      "[CV] END bootstrap=True, max_depth=4, min_samples_leaf=2, min_samples_split=5, n_estimators=300; total time=   0.6s\n",
      "[CV] END bootstrap=True, max_depth=4, min_samples_leaf=3, min_samples_split=2, n_estimators=144; total time=   0.3s\n",
      "[CV] END bootstrap=True, max_depth=4, min_samples_leaf=3, min_samples_split=2, n_estimators=206; total time=   0.3s\n",
      "[CV] END bootstrap=True, max_depth=4, min_samples_leaf=3, min_samples_split=2, n_estimators=268; total time=   0.5s\n",
      "[CV] END bootstrap=True, max_depth=4, min_samples_leaf=3, min_samples_split=5, n_estimators=20; total time=   0.0s\n",
      "[CV] END bootstrap=True, max_depth=4, min_samples_leaf=3, min_samples_split=5, n_estimators=51; total time=   0.1s\n",
      "[CV] END bootstrap=True, max_depth=4, min_samples_leaf=3, min_samples_split=5, n_estimators=82; total time=   0.1s\n",
      "[CV] END bootstrap=True, max_depth=4, min_samples_leaf=3, min_samples_split=5, n_estimators=144; total time=   0.3s\n",
      "[CV] END bootstrap=True, max_depth=4, min_samples_leaf=3, min_samples_split=5, n_estimators=206; total time=   0.4s\n",
      "[CV] END bootstrap=True, max_depth=4, min_samples_leaf=3, min_samples_split=5, n_estimators=268; total time=   0.5s\n",
      "[CV] END bootstrap=True, max_depth=4, min_samples_leaf=4, min_samples_split=2, n_estimators=20; total time=   0.0s\n",
      "[CV] END bootstrap=True, max_depth=4, min_samples_leaf=4, min_samples_split=2, n_estimators=51; total time=   0.1s\n",
      "[CV] END bootstrap=True, max_depth=4, min_samples_leaf=4, min_samples_split=2, n_estimators=82; total time=   0.1s\n",
      "[CV] END bootstrap=True, max_depth=4, min_samples_leaf=4, min_samples_split=2, n_estimators=113; total time=   0.2s\n",
      "[CV] END bootstrap=True, max_depth=4, min_samples_leaf=4, min_samples_split=2, n_estimators=175; total time=   0.3s\n",
      "[CV] END bootstrap=True, max_depth=4, min_samples_leaf=4, min_samples_split=2, n_estimators=237; total time=   0.4s\n",
      "[CV] END bootstrap=True, max_depth=4, min_samples_leaf=4, min_samples_split=2, n_estimators=300; total time=   0.6s\n",
      "[CV] END bootstrap=True, max_depth=4, min_samples_leaf=4, min_samples_split=5, n_estimators=144; total time=   0.3s\n",
      "[CV] END bootstrap=True, max_depth=4, min_samples_leaf=4, min_samples_split=5, n_estimators=206; total time=   0.4s\n",
      "[CV] END bootstrap=True, max_depth=4, min_samples_leaf=4, min_samples_split=5, n_estimators=268; total time=   0.5s\n",
      "[CV] END bootstrap=False, max_depth=2, min_samples_leaf=1, min_samples_split=2, n_estimators=20; total time=   0.0s\n",
      "[CV] END bootstrap=False, max_depth=2, min_samples_leaf=1, min_samples_split=2, n_estimators=20; total time=   0.0s\n",
      "[CV] END bootstrap=False, max_depth=2, min_samples_leaf=1, min_samples_split=2, n_estimators=51; total time=   0.1s\n",
      "[CV] END bootstrap=False, max_depth=2, min_samples_leaf=1, min_samples_split=2, n_estimators=82; total time=   0.1s\n",
      "[CV] END bootstrap=False, max_depth=2, min_samples_leaf=1, min_samples_split=2, n_estimators=113; total time=   0.2s\n",
      "[CV] END bootstrap=False, max_depth=2, min_samples_leaf=1, min_samples_split=2, n_estimators=175; total time=   0.2s\n",
      "[CV] END bootstrap=False, max_depth=2, min_samples_leaf=1, min_samples_split=2, n_estimators=237; total time=   0.4s\n",
      "[CV] END bootstrap=False, max_depth=2, min_samples_leaf=1, min_samples_split=2, n_estimators=300; total time=   0.5s\n",
      "[CV] END bootstrap=False, max_depth=2, min_samples_leaf=1, min_samples_split=5, n_estimators=144; total time=   0.2s\n",
      "[CV] END bootstrap=False, max_depth=2, min_samples_leaf=1, min_samples_split=5, n_estimators=206; total time=   0.3s\n",
      "[CV] END bootstrap=False, max_depth=2, min_samples_leaf=1, min_samples_split=5, n_estimators=268; total time=   0.4s\n",
      "[CV] END bootstrap=False, max_depth=2, min_samples_leaf=2, min_samples_split=2, n_estimators=20; total time=   0.0s\n",
      "[CV] END bootstrap=False, max_depth=2, min_samples_leaf=2, min_samples_split=2, n_estimators=20; total time=   0.0s\n",
      "[CV] END bootstrap=False, max_depth=2, min_samples_leaf=2, min_samples_split=2, n_estimators=51; total time=   0.1s\n",
      "[CV] END bootstrap=False, max_depth=2, min_samples_leaf=2, min_samples_split=2, n_estimators=82; total time=   0.1s\n",
      "[CV] END bootstrap=False, max_depth=2, min_samples_leaf=2, min_samples_split=2, n_estimators=144; total time=   0.2s\n",
      "[CV] END bootstrap=False, max_depth=2, min_samples_leaf=2, min_samples_split=2, n_estimators=206; total time=   0.3s\n",
      "[CV] END bootstrap=False, max_depth=2, min_samples_leaf=2, min_samples_split=2, n_estimators=268; total time=   0.4s\n",
      "[CV] END bootstrap=False, max_depth=2, min_samples_leaf=2, min_samples_split=5, n_estimators=20; total time=   0.0s\n",
      "[CV] END bootstrap=False, max_depth=2, min_samples_leaf=2, min_samples_split=5, n_estimators=20; total time=   0.0s\n",
      "[CV] END bootstrap=False, max_depth=2, min_samples_leaf=2, min_samples_split=5, n_estimators=51; total time=   0.1s\n",
      "[CV] END bootstrap=False, max_depth=2, min_samples_leaf=2, min_samples_split=5, n_estimators=82; total time=   0.1s\n",
      "[CV] END bootstrap=False, max_depth=2, min_samples_leaf=2, min_samples_split=5, n_estimators=113; total time=   0.2s\n",
      "[CV] END bootstrap=False, max_depth=2, min_samples_leaf=2, min_samples_split=5, n_estimators=175; total time=   0.3s\n",
      "[CV] END bootstrap=False, max_depth=2, min_samples_leaf=2, min_samples_split=5, n_estimators=237; total time=   0.4s\n",
      "[CV] END bootstrap=False, max_depth=2, min_samples_leaf=2, min_samples_split=5, n_estimators=300; total time=   0.5s\n",
      "[CV] END bootstrap=False, max_depth=2, min_samples_leaf=3, min_samples_split=2, n_estimators=144; total time=   0.2s\n",
      "[CV] END bootstrap=False, max_depth=2, min_samples_leaf=3, min_samples_split=2, n_estimators=206; total time=   0.3s\n",
      "[CV] END bootstrap=False, max_depth=2, min_samples_leaf=3, min_samples_split=2, n_estimators=268; total time=   0.4s\n",
      "[CV] END bootstrap=False, max_depth=2, min_samples_leaf=3, min_samples_split=5, n_estimators=20; total time=   0.0s\n",
      "[CV] END bootstrap=False, max_depth=2, min_samples_leaf=3, min_samples_split=5, n_estimators=51; total time=   0.1s\n",
      "[CV] END bootstrap=False, max_depth=2, min_samples_leaf=3, min_samples_split=5, n_estimators=82; total time=   0.1s\n",
      "[CV] END bootstrap=False, max_depth=2, min_samples_leaf=3, min_samples_split=5, n_estimators=113; total time=   0.2s\n",
      "[CV] END bootstrap=False, max_depth=2, min_samples_leaf=3, min_samples_split=5, n_estimators=175; total time=   0.3s\n",
      "[CV] END bootstrap=False, max_depth=2, min_samples_leaf=3, min_samples_split=5, n_estimators=237; total time=   0.4s\n",
      "[CV] END bootstrap=False, max_depth=2, min_samples_leaf=3, min_samples_split=5, n_estimators=300; total time=   0.4s\n",
      "[CV] END bootstrap=False, max_depth=2, min_samples_leaf=4, min_samples_split=2, n_estimators=113; total time=   0.2s\n",
      "[CV] END bootstrap=False, max_depth=2, min_samples_leaf=4, min_samples_split=2, n_estimators=175; total time=   0.3s\n",
      "[CV] END bootstrap=False, max_depth=2, min_samples_leaf=4, min_samples_split=2, n_estimators=237; total time=   0.4s\n",
      "[CV] END bootstrap=False, max_depth=2, min_samples_leaf=4, min_samples_split=2, n_estimators=300; total time=   0.5s\n",
      "[CV] END bootstrap=False, max_depth=2, min_samples_leaf=4, min_samples_split=5, n_estimators=144; total time=   0.2s\n",
      "[CV] END bootstrap=False, max_depth=2, min_samples_leaf=4, min_samples_split=5, n_estimators=206; total time=   0.3s\n",
      "[CV] END bootstrap=False, max_depth=2, min_samples_leaf=4, min_samples_split=5, n_estimators=268; total time=   0.4s\n",
      "[CV] END bootstrap=False, max_depth=4, min_samples_leaf=1, min_samples_split=2, n_estimators=20; total time=   0.0s\n",
      "[CV] END bootstrap=False, max_depth=4, min_samples_leaf=1, min_samples_split=2, n_estimators=51; total time=   0.1s\n",
      "[CV] END bootstrap=False, max_depth=4, min_samples_leaf=1, min_samples_split=2, n_estimators=82; total time=   0.1s\n",
      "[CV] END bootstrap=False, max_depth=4, min_samples_leaf=1, min_samples_split=2, n_estimators=113; total time=   0.2s\n",
      "[CV] END bootstrap=False, max_depth=4, min_samples_leaf=1, min_samples_split=2, n_estimators=175; total time=   0.3s\n",
      "[CV] END bootstrap=False, max_depth=4, min_samples_leaf=1, min_samples_split=2, n_estimators=237; total time=   0.4s\n",
      "[CV] END bootstrap=False, max_depth=4, min_samples_leaf=1, min_samples_split=2, n_estimators=300; total time=   0.5s\n",
      "[CV] END bootstrap=False, max_depth=4, min_samples_leaf=1, min_samples_split=5, n_estimators=144; total time=   0.2s\n",
      "[CV] END bootstrap=False, max_depth=4, min_samples_leaf=1, min_samples_split=5, n_estimators=206; total time=   0.3s\n",
      "[CV] END bootstrap=False, max_depth=4, min_samples_leaf=1, min_samples_split=5, n_estimators=268; total time=   0.4s\n",
      "[CV] END bootstrap=False, max_depth=4, min_samples_leaf=2, min_samples_split=2, n_estimators=20; total time=   0.0s\n",
      "[CV] END bootstrap=False, max_depth=4, min_samples_leaf=2, min_samples_split=2, n_estimators=51; total time=   0.1s\n",
      "[CV] END bootstrap=False, max_depth=4, min_samples_leaf=2, min_samples_split=2, n_estimators=82; total time=   0.1s\n",
      "[CV] END bootstrap=False, max_depth=4, min_samples_leaf=2, min_samples_split=2, n_estimators=113; total time=   0.2s\n",
      "[CV] END bootstrap=False, max_depth=4, min_samples_leaf=2, min_samples_split=2, n_estimators=175; total time=   0.3s\n",
      "[CV] END bootstrap=False, max_depth=4, min_samples_leaf=2, min_samples_split=2, n_estimators=237; total time=   0.4s\n",
      "[CV] END bootstrap=False, max_depth=4, min_samples_leaf=2, min_samples_split=2, n_estimators=300; total time=   0.5s\n",
      "[CV] END bootstrap=False, max_depth=4, min_samples_leaf=2, min_samples_split=5, n_estimators=144; total time=   0.2s\n"
     ]
    },
    {
     "name": "stdout",
     "output_type": "stream",
     "text": [
      "[CV] END bootstrap=True, max_depth=2, min_samples_leaf=1, min_samples_split=2, n_estimators=20; total time=   0.0s\n",
      "[CV] END bootstrap=True, max_depth=2, min_samples_leaf=1, min_samples_split=2, n_estimators=82; total time=   0.1s\n",
      "[CV] END bootstrap=True, max_depth=2, min_samples_leaf=1, min_samples_split=2, n_estimators=113; total time=   0.2s\n",
      "[CV] END bootstrap=True, max_depth=2, min_samples_leaf=1, min_samples_split=2, n_estimators=175; total time=   0.3s\n",
      "[CV] END bootstrap=True, max_depth=2, min_samples_leaf=1, min_samples_split=2, n_estimators=237; total time=   0.4s\n",
      "[CV] END bootstrap=True, max_depth=2, min_samples_leaf=1, min_samples_split=2, n_estimators=300; total time=   0.5s\n",
      "[CV] END bootstrap=True, max_depth=2, min_samples_leaf=1, min_samples_split=5, n_estimators=144; total time=   0.2s\n",
      "[CV] END bootstrap=True, max_depth=2, min_samples_leaf=1, min_samples_split=5, n_estimators=206; total time=   0.3s\n",
      "[CV] END bootstrap=True, max_depth=2, min_samples_leaf=1, min_samples_split=5, n_estimators=268; total time=   0.4s\n",
      "[CV] END bootstrap=True, max_depth=2, min_samples_leaf=2, min_samples_split=2, n_estimators=20; total time=   0.0s\n",
      "[CV] END bootstrap=True, max_depth=2, min_samples_leaf=2, min_samples_split=2, n_estimators=51; total time=   0.1s\n",
      "[CV] END bootstrap=True, max_depth=2, min_samples_leaf=2, min_samples_split=2, n_estimators=82; total time=   0.1s\n",
      "[CV] END bootstrap=True, max_depth=2, min_samples_leaf=2, min_samples_split=2, n_estimators=113; total time=   0.2s\n",
      "[CV] END bootstrap=True, max_depth=2, min_samples_leaf=2, min_samples_split=2, n_estimators=175; total time=   0.3s\n",
      "[CV] END bootstrap=True, max_depth=2, min_samples_leaf=2, min_samples_split=2, n_estimators=237; total time=   0.4s\n",
      "[CV] END bootstrap=True, max_depth=2, min_samples_leaf=2, min_samples_split=2, n_estimators=300; total time=   0.5s\n",
      "[CV] END bootstrap=True, max_depth=2, min_samples_leaf=2, min_samples_split=5, n_estimators=144; total time=   0.3s\n",
      "[CV] END bootstrap=True, max_depth=2, min_samples_leaf=2, min_samples_split=5, n_estimators=206; total time=   0.4s\n",
      "[CV] END bootstrap=True, max_depth=2, min_samples_leaf=2, min_samples_split=5, n_estimators=268; total time=   0.4s\n",
      "[CV] END bootstrap=True, max_depth=2, min_samples_leaf=3, min_samples_split=2, n_estimators=51; total time=   0.1s\n",
      "[CV] END bootstrap=True, max_depth=2, min_samples_leaf=3, min_samples_split=2, n_estimators=82; total time=   0.1s\n",
      "[CV] END bootstrap=True, max_depth=2, min_samples_leaf=3, min_samples_split=2, n_estimators=113; total time=   0.2s\n",
      "[CV] END bootstrap=True, max_depth=2, min_samples_leaf=3, min_samples_split=2, n_estimators=175; total time=   0.3s\n",
      "[CV] END bootstrap=True, max_depth=2, min_samples_leaf=3, min_samples_split=2, n_estimators=237; total time=   0.4s\n",
      "[CV] END bootstrap=True, max_depth=2, min_samples_leaf=3, min_samples_split=2, n_estimators=300; total time=   0.5s\n",
      "[CV] END bootstrap=True, max_depth=2, min_samples_leaf=3, min_samples_split=5, n_estimators=144; total time=   0.2s\n",
      "[CV] END bootstrap=True, max_depth=2, min_samples_leaf=3, min_samples_split=5, n_estimators=206; total time=   0.3s\n",
      "[CV] END bootstrap=True, max_depth=2, min_samples_leaf=3, min_samples_split=5, n_estimators=268; total time=   0.4s\n",
      "[CV] END bootstrap=True, max_depth=2, min_samples_leaf=4, min_samples_split=2, n_estimators=20; total time=   0.0s\n",
      "[CV] END bootstrap=True, max_depth=2, min_samples_leaf=4, min_samples_split=2, n_estimators=51; total time=   0.1s\n",
      "[CV] END bootstrap=True, max_depth=2, min_samples_leaf=4, min_samples_split=2, n_estimators=82; total time=   0.1s\n",
      "[CV] END bootstrap=True, max_depth=2, min_samples_leaf=4, min_samples_split=2, n_estimators=113; total time=   0.2s\n",
      "[CV] END bootstrap=True, max_depth=2, min_samples_leaf=4, min_samples_split=2, n_estimators=175; total time=   0.3s\n",
      "[CV] END bootstrap=True, max_depth=2, min_samples_leaf=4, min_samples_split=2, n_estimators=237; total time=   0.4s\n",
      "[CV] END bootstrap=True, max_depth=2, min_samples_leaf=4, min_samples_split=2, n_estimators=300; total time=   0.5s\n",
      "[CV] END bootstrap=True, max_depth=2, min_samples_leaf=4, min_samples_split=5, n_estimators=144; total time=   0.2s\n",
      "[CV] END bootstrap=True, max_depth=2, min_samples_leaf=4, min_samples_split=5, n_estimators=206; total time=   0.4s\n",
      "[CV] END bootstrap=True, max_depth=2, min_samples_leaf=4, min_samples_split=5, n_estimators=268; total time=   0.5s\n",
      "[CV] END bootstrap=True, max_depth=4, min_samples_leaf=1, min_samples_split=2, n_estimators=20; total time=   0.0s\n",
      "[CV] END bootstrap=True, max_depth=4, min_samples_leaf=1, min_samples_split=2, n_estimators=51; total time=   0.1s\n",
      "[CV] END bootstrap=True, max_depth=4, min_samples_leaf=1, min_samples_split=2, n_estimators=82; total time=   0.2s\n",
      "[CV] END bootstrap=True, max_depth=4, min_samples_leaf=1, min_samples_split=2, n_estimators=144; total time=   0.2s\n",
      "[CV] END bootstrap=True, max_depth=4, min_samples_leaf=1, min_samples_split=2, n_estimators=206; total time=   0.4s\n",
      "[CV] END bootstrap=True, max_depth=4, min_samples_leaf=1, min_samples_split=2, n_estimators=268; total time=   0.5s\n",
      "[CV] END bootstrap=True, max_depth=4, min_samples_leaf=1, min_samples_split=5, n_estimators=51; total time=   0.1s\n",
      "[CV] END bootstrap=True, max_depth=4, min_samples_leaf=1, min_samples_split=5, n_estimators=82; total time=   0.1s\n",
      "[CV] END bootstrap=True, max_depth=4, min_samples_leaf=1, min_samples_split=5, n_estimators=113; total time=   0.2s\n",
      "[CV] END bootstrap=True, max_depth=4, min_samples_leaf=1, min_samples_split=5, n_estimators=175; total time=   0.3s\n",
      "[CV] END bootstrap=True, max_depth=4, min_samples_leaf=1, min_samples_split=5, n_estimators=237; total time=   0.4s\n",
      "[CV] END bootstrap=True, max_depth=4, min_samples_leaf=1, min_samples_split=5, n_estimators=300; total time=   0.6s\n",
      "[CV] END bootstrap=True, max_depth=4, min_samples_leaf=2, min_samples_split=2, n_estimators=144; total time=   0.3s\n",
      "[CV] END bootstrap=True, max_depth=4, min_samples_leaf=2, min_samples_split=2, n_estimators=206; total time=   0.4s\n",
      "[CV] END bootstrap=True, max_depth=4, min_samples_leaf=2, min_samples_split=2, n_estimators=268; total time=   0.5s\n",
      "[CV] END bootstrap=True, max_depth=4, min_samples_leaf=2, min_samples_split=5, n_estimators=51; total time=   0.1s\n",
      "[CV] END bootstrap=True, max_depth=4, min_samples_leaf=2, min_samples_split=5, n_estimators=82; total time=   0.1s\n",
      "[CV] END bootstrap=True, max_depth=4, min_samples_leaf=2, min_samples_split=5, n_estimators=144; total time=   0.3s\n",
      "[CV] END bootstrap=True, max_depth=4, min_samples_leaf=2, min_samples_split=5, n_estimators=206; total time=   0.4s\n",
      "[CV] END bootstrap=True, max_depth=4, min_samples_leaf=2, min_samples_split=5, n_estimators=268; total time=   0.5s\n",
      "[CV] END bootstrap=True, max_depth=4, min_samples_leaf=3, min_samples_split=2, n_estimators=20; total time=   0.0s\n",
      "[CV] END bootstrap=True, max_depth=4, min_samples_leaf=3, min_samples_split=2, n_estimators=51; total time=   0.1s\n",
      "[CV] END bootstrap=True, max_depth=4, min_samples_leaf=3, min_samples_split=2, n_estimators=82; total time=   0.2s\n",
      "[CV] END bootstrap=True, max_depth=4, min_samples_leaf=3, min_samples_split=2, n_estimators=113; total time=   0.2s\n",
      "[CV] END bootstrap=True, max_depth=4, min_samples_leaf=3, min_samples_split=2, n_estimators=175; total time=   0.3s\n",
      "[CV] END bootstrap=True, max_depth=4, min_samples_leaf=3, min_samples_split=2, n_estimators=237; total time=   0.4s\n",
      "[CV] END bootstrap=True, max_depth=4, min_samples_leaf=3, min_samples_split=2, n_estimators=300; total time=   0.5s\n",
      "[CV] END bootstrap=True, max_depth=4, min_samples_leaf=3, min_samples_split=5, n_estimators=113; total time=   0.2s\n",
      "[CV] END bootstrap=True, max_depth=4, min_samples_leaf=3, min_samples_split=5, n_estimators=175; total time=   0.3s\n",
      "[CV] END bootstrap=True, max_depth=4, min_samples_leaf=3, min_samples_split=5, n_estimators=237; total time=   0.4s\n",
      "[CV] END bootstrap=True, max_depth=4, min_samples_leaf=3, min_samples_split=5, n_estimators=300; total time=   0.5s\n",
      "[CV] END bootstrap=True, max_depth=4, min_samples_leaf=4, min_samples_split=2, n_estimators=144; total time=   0.3s\n",
      "[CV] END bootstrap=True, max_depth=4, min_samples_leaf=4, min_samples_split=2, n_estimators=206; total time=   0.4s\n",
      "[CV] END bootstrap=True, max_depth=4, min_samples_leaf=4, min_samples_split=2, n_estimators=268; total time=   0.5s\n",
      "[CV] END bootstrap=True, max_depth=4, min_samples_leaf=4, min_samples_split=5, n_estimators=20; total time=   0.0s\n",
      "[CV] END bootstrap=True, max_depth=4, min_samples_leaf=4, min_samples_split=5, n_estimators=51; total time=   0.1s\n",
      "[CV] END bootstrap=True, max_depth=4, min_samples_leaf=4, min_samples_split=5, n_estimators=82; total time=   0.2s\n",
      "[CV] END bootstrap=True, max_depth=4, min_samples_leaf=4, min_samples_split=5, n_estimators=144; total time=   0.3s\n",
      "[CV] END bootstrap=True, max_depth=4, min_samples_leaf=4, min_samples_split=5, n_estimators=206; total time=   0.4s\n",
      "[CV] END bootstrap=True, max_depth=4, min_samples_leaf=4, min_samples_split=5, n_estimators=268; total time=   0.5s\n",
      "[CV] END bootstrap=False, max_depth=2, min_samples_leaf=1, min_samples_split=2, n_estimators=20; total time=   0.0s\n",
      "[CV] END bootstrap=False, max_depth=2, min_samples_leaf=1, min_samples_split=2, n_estimators=51; total time=   0.1s\n",
      "[CV] END bootstrap=False, max_depth=2, min_samples_leaf=1, min_samples_split=2, n_estimators=82; total time=   0.1s\n",
      "[CV] END bootstrap=False, max_depth=2, min_samples_leaf=1, min_samples_split=2, n_estimators=113; total time=   0.2s\n",
      "[CV] END bootstrap=False, max_depth=2, min_samples_leaf=1, min_samples_split=2, n_estimators=175; total time=   0.2s\n",
      "[CV] END bootstrap=False, max_depth=2, min_samples_leaf=1, min_samples_split=2, n_estimators=237; total time=   0.4s\n",
      "[CV] END bootstrap=False, max_depth=2, min_samples_leaf=1, min_samples_split=2, n_estimators=300; total time=   0.4s\n",
      "[CV] END bootstrap=False, max_depth=2, min_samples_leaf=1, min_samples_split=5, n_estimators=113; total time=   0.2s\n",
      "[CV] END bootstrap=False, max_depth=2, min_samples_leaf=1, min_samples_split=5, n_estimators=175; total time=   0.3s\n",
      "[CV] END bootstrap=False, max_depth=2, min_samples_leaf=1, min_samples_split=5, n_estimators=237; total time=   0.4s\n",
      "[CV] END bootstrap=False, max_depth=2, min_samples_leaf=1, min_samples_split=5, n_estimators=300; total time=   0.5s\n",
      "[CV] END bootstrap=False, max_depth=2, min_samples_leaf=2, min_samples_split=2, n_estimators=144; total time=   0.2s\n",
      "[CV] END bootstrap=False, max_depth=2, min_samples_leaf=2, min_samples_split=2, n_estimators=206; total time=   0.3s\n",
      "[CV] END bootstrap=False, max_depth=2, min_samples_leaf=2, min_samples_split=2, n_estimators=268; total time=   0.4s\n",
      "[CV] END bootstrap=False, max_depth=2, min_samples_leaf=2, min_samples_split=5, n_estimators=51; total time=   0.1s\n",
      "[CV] END bootstrap=False, max_depth=2, min_samples_leaf=2, min_samples_split=5, n_estimators=82; total time=   0.1s\n",
      "[CV] END bootstrap=False, max_depth=2, min_samples_leaf=2, min_samples_split=5, n_estimators=144; total time=   0.3s\n",
      "[CV] END bootstrap=False, max_depth=2, min_samples_leaf=2, min_samples_split=5, n_estimators=206; total time=   0.4s\n",
      "[CV] END bootstrap=False, max_depth=2, min_samples_leaf=2, min_samples_split=5, n_estimators=268; total time=   0.5s\n",
      "[CV] END bootstrap=False, max_depth=2, min_samples_leaf=3, min_samples_split=2, n_estimators=51; total time=   0.1s\n",
      "[CV] END bootstrap=False, max_depth=2, min_samples_leaf=3, min_samples_split=2, n_estimators=82; total time=   0.1s\n",
      "[CV] END bootstrap=False, max_depth=2, min_samples_leaf=3, min_samples_split=2, n_estimators=113; total time=   0.2s\n",
      "[CV] END bootstrap=False, max_depth=2, min_samples_leaf=3, min_samples_split=2, n_estimators=175; total time=   0.3s\n",
      "[CV] END bootstrap=False, max_depth=2, min_samples_leaf=3, min_samples_split=2, n_estimators=237; total time=   0.4s\n",
      "[CV] END bootstrap=False, max_depth=2, min_samples_leaf=3, min_samples_split=2, n_estimators=300; total time=   0.5s\n",
      "[CV] END bootstrap=False, max_depth=2, min_samples_leaf=3, min_samples_split=5, n_estimators=113; total time=   0.2s\n",
      "[CV] END bootstrap=False, max_depth=2, min_samples_leaf=3, min_samples_split=5, n_estimators=175; total time=   0.3s\n",
      "[CV] END bootstrap=False, max_depth=2, min_samples_leaf=3, min_samples_split=5, n_estimators=237; total time=   0.4s\n",
      "[CV] END bootstrap=False, max_depth=2, min_samples_leaf=3, min_samples_split=5, n_estimators=300; total time=   0.5s\n",
      "[CV] END bootstrap=False, max_depth=2, min_samples_leaf=4, min_samples_split=2, n_estimators=144; total time=   0.2s\n",
      "[CV] END bootstrap=False, max_depth=2, min_samples_leaf=4, min_samples_split=2, n_estimators=206; total time=   0.3s\n",
      "[CV] END bootstrap=False, max_depth=2, min_samples_leaf=4, min_samples_split=2, n_estimators=268; total time=   0.4s\n",
      "[CV] END bootstrap=False, max_depth=2, min_samples_leaf=4, min_samples_split=5, n_estimators=51; total time=   0.1s\n",
      "[CV] END bootstrap=False, max_depth=2, min_samples_leaf=4, min_samples_split=5, n_estimators=82; total time=   0.1s\n",
      "[CV] END bootstrap=False, max_depth=2, min_samples_leaf=4, min_samples_split=5, n_estimators=113; total time=   0.2s\n",
      "[CV] END bootstrap=False, max_depth=2, min_samples_leaf=4, min_samples_split=5, n_estimators=175; total time=   0.3s\n",
      "[CV] END bootstrap=False, max_depth=2, min_samples_leaf=4, min_samples_split=5, n_estimators=237; total time=   0.4s\n",
      "[CV] END bootstrap=False, max_depth=2, min_samples_leaf=4, min_samples_split=5, n_estimators=300; total time=   0.5s\n",
      "[CV] END bootstrap=False, max_depth=4, min_samples_leaf=1, min_samples_split=2, n_estimators=113; total time=   0.2s\n",
      "[CV] END bootstrap=False, max_depth=4, min_samples_leaf=1, min_samples_split=2, n_estimators=175; total time=   0.3s\n",
      "[CV] END bootstrap=False, max_depth=4, min_samples_leaf=1, min_samples_split=2, n_estimators=237; total time=   0.4s\n",
      "[CV] END bootstrap=False, max_depth=4, min_samples_leaf=1, min_samples_split=2, n_estimators=300; total time=   0.5s\n",
      "[CV] END bootstrap=False, max_depth=4, min_samples_leaf=1, min_samples_split=5, n_estimators=144; total time=   0.2s\n",
      "[CV] END bootstrap=False, max_depth=4, min_samples_leaf=1, min_samples_split=5, n_estimators=206; total time=   0.3s\n",
      "[CV] END bootstrap=False, max_depth=4, min_samples_leaf=1, min_samples_split=5, n_estimators=268; total time=   0.4s\n",
      "[CV] END bootstrap=False, max_depth=4, min_samples_leaf=2, min_samples_split=2, n_estimators=20; total time=   0.0s\n",
      "[CV] END bootstrap=False, max_depth=4, min_samples_leaf=2, min_samples_split=2, n_estimators=51; total time=   0.1s\n",
      "[CV] END bootstrap=False, max_depth=4, min_samples_leaf=2, min_samples_split=2, n_estimators=82; total time=   0.2s\n",
      "[CV] END bootstrap=False, max_depth=4, min_samples_leaf=2, min_samples_split=2, n_estimators=113; total time=   0.2s\n",
      "[CV] END bootstrap=False, max_depth=4, min_samples_leaf=2, min_samples_split=2, n_estimators=175; total time=   0.3s\n",
      "[CV] END bootstrap=False, max_depth=4, min_samples_leaf=2, min_samples_split=2, n_estimators=237; total time=   0.4s\n",
      "[CV] END bootstrap=False, max_depth=4, min_samples_leaf=2, min_samples_split=2, n_estimators=300; total time=   0.5s\n",
      "[CV] END bootstrap=False, max_depth=4, min_samples_leaf=2, min_samples_split=5, n_estimators=144; total time=   0.2s\n",
      "[CV] END bootstrap=False, max_depth=4, min_samples_leaf=2, min_samples_split=5, n_estimators=206; total time=   0.3s\n",
      "[CV] END bootstrap=False, max_depth=4, min_samples_leaf=2, min_samples_split=5, n_estimators=268; total time=   0.4s\n",
      "[CV] END bootstrap=False, max_depth=4, min_samples_leaf=3, min_samples_split=2, n_estimators=20; total time=   0.0s\n",
      "[CV] END bootstrap=False, max_depth=4, min_samples_leaf=3, min_samples_split=2, n_estimators=51; total time=   0.1s\n",
      "[CV] END bootstrap=False, max_depth=4, min_samples_leaf=3, min_samples_split=2, n_estimators=82; total time=   0.1s\n",
      "[CV] END bootstrap=False, max_depth=4, min_samples_leaf=3, min_samples_split=2, n_estimators=113; total time=   0.2s\n",
      "[CV] END bootstrap=False, max_depth=4, min_samples_leaf=3, min_samples_split=2, n_estimators=175; total time=   0.3s\n",
      "[CV] END bootstrap=False, max_depth=4, min_samples_leaf=3, min_samples_split=2, n_estimators=237; total time=   0.4s\n",
      "[CV] END bootstrap=False, max_depth=4, min_samples_leaf=3, min_samples_split=2, n_estimators=300; total time=   0.5s\n",
      "[CV] END bootstrap=True, max_depth=2, min_samples_leaf=1, min_samples_split=2, n_estimators=20; total time=   0.0s\n",
      "[CV] END bootstrap=True, max_depth=2, min_samples_leaf=1, min_samples_split=2, n_estimators=82; total time=   0.1s\n",
      "[CV] END bootstrap=True, max_depth=2, min_samples_leaf=1, min_samples_split=2, n_estimators=144; total time=   0.2s\n",
      "[CV] END bootstrap=True, max_depth=2, min_samples_leaf=1, min_samples_split=2, n_estimators=206; total time=   0.4s\n",
      "[CV] END bootstrap=True, max_depth=2, min_samples_leaf=1, min_samples_split=2, n_estimators=268; total time=   0.5s\n",
      "[CV] END bootstrap=True, max_depth=2, min_samples_leaf=1, min_samples_split=5, n_estimators=20; total time=   0.0s\n",
      "[CV] END bootstrap=True, max_depth=2, min_samples_leaf=1, min_samples_split=5, n_estimators=20; total time=   0.0s\n",
      "[CV] END bootstrap=True, max_depth=2, min_samples_leaf=1, min_samples_split=5, n_estimators=51; total time=   0.1s\n",
      "[CV] END bootstrap=True, max_depth=2, min_samples_leaf=1, min_samples_split=5, n_estimators=82; total time=   0.1s\n",
      "[CV] END bootstrap=True, max_depth=2, min_samples_leaf=1, min_samples_split=5, n_estimators=144; total time=   0.2s\n",
      "[CV] END bootstrap=True, max_depth=2, min_samples_leaf=1, min_samples_split=5, n_estimators=206; total time=   0.3s\n",
      "[CV] END bootstrap=True, max_depth=2, min_samples_leaf=1, min_samples_split=5, n_estimators=268; total time=   0.4s\n",
      "[CV] END bootstrap=True, max_depth=2, min_samples_leaf=2, min_samples_split=2, n_estimators=20; total time=   0.0s\n",
      "[CV] END bootstrap=True, max_depth=2, min_samples_leaf=2, min_samples_split=2, n_estimators=20; total time=   0.0s\n",
      "[CV] END bootstrap=True, max_depth=2, min_samples_leaf=2, min_samples_split=2, n_estimators=51; total time=   0.1s\n",
      "[CV] END bootstrap=True, max_depth=2, min_samples_leaf=2, min_samples_split=2, n_estimators=82; total time=   0.1s\n",
      "[CV] END bootstrap=True, max_depth=2, min_samples_leaf=2, min_samples_split=2, n_estimators=113; total time=   0.2s\n",
      "[CV] END bootstrap=True, max_depth=2, min_samples_leaf=2, min_samples_split=2, n_estimators=175; total time=   0.3s\n",
      "[CV] END bootstrap=True, max_depth=2, min_samples_leaf=2, min_samples_split=2, n_estimators=237; total time=   0.4s\n",
      "[CV] END bootstrap=True, max_depth=2, min_samples_leaf=2, min_samples_split=2, n_estimators=300; total time=   0.5s\n",
      "[CV] END bootstrap=True, max_depth=2, min_samples_leaf=2, min_samples_split=5, n_estimators=144; total time=   0.2s\n",
      "[CV] END bootstrap=True, max_depth=2, min_samples_leaf=2, min_samples_split=5, n_estimators=206; total time=   0.3s\n",
      "[CV] END bootstrap=True, max_depth=2, min_samples_leaf=2, min_samples_split=5, n_estimators=268; total time=   0.4s\n",
      "[CV] END bootstrap=True, max_depth=2, min_samples_leaf=3, min_samples_split=2, n_estimators=20; total time=   0.0s\n",
      "[CV] END bootstrap=True, max_depth=2, min_samples_leaf=3, min_samples_split=2, n_estimators=20; total time=   0.0s\n",
      "[CV] END bootstrap=True, max_depth=2, min_samples_leaf=3, min_samples_split=2, n_estimators=51; total time=   0.1s\n",
      "[CV] END bootstrap=True, max_depth=2, min_samples_leaf=3, min_samples_split=2, n_estimators=82; total time=   0.1s\n",
      "[CV] END bootstrap=True, max_depth=2, min_samples_leaf=3, min_samples_split=2, n_estimators=113; total time=   0.2s\n",
      "[CV] END bootstrap=True, max_depth=2, min_samples_leaf=3, min_samples_split=2, n_estimators=175; total time=   0.3s\n",
      "[CV] END bootstrap=True, max_depth=2, min_samples_leaf=3, min_samples_split=2, n_estimators=237; total time=   0.4s\n",
      "[CV] END bootstrap=True, max_depth=2, min_samples_leaf=3, min_samples_split=2, n_estimators=300; total time=   0.5s\n",
      "[CV] END bootstrap=True, max_depth=2, min_samples_leaf=3, min_samples_split=5, n_estimators=113; total time=   0.2s\n",
      "[CV] END bootstrap=True, max_depth=2, min_samples_leaf=3, min_samples_split=5, n_estimators=175; total time=   0.3s\n",
      "[CV] END bootstrap=True, max_depth=2, min_samples_leaf=3, min_samples_split=5, n_estimators=237; total time=   0.4s\n",
      "[CV] END bootstrap=True, max_depth=2, min_samples_leaf=3, min_samples_split=5, n_estimators=300; total time=   0.5s\n",
      "[CV] END bootstrap=True, max_depth=2, min_samples_leaf=4, min_samples_split=2, n_estimators=113; total time=   0.2s\n",
      "[CV] END bootstrap=True, max_depth=2, min_samples_leaf=4, min_samples_split=2, n_estimators=175; total time=   0.3s\n",
      "[CV] END bootstrap=True, max_depth=2, min_samples_leaf=4, min_samples_split=2, n_estimators=237; total time=   0.4s\n",
      "[CV] END bootstrap=True, max_depth=2, min_samples_leaf=4, min_samples_split=2, n_estimators=300; total time=   0.5s\n",
      "[CV] END bootstrap=True, max_depth=2, min_samples_leaf=4, min_samples_split=5, n_estimators=113; total time=   0.2s\n",
      "[CV] END bootstrap=True, max_depth=2, min_samples_leaf=4, min_samples_split=5, n_estimators=175; total time=   0.3s\n",
      "[CV] END bootstrap=True, max_depth=2, min_samples_leaf=4, min_samples_split=5, n_estimators=237; total time=   0.5s\n",
      "[CV] END bootstrap=True, max_depth=2, min_samples_leaf=4, min_samples_split=5, n_estimators=300; total time=   0.6s\n",
      "[CV] END bootstrap=True, max_depth=4, min_samples_leaf=1, min_samples_split=2, n_estimators=144; total time=   0.2s\n",
      "[CV] END bootstrap=True, max_depth=4, min_samples_leaf=1, min_samples_split=2, n_estimators=206; total time=   0.3s\n",
      "[CV] END bootstrap=True, max_depth=4, min_samples_leaf=1, min_samples_split=2, n_estimators=268; total time=   0.4s\n",
      "[CV] END bootstrap=True, max_depth=4, min_samples_leaf=1, min_samples_split=5, n_estimators=20; total time=   0.0s\n",
      "[CV] END bootstrap=True, max_depth=4, min_samples_leaf=1, min_samples_split=5, n_estimators=20; total time=   0.0s\n",
      "[CV] END bootstrap=True, max_depth=4, min_samples_leaf=1, min_samples_split=5, n_estimators=51; total time=   0.1s\n",
      "[CV] END bootstrap=True, max_depth=4, min_samples_leaf=1, min_samples_split=5, n_estimators=82; total time=   0.1s\n",
      "[CV] END bootstrap=True, max_depth=4, min_samples_leaf=1, min_samples_split=5, n_estimators=113; total time=   0.2s\n",
      "[CV] END bootstrap=True, max_depth=4, min_samples_leaf=1, min_samples_split=5, n_estimators=175; total time=   0.3s\n",
      "[CV] END bootstrap=True, max_depth=4, min_samples_leaf=1, min_samples_split=5, n_estimators=237; total time=   0.4s\n",
      "[CV] END bootstrap=True, max_depth=4, min_samples_leaf=1, min_samples_split=5, n_estimators=300; total time=   0.5s\n",
      "[CV] END bootstrap=True, max_depth=4, min_samples_leaf=2, min_samples_split=2, n_estimators=113; total time=   0.2s\n",
      "[CV] END bootstrap=True, max_depth=4, min_samples_leaf=2, min_samples_split=2, n_estimators=175; total time=   0.3s\n",
      "[CV] END bootstrap=True, max_depth=4, min_samples_leaf=2, min_samples_split=2, n_estimators=237; total time=   0.4s\n",
      "[CV] END bootstrap=True, max_depth=4, min_samples_leaf=2, min_samples_split=2, n_estimators=300; total time=   0.5s\n",
      "[CV] END bootstrap=True, max_depth=4, min_samples_leaf=2, min_samples_split=5, n_estimators=144; total time=   0.2s\n",
      "[CV] END bootstrap=True, max_depth=4, min_samples_leaf=2, min_samples_split=5, n_estimators=206; total time=   0.4s\n",
      "[CV] END bootstrap=True, max_depth=4, min_samples_leaf=2, min_samples_split=5, n_estimators=268; total time=   0.5s\n",
      "[CV] END bootstrap=True, max_depth=4, min_samples_leaf=3, min_samples_split=2, n_estimators=20; total time=   0.0s\n",
      "[CV] END bootstrap=True, max_depth=4, min_samples_leaf=3, min_samples_split=2, n_estimators=51; total time=   0.1s\n",
      "[CV] END bootstrap=True, max_depth=4, min_samples_leaf=3, min_samples_split=2, n_estimators=82; total time=   0.2s\n",
      "[CV] END bootstrap=True, max_depth=4, min_samples_leaf=3, min_samples_split=2, n_estimators=113; total time=   0.2s\n",
      "[CV] END bootstrap=True, max_depth=4, min_samples_leaf=3, min_samples_split=2, n_estimators=175; total time=   0.3s\n",
      "[CV] END bootstrap=True, max_depth=4, min_samples_leaf=3, min_samples_split=2, n_estimators=237; total time=   0.4s\n",
      "[CV] END bootstrap=True, max_depth=4, min_samples_leaf=3, min_samples_split=2, n_estimators=300; total time=   0.5s\n",
      "[CV] END bootstrap=True, max_depth=4, min_samples_leaf=3, min_samples_split=5, n_estimators=113; total time=   0.2s\n",
      "[CV] END bootstrap=True, max_depth=4, min_samples_leaf=3, min_samples_split=5, n_estimators=175; total time=   0.3s\n",
      "[CV] END bootstrap=True, max_depth=4, min_samples_leaf=3, min_samples_split=5, n_estimators=237; total time=   0.4s\n",
      "[CV] END bootstrap=True, max_depth=4, min_samples_leaf=3, min_samples_split=5, n_estimators=300; total time=   0.5s\n",
      "[CV] END bootstrap=True, max_depth=4, min_samples_leaf=4, min_samples_split=2, n_estimators=113; total time=   0.2s\n",
      "[CV] END bootstrap=True, max_depth=4, min_samples_leaf=4, min_samples_split=2, n_estimators=175; total time=   0.3s\n",
      "[CV] END bootstrap=True, max_depth=4, min_samples_leaf=4, min_samples_split=2, n_estimators=237; total time=   0.4s\n",
      "[CV] END bootstrap=True, max_depth=4, min_samples_leaf=4, min_samples_split=2, n_estimators=300; total time=   0.5s\n",
      "[CV] END bootstrap=True, max_depth=4, min_samples_leaf=4, min_samples_split=5, n_estimators=113; total time=   0.2s\n",
      "[CV] END bootstrap=True, max_depth=4, min_samples_leaf=4, min_samples_split=5, n_estimators=175; total time=   0.3s\n",
      "[CV] END bootstrap=True, max_depth=4, min_samples_leaf=4, min_samples_split=5, n_estimators=237; total time=   0.4s\n",
      "[CV] END bootstrap=True, max_depth=4, min_samples_leaf=4, min_samples_split=5, n_estimators=300; total time=   0.6s\n",
      "[CV] END bootstrap=False, max_depth=2, min_samples_leaf=1, min_samples_split=2, n_estimators=144; total time=   0.2s\n",
      "[CV] END bootstrap=False, max_depth=2, min_samples_leaf=1, min_samples_split=2, n_estimators=206; total time=   0.3s\n",
      "[CV] END bootstrap=False, max_depth=2, min_samples_leaf=1, min_samples_split=2, n_estimators=268; total time=   0.4s\n",
      "[CV] END bootstrap=False, max_depth=2, min_samples_leaf=1, min_samples_split=5, n_estimators=20; total time=   0.0s\n",
      "[CV] END bootstrap=False, max_depth=2, min_samples_leaf=1, min_samples_split=5, n_estimators=20; total time=   0.0s\n",
      "[CV] END bootstrap=False, max_depth=2, min_samples_leaf=1, min_samples_split=5, n_estimators=20; total time=   0.0s\n",
      "[CV] END bootstrap=False, max_depth=2, min_samples_leaf=1, min_samples_split=5, n_estimators=51; total time=   0.1s\n",
      "[CV] END bootstrap=False, max_depth=2, min_samples_leaf=1, min_samples_split=5, n_estimators=82; total time=   0.1s\n",
      "[CV] END bootstrap=False, max_depth=2, min_samples_leaf=1, min_samples_split=5, n_estimators=113; total time=   0.2s\n",
      "[CV] END bootstrap=False, max_depth=2, min_samples_leaf=1, min_samples_split=5, n_estimators=175; total time=   0.3s\n",
      "[CV] END bootstrap=False, max_depth=2, min_samples_leaf=1, min_samples_split=5, n_estimators=237; total time=   0.4s\n",
      "[CV] END bootstrap=False, max_depth=2, min_samples_leaf=1, min_samples_split=5, n_estimators=300; total time=   0.4s\n",
      "[CV] END bootstrap=False, max_depth=2, min_samples_leaf=2, min_samples_split=2, n_estimators=113; total time=   0.2s\n",
      "[CV] END bootstrap=False, max_depth=2, min_samples_leaf=2, min_samples_split=2, n_estimators=175; total time=   0.2s\n",
      "[CV] END bootstrap=False, max_depth=2, min_samples_leaf=2, min_samples_split=2, n_estimators=237; total time=   0.3s\n",
      "[CV] END bootstrap=False, max_depth=2, min_samples_leaf=2, min_samples_split=2, n_estimators=300; total time=   0.4s\n",
      "[CV] END bootstrap=False, max_depth=2, min_samples_leaf=2, min_samples_split=5, n_estimators=113; total time=   0.2s\n",
      "[CV] END bootstrap=False, max_depth=2, min_samples_leaf=2, min_samples_split=5, n_estimators=175; total time=   0.3s\n",
      "[CV] END bootstrap=False, max_depth=2, min_samples_leaf=2, min_samples_split=5, n_estimators=237; total time=   0.5s\n",
      "[CV] END bootstrap=False, max_depth=2, min_samples_leaf=2, min_samples_split=5, n_estimators=300; total time=   0.5s\n",
      "[CV] END bootstrap=False, max_depth=2, min_samples_leaf=3, min_samples_split=2, n_estimators=113; total time=   0.2s\n",
      "[CV] END bootstrap=False, max_depth=2, min_samples_leaf=3, min_samples_split=2, n_estimators=175; total time=   0.3s\n",
      "[CV] END bootstrap=False, max_depth=2, min_samples_leaf=3, min_samples_split=2, n_estimators=237; total time=   0.4s\n",
      "[CV] END bootstrap=False, max_depth=2, min_samples_leaf=3, min_samples_split=2, n_estimators=300; total time=   0.4s\n",
      "[CV] END bootstrap=False, max_depth=2, min_samples_leaf=3, min_samples_split=5, n_estimators=144; total time=   0.2s\n",
      "[CV] END bootstrap=False, max_depth=2, min_samples_leaf=3, min_samples_split=5, n_estimators=206; total time=   0.3s\n",
      "[CV] END bootstrap=False, max_depth=2, min_samples_leaf=3, min_samples_split=5, n_estimators=268; total time=   0.4s\n",
      "[CV] END bootstrap=False, max_depth=2, min_samples_leaf=4, min_samples_split=2, n_estimators=20; total time=   0.0s\n",
      "[CV] END bootstrap=False, max_depth=2, min_samples_leaf=4, min_samples_split=2, n_estimators=51; total time=   0.1s\n",
      "[CV] END bootstrap=False, max_depth=2, min_samples_leaf=4, min_samples_split=2, n_estimators=82; total time=   0.1s\n",
      "[CV] END bootstrap=False, max_depth=2, min_samples_leaf=4, min_samples_split=2, n_estimators=144; total time=   0.2s\n",
      "[CV] END bootstrap=False, max_depth=2, min_samples_leaf=4, min_samples_split=2, n_estimators=206; total time=   0.3s\n",
      "[CV] END bootstrap=False, max_depth=2, min_samples_leaf=4, min_samples_split=2, n_estimators=237; total time=   0.4s\n",
      "[CV] END bootstrap=False, max_depth=2, min_samples_leaf=4, min_samples_split=2, n_estimators=300; total time=   0.4s\n",
      "[CV] END bootstrap=False, max_depth=2, min_samples_leaf=4, min_samples_split=5, n_estimators=144; total time=   0.2s\n",
      "[CV] END bootstrap=False, max_depth=2, min_samples_leaf=4, min_samples_split=5, n_estimators=206; total time=   0.3s\n",
      "[CV] END bootstrap=False, max_depth=2, min_samples_leaf=4, min_samples_split=5, n_estimators=268; total time=   0.4s\n",
      "[CV] END bootstrap=False, max_depth=4, min_samples_leaf=1, min_samples_split=2, n_estimators=20; total time=   0.0s\n",
      "[CV] END bootstrap=False, max_depth=4, min_samples_leaf=1, min_samples_split=2, n_estimators=51; total time=   0.1s\n",
      "[CV] END bootstrap=False, max_depth=4, min_samples_leaf=1, min_samples_split=2, n_estimators=82; total time=   0.1s\n",
      "[CV] END bootstrap=False, max_depth=4, min_samples_leaf=1, min_samples_split=2, n_estimators=144; total time=   0.2s\n",
      "[CV] END bootstrap=False, max_depth=4, min_samples_leaf=1, min_samples_split=2, n_estimators=206; total time=   0.3s\n",
      "[CV] END bootstrap=False, max_depth=4, min_samples_leaf=1, min_samples_split=2, n_estimators=268; total time=   0.4s\n",
      "[CV] END bootstrap=False, max_depth=4, min_samples_leaf=1, min_samples_split=5, n_estimators=20; total time=   0.0s\n",
      "[CV] END bootstrap=False, max_depth=4, min_samples_leaf=1, min_samples_split=5, n_estimators=51; total time=   0.1s\n",
      "[CV] END bootstrap=False, max_depth=4, min_samples_leaf=1, min_samples_split=5, n_estimators=82; total time=   0.1s\n",
      "[CV] END bootstrap=False, max_depth=4, min_samples_leaf=1, min_samples_split=5, n_estimators=113; total time=   0.2s\n",
      "[CV] END bootstrap=False, max_depth=4, min_samples_leaf=1, min_samples_split=5, n_estimators=175; total time=   0.3s\n",
      "[CV] END bootstrap=False, max_depth=4, min_samples_leaf=1, min_samples_split=5, n_estimators=237; total time=   0.4s\n",
      "[CV] END bootstrap=False, max_depth=4, min_samples_leaf=1, min_samples_split=5, n_estimators=300; total time=   0.5s\n",
      "[CV] END bootstrap=False, max_depth=4, min_samples_leaf=2, min_samples_split=2, n_estimators=113; total time=   0.2s\n",
      "[CV] END bootstrap=False, max_depth=4, min_samples_leaf=2, min_samples_split=2, n_estimators=175; total time=   0.3s\n",
      "[CV] END bootstrap=False, max_depth=4, min_samples_leaf=2, min_samples_split=2, n_estimators=237; total time=   0.4s\n",
      "[CV] END bootstrap=False, max_depth=4, min_samples_leaf=2, min_samples_split=2, n_estimators=300; total time=   0.5s\n",
      "[CV] END bootstrap=False, max_depth=4, min_samples_leaf=2, min_samples_split=5, n_estimators=113; total time=   0.2s\n",
      "[CV] END bootstrap=False, max_depth=4, min_samples_leaf=2, min_samples_split=5, n_estimators=175; total time=   0.3s\n",
      "[CV] END bootstrap=False, max_depth=4, min_samples_leaf=2, min_samples_split=5, n_estimators=237; total time=   0.4s\n",
      "[CV] END bootstrap=False, max_depth=4, min_samples_leaf=2, min_samples_split=5, n_estimators=300; total time=   0.5s\n",
      "[CV] END bootstrap=False, max_depth=4, min_samples_leaf=3, min_samples_split=2, n_estimators=144; total time=   0.2s\n",
      "[CV] END bootstrap=False, max_depth=4, min_samples_leaf=3, min_samples_split=2, n_estimators=206; total time=   0.3s\n",
      "[CV] END bootstrap=True, max_depth=2, min_samples_leaf=1, min_samples_split=2, n_estimators=51; total time=   0.1s\n",
      "[CV] END bootstrap=True, max_depth=2, min_samples_leaf=1, min_samples_split=2, n_estimators=113; total time=   0.2s\n",
      "[CV] END bootstrap=True, max_depth=2, min_samples_leaf=1, min_samples_split=2, n_estimators=175; total time=   0.3s\n",
      "[CV] END bootstrap=True, max_depth=2, min_samples_leaf=1, min_samples_split=2, n_estimators=237; total time=   0.4s\n",
      "[CV] END bootstrap=True, max_depth=2, min_samples_leaf=1, min_samples_split=2, n_estimators=300; total time=   0.5s\n",
      "[CV] END bootstrap=True, max_depth=2, min_samples_leaf=1, min_samples_split=5, n_estimators=144; total time=   0.2s\n",
      "[CV] END bootstrap=True, max_depth=2, min_samples_leaf=1, min_samples_split=5, n_estimators=206; total time=   0.3s\n",
      "[CV] END bootstrap=True, max_depth=2, min_samples_leaf=1, min_samples_split=5, n_estimators=268; total time=   0.4s\n",
      "[CV] END bootstrap=True, max_depth=2, min_samples_leaf=2, min_samples_split=2, n_estimators=51; total time=   0.1s\n",
      "[CV] END bootstrap=True, max_depth=2, min_samples_leaf=2, min_samples_split=2, n_estimators=82; total time=   0.1s\n",
      "[CV] END bootstrap=True, max_depth=2, min_samples_leaf=2, min_samples_split=2, n_estimators=113; total time=   0.2s\n",
      "[CV] END bootstrap=True, max_depth=2, min_samples_leaf=2, min_samples_split=2, n_estimators=175; total time=   0.3s\n",
      "[CV] END bootstrap=True, max_depth=2, min_samples_leaf=2, min_samples_split=2, n_estimators=237; total time=   0.4s\n",
      "[CV] END bootstrap=True, max_depth=2, min_samples_leaf=2, min_samples_split=2, n_estimators=300; total time=   0.5s\n",
      "[CV] END bootstrap=True, max_depth=2, min_samples_leaf=2, min_samples_split=5, n_estimators=144; total time=   0.3s\n",
      "[CV] END bootstrap=True, max_depth=2, min_samples_leaf=2, min_samples_split=5, n_estimators=206; total time=   0.3s\n",
      "[CV] END bootstrap=True, max_depth=2, min_samples_leaf=2, min_samples_split=5, n_estimators=268; total time=   0.4s\n",
      "[CV] END bootstrap=True, max_depth=2, min_samples_leaf=3, min_samples_split=2, n_estimators=20; total time=   0.0s\n",
      "[CV] END bootstrap=True, max_depth=2, min_samples_leaf=3, min_samples_split=2, n_estimators=51; total time=   0.1s\n",
      "[CV] END bootstrap=True, max_depth=2, min_samples_leaf=3, min_samples_split=2, n_estimators=82; total time=   0.1s\n",
      "[CV] END bootstrap=True, max_depth=2, min_samples_leaf=3, min_samples_split=2, n_estimators=144; total time=   0.2s\n",
      "[CV] END bootstrap=True, max_depth=2, min_samples_leaf=3, min_samples_split=2, n_estimators=206; total time=   0.3s\n",
      "[CV] END bootstrap=True, max_depth=2, min_samples_leaf=3, min_samples_split=2, n_estimators=268; total time=   0.5s\n",
      "[CV] END bootstrap=True, max_depth=2, min_samples_leaf=3, min_samples_split=5, n_estimators=20; total time=   0.0s\n",
      "[CV] END bootstrap=True, max_depth=2, min_samples_leaf=3, min_samples_split=5, n_estimators=51; total time=   0.1s\n",
      "[CV] END bootstrap=True, max_depth=2, min_samples_leaf=3, min_samples_split=5, n_estimators=82; total time=   0.2s\n",
      "[CV] END bootstrap=True, max_depth=2, min_samples_leaf=3, min_samples_split=5, n_estimators=144; total time=   0.2s\n",
      "[CV] END bootstrap=True, max_depth=2, min_samples_leaf=3, min_samples_split=5, n_estimators=206; total time=   0.4s\n",
      "[CV] END bootstrap=True, max_depth=2, min_samples_leaf=3, min_samples_split=5, n_estimators=268; total time=   0.4s\n",
      "[CV] END bootstrap=True, max_depth=2, min_samples_leaf=4, min_samples_split=2, n_estimators=20; total time=   0.0s\n",
      "[CV] END bootstrap=True, max_depth=2, min_samples_leaf=4, min_samples_split=2, n_estimators=51; total time=   0.1s\n",
      "[CV] END bootstrap=True, max_depth=2, min_samples_leaf=4, min_samples_split=2, n_estimators=82; total time=   0.1s\n",
      "[CV] END bootstrap=True, max_depth=2, min_samples_leaf=4, min_samples_split=2, n_estimators=113; total time=   0.2s\n",
      "[CV] END bootstrap=True, max_depth=2, min_samples_leaf=4, min_samples_split=2, n_estimators=175; total time=   0.3s\n",
      "[CV] END bootstrap=True, max_depth=2, min_samples_leaf=4, min_samples_split=2, n_estimators=237; total time=   0.4s\n",
      "[CV] END bootstrap=True, max_depth=2, min_samples_leaf=4, min_samples_split=2, n_estimators=300; total time=   0.5s\n",
      "[CV] END bootstrap=True, max_depth=2, min_samples_leaf=4, min_samples_split=5, n_estimators=144; total time=   0.2s\n",
      "[CV] END bootstrap=True, max_depth=2, min_samples_leaf=4, min_samples_split=5, n_estimators=206; total time=   0.4s\n",
      "[CV] END bootstrap=True, max_depth=2, min_samples_leaf=4, min_samples_split=5, n_estimators=268; total time=   0.5s\n",
      "[CV] END bootstrap=True, max_depth=4, min_samples_leaf=1, min_samples_split=2, n_estimators=51; total time=   0.1s\n",
      "[CV] END bootstrap=True, max_depth=4, min_samples_leaf=1, min_samples_split=2, n_estimators=82; total time=   0.1s\n",
      "[CV] END bootstrap=True, max_depth=4, min_samples_leaf=1, min_samples_split=2, n_estimators=113; total time=   0.2s\n",
      "[CV] END bootstrap=True, max_depth=4, min_samples_leaf=1, min_samples_split=2, n_estimators=175; total time=   0.3s\n",
      "[CV] END bootstrap=True, max_depth=4, min_samples_leaf=1, min_samples_split=2, n_estimators=237; total time=   0.4s\n",
      "[CV] END bootstrap=True, max_depth=4, min_samples_leaf=1, min_samples_split=2, n_estimators=300; total time=   0.5s\n",
      "[CV] END bootstrap=True, max_depth=4, min_samples_leaf=1, min_samples_split=5, n_estimators=144; total time=   0.2s\n",
      "[CV] END bootstrap=True, max_depth=4, min_samples_leaf=1, min_samples_split=5, n_estimators=206; total time=   0.3s\n",
      "[CV] END bootstrap=True, max_depth=4, min_samples_leaf=1, min_samples_split=5, n_estimators=268; total time=   0.4s\n",
      "[CV] END bootstrap=True, max_depth=4, min_samples_leaf=2, min_samples_split=2, n_estimators=20; total time=   0.0s\n",
      "[CV] END bootstrap=True, max_depth=4, min_samples_leaf=2, min_samples_split=2, n_estimators=20; total time=   0.0s\n",
      "[CV] END bootstrap=True, max_depth=4, min_samples_leaf=2, min_samples_split=2, n_estimators=51; total time=   0.1s\n",
      "[CV] END bootstrap=True, max_depth=4, min_samples_leaf=2, min_samples_split=2, n_estimators=82; total time=   0.1s\n",
      "[CV] END bootstrap=True, max_depth=4, min_samples_leaf=2, min_samples_split=2, n_estimators=113; total time=   0.2s\n",
      "[CV] END bootstrap=True, max_depth=4, min_samples_leaf=2, min_samples_split=2, n_estimators=175; total time=   0.3s\n",
      "[CV] END bootstrap=True, max_depth=4, min_samples_leaf=2, min_samples_split=2, n_estimators=237; total time=   0.4s\n",
      "[CV] END bootstrap=True, max_depth=4, min_samples_leaf=2, min_samples_split=2, n_estimators=300; total time=   0.5s\n",
      "[CV] END bootstrap=True, max_depth=4, min_samples_leaf=2, min_samples_split=5, n_estimators=113; total time=   0.2s\n",
      "[CV] END bootstrap=True, max_depth=4, min_samples_leaf=2, min_samples_split=5, n_estimators=175; total time=   0.3s\n",
      "[CV] END bootstrap=True, max_depth=4, min_samples_leaf=2, min_samples_split=5, n_estimators=237; total time=   0.4s\n",
      "[CV] END bootstrap=True, max_depth=4, min_samples_leaf=2, min_samples_split=5, n_estimators=300; total time=   0.6s\n",
      "[CV] END bootstrap=True, max_depth=4, min_samples_leaf=3, min_samples_split=2, n_estimators=144; total time=   0.3s\n",
      "[CV] END bootstrap=True, max_depth=4, min_samples_leaf=3, min_samples_split=2, n_estimators=206; total time=   0.4s\n",
      "[CV] END bootstrap=True, max_depth=4, min_samples_leaf=3, min_samples_split=2, n_estimators=268; total time=   0.5s\n",
      "[CV] END bootstrap=True, max_depth=4, min_samples_leaf=3, min_samples_split=5, n_estimators=20; total time=   0.0s\n",
      "[CV] END bootstrap=True, max_depth=4, min_samples_leaf=3, min_samples_split=5, n_estimators=51; total time=   0.1s\n",
      "[CV] END bootstrap=True, max_depth=4, min_samples_leaf=3, min_samples_split=5, n_estimators=82; total time=   0.2s\n",
      "[CV] END bootstrap=True, max_depth=4, min_samples_leaf=3, min_samples_split=5, n_estimators=144; total time=   0.3s\n",
      "[CV] END bootstrap=True, max_depth=4, min_samples_leaf=3, min_samples_split=5, n_estimators=206; total time=   0.4s\n",
      "[CV] END bootstrap=True, max_depth=4, min_samples_leaf=3, min_samples_split=5, n_estimators=268; total time=   0.5s\n",
      "[CV] END bootstrap=True, max_depth=4, min_samples_leaf=4, min_samples_split=2, n_estimators=20; total time=   0.0s\n",
      "[CV] END bootstrap=True, max_depth=4, min_samples_leaf=4, min_samples_split=2, n_estimators=51; total time=   0.1s\n",
      "[CV] END bootstrap=True, max_depth=4, min_samples_leaf=4, min_samples_split=2, n_estimators=82; total time=   0.1s\n",
      "[CV] END bootstrap=True, max_depth=4, min_samples_leaf=4, min_samples_split=2, n_estimators=113; total time=   0.2s\n",
      "[CV] END bootstrap=True, max_depth=4, min_samples_leaf=4, min_samples_split=2, n_estimators=175; total time=   0.3s\n",
      "[CV] END bootstrap=True, max_depth=4, min_samples_leaf=4, min_samples_split=2, n_estimators=237; total time=   0.4s\n",
      "[CV] END bootstrap=True, max_depth=4, min_samples_leaf=4, min_samples_split=2, n_estimators=300; total time=   0.5s\n",
      "[CV] END bootstrap=True, max_depth=4, min_samples_leaf=4, min_samples_split=5, n_estimators=144; total time=   0.3s\n",
      "[CV] END bootstrap=True, max_depth=4, min_samples_leaf=4, min_samples_split=5, n_estimators=206; total time=   0.4s\n",
      "[CV] END bootstrap=True, max_depth=4, min_samples_leaf=4, min_samples_split=5, n_estimators=268; total time=   0.5s\n",
      "[CV] END bootstrap=False, max_depth=2, min_samples_leaf=1, min_samples_split=2, n_estimators=51; total time=   0.1s\n",
      "[CV] END bootstrap=False, max_depth=2, min_samples_leaf=1, min_samples_split=2, n_estimators=82; total time=   0.1s\n",
      "[CV] END bootstrap=False, max_depth=2, min_samples_leaf=1, min_samples_split=2, n_estimators=113; total time=   0.2s\n",
      "[CV] END bootstrap=False, max_depth=2, min_samples_leaf=1, min_samples_split=2, n_estimators=175; total time=   0.2s\n",
      "[CV] END bootstrap=False, max_depth=2, min_samples_leaf=1, min_samples_split=2, n_estimators=237; total time=   0.4s\n",
      "[CV] END bootstrap=False, max_depth=2, min_samples_leaf=1, min_samples_split=2, n_estimators=300; total time=   0.5s\n",
      "[CV] END bootstrap=False, max_depth=2, min_samples_leaf=1, min_samples_split=5, n_estimators=113; total time=   0.2s\n",
      "[CV] END bootstrap=False, max_depth=2, min_samples_leaf=1, min_samples_split=5, n_estimators=175; total time=   0.3s\n",
      "[CV] END bootstrap=False, max_depth=2, min_samples_leaf=1, min_samples_split=5, n_estimators=237; total time=   0.3s\n",
      "[CV] END bootstrap=False, max_depth=2, min_samples_leaf=1, min_samples_split=5, n_estimators=300; total time=   0.4s\n",
      "[CV] END bootstrap=False, max_depth=2, min_samples_leaf=2, min_samples_split=2, n_estimators=113; total time=   0.2s\n",
      "[CV] END bootstrap=False, max_depth=2, min_samples_leaf=2, min_samples_split=2, n_estimators=175; total time=   0.3s\n",
      "[CV] END bootstrap=False, max_depth=2, min_samples_leaf=2, min_samples_split=2, n_estimators=237; total time=   0.4s\n",
      "[CV] END bootstrap=False, max_depth=2, min_samples_leaf=2, min_samples_split=2, n_estimators=300; total time=   0.5s\n",
      "[CV] END bootstrap=False, max_depth=2, min_samples_leaf=2, min_samples_split=5, n_estimators=144; total time=   0.3s\n",
      "[CV] END bootstrap=False, max_depth=2, min_samples_leaf=2, min_samples_split=5, n_estimators=206; total time=   0.4s\n",
      "[CV] END bootstrap=False, max_depth=2, min_samples_leaf=2, min_samples_split=5, n_estimators=268; total time=   0.4s\n",
      "[CV] END bootstrap=False, max_depth=2, min_samples_leaf=3, min_samples_split=2, n_estimators=20; total time=   0.0s\n",
      "[CV] END bootstrap=False, max_depth=2, min_samples_leaf=3, min_samples_split=2, n_estimators=20; total time=   0.0s\n",
      "[CV] END bootstrap=False, max_depth=2, min_samples_leaf=3, min_samples_split=2, n_estimators=51; total time=   0.1s\n",
      "[CV] END bootstrap=False, max_depth=2, min_samples_leaf=3, min_samples_split=2, n_estimators=82; total time=   0.1s\n",
      "[CV] END bootstrap=False, max_depth=2, min_samples_leaf=3, min_samples_split=2, n_estimators=144; total time=   0.2s\n",
      "[CV] END bootstrap=False, max_depth=2, min_samples_leaf=3, min_samples_split=2, n_estimators=206; total time=   0.3s\n",
      "[CV] END bootstrap=False, max_depth=2, min_samples_leaf=3, min_samples_split=2, n_estimators=268; total time=   0.4s\n",
      "[CV] END bootstrap=False, max_depth=2, min_samples_leaf=3, min_samples_split=5, n_estimators=20; total time=   0.0s\n",
      "[CV] END bootstrap=False, max_depth=2, min_samples_leaf=3, min_samples_split=5, n_estimators=51; total time=   0.1s\n",
      "[CV] END bootstrap=False, max_depth=2, min_samples_leaf=3, min_samples_split=5, n_estimators=82; total time=   0.1s\n",
      "[CV] END bootstrap=False, max_depth=2, min_samples_leaf=3, min_samples_split=5, n_estimators=113; total time=   0.2s\n",
      "[CV] END bootstrap=False, max_depth=2, min_samples_leaf=3, min_samples_split=5, n_estimators=175; total time=   0.3s\n",
      "[CV] END bootstrap=False, max_depth=2, min_samples_leaf=3, min_samples_split=5, n_estimators=237; total time=   0.4s\n",
      "[CV] END bootstrap=False, max_depth=2, min_samples_leaf=3, min_samples_split=5, n_estimators=300; total time=   0.5s\n",
      "[CV] END bootstrap=False, max_depth=2, min_samples_leaf=4, min_samples_split=2, n_estimators=144; total time=   0.2s\n",
      "[CV] END bootstrap=False, max_depth=2, min_samples_leaf=4, min_samples_split=2, n_estimators=206; total time=   0.3s\n",
      "[CV] END bootstrap=False, max_depth=2, min_samples_leaf=4, min_samples_split=2, n_estimators=268; total time=   0.4s\n",
      "[CV] END bootstrap=False, max_depth=2, min_samples_leaf=4, min_samples_split=5, n_estimators=20; total time=   0.0s\n",
      "[CV] END bootstrap=False, max_depth=2, min_samples_leaf=4, min_samples_split=5, n_estimators=20; total time=   0.0s\n",
      "[CV] END bootstrap=False, max_depth=2, min_samples_leaf=4, min_samples_split=5, n_estimators=51; total time=   0.1s\n",
      "[CV] END bootstrap=False, max_depth=2, min_samples_leaf=4, min_samples_split=5, n_estimators=82; total time=   0.1s\n",
      "[CV] END bootstrap=False, max_depth=2, min_samples_leaf=4, min_samples_split=5, n_estimators=113; total time=   0.2s\n",
      "[CV] END bootstrap=False, max_depth=2, min_samples_leaf=4, min_samples_split=5, n_estimators=175; total time=   0.3s\n",
      "[CV] END bootstrap=False, max_depth=2, min_samples_leaf=4, min_samples_split=5, n_estimators=237; total time=   0.4s\n",
      "[CV] END bootstrap=False, max_depth=2, min_samples_leaf=4, min_samples_split=5, n_estimators=300; total time=   0.5s\n",
      "[CV] END bootstrap=False, max_depth=4, min_samples_leaf=1, min_samples_split=2, n_estimators=144; total time=   0.2s\n",
      "[CV] END bootstrap=False, max_depth=4, min_samples_leaf=1, min_samples_split=2, n_estimators=206; total time=   0.3s\n",
      "[CV] END bootstrap=False, max_depth=4, min_samples_leaf=1, min_samples_split=2, n_estimators=268; total time=   0.4s\n",
      "[CV] END bootstrap=False, max_depth=4, min_samples_leaf=1, min_samples_split=5, n_estimators=20; total time=   0.0s\n",
      "[CV] END bootstrap=False, max_depth=4, min_samples_leaf=1, min_samples_split=5, n_estimators=51; total time=   0.1s\n",
      "[CV] END bootstrap=False, max_depth=4, min_samples_leaf=1, min_samples_split=5, n_estimators=82; total time=   0.1s\n",
      "[CV] END bootstrap=False, max_depth=4, min_samples_leaf=1, min_samples_split=5, n_estimators=113; total time=   0.2s\n",
      "[CV] END bootstrap=False, max_depth=4, min_samples_leaf=1, min_samples_split=5, n_estimators=175; total time=   0.3s\n",
      "[CV] END bootstrap=False, max_depth=4, min_samples_leaf=1, min_samples_split=5, n_estimators=237; total time=   0.4s\n",
      "[CV] END bootstrap=False, max_depth=4, min_samples_leaf=1, min_samples_split=5, n_estimators=300; total time=   0.5s\n",
      "[CV] END bootstrap=False, max_depth=4, min_samples_leaf=2, min_samples_split=2, n_estimators=144; total time=   0.2s\n",
      "[CV] END bootstrap=False, max_depth=4, min_samples_leaf=2, min_samples_split=2, n_estimators=206; total time=   0.3s\n",
      "[CV] END bootstrap=False, max_depth=4, min_samples_leaf=2, min_samples_split=2, n_estimators=268; total time=   0.4s\n",
      "[CV] END bootstrap=False, max_depth=4, min_samples_leaf=2, min_samples_split=5, n_estimators=20; total time=   0.0s\n",
      "[CV] END bootstrap=False, max_depth=4, min_samples_leaf=2, min_samples_split=5, n_estimators=51; total time=   0.1s\n",
      "[CV] END bootstrap=False, max_depth=4, min_samples_leaf=2, min_samples_split=5, n_estimators=82; total time=   0.1s\n",
      "[CV] END bootstrap=False, max_depth=4, min_samples_leaf=2, min_samples_split=5, n_estimators=113; total time=   0.2s\n",
      "[CV] END bootstrap=False, max_depth=4, min_samples_leaf=2, min_samples_split=5, n_estimators=175; total time=   0.3s\n",
      "[CV] END bootstrap=False, max_depth=4, min_samples_leaf=2, min_samples_split=5, n_estimators=237; total time=   0.4s\n"
     ]
    },
    {
     "data": {
      "text/html": [
       "<style>#sk-container-id-2 {color: black;background-color: white;}#sk-container-id-2 pre{padding: 0;}#sk-container-id-2 div.sk-toggleable {background-color: white;}#sk-container-id-2 label.sk-toggleable__label {cursor: pointer;display: block;width: 100%;margin-bottom: 0;padding: 0.3em;box-sizing: border-box;text-align: center;}#sk-container-id-2 label.sk-toggleable__label-arrow:before {content: \"▸\";float: left;margin-right: 0.25em;color: #696969;}#sk-container-id-2 label.sk-toggleable__label-arrow:hover:before {color: black;}#sk-container-id-2 div.sk-estimator:hover label.sk-toggleable__label-arrow:before {color: black;}#sk-container-id-2 div.sk-toggleable__content {max-height: 0;max-width: 0;overflow: hidden;text-align: left;background-color: #f0f8ff;}#sk-container-id-2 div.sk-toggleable__content pre {margin: 0.2em;color: black;border-radius: 0.25em;background-color: #f0f8ff;}#sk-container-id-2 input.sk-toggleable__control:checked~div.sk-toggleable__content {max-height: 200px;max-width: 100%;overflow: auto;}#sk-container-id-2 input.sk-toggleable__control:checked~label.sk-toggleable__label-arrow:before {content: \"▾\";}#sk-container-id-2 div.sk-estimator input.sk-toggleable__control:checked~label.sk-toggleable__label {background-color: #d4ebff;}#sk-container-id-2 div.sk-label input.sk-toggleable__control:checked~label.sk-toggleable__label {background-color: #d4ebff;}#sk-container-id-2 input.sk-hidden--visually {border: 0;clip: rect(1px 1px 1px 1px);clip: rect(1px, 1px, 1px, 1px);height: 1px;margin: -1px;overflow: hidden;padding: 0;position: absolute;width: 1px;}#sk-container-id-2 div.sk-estimator {font-family: monospace;background-color: #f0f8ff;border: 1px dotted black;border-radius: 0.25em;box-sizing: border-box;margin-bottom: 0.5em;}#sk-container-id-2 div.sk-estimator:hover {background-color: #d4ebff;}#sk-container-id-2 div.sk-parallel-item::after {content: \"\";width: 100%;border-bottom: 1px solid gray;flex-grow: 1;}#sk-container-id-2 div.sk-label:hover label.sk-toggleable__label {background-color: #d4ebff;}#sk-container-id-2 div.sk-serial::before {content: \"\";position: absolute;border-left: 1px solid gray;box-sizing: border-box;top: 0;bottom: 0;left: 50%;z-index: 0;}#sk-container-id-2 div.sk-serial {display: flex;flex-direction: column;align-items: center;background-color: white;padding-right: 0.2em;padding-left: 0.2em;position: relative;}#sk-container-id-2 div.sk-item {position: relative;z-index: 1;}#sk-container-id-2 div.sk-parallel {display: flex;align-items: stretch;justify-content: center;background-color: white;position: relative;}#sk-container-id-2 div.sk-item::before, #sk-container-id-2 div.sk-parallel-item::before {content: \"\";position: absolute;border-left: 1px solid gray;box-sizing: border-box;top: 0;bottom: 0;left: 50%;z-index: -1;}#sk-container-id-2 div.sk-parallel-item {display: flex;flex-direction: column;z-index: 1;position: relative;background-color: white;}#sk-container-id-2 div.sk-parallel-item:first-child::after {align-self: flex-end;width: 50%;}#sk-container-id-2 div.sk-parallel-item:last-child::after {align-self: flex-start;width: 50%;}#sk-container-id-2 div.sk-parallel-item:only-child::after {width: 0;}#sk-container-id-2 div.sk-dashed-wrapped {border: 1px dashed gray;margin: 0 0.4em 0.5em 0.4em;box-sizing: border-box;padding-bottom: 0.4em;background-color: white;}#sk-container-id-2 div.sk-label label {font-family: monospace;font-weight: bold;display: inline-block;line-height: 1.2em;}#sk-container-id-2 div.sk-label-container {text-align: center;}#sk-container-id-2 div.sk-container {/* jupyter's `normalize.less` sets `[hidden] { display: none; }` but bootstrap.min.css set `[hidden] { display: none !important; }` so we also need the `!important` here to be able to override the default hidden behavior on the sphinx rendered scikit-learn.org. See: https://github.com/scikit-learn/scikit-learn/issues/21755 */display: inline-block !important;position: relative;}#sk-container-id-2 div.sk-text-repr-fallback {display: none;}</style><div id=\"sk-container-id-2\" class=\"sk-top-container\"><div class=\"sk-text-repr-fallback\"><pre>GridSearchCV(cv=3, estimator=RandomForestClassifier(), n_jobs=6,\n",
       "             param_grid={&#x27;bootstrap&#x27;: [True, False], &#x27;max_depth&#x27;: [2, 4],\n",
       "                         &#x27;min_samples_leaf&#x27;: [1, 2, 3, 4],\n",
       "                         &#x27;min_samples_split&#x27;: [2, 5],\n",
       "                         &#x27;n_estimators&#x27;: [20, 51, 82, 113, 144, 175, 206, 237,\n",
       "                                          268, 300]},\n",
       "             scoring=&#x27;roc_auc&#x27;, verbose=2)</pre><b>In a Jupyter environment, please rerun this cell to show the HTML representation or trust the notebook. <br />On GitHub, the HTML representation is unable to render, please try loading this page with nbviewer.org.</b></div><div class=\"sk-container\" hidden><div class=\"sk-item sk-dashed-wrapped\"><div class=\"sk-label-container\"><div class=\"sk-label sk-toggleable\"><input class=\"sk-toggleable__control sk-hidden--visually\" id=\"sk-estimator-id-4\" type=\"checkbox\" ><label for=\"sk-estimator-id-4\" class=\"sk-toggleable__label sk-toggleable__label-arrow\">GridSearchCV</label><div class=\"sk-toggleable__content\"><pre>GridSearchCV(cv=3, estimator=RandomForestClassifier(), n_jobs=6,\n",
       "             param_grid={&#x27;bootstrap&#x27;: [True, False], &#x27;max_depth&#x27;: [2, 4],\n",
       "                         &#x27;min_samples_leaf&#x27;: [1, 2, 3, 4],\n",
       "                         &#x27;min_samples_split&#x27;: [2, 5],\n",
       "                         &#x27;n_estimators&#x27;: [20, 51, 82, 113, 144, 175, 206, 237,\n",
       "                                          268, 300]},\n",
       "             scoring=&#x27;roc_auc&#x27;, verbose=2)</pre></div></div></div><div class=\"sk-parallel\"><div class=\"sk-parallel-item\"><div class=\"sk-item\"><div class=\"sk-label-container\"><div class=\"sk-label sk-toggleable\"><input class=\"sk-toggleable__control sk-hidden--visually\" id=\"sk-estimator-id-5\" type=\"checkbox\" ><label for=\"sk-estimator-id-5\" class=\"sk-toggleable__label sk-toggleable__label-arrow\">estimator: RandomForestClassifier</label><div class=\"sk-toggleable__content\"><pre>RandomForestClassifier()</pre></div></div></div><div class=\"sk-serial\"><div class=\"sk-item\"><div class=\"sk-estimator sk-toggleable\"><input class=\"sk-toggleable__control sk-hidden--visually\" id=\"sk-estimator-id-6\" type=\"checkbox\" ><label for=\"sk-estimator-id-6\" class=\"sk-toggleable__label sk-toggleable__label-arrow\">RandomForestClassifier</label><div class=\"sk-toggleable__content\"><pre>RandomForestClassifier()</pre></div></div></div></div></div></div></div></div></div></div>"
      ],
      "text/plain": [
       "GridSearchCV(cv=3, estimator=RandomForestClassifier(), n_jobs=6,\n",
       "             param_grid={'bootstrap': [True, False], 'max_depth': [2, 4],\n",
       "                         'min_samples_leaf': [1, 2, 3, 4],\n",
       "                         'min_samples_split': [2, 5],\n",
       "                         'n_estimators': [20, 51, 82, 113, 144, 175, 206, 237,\n",
       "                                          268, 300]},\n",
       "             scoring='roc_auc', verbose=2)"
      ]
     },
     "execution_count": 49,
     "metadata": {},
     "output_type": "execute_result"
    }
   ],
   "source": [
    "rf_Grid_2.fit(X_train, y_train)"
   ]
  },
  {
   "cell_type": "code",
   "execution_count": 50,
   "metadata": {},
   "outputs": [
    {
     "data": {
      "text/plain": [
       "{'bootstrap': False,\n",
       " 'max_depth': 4,\n",
       " 'min_samples_leaf': 2,\n",
       " 'min_samples_split': 5,\n",
       " 'n_estimators': 82}"
      ]
     },
     "execution_count": 50,
     "metadata": {},
     "output_type": "execute_result"
    }
   ],
   "source": [
    "rf_Grid_2.best_params_"
   ]
  },
  {
   "cell_type": "code",
   "execution_count": 51,
   "metadata": {},
   "outputs": [
    {
     "data": {
      "text/plain": [
       "{'bootstrap': True,\n",
       " 'max_depth': 4,\n",
       " 'min_samples_leaf': 4,\n",
       " 'min_samples_split': 2,\n",
       " 'n_estimators': 20}"
      ]
     },
     "execution_count": 51,
     "metadata": {},
     "output_type": "execute_result"
    }
   ],
   "source": [
    "rf_Grid.best_params_"
   ]
  },
  {
   "cell_type": "markdown",
   "metadata": {},
   "source": [
    "# Resources in R\n",
    "\n",
    "- Algorithms: [rpart](https://cran.r-project.org/web/packages/rpart/) for trees, [randomForest](https://cran.r-project.org/web/packages/randomForest/) for RF, [e1071](https://cran.r-project.org/web/packages/e1071/index.html) or [LiblineaR](https://cran.r-project.org/web/packages/LiblineaR/index.html) for SVM\n",
    "- Model Building: \n",
    "    - see [PRROC](https://cran.r-project.org/web/packages/PRROC/vignettes/PRROC.pdf), [ROCR](https://cran.r-project.org/web/packages/ROCR/index.html), or [cutpointr](https://cran.r-project.org/web/packages/cutpointr/vignettes/cutpointr.html) for scoring tools\n",
    "    - see [mlr3](https://mlr3book.mlr-org.com/basics.html#learners) for an integrated interface"
   ]
  },
  {
   "cell_type": "code",
   "execution_count": null,
   "metadata": {},
   "outputs": [],
   "source": []
  }
 ],
 "metadata": {
  "kernelspec": {
   "display_name": "Python 3 (ipykernel)",
   "language": "python",
   "name": "python3"
  },
  "language_info": {
   "codemirror_mode": {
    "name": "ipython",
    "version": 3
   },
   "file_extension": ".py",
   "mimetype": "text/x-python",
   "name": "python",
   "nbconvert_exporter": "python",
   "pygments_lexer": "ipython3",
   "version": "3.9.12"
  },
  "toc": {
   "base_numbering": 1,
   "nav_menu": {},
   "number_sections": true,
   "sideBar": true,
   "skip_h1_title": false,
   "title_cell": "Table of Contents",
   "title_sidebar": "Contents",
   "toc_cell": false,
   "toc_position": {},
   "toc_section_display": true,
   "toc_window_display": false
  }
 },
 "nbformat": 4,
 "nbformat_minor": 4
}
