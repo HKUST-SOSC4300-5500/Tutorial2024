{
 "cells": [
  {
   "cell_type": "markdown",
   "metadata": {},
   "source": [
    "# GENSIM for word embeddings "
   ]
  },
  {
   "cell_type": "markdown",
   "metadata": {},
   "source": [
    "- THE GENSIM LIBRARY\n",
    "\n",
    "    - Gensim is an open-source python library for natural language processing.\n",
    "\n",
    "    - It was developed and is maintained by the Czech natural language processing researcher Radim Řehůřek. \n",
    "\n",
    "    - In the previous tutorial, we have seen how you can use this package to do topic modeling.\n",
    "    \n",
    "    - Here we use `gensim` for word embedding. \n",
    "    "
   ]
  },
  {
   "cell_type": "markdown",
   "metadata": {},
   "source": [
    "- Word embeddings can be used for:\n",
    "    - automated text tagging\n",
    "    - recommendation engines\n",
    "    - synonyms and search query expansion\n",
    "    - machine translation\n",
    "    - plain feature engineering"
   ]
  },
  {
   "cell_type": "markdown",
   "metadata": {},
   "source": [
    "One example\n",
    "\n",
    "<img src=\"1.png\" alt=\"drawing\" width=\"600\"/>"
   ]
  },
  {
   "cell_type": "markdown",
   "metadata": {},
   "source": [
    "Another example\n",
    "\n",
    "<img src=\"2.png\" alt=\"drawing\" width=\"400\"/>"
   ]
  },
  {
   "cell_type": "markdown",
   "metadata": {},
   "source": [
    "## Software for word embeddings "
   ]
  },
  {
   "cell_type": "markdown",
   "metadata": {},
   "source": [
    "- Software for training and using word embeddings includes \n",
    "    - Tomas Mikolov's Word2vec, \n",
    "    - Stanford University's GloVe, GN-GloVe \n",
    "    - AllenNLP's ELMo,\n",
    "    - BERT\n",
    "    - fastText \n",
    "    - Gensim\n",
    "    - Indra and Deeplearning4j\n",
    "  \n",
    "    - Principal Component Analysis (PCA) and T-Distributed Stochastic Neighbour Embedding (t-SNE) are both used to reduce the dimensionality of word vector spaces and visualize word embeddings and clusters."
   ]
  },
  {
   "cell_type": "code",
   "execution_count": 1,
   "metadata": {},
   "outputs": [],
   "source": [
    "import pandas as pd\n",
    "import numpy as np\n",
    "\n",
    "import re  # For preprocessing\n",
    "\n",
    "# from collections import defaultdict\n",
    "# from time import time  # To time our operations\n",
    "# import warnings\n",
    "# warnings.filterwarnings('ignore')\n",
    "# import logging  # Setting up the loggings to monitor gensim\n",
    "# logging.basicConfig(format=\"%(levelname)s - %(asctime)s: %(message)s\", datefmt= '%H:%M:%S', level=logging.INFO)"
   ]
  },
  {
   "cell_type": "markdown",
   "metadata": {},
   "source": [
    "## 1) CREATE A WORD2VEC MODEL\n",
    "\n",
    "- Training the model: Gensim Word2Vec Implementation:\n",
    "    - We use Gensim implementation of word2vec: https://radimrehurek.com/gensim/models/word2vec.html"
   ]
  },
  {
   "cell_type": "code",
   "execution_count": 2,
   "metadata": {
    "scrolled": true
   },
   "outputs": [
    {
     "data": {
      "text/plain": [
       "[['human', 'interface', 'computer'],\n",
       " ['survey', 'user', 'computer', 'system', 'response', 'time'],\n",
       " ['eps', 'user', 'interface', 'system'],\n",
       " ['system', 'human', 'system', 'eps'],\n",
       " ['user', 'response', 'time'],\n",
       " ['trees'],\n",
       " ['graph', 'trees'],\n",
       " ['graph', 'minors', 'trees'],\n",
       " ['graph', 'minors', 'survey']]"
      ]
     },
     "execution_count": 2,
     "metadata": {},
     "output_type": "execute_result"
    }
   ],
   "source": [
    "from gensim.models import Word2Vec\n",
    "from gensim.test.utils import common_texts, get_tmpfile\n",
    "\n",
    "common_texts"
   ]
  },
  {
   "cell_type": "markdown",
   "metadata": {},
   "source": [
    "## train a simpliest word embedding by yourself"
   ]
  },
  {
   "cell_type": "code",
   "execution_count": 4,
   "metadata": {
    "scrolled": true
   },
   "outputs": [],
   "source": [
    "model_1 = Word2Vec(common_texts, vector_size=100, window=5, min_count=1, workers=4)"
   ]
  },
  {
   "cell_type": "markdown",
   "metadata": {},
   "source": [
    "The hyperparameters of `Word2Vec`:\n",
    "\n",
    "- `vector_size`: # of dimensions of the embeddings and the default is 100.\n",
    "- `window`: The maximum distance between a target word and words around the target word. The default window is 5.\n",
    "- `min_count`: The minimum count of words to consider when training the model; words with occurrence less than this count will be ignored. The default for min_count is 5.\n",
    "- `workers`: # of worker threads used to train the model; depends on your computer.\n",
    "- `sg`: The training algorithm, either CBOW(0) or skip-gram (1). The default training algorithm is CBOW."
   ]
  },
  {
   "cell_type": "code",
   "execution_count": 5,
   "metadata": {},
   "outputs": [
    {
     "data": {
      "text/plain": [
       "array([-0.00515774, -0.00667028, -0.0077791 ,  0.00831315, -0.00198292,\n",
       "       -0.00685696, -0.0041556 ,  0.00514562, -0.00286997, -0.00375075,\n",
       "        0.0016219 , -0.0027771 , -0.00158482,  0.0010748 , -0.00297881,\n",
       "        0.00852176,  0.00391207, -0.00996176,  0.00626142, -0.00675622,\n",
       "        0.00076966,  0.00440552, -0.00510486, -0.00211128,  0.00809783,\n",
       "       -0.00424503, -0.00763848,  0.00926061, -0.00215612, -0.00472081,\n",
       "        0.00857329,  0.00428458,  0.0043261 ,  0.00928722, -0.00845554,\n",
       "        0.00525685,  0.00203994,  0.0041895 ,  0.00169839,  0.00446543,\n",
       "        0.00448759,  0.0061063 , -0.00320303, -0.00457706, -0.00042664,\n",
       "        0.00253447, -0.00326412,  0.00605948,  0.00415534,  0.00776685,\n",
       "        0.00257002,  0.00811904, -0.00138761,  0.00808028,  0.0037181 ,\n",
       "       -0.00804967, -0.00393476, -0.0024726 ,  0.00489447, -0.00087241,\n",
       "       -0.00283173,  0.00783599,  0.00932561, -0.0016154 , -0.00516075,\n",
       "       -0.00470313, -0.00484746, -0.00960562,  0.00137242, -0.00422615,\n",
       "        0.00252744,  0.00561612, -0.00406709, -0.00959937,  0.00154715,\n",
       "       -0.00670207,  0.0024959 , -0.00378173,  0.00708048,  0.00064041,\n",
       "        0.00356198, -0.00273993, -0.00171105,  0.00765502,  0.00140809,\n",
       "       -0.00585215, -0.00783678,  0.00123304,  0.00645651,  0.00555797,\n",
       "       -0.00897966,  0.00859466,  0.00404815,  0.00747178,  0.00974917,\n",
       "       -0.0072917 , -0.00904259,  0.0058377 ,  0.00939395,  0.00350795],\n",
       "      dtype=float32)"
      ]
     },
     "execution_count": 5,
     "metadata": {},
     "output_type": "execute_result"
    }
   ],
   "source": [
    "vector = model_1.wv['computer']  # 'wv': word to vector\n",
    "vector"
   ]
  },
  {
   "cell_type": "code",
   "execution_count": 6,
   "metadata": {},
   "outputs": [
    {
     "data": {
      "text/plain": [
       "100"
      ]
     },
     "execution_count": 6,
     "metadata": {},
     "output_type": "execute_result"
    }
   ],
   "source": [
    "len(vector)"
   ]
  },
  {
   "cell_type": "code",
   "execution_count": 7,
   "metadata": {
    "scrolled": true
   },
   "outputs": [
    {
     "ename": "KeyError",
     "evalue": "\"Key 'hi' not present\"",
     "output_type": "error",
     "traceback": [
      "\u001b[0;31m---------------------------------------------------------------------------\u001b[0m",
      "\u001b[0;31mKeyError\u001b[0m                                  Traceback (most recent call last)",
      "Cell \u001b[0;32mIn[7], line 2\u001b[0m\n\u001b[1;32m      1\u001b[0m \u001b[38;5;66;03m# new words? cannot handle\u001b[39;00m\n\u001b[0;32m----> 2\u001b[0m \u001b[43mmodel_1\u001b[49m\u001b[38;5;241;43m.\u001b[39;49m\u001b[43mwv\u001b[49m\u001b[43m[\u001b[49m\u001b[38;5;124;43m'\u001b[39;49m\u001b[38;5;124;43mhi\u001b[39;49m\u001b[38;5;124;43m'\u001b[39;49m\u001b[43m]\u001b[49m\n",
      "File \u001b[0;32m~/opt/anaconda3/envs/CSS2023/lib/python3.10/site-packages/gensim/models/keyedvectors.py:403\u001b[0m, in \u001b[0;36mKeyedVectors.__getitem__\u001b[0;34m(self, key_or_keys)\u001b[0m\n\u001b[1;32m    389\u001b[0m \u001b[38;5;124;03m\"\"\"Get vector representation of `key_or_keys`.\u001b[39;00m\n\u001b[1;32m    390\u001b[0m \n\u001b[1;32m    391\u001b[0m \u001b[38;5;124;03mParameters\u001b[39;00m\n\u001b[0;32m   (...)\u001b[0m\n\u001b[1;32m    400\u001b[0m \n\u001b[1;32m    401\u001b[0m \u001b[38;5;124;03m\"\"\"\u001b[39;00m\n\u001b[1;32m    402\u001b[0m \u001b[38;5;28;01mif\u001b[39;00m \u001b[38;5;28misinstance\u001b[39m(key_or_keys, _KEY_TYPES):\n\u001b[0;32m--> 403\u001b[0m     \u001b[38;5;28;01mreturn\u001b[39;00m \u001b[38;5;28;43mself\u001b[39;49m\u001b[38;5;241;43m.\u001b[39;49m\u001b[43mget_vector\u001b[49m\u001b[43m(\u001b[49m\u001b[43mkey_or_keys\u001b[49m\u001b[43m)\u001b[49m\n\u001b[1;32m    405\u001b[0m \u001b[38;5;28;01mreturn\u001b[39;00m vstack([\u001b[38;5;28mself\u001b[39m\u001b[38;5;241m.\u001b[39mget_vector(key) \u001b[38;5;28;01mfor\u001b[39;00m key \u001b[38;5;129;01min\u001b[39;00m key_or_keys])\n",
      "File \u001b[0;32m~/opt/anaconda3/envs/CSS2023/lib/python3.10/site-packages/gensim/models/keyedvectors.py:446\u001b[0m, in \u001b[0;36mKeyedVectors.get_vector\u001b[0;34m(self, key, norm)\u001b[0m\n\u001b[1;32m    422\u001b[0m \u001b[38;5;28;01mdef\u001b[39;00m \u001b[38;5;21mget_vector\u001b[39m(\u001b[38;5;28mself\u001b[39m, key, norm\u001b[38;5;241m=\u001b[39m\u001b[38;5;28;01mFalse\u001b[39;00m):\n\u001b[1;32m    423\u001b[0m     \u001b[38;5;124;03m\"\"\"Get the key's vector, as a 1D numpy array.\u001b[39;00m\n\u001b[1;32m    424\u001b[0m \n\u001b[1;32m    425\u001b[0m \u001b[38;5;124;03m    Parameters\u001b[39;00m\n\u001b[0;32m   (...)\u001b[0m\n\u001b[1;32m    444\u001b[0m \n\u001b[1;32m    445\u001b[0m \u001b[38;5;124;03m    \"\"\"\u001b[39;00m\n\u001b[0;32m--> 446\u001b[0m     index \u001b[38;5;241m=\u001b[39m \u001b[38;5;28;43mself\u001b[39;49m\u001b[38;5;241;43m.\u001b[39;49m\u001b[43mget_index\u001b[49m\u001b[43m(\u001b[49m\u001b[43mkey\u001b[49m\u001b[43m)\u001b[49m\n\u001b[1;32m    447\u001b[0m     \u001b[38;5;28;01mif\u001b[39;00m norm:\n\u001b[1;32m    448\u001b[0m         \u001b[38;5;28mself\u001b[39m\u001b[38;5;241m.\u001b[39mfill_norms()\n",
      "File \u001b[0;32m~/opt/anaconda3/envs/CSS2023/lib/python3.10/site-packages/gensim/models/keyedvectors.py:420\u001b[0m, in \u001b[0;36mKeyedVectors.get_index\u001b[0;34m(self, key, default)\u001b[0m\n\u001b[1;32m    418\u001b[0m     \u001b[38;5;28;01mreturn\u001b[39;00m default\n\u001b[1;32m    419\u001b[0m \u001b[38;5;28;01melse\u001b[39;00m:\n\u001b[0;32m--> 420\u001b[0m     \u001b[38;5;28;01mraise\u001b[39;00m \u001b[38;5;167;01mKeyError\u001b[39;00m(\u001b[38;5;124mf\u001b[39m\u001b[38;5;124m\"\u001b[39m\u001b[38;5;124mKey \u001b[39m\u001b[38;5;124m'\u001b[39m\u001b[38;5;132;01m{\u001b[39;00mkey\u001b[38;5;132;01m}\u001b[39;00m\u001b[38;5;124m'\u001b[39m\u001b[38;5;124m not present\u001b[39m\u001b[38;5;124m\"\u001b[39m)\n",
      "\u001b[0;31mKeyError\u001b[0m: \"Key 'hi' not present\""
     ]
    }
   ],
   "source": [
    "# new words? cannot handle\n",
    "model_1.wv['hi']"
   ]
  },
  {
   "cell_type": "code",
   "execution_count": 8,
   "metadata": {},
   "outputs": [
    {
     "data": {
      "text/plain": [
       "[('user', 0.06793873757123947),\n",
       " ('survey', 0.033640600740909576),\n",
       " ('eps', 0.0093911811709404),\n",
       " ('human', 0.008315952494740486),\n",
       " ('minors', 0.004503021948039532),\n",
       " ('system', -0.010839170776307583),\n",
       " ('trees', -0.023671651259064674),\n",
       " ('computer', -0.09575343132019043),\n",
       " ('time', -0.11410721391439438),\n",
       " ('response', -0.11557212471961975)]"
      ]
     },
     "execution_count": 8,
     "metadata": {},
     "output_type": "execute_result"
    }
   ],
   "source": [
    "model_1.wv.most_similar('graph')"
   ]
  },
  {
   "cell_type": "code",
   "execution_count": 9,
   "metadata": {},
   "outputs": [],
   "source": [
    "## save model\n",
    "model_1.save(\"word2vec.model\")"
   ]
  },
  {
   "cell_type": "markdown",
   "metadata": {},
   "source": [
    "## 2) WORD EMBEDDING Using a Real Dataset"
   ]
  },
  {
   "cell_type": "markdown",
   "metadata": {},
   "source": [
    "In this example, I use [a dataset from Kaggle](https://www.kaggle.com/CooperUnion/cardataset). This cars dataset includes features such as make, model, year, engine, and other properties of the car. We will use these features to generate the word embeddings for each make model and then compare the similarities between different make model. The following dataframe shows the detail information of this dataset."
   ]
  },
  {
   "cell_type": "markdown",
   "metadata": {},
   "source": [
    "Note what we are doing: **the structure of word embedding can not only be used on text but also on observation-feature dataframes**! Fundamentally it's about dimension reduction. \n",
    "\n",
    "In fact this is [also true for topic modeling (LDA)](https://www.journals.uchicago.edu/doi/10.1086/705331)"
   ]
  },
  {
   "cell_type": "code",
   "execution_count": 6,
   "metadata": {},
   "outputs": [
    {
     "data": {
      "text/html": [
       "<div>\n",
       "<style scoped>\n",
       "    .dataframe tbody tr th:only-of-type {\n",
       "        vertical-align: middle;\n",
       "    }\n",
       "\n",
       "    .dataframe tbody tr th {\n",
       "        vertical-align: top;\n",
       "    }\n",
       "\n",
       "    .dataframe thead th {\n",
       "        text-align: right;\n",
       "    }\n",
       "</style>\n",
       "<table border=\"1\" class=\"dataframe\">\n",
       "  <thead>\n",
       "    <tr style=\"text-align: right;\">\n",
       "      <th></th>\n",
       "      <th>Make</th>\n",
       "      <th>Model</th>\n",
       "      <th>Year</th>\n",
       "      <th>Engine Fuel Type</th>\n",
       "      <th>Engine HP</th>\n",
       "      <th>Engine Cylinders</th>\n",
       "      <th>Transmission Type</th>\n",
       "      <th>Driven_Wheels</th>\n",
       "      <th>Number of Doors</th>\n",
       "      <th>Market Category</th>\n",
       "      <th>Vehicle Size</th>\n",
       "      <th>Vehicle Style</th>\n",
       "      <th>highway MPG</th>\n",
       "      <th>city mpg</th>\n",
       "      <th>Popularity</th>\n",
       "      <th>MSRP</th>\n",
       "    </tr>\n",
       "  </thead>\n",
       "  <tbody>\n",
       "    <tr>\n",
       "      <th>0</th>\n",
       "      <td>BMW</td>\n",
       "      <td>1 Series M</td>\n",
       "      <td>2011</td>\n",
       "      <td>premium unleaded (required)</td>\n",
       "      <td>335.0</td>\n",
       "      <td>6.0</td>\n",
       "      <td>MANUAL</td>\n",
       "      <td>rear wheel drive</td>\n",
       "      <td>2.0</td>\n",
       "      <td>Factory Tuner,Luxury,High-Performance</td>\n",
       "      <td>Compact</td>\n",
       "      <td>Coupe</td>\n",
       "      <td>26</td>\n",
       "      <td>19</td>\n",
       "      <td>3916</td>\n",
       "      <td>46135</td>\n",
       "    </tr>\n",
       "    <tr>\n",
       "      <th>1</th>\n",
       "      <td>BMW</td>\n",
       "      <td>1 Series</td>\n",
       "      <td>2011</td>\n",
       "      <td>premium unleaded (required)</td>\n",
       "      <td>300.0</td>\n",
       "      <td>6.0</td>\n",
       "      <td>MANUAL</td>\n",
       "      <td>rear wheel drive</td>\n",
       "      <td>2.0</td>\n",
       "      <td>Luxury,Performance</td>\n",
       "      <td>Compact</td>\n",
       "      <td>Convertible</td>\n",
       "      <td>28</td>\n",
       "      <td>19</td>\n",
       "      <td>3916</td>\n",
       "      <td>40650</td>\n",
       "    </tr>\n",
       "    <tr>\n",
       "      <th>2</th>\n",
       "      <td>BMW</td>\n",
       "      <td>1 Series</td>\n",
       "      <td>2011</td>\n",
       "      <td>premium unleaded (required)</td>\n",
       "      <td>300.0</td>\n",
       "      <td>6.0</td>\n",
       "      <td>MANUAL</td>\n",
       "      <td>rear wheel drive</td>\n",
       "      <td>2.0</td>\n",
       "      <td>Luxury,High-Performance</td>\n",
       "      <td>Compact</td>\n",
       "      <td>Coupe</td>\n",
       "      <td>28</td>\n",
       "      <td>20</td>\n",
       "      <td>3916</td>\n",
       "      <td>36350</td>\n",
       "    </tr>\n",
       "    <tr>\n",
       "      <th>3</th>\n",
       "      <td>BMW</td>\n",
       "      <td>1 Series</td>\n",
       "      <td>2011</td>\n",
       "      <td>premium unleaded (required)</td>\n",
       "      <td>230.0</td>\n",
       "      <td>6.0</td>\n",
       "      <td>MANUAL</td>\n",
       "      <td>rear wheel drive</td>\n",
       "      <td>2.0</td>\n",
       "      <td>Luxury,Performance</td>\n",
       "      <td>Compact</td>\n",
       "      <td>Coupe</td>\n",
       "      <td>28</td>\n",
       "      <td>18</td>\n",
       "      <td>3916</td>\n",
       "      <td>29450</td>\n",
       "    </tr>\n",
       "    <tr>\n",
       "      <th>4</th>\n",
       "      <td>BMW</td>\n",
       "      <td>1 Series</td>\n",
       "      <td>2011</td>\n",
       "      <td>premium unleaded (required)</td>\n",
       "      <td>230.0</td>\n",
       "      <td>6.0</td>\n",
       "      <td>MANUAL</td>\n",
       "      <td>rear wheel drive</td>\n",
       "      <td>2.0</td>\n",
       "      <td>Luxury</td>\n",
       "      <td>Compact</td>\n",
       "      <td>Convertible</td>\n",
       "      <td>28</td>\n",
       "      <td>18</td>\n",
       "      <td>3916</td>\n",
       "      <td>34500</td>\n",
       "    </tr>\n",
       "  </tbody>\n",
       "</table>\n",
       "</div>"
      ],
      "text/plain": [
       "  Make       Model  Year             Engine Fuel Type  Engine HP  \\\n",
       "0  BMW  1 Series M  2011  premium unleaded (required)      335.0   \n",
       "1  BMW    1 Series  2011  premium unleaded (required)      300.0   \n",
       "2  BMW    1 Series  2011  premium unleaded (required)      300.0   \n",
       "3  BMW    1 Series  2011  premium unleaded (required)      230.0   \n",
       "4  BMW    1 Series  2011  premium unleaded (required)      230.0   \n",
       "\n",
       "   Engine Cylinders Transmission Type     Driven_Wheels  Number of Doors  \\\n",
       "0               6.0            MANUAL  rear wheel drive              2.0   \n",
       "1               6.0            MANUAL  rear wheel drive              2.0   \n",
       "2               6.0            MANUAL  rear wheel drive              2.0   \n",
       "3               6.0            MANUAL  rear wheel drive              2.0   \n",
       "4               6.0            MANUAL  rear wheel drive              2.0   \n",
       "\n",
       "                         Market Category Vehicle Size Vehicle Style  \\\n",
       "0  Factory Tuner,Luxury,High-Performance      Compact         Coupe   \n",
       "1                     Luxury,Performance      Compact   Convertible   \n",
       "2                Luxury,High-Performance      Compact         Coupe   \n",
       "3                     Luxury,Performance      Compact         Coupe   \n",
       "4                                 Luxury      Compact   Convertible   \n",
       "\n",
       "   highway MPG  city mpg  Popularity   MSRP  \n",
       "0           26        19        3916  46135  \n",
       "1           28        19        3916  40650  \n",
       "2           28        20        3916  36350  \n",
       "3           28        18        3916  29450  \n",
       "4           28        18        3916  34500  "
      ]
     },
     "execution_count": 6,
     "metadata": {},
     "output_type": "execute_result"
    }
   ],
   "source": [
    "df = pd.read_csv('data.csv')\n",
    "df.head()"
   ]
  },
  {
   "cell_type": "markdown",
   "metadata": {},
   "source": [
    "### PRE-PROCESS WORDS"
   ]
  },
  {
   "cell_type": "markdown",
   "metadata": {},
   "source": [
    "- Cleaning \n",
    "    - Removing the missing values;\n",
    "    - Lemmatizing;\n",
    "    - Removing the stopwords;\n",
    "    - Removes non-alphabetic characters: regular expression;\n",
    "    - Bigrams: We can use Gensim Phrases package to automatically detect common phrases (bigrams) from a list of sentences. https://radimrehurek.com/gensim/models/phrases.html\n",
    "\n",
    "         ```python\n",
    "         from gensim.models.phrases import Phrases, Phraser\n",
    "         ```\n",
    "         - As Phrases() takes a list of list of words as input:\n",
    "        ```python\n",
    "        sent = [row.split() for row in df_clean['clean']]\n",
    "        ```\n"
   ]
  },
  {
   "cell_type": "markdown",
   "metadata": {},
   "source": [
    "Since the purpose of this tutorial is to learn how to generate word embeddings using genism library, I will not do the EDA and feature selection for the word2vec model for the sake of simplicity. \n",
    "<br> \n",
    "Genism word2Vec requires that a format of list of list for training where every document is contained in a list and every list contains list of tokens of that document. At first, we need to generate a format of list of list for training the make model word embedding. To be more specific, each make model is contained in a list and every list contains list of features of that make model.\n",
    "\n",
    "To achieve these, we need to do the following data preprocessing steps:\n",
    "\n",
    "1. Create a new column for Make Model \n",
    "2. Generate a format of list of list for each Make Model with the following features: Engine Fuel Type, Transmission Type, Driven_Wheels, Market Category, Vehicle Size and Vehicle Style. \n"
   ]
  },
  {
   "cell_type": "markdown",
   "metadata": {},
   "source": [
    "1. Create a new column for Make Model"
   ]
  },
  {
   "cell_type": "code",
   "execution_count": 7,
   "metadata": {},
   "outputs": [],
   "source": [
    "df['Maker_Model']= df['Make']+ \" \" + df['Model']"
   ]
  },
  {
   "cell_type": "markdown",
   "metadata": {},
   "source": [
    "2. Generate a format of list of list for each Make Model "
   ]
  },
  {
   "cell_type": "code",
   "execution_count": 8,
   "metadata": {},
   "outputs": [
    {
     "data": {
      "text/html": [
       "<div>\n",
       "<style scoped>\n",
       "    .dataframe tbody tr th:only-of-type {\n",
       "        vertical-align: middle;\n",
       "    }\n",
       "\n",
       "    .dataframe tbody tr th {\n",
       "        vertical-align: top;\n",
       "    }\n",
       "\n",
       "    .dataframe thead th {\n",
       "        text-align: right;\n",
       "    }\n",
       "</style>\n",
       "<table border=\"1\" class=\"dataframe\">\n",
       "  <thead>\n",
       "    <tr style=\"text-align: right;\">\n",
       "      <th></th>\n",
       "      <th>Make</th>\n",
       "      <th>Model</th>\n",
       "      <th>Year</th>\n",
       "      <th>Engine Fuel Type</th>\n",
       "      <th>Engine HP</th>\n",
       "      <th>Engine Cylinders</th>\n",
       "      <th>Transmission Type</th>\n",
       "      <th>Driven_Wheels</th>\n",
       "      <th>Number of Doors</th>\n",
       "      <th>Market Category</th>\n",
       "      <th>Vehicle Size</th>\n",
       "      <th>Vehicle Style</th>\n",
       "      <th>highway MPG</th>\n",
       "      <th>city mpg</th>\n",
       "      <th>Popularity</th>\n",
       "      <th>MSRP</th>\n",
       "      <th>Maker_Model</th>\n",
       "    </tr>\n",
       "  </thead>\n",
       "  <tbody>\n",
       "    <tr>\n",
       "      <th>0</th>\n",
       "      <td>BMW</td>\n",
       "      <td>1 Series M</td>\n",
       "      <td>2011</td>\n",
       "      <td>premium unleaded (required)</td>\n",
       "      <td>335.0</td>\n",
       "      <td>6.0</td>\n",
       "      <td>MANUAL</td>\n",
       "      <td>rear wheel drive</td>\n",
       "      <td>2.0</td>\n",
       "      <td>Factory Tuner,Luxury,High-Performance</td>\n",
       "      <td>Compact</td>\n",
       "      <td>Coupe</td>\n",
       "      <td>26</td>\n",
       "      <td>19</td>\n",
       "      <td>3916</td>\n",
       "      <td>46135</td>\n",
       "      <td>BMW 1 Series M</td>\n",
       "    </tr>\n",
       "    <tr>\n",
       "      <th>1</th>\n",
       "      <td>BMW</td>\n",
       "      <td>1 Series</td>\n",
       "      <td>2011</td>\n",
       "      <td>premium unleaded (required)</td>\n",
       "      <td>300.0</td>\n",
       "      <td>6.0</td>\n",
       "      <td>MANUAL</td>\n",
       "      <td>rear wheel drive</td>\n",
       "      <td>2.0</td>\n",
       "      <td>Luxury,Performance</td>\n",
       "      <td>Compact</td>\n",
       "      <td>Convertible</td>\n",
       "      <td>28</td>\n",
       "      <td>19</td>\n",
       "      <td>3916</td>\n",
       "      <td>40650</td>\n",
       "      <td>BMW 1 Series</td>\n",
       "    </tr>\n",
       "    <tr>\n",
       "      <th>2</th>\n",
       "      <td>BMW</td>\n",
       "      <td>1 Series</td>\n",
       "      <td>2011</td>\n",
       "      <td>premium unleaded (required)</td>\n",
       "      <td>300.0</td>\n",
       "      <td>6.0</td>\n",
       "      <td>MANUAL</td>\n",
       "      <td>rear wheel drive</td>\n",
       "      <td>2.0</td>\n",
       "      <td>Luxury,High-Performance</td>\n",
       "      <td>Compact</td>\n",
       "      <td>Coupe</td>\n",
       "      <td>28</td>\n",
       "      <td>20</td>\n",
       "      <td>3916</td>\n",
       "      <td>36350</td>\n",
       "      <td>BMW 1 Series</td>\n",
       "    </tr>\n",
       "    <tr>\n",
       "      <th>3</th>\n",
       "      <td>BMW</td>\n",
       "      <td>1 Series</td>\n",
       "      <td>2011</td>\n",
       "      <td>premium unleaded (required)</td>\n",
       "      <td>230.0</td>\n",
       "      <td>6.0</td>\n",
       "      <td>MANUAL</td>\n",
       "      <td>rear wheel drive</td>\n",
       "      <td>2.0</td>\n",
       "      <td>Luxury,Performance</td>\n",
       "      <td>Compact</td>\n",
       "      <td>Coupe</td>\n",
       "      <td>28</td>\n",
       "      <td>18</td>\n",
       "      <td>3916</td>\n",
       "      <td>29450</td>\n",
       "      <td>BMW 1 Series</td>\n",
       "    </tr>\n",
       "    <tr>\n",
       "      <th>4</th>\n",
       "      <td>BMW</td>\n",
       "      <td>1 Series</td>\n",
       "      <td>2011</td>\n",
       "      <td>premium unleaded (required)</td>\n",
       "      <td>230.0</td>\n",
       "      <td>6.0</td>\n",
       "      <td>MANUAL</td>\n",
       "      <td>rear wheel drive</td>\n",
       "      <td>2.0</td>\n",
       "      <td>Luxury</td>\n",
       "      <td>Compact</td>\n",
       "      <td>Convertible</td>\n",
       "      <td>28</td>\n",
       "      <td>18</td>\n",
       "      <td>3916</td>\n",
       "      <td>34500</td>\n",
       "      <td>BMW 1 Series</td>\n",
       "    </tr>\n",
       "  </tbody>\n",
       "</table>\n",
       "</div>"
      ],
      "text/plain": [
       "  Make       Model  Year             Engine Fuel Type  Engine HP  \\\n",
       "0  BMW  1 Series M  2011  premium unleaded (required)      335.0   \n",
       "1  BMW    1 Series  2011  premium unleaded (required)      300.0   \n",
       "2  BMW    1 Series  2011  premium unleaded (required)      300.0   \n",
       "3  BMW    1 Series  2011  premium unleaded (required)      230.0   \n",
       "4  BMW    1 Series  2011  premium unleaded (required)      230.0   \n",
       "\n",
       "   Engine Cylinders Transmission Type     Driven_Wheels  Number of Doors  \\\n",
       "0               6.0            MANUAL  rear wheel drive              2.0   \n",
       "1               6.0            MANUAL  rear wheel drive              2.0   \n",
       "2               6.0            MANUAL  rear wheel drive              2.0   \n",
       "3               6.0            MANUAL  rear wheel drive              2.0   \n",
       "4               6.0            MANUAL  rear wheel drive              2.0   \n",
       "\n",
       "                         Market Category Vehicle Size Vehicle Style  \\\n",
       "0  Factory Tuner,Luxury,High-Performance      Compact         Coupe   \n",
       "1                     Luxury,Performance      Compact   Convertible   \n",
       "2                Luxury,High-Performance      Compact         Coupe   \n",
       "3                     Luxury,Performance      Compact         Coupe   \n",
       "4                                 Luxury      Compact   Convertible   \n",
       "\n",
       "   highway MPG  city mpg  Popularity   MSRP     Maker_Model  \n",
       "0           26        19        3916  46135  BMW 1 Series M  \n",
       "1           28        19        3916  40650    BMW 1 Series  \n",
       "2           28        20        3916  36350    BMW 1 Series  \n",
       "3           28        18        3916  29450    BMW 1 Series  \n",
       "4           28        18        3916  34500    BMW 1 Series  "
      ]
     },
     "execution_count": 8,
     "metadata": {},
     "output_type": "execute_result"
    }
   ],
   "source": [
    "df.head()"
   ]
  },
  {
   "cell_type": "code",
   "execution_count": 9,
   "metadata": {},
   "outputs": [
    {
     "data": {
      "text/html": [
       "<div>\n",
       "<style scoped>\n",
       "    .dataframe tbody tr th:only-of-type {\n",
       "        vertical-align: middle;\n",
       "    }\n",
       "\n",
       "    .dataframe tbody tr th {\n",
       "        vertical-align: top;\n",
       "    }\n",
       "\n",
       "    .dataframe thead th {\n",
       "        text-align: right;\n",
       "    }\n",
       "</style>\n",
       "<table border=\"1\" class=\"dataframe\">\n",
       "  <thead>\n",
       "    <tr style=\"text-align: right;\">\n",
       "      <th></th>\n",
       "      <th>Engine Fuel Type</th>\n",
       "      <th>Transmission Type</th>\n",
       "      <th>Driven_Wheels</th>\n",
       "      <th>Market Category</th>\n",
       "      <th>Vehicle Size</th>\n",
       "      <th>Vehicle Style</th>\n",
       "      <th>Maker_Model</th>\n",
       "    </tr>\n",
       "  </thead>\n",
       "  <tbody>\n",
       "    <tr>\n",
       "      <th>0</th>\n",
       "      <td>premium unleaded (required)</td>\n",
       "      <td>MANUAL</td>\n",
       "      <td>rear wheel drive</td>\n",
       "      <td>Factory Tuner,Luxury,High-Performance</td>\n",
       "      <td>Compact</td>\n",
       "      <td>Coupe</td>\n",
       "      <td>BMW 1 Series M</td>\n",
       "    </tr>\n",
       "    <tr>\n",
       "      <th>1</th>\n",
       "      <td>premium unleaded (required)</td>\n",
       "      <td>MANUAL</td>\n",
       "      <td>rear wheel drive</td>\n",
       "      <td>Luxury,Performance</td>\n",
       "      <td>Compact</td>\n",
       "      <td>Convertible</td>\n",
       "      <td>BMW 1 Series</td>\n",
       "    </tr>\n",
       "    <tr>\n",
       "      <th>2</th>\n",
       "      <td>premium unleaded (required)</td>\n",
       "      <td>MANUAL</td>\n",
       "      <td>rear wheel drive</td>\n",
       "      <td>Luxury,High-Performance</td>\n",
       "      <td>Compact</td>\n",
       "      <td>Coupe</td>\n",
       "      <td>BMW 1 Series</td>\n",
       "    </tr>\n",
       "    <tr>\n",
       "      <th>3</th>\n",
       "      <td>premium unleaded (required)</td>\n",
       "      <td>MANUAL</td>\n",
       "      <td>rear wheel drive</td>\n",
       "      <td>Luxury,Performance</td>\n",
       "      <td>Compact</td>\n",
       "      <td>Coupe</td>\n",
       "      <td>BMW 1 Series</td>\n",
       "    </tr>\n",
       "    <tr>\n",
       "      <th>4</th>\n",
       "      <td>premium unleaded (required)</td>\n",
       "      <td>MANUAL</td>\n",
       "      <td>rear wheel drive</td>\n",
       "      <td>Luxury</td>\n",
       "      <td>Compact</td>\n",
       "      <td>Convertible</td>\n",
       "      <td>BMW 1 Series</td>\n",
       "    </tr>\n",
       "    <tr>\n",
       "      <th>...</th>\n",
       "      <td>...</td>\n",
       "      <td>...</td>\n",
       "      <td>...</td>\n",
       "      <td>...</td>\n",
       "      <td>...</td>\n",
       "      <td>...</td>\n",
       "      <td>...</td>\n",
       "    </tr>\n",
       "    <tr>\n",
       "      <th>11909</th>\n",
       "      <td>premium unleaded (required)</td>\n",
       "      <td>AUTOMATIC</td>\n",
       "      <td>all wheel drive</td>\n",
       "      <td>Crossover,Hatchback,Luxury</td>\n",
       "      <td>Midsize</td>\n",
       "      <td>4dr Hatchback</td>\n",
       "      <td>Acura ZDX</td>\n",
       "    </tr>\n",
       "    <tr>\n",
       "      <th>11910</th>\n",
       "      <td>premium unleaded (required)</td>\n",
       "      <td>AUTOMATIC</td>\n",
       "      <td>all wheel drive</td>\n",
       "      <td>Crossover,Hatchback,Luxury</td>\n",
       "      <td>Midsize</td>\n",
       "      <td>4dr Hatchback</td>\n",
       "      <td>Acura ZDX</td>\n",
       "    </tr>\n",
       "    <tr>\n",
       "      <th>11911</th>\n",
       "      <td>premium unleaded (required)</td>\n",
       "      <td>AUTOMATIC</td>\n",
       "      <td>all wheel drive</td>\n",
       "      <td>Crossover,Hatchback,Luxury</td>\n",
       "      <td>Midsize</td>\n",
       "      <td>4dr Hatchback</td>\n",
       "      <td>Acura ZDX</td>\n",
       "    </tr>\n",
       "    <tr>\n",
       "      <th>11912</th>\n",
       "      <td>premium unleaded (recommended)</td>\n",
       "      <td>AUTOMATIC</td>\n",
       "      <td>all wheel drive</td>\n",
       "      <td>Crossover,Hatchback,Luxury</td>\n",
       "      <td>Midsize</td>\n",
       "      <td>4dr Hatchback</td>\n",
       "      <td>Acura ZDX</td>\n",
       "    </tr>\n",
       "    <tr>\n",
       "      <th>11913</th>\n",
       "      <td>regular unleaded</td>\n",
       "      <td>AUTOMATIC</td>\n",
       "      <td>front wheel drive</td>\n",
       "      <td>Luxury</td>\n",
       "      <td>Midsize</td>\n",
       "      <td>Sedan</td>\n",
       "      <td>Lincoln Zephyr</td>\n",
       "    </tr>\n",
       "  </tbody>\n",
       "</table>\n",
       "<p>11914 rows × 7 columns</p>\n",
       "</div>"
      ],
      "text/plain": [
       "                     Engine Fuel Type Transmission Type      Driven_Wheels  \\\n",
       "0         premium unleaded (required)            MANUAL   rear wheel drive   \n",
       "1         premium unleaded (required)            MANUAL   rear wheel drive   \n",
       "2         premium unleaded (required)            MANUAL   rear wheel drive   \n",
       "3         premium unleaded (required)            MANUAL   rear wheel drive   \n",
       "4         premium unleaded (required)            MANUAL   rear wheel drive   \n",
       "...                               ...               ...                ...   \n",
       "11909     premium unleaded (required)         AUTOMATIC    all wheel drive   \n",
       "11910     premium unleaded (required)         AUTOMATIC    all wheel drive   \n",
       "11911     premium unleaded (required)         AUTOMATIC    all wheel drive   \n",
       "11912  premium unleaded (recommended)         AUTOMATIC    all wheel drive   \n",
       "11913                regular unleaded         AUTOMATIC  front wheel drive   \n",
       "\n",
       "                             Market Category Vehicle Size  Vehicle Style  \\\n",
       "0      Factory Tuner,Luxury,High-Performance      Compact          Coupe   \n",
       "1                         Luxury,Performance      Compact    Convertible   \n",
       "2                    Luxury,High-Performance      Compact          Coupe   \n",
       "3                         Luxury,Performance      Compact          Coupe   \n",
       "4                                     Luxury      Compact    Convertible   \n",
       "...                                      ...          ...            ...   \n",
       "11909             Crossover,Hatchback,Luxury      Midsize  4dr Hatchback   \n",
       "11910             Crossover,Hatchback,Luxury      Midsize  4dr Hatchback   \n",
       "11911             Crossover,Hatchback,Luxury      Midsize  4dr Hatchback   \n",
       "11912             Crossover,Hatchback,Luxury      Midsize  4dr Hatchback   \n",
       "11913                                 Luxury      Midsize          Sedan   \n",
       "\n",
       "          Maker_Model  \n",
       "0      BMW 1 Series M  \n",
       "1        BMW 1 Series  \n",
       "2        BMW 1 Series  \n",
       "3        BMW 1 Series  \n",
       "4        BMW 1 Series  \n",
       "...               ...  \n",
       "11909       Acura ZDX  \n",
       "11910       Acura ZDX  \n",
       "11911       Acura ZDX  \n",
       "11912       Acura ZDX  \n",
       "11913  Lincoln Zephyr  \n",
       "\n",
       "[11914 rows x 7 columns]"
      ]
     },
     "execution_count": 9,
     "metadata": {},
     "output_type": "execute_result"
    }
   ],
   "source": [
    "# Select features from original dataset to form a new dataframe \n",
    "df1 = df[['Engine Fuel Type','Transmission Type','Driven_Wheels','Market Category',\n",
    "          'Vehicle Size', 'Vehicle Style', 'Maker_Model']]\n",
    "df1"
   ]
  },
  {
   "cell_type": "code",
   "execution_count": 10,
   "metadata": {},
   "outputs": [
    {
     "data": {
      "text/plain": [
       "0        premium unleaded (required),MANUAL,rear wheel ...\n",
       "1        premium unleaded (required),MANUAL,rear wheel ...\n",
       "2        premium unleaded (required),MANUAL,rear wheel ...\n",
       "3        premium unleaded (required),MANUAL,rear wheel ...\n",
       "4        premium unleaded (required),MANUAL,rear wheel ...\n",
       "                               ...                        \n",
       "11909    premium unleaded (required),AUTOMATIC,all whee...\n",
       "11910    premium unleaded (required),AUTOMATIC,all whee...\n",
       "11911    premium unleaded (required),AUTOMATIC,all whee...\n",
       "11912    premium unleaded (recommended),AUTOMATIC,all w...\n",
       "11913    regular unleaded,AUTOMATIC,front wheel drive,L...\n",
       "Length: 11914, dtype: object"
      ]
     },
     "execution_count": 10,
     "metadata": {},
     "output_type": "execute_result"
    }
   ],
   "source": [
    "# For each row, combine all the columns into one column\n",
    "df2 = df1.apply(lambda x: ','.join(x.astype(str)), axis=1) \n",
    "df2"
   ]
  },
  {
   "cell_type": "code",
   "execution_count": 11,
   "metadata": {},
   "outputs": [
    {
     "data": {
      "text/html": [
       "<div>\n",
       "<style scoped>\n",
       "    .dataframe tbody tr th:only-of-type {\n",
       "        vertical-align: middle;\n",
       "    }\n",
       "\n",
       "    .dataframe tbody tr th {\n",
       "        vertical-align: top;\n",
       "    }\n",
       "\n",
       "    .dataframe thead th {\n",
       "        text-align: right;\n",
       "    }\n",
       "</style>\n",
       "<table border=\"1\" class=\"dataframe\">\n",
       "  <thead>\n",
       "    <tr style=\"text-align: right;\">\n",
       "      <th></th>\n",
       "      <th>clean</th>\n",
       "    </tr>\n",
       "  </thead>\n",
       "  <tbody>\n",
       "    <tr>\n",
       "      <th>0</th>\n",
       "      <td>premium unleaded (required),MANUAL,rear wheel ...</td>\n",
       "    </tr>\n",
       "    <tr>\n",
       "      <th>1</th>\n",
       "      <td>premium unleaded (required),MANUAL,rear wheel ...</td>\n",
       "    </tr>\n",
       "    <tr>\n",
       "      <th>2</th>\n",
       "      <td>premium unleaded (required),MANUAL,rear wheel ...</td>\n",
       "    </tr>\n",
       "    <tr>\n",
       "      <th>3</th>\n",
       "      <td>premium unleaded (required),MANUAL,rear wheel ...</td>\n",
       "    </tr>\n",
       "    <tr>\n",
       "      <th>4</th>\n",
       "      <td>premium unleaded (required),MANUAL,rear wheel ...</td>\n",
       "    </tr>\n",
       "    <tr>\n",
       "      <th>...</th>\n",
       "      <td>...</td>\n",
       "    </tr>\n",
       "    <tr>\n",
       "      <th>11909</th>\n",
       "      <td>premium unleaded (required),AUTOMATIC,all whee...</td>\n",
       "    </tr>\n",
       "    <tr>\n",
       "      <th>11910</th>\n",
       "      <td>premium unleaded (required),AUTOMATIC,all whee...</td>\n",
       "    </tr>\n",
       "    <tr>\n",
       "      <th>11911</th>\n",
       "      <td>premium unleaded (required),AUTOMATIC,all whee...</td>\n",
       "    </tr>\n",
       "    <tr>\n",
       "      <th>11912</th>\n",
       "      <td>premium unleaded (recommended),AUTOMATIC,all w...</td>\n",
       "    </tr>\n",
       "    <tr>\n",
       "      <th>11913</th>\n",
       "      <td>regular unleaded,AUTOMATIC,front wheel drive,L...</td>\n",
       "    </tr>\n",
       "  </tbody>\n",
       "</table>\n",
       "<p>11914 rows × 1 columns</p>\n",
       "</div>"
      ],
      "text/plain": [
       "                                                   clean\n",
       "0      premium unleaded (required),MANUAL,rear wheel ...\n",
       "1      premium unleaded (required),MANUAL,rear wheel ...\n",
       "2      premium unleaded (required),MANUAL,rear wheel ...\n",
       "3      premium unleaded (required),MANUAL,rear wheel ...\n",
       "4      premium unleaded (required),MANUAL,rear wheel ...\n",
       "...                                                  ...\n",
       "11909  premium unleaded (required),AUTOMATIC,all whee...\n",
       "11910  premium unleaded (required),AUTOMATIC,all whee...\n",
       "11911  premium unleaded (required),AUTOMATIC,all whee...\n",
       "11912  premium unleaded (recommended),AUTOMATIC,all w...\n",
       "11913  regular unleaded,AUTOMATIC,front wheel drive,L...\n",
       "\n",
       "[11914 rows x 1 columns]"
      ]
     },
     "execution_count": 11,
     "metadata": {},
     "output_type": "execute_result"
    }
   ],
   "source": [
    "# Store them in the pandas dataframe\n",
    "df_clean = pd.DataFrame({'clean': df2}) \n",
    "\n",
    "df_clean"
   ]
  },
  {
   "cell_type": "code",
   "execution_count": 16,
   "metadata": {},
   "outputs": [
    {
     "data": {
      "text/plain": [
       "'premium unleaded (required),MANUAL,rear wheel drive,Factory Tuner,Luxury,High-Performance,Compact,Coupe,BMW 1 Series M'"
      ]
     },
     "execution_count": 16,
     "metadata": {},
     "output_type": "execute_result"
    }
   ],
   "source": [
    "df_clean['clean'][0]"
   ]
  },
  {
   "cell_type": "code",
   "execution_count": 12,
   "metadata": {},
   "outputs": [
    {
     "data": {
      "text/plain": [
       "[['premium unleaded (required)',\n",
       "  'MANUAL',\n",
       "  'rear wheel drive',\n",
       "  'Factory Tuner',\n",
       "  'Luxury',\n",
       "  'High-Performance',\n",
       "  'Compact',\n",
       "  'Coupe',\n",
       "  'BMW 1 Series M'],\n",
       " ['premium unleaded (required)',\n",
       "  'MANUAL',\n",
       "  'rear wheel drive',\n",
       "  'Luxury',\n",
       "  'Performance',\n",
       "  'Compact',\n",
       "  'Convertible',\n",
       "  'BMW 1 Series']]"
      ]
     },
     "execution_count": 12,
     "metadata": {},
     "output_type": "execute_result"
    }
   ],
   "source": [
    "# Create the list of list format of the custom corpus for gensim modeling \n",
    "sent = [row.split(',') for row in df_clean['clean']]\n",
    "# show the example of list of list format of the custom corpus for gensim modeling \n",
    "sent[:2] "
   ]
  },
  {
   "cell_type": "code",
   "execution_count": 13,
   "metadata": {},
   "outputs": [
    {
     "data": {
      "text/plain": [
       "11914"
      ]
     },
     "execution_count": 13,
     "metadata": {},
     "output_type": "execute_result"
    }
   ],
   "source": [
    "len(sent)"
   ]
  },
  {
   "cell_type": "markdown",
   "metadata": {},
   "source": [
    "### Genism word2vec Model Training "
   ]
  },
  {
   "cell_type": "code",
   "execution_count": 14,
   "metadata": {},
   "outputs": [],
   "source": [
    "## Train the genisim word2vec model with our own custom corpus\n",
    "model_2 = Word2Vec(sent, min_count=1, vector_size= 50, workers=3, window =3, sg = 1)"
   ]
  },
  {
   "cell_type": "code",
   "execution_count": 15,
   "metadata": {},
   "outputs": [
    {
     "data": {
      "text/plain": [
       "array([-5.74703664e-02, -4.58377181e-03,  8.76087397e-02,  8.64807423e-03,\n",
       "       -7.86195397e-02, -2.37195387e-01, -1.05862528e-01,  2.93037474e-01,\n",
       "       -4.43907687e-03, -1.52678907e-01,  1.83314204e-01,  3.05346884e-02,\n",
       "       -7.17390850e-02, -1.80531070e-02,  5.72743826e-02,  1.61269024e-01,\n",
       "        1.89579666e-01,  1.15871727e-01, -5.43897739e-04, -3.15963864e-01,\n",
       "       -7.09429234e-02, -1.01536745e-02,  2.26830363e-01, -3.84344943e-02,\n",
       "        2.05004558e-01,  2.61032581e-02, -2.35099196e-01,  3.65706950e-01,\n",
       "        4.89549153e-02, -1.64420947e-01, -9.74187329e-02,  1.03337564e-01,\n",
       "       -1.86236165e-02,  1.45813450e-01,  2.11824197e-02, -6.86682686e-02,\n",
       "        1.13999464e-01,  1.94385881e-04,  1.03278048e-01,  1.53456762e-01,\n",
       "        6.90443292e-02,  6.05278127e-02, -2.44039759e-01,  3.11321896e-02,\n",
       "        2.11209357e-01,  2.55266875e-02, -9.18059498e-02, -2.94366758e-02,\n",
       "        3.36560532e-02,  1.37324661e-01], dtype=float32)"
      ]
     },
     "execution_count": 15,
     "metadata": {},
     "output_type": "execute_result"
    }
   ],
   "source": [
    "## We can obtain the word embedding directly from the training model\n",
    "model_2.wv['BMW 1 Series']"
   ]
  },
  {
   "cell_type": "markdown",
   "metadata": {},
   "source": [
    "### Compare Similarities "
   ]
  },
  {
   "cell_type": "markdown",
   "metadata": {},
   "source": [
    "Now we could even use Word2vec to compute similarity between two make model in the vocabulary by invoking the model.similarity() and passing in the relvevant words. For instance,  model.similarity('Porsche 718 Cayman', 'Nissan Van') This will give us the Euclidian similarity between Porsche 718 Cayman and Nissan Van. "
   ]
  },
  {
   "cell_type": "code",
   "execution_count": 16,
   "metadata": {},
   "outputs": [
    {
     "data": {
      "text/plain": [
       "0.8338322"
      ]
     },
     "execution_count": 16,
     "metadata": {},
     "output_type": "execute_result"
    }
   ],
   "source": [
    "model_2.wv.similarity('Porsche 718 Cayman', 'Nissan Van')"
   ]
  },
  {
   "cell_type": "code",
   "execution_count": 17,
   "metadata": {},
   "outputs": [
    {
     "data": {
      "text/plain": [
       "0.9509427"
      ]
     },
     "execution_count": 17,
     "metadata": {},
     "output_type": "execute_result"
    }
   ],
   "source": [
    "model_2.wv.similarity('Porsche 718 Cayman', 'Mercedes-Benz SLK-Class')"
   ]
  },
  {
   "cell_type": "markdown",
   "metadata": {},
   "source": [
    "From the above example, we can tell that Porsche 718 Cayman is more similar with Mercedes-Benz SLK-Class than Nissan Van. We also can use the build in function model.most_similar() to get a set of the most similar make models for a given make model."
   ]
  },
  {
   "cell_type": "code",
   "execution_count": 18,
   "metadata": {},
   "outputs": [
    {
     "data": {
      "text/plain": [
       "[('Audi S3', 0.9921928644180298),\n",
       " ('Mercedes-Benz SLS AMG GT', 0.9900894165039062),\n",
       " ('BMW 8 Series', 0.9885316491127014),\n",
       " ('Acura NSX', 0.9877747893333435),\n",
       " ('Subaru BRZ', 0.9872141480445862)]"
      ]
     },
     "execution_count": 18,
     "metadata": {},
     "output_type": "execute_result"
    }
   ],
   "source": [
    "## Show the most similar vehicles for Mercedes-Benz SLK-Class : Default by eculidean distance \n",
    "model_2.wv.most_similar('Mercedes-Benz SLK-Class')[:5]"
   ]
  },
  {
   "cell_type": "code",
   "execution_count": 19,
   "metadata": {},
   "outputs": [
    {
     "data": {
      "text/plain": [
       "[('Mazda 6', 0.9874684810638428),\n",
       " ('Toyota Avalon', 0.9848083257675171),\n",
       " ('Nissan Altima', 0.9808241128921509),\n",
       " ('Oldsmobile Alero', 0.9800369739532471),\n",
       " ('Nissan Sentra', 0.9799597263336182)]"
      ]
     },
     "execution_count": 19,
     "metadata": {},
     "output_type": "execute_result"
    }
   ],
   "source": [
    "## Show the most similar vehicles for Toyota Camry : Default by eculidean distance \n",
    "model_2.wv.most_similar('Toyota Camry')[:5]"
   ]
  },
  {
   "cell_type": "markdown",
   "metadata": {},
   "source": [
    "However, Euclidian similarity cannot work well for the high-dimensional word vectors, This is because Euclidian similarity will increase as the number of dimensions increases even if the word embedding stands for different meanings. Alternatively, we can use cosine similarity to measure the similarity between two vectors.  \n",
    "\n",
    "For Vector $A$ and $B$, the dot product is given by $ A \\cdot B = \\|A\\| \\|B\\| \\cos(\\theta)$\n",
    "\n",
    "The cosine similarity is given by $ \\cos(\\theta) = \\frac{A \\cdot B}{\\|A\\| \\|B\\|} $"
   ]
  },
  {
   "cell_type": "markdown",
   "metadata": {},
   "source": [
    "Cosine similarity measures the cosine of the angle between two vectors projected in a multi-dimensional space. Therefore, the cosine similarity captures the angle of the word vectors and not the magnitude. Under cosine similarity, no similarity is expressed as a 90-degree angle while the total similarity of 1 is at 0 degree \n",
    "angle. The following function shows how can we generate the most similar make model based on cosine similarity."
   ]
  },
  {
   "cell_type": "code",
   "execution_count": 20,
   "metadata": {},
   "outputs": [],
   "source": [
    "from numpy import dot\n",
    "from numpy.linalg import norm\n",
    "\n",
    "def cosine_distance (model, word,target_list , num) :\n",
    "    cosine_dict ={}\n",
    "    word_list = []\n",
    "    a = model.wv[word]\n",
    "    \n",
    "    for item in target_list :\n",
    "        if item != word :\n",
    "            b = model.wv[item]\n",
    "            cos_sim = dot(a, b)/(norm(a)*norm(b))\n",
    "            cosine_dict[item] = cos_sim\n",
    "    dist_sort=sorted(cosine_dict.items(), key=lambda dist: dist[1],reverse = True) ## in Descedning order \n",
    "    \n",
    "    for item in dist_sort:\n",
    "        word_list.append((item[0], item[1]))\n",
    "    \n",
    "    return word_list[0:num]"
   ]
  },
  {
   "cell_type": "code",
   "execution_count": 21,
   "metadata": {},
   "outputs": [
    {
     "data": {
      "text/plain": [
       "[('Audi S3', 0.9921928),\n",
       " ('Mercedes-Benz SLS AMG GT', 0.9900896),\n",
       " ('BMW 8 Series', 0.98853165),\n",
       " ('Acura NSX', 0.98777497),\n",
       " ('Subaru BRZ', 0.9872142)]"
      ]
     },
     "execution_count": 21,
     "metadata": {},
     "output_type": "execute_result"
    }
   ],
   "source": [
    "Maker_Model = list(df.Maker_Model.unique()) ## only get the unique Maker_Model_Year\n",
    "\n",
    "## Show the most similar Mercedes-Benz SLK-Class by cosine distance \n",
    "cosine_distance(model_2,'Mercedes-Benz SLK-Class',Maker_Model,5) "
   ]
  },
  {
   "cell_type": "code",
   "execution_count": 22,
   "metadata": {},
   "outputs": [
    {
     "data": {
      "text/plain": [
       "[('Audi S3', 0.9921928644180298),\n",
       " ('Mercedes-Benz SLS AMG GT', 0.9900894165039062),\n",
       " ('BMW 8 Series', 0.9885316491127014),\n",
       " ('Acura NSX', 0.9877747893333435),\n",
       " ('Subaru BRZ', 0.9872141480445862)]"
      ]
     },
     "execution_count": 22,
     "metadata": {},
     "output_type": "execute_result"
    }
   ],
   "source": [
    "model_2.wv.most_similar('Mercedes-Benz SLK-Class')[:5]"
   ]
  },
  {
   "cell_type": "markdown",
   "metadata": {},
   "source": [
    "### T-SNE Plot"
   ]
  },
  {
   "cell_type": "markdown",
   "metadata": {},
   "source": [
    "It’s hard to visualize the word embedding directly, for they usually has more than 3 dimensions. T-SNE is an useful tool to visualize high-dimensional data by reducing dimensional space while keeping relative pairwise distance between points. It can be said that t-SNE looking for a new data representation where the neighborhood relations are preserved. In this tutorial, I used TSNE package from scikit-learn library. The following code showed how to plot the word embedding with T-SNE plot. "
   ]
  },
  {
   "cell_type": "code",
   "execution_count": 23,
   "metadata": {},
   "outputs": [],
   "source": [
    "from sklearn.manifold import TSNE\n",
    "\n",
    "import matplotlib.pyplot as plt\n",
    "%matplotlib notebook\n",
    "import seaborn as sns\n",
    "\n",
    "def display_closestwords_tsnescatterplot(model, word, size):\n",
    "    \n",
    "    arr = np.empty((0,size), dtype='f')\n",
    "    word_labels = [word]\n",
    "\n",
    "    close_words = model.wv.most_similar(word)\n",
    "\n",
    "    arr = np.append(arr, np.array([model.wv[word]]), axis=0)\n",
    "    \n",
    "    for wrd_score in close_words:\n",
    "        wrd_vector = model.wv[wrd_score[0]]\n",
    "        word_labels.append(wrd_score[0])\n",
    "        arr = np.append(arr, np.array([wrd_vector]), axis=0)\n",
    "        \n",
    "    tsne = TSNE(n_components=2, perplexity = 10, random_state=0)\n",
    "    np.set_printoptions(suppress=True)\n",
    "    Y = tsne.fit_transform(arr)\n",
    "\n",
    "    x_coords = Y[:, 0]\n",
    "    y_coords = Y[:, 1]\n",
    "    plt.scatter(x_coords, y_coords)\n",
    "\n",
    "    for label, x, y in zip(word_labels, x_coords, y_coords):\n",
    "        plt.annotate(label, xy=(x, y), xytext=(0, 0), textcoords='offset points')\n",
    "    plt.xlim(x_coords.min()+1, x_coords.max()+1)\n",
    "    plt.ylim(y_coords.min()+1, y_coords.max()+1)\n",
    "    plt.show()"
   ]
  },
  {
   "cell_type": "code",
   "execution_count": 24,
   "metadata": {},
   "outputs": [
    {
     "data": {
      "application/javascript": [
       "/* Put everything inside the global mpl namespace */\n",
       "/* global mpl */\n",
       "window.mpl = {};\n",
       "\n",
       "mpl.get_websocket_type = function () {\n",
       "    if (typeof WebSocket !== 'undefined') {\n",
       "        return WebSocket;\n",
       "    } else if (typeof MozWebSocket !== 'undefined') {\n",
       "        return MozWebSocket;\n",
       "    } else {\n",
       "        alert(\n",
       "            'Your browser does not have WebSocket support. ' +\n",
       "                'Please try Chrome, Safari or Firefox ≥ 6. ' +\n",
       "                'Firefox 4 and 5 are also supported but you ' +\n",
       "                'have to enable WebSockets in about:config.'\n",
       "        );\n",
       "    }\n",
       "};\n",
       "\n",
       "mpl.figure = function (figure_id, websocket, ondownload, parent_element) {\n",
       "    this.id = figure_id;\n",
       "\n",
       "    this.ws = websocket;\n",
       "\n",
       "    this.supports_binary = this.ws.binaryType !== undefined;\n",
       "\n",
       "    if (!this.supports_binary) {\n",
       "        var warnings = document.getElementById('mpl-warnings');\n",
       "        if (warnings) {\n",
       "            warnings.style.display = 'block';\n",
       "            warnings.textContent =\n",
       "                'This browser does not support binary websocket messages. ' +\n",
       "                'Performance may be slow.';\n",
       "        }\n",
       "    }\n",
       "\n",
       "    this.imageObj = new Image();\n",
       "\n",
       "    this.context = undefined;\n",
       "    this.message = undefined;\n",
       "    this.canvas = undefined;\n",
       "    this.rubberband_canvas = undefined;\n",
       "    this.rubberband_context = undefined;\n",
       "    this.format_dropdown = undefined;\n",
       "\n",
       "    this.image_mode = 'full';\n",
       "\n",
       "    this.root = document.createElement('div');\n",
       "    this.root.setAttribute('style', 'display: inline-block');\n",
       "    this._root_extra_style(this.root);\n",
       "\n",
       "    parent_element.appendChild(this.root);\n",
       "\n",
       "    this._init_header(this);\n",
       "    this._init_canvas(this);\n",
       "    this._init_toolbar(this);\n",
       "\n",
       "    var fig = this;\n",
       "\n",
       "    this.waiting = false;\n",
       "\n",
       "    this.ws.onopen = function () {\n",
       "        fig.send_message('supports_binary', { value: fig.supports_binary });\n",
       "        fig.send_message('send_image_mode', {});\n",
       "        if (fig.ratio !== 1) {\n",
       "            fig.send_message('set_device_pixel_ratio', {\n",
       "                device_pixel_ratio: fig.ratio,\n",
       "            });\n",
       "        }\n",
       "        fig.send_message('refresh', {});\n",
       "    };\n",
       "\n",
       "    this.imageObj.onload = function () {\n",
       "        if (fig.image_mode === 'full') {\n",
       "            // Full images could contain transparency (where diff images\n",
       "            // almost always do), so we need to clear the canvas so that\n",
       "            // there is no ghosting.\n",
       "            fig.context.clearRect(0, 0, fig.canvas.width, fig.canvas.height);\n",
       "        }\n",
       "        fig.context.drawImage(fig.imageObj, 0, 0);\n",
       "    };\n",
       "\n",
       "    this.imageObj.onunload = function () {\n",
       "        fig.ws.close();\n",
       "    };\n",
       "\n",
       "    this.ws.onmessage = this._make_on_message_function(this);\n",
       "\n",
       "    this.ondownload = ondownload;\n",
       "};\n",
       "\n",
       "mpl.figure.prototype._init_header = function () {\n",
       "    var titlebar = document.createElement('div');\n",
       "    titlebar.classList =\n",
       "        'ui-dialog-titlebar ui-widget-header ui-corner-all ui-helper-clearfix';\n",
       "    var titletext = document.createElement('div');\n",
       "    titletext.classList = 'ui-dialog-title';\n",
       "    titletext.setAttribute(\n",
       "        'style',\n",
       "        'width: 100%; text-align: center; padding: 3px;'\n",
       "    );\n",
       "    titlebar.appendChild(titletext);\n",
       "    this.root.appendChild(titlebar);\n",
       "    this.header = titletext;\n",
       "};\n",
       "\n",
       "mpl.figure.prototype._canvas_extra_style = function (_canvas_div) {};\n",
       "\n",
       "mpl.figure.prototype._root_extra_style = function (_canvas_div) {};\n",
       "\n",
       "mpl.figure.prototype._init_canvas = function () {\n",
       "    var fig = this;\n",
       "\n",
       "    var canvas_div = (this.canvas_div = document.createElement('div'));\n",
       "    canvas_div.setAttribute('tabindex', '0');\n",
       "    canvas_div.setAttribute(\n",
       "        'style',\n",
       "        'border: 1px solid #ddd;' +\n",
       "            'box-sizing: content-box;' +\n",
       "            'clear: both;' +\n",
       "            'min-height: 1px;' +\n",
       "            'min-width: 1px;' +\n",
       "            'outline: 0;' +\n",
       "            'overflow: hidden;' +\n",
       "            'position: relative;' +\n",
       "            'resize: both;' +\n",
       "            'z-index: 2;'\n",
       "    );\n",
       "\n",
       "    function on_keyboard_event_closure(name) {\n",
       "        return function (event) {\n",
       "            return fig.key_event(event, name);\n",
       "        };\n",
       "    }\n",
       "\n",
       "    canvas_div.addEventListener(\n",
       "        'keydown',\n",
       "        on_keyboard_event_closure('key_press')\n",
       "    );\n",
       "    canvas_div.addEventListener(\n",
       "        'keyup',\n",
       "        on_keyboard_event_closure('key_release')\n",
       "    );\n",
       "\n",
       "    this._canvas_extra_style(canvas_div);\n",
       "    this.root.appendChild(canvas_div);\n",
       "\n",
       "    var canvas = (this.canvas = document.createElement('canvas'));\n",
       "    canvas.classList.add('mpl-canvas');\n",
       "    canvas.setAttribute(\n",
       "        'style',\n",
       "        'box-sizing: content-box;' +\n",
       "            'pointer-events: none;' +\n",
       "            'position: relative;' +\n",
       "            'z-index: 0;'\n",
       "    );\n",
       "\n",
       "    this.context = canvas.getContext('2d');\n",
       "\n",
       "    var backingStore =\n",
       "        this.context.backingStorePixelRatio ||\n",
       "        this.context.webkitBackingStorePixelRatio ||\n",
       "        this.context.mozBackingStorePixelRatio ||\n",
       "        this.context.msBackingStorePixelRatio ||\n",
       "        this.context.oBackingStorePixelRatio ||\n",
       "        this.context.backingStorePixelRatio ||\n",
       "        1;\n",
       "\n",
       "    this.ratio = (window.devicePixelRatio || 1) / backingStore;\n",
       "\n",
       "    var rubberband_canvas = (this.rubberband_canvas = document.createElement(\n",
       "        'canvas'\n",
       "    ));\n",
       "    rubberband_canvas.setAttribute(\n",
       "        'style',\n",
       "        'box-sizing: content-box;' +\n",
       "            'left: 0;' +\n",
       "            'pointer-events: none;' +\n",
       "            'position: absolute;' +\n",
       "            'top: 0;' +\n",
       "            'z-index: 1;'\n",
       "    );\n",
       "\n",
       "    // Apply a ponyfill if ResizeObserver is not implemented by browser.\n",
       "    if (this.ResizeObserver === undefined) {\n",
       "        if (window.ResizeObserver !== undefined) {\n",
       "            this.ResizeObserver = window.ResizeObserver;\n",
       "        } else {\n",
       "            var obs = _JSXTOOLS_RESIZE_OBSERVER({});\n",
       "            this.ResizeObserver = obs.ResizeObserver;\n",
       "        }\n",
       "    }\n",
       "\n",
       "    this.resizeObserverInstance = new this.ResizeObserver(function (entries) {\n",
       "        var nentries = entries.length;\n",
       "        for (var i = 0; i < nentries; i++) {\n",
       "            var entry = entries[i];\n",
       "            var width, height;\n",
       "            if (entry.contentBoxSize) {\n",
       "                if (entry.contentBoxSize instanceof Array) {\n",
       "                    // Chrome 84 implements new version of spec.\n",
       "                    width = entry.contentBoxSize[0].inlineSize;\n",
       "                    height = entry.contentBoxSize[0].blockSize;\n",
       "                } else {\n",
       "                    // Firefox implements old version of spec.\n",
       "                    width = entry.contentBoxSize.inlineSize;\n",
       "                    height = entry.contentBoxSize.blockSize;\n",
       "                }\n",
       "            } else {\n",
       "                // Chrome <84 implements even older version of spec.\n",
       "                width = entry.contentRect.width;\n",
       "                height = entry.contentRect.height;\n",
       "            }\n",
       "\n",
       "            // Keep the size of the canvas and rubber band canvas in sync with\n",
       "            // the canvas container.\n",
       "            if (entry.devicePixelContentBoxSize) {\n",
       "                // Chrome 84 implements new version of spec.\n",
       "                canvas.setAttribute(\n",
       "                    'width',\n",
       "                    entry.devicePixelContentBoxSize[0].inlineSize\n",
       "                );\n",
       "                canvas.setAttribute(\n",
       "                    'height',\n",
       "                    entry.devicePixelContentBoxSize[0].blockSize\n",
       "                );\n",
       "            } else {\n",
       "                canvas.setAttribute('width', width * fig.ratio);\n",
       "                canvas.setAttribute('height', height * fig.ratio);\n",
       "            }\n",
       "            /* This rescales the canvas back to display pixels, so that it\n",
       "             * appears correct on HiDPI screens. */\n",
       "            canvas.style.width = width + 'px';\n",
       "            canvas.style.height = height + 'px';\n",
       "\n",
       "            rubberband_canvas.setAttribute('width', width);\n",
       "            rubberband_canvas.setAttribute('height', height);\n",
       "\n",
       "            // And update the size in Python. We ignore the initial 0/0 size\n",
       "            // that occurs as the element is placed into the DOM, which should\n",
       "            // otherwise not happen due to the minimum size styling.\n",
       "            if (fig.ws.readyState == 1 && width != 0 && height != 0) {\n",
       "                fig.request_resize(width, height);\n",
       "            }\n",
       "        }\n",
       "    });\n",
       "    this.resizeObserverInstance.observe(canvas_div);\n",
       "\n",
       "    function on_mouse_event_closure(name) {\n",
       "        /* User Agent sniffing is bad, but WebKit is busted:\n",
       "         * https://bugs.webkit.org/show_bug.cgi?id=144526\n",
       "         * https://bugs.webkit.org/show_bug.cgi?id=181818\n",
       "         * The worst that happens here is that they get an extra browser\n",
       "         * selection when dragging, if this check fails to catch them.\n",
       "         */\n",
       "        var UA = navigator.userAgent;\n",
       "        var isWebKit = /AppleWebKit/.test(UA) && !/Chrome/.test(UA);\n",
       "        if(isWebKit) {\n",
       "            return function (event) {\n",
       "                /* This prevents the web browser from automatically changing to\n",
       "                 * the text insertion cursor when the button is pressed. We\n",
       "                 * want to control all of the cursor setting manually through\n",
       "                 * the 'cursor' event from matplotlib */\n",
       "                event.preventDefault()\n",
       "                return fig.mouse_event(event, name);\n",
       "            };\n",
       "        } else {\n",
       "            return function (event) {\n",
       "                return fig.mouse_event(event, name);\n",
       "            };\n",
       "        }\n",
       "    }\n",
       "\n",
       "    canvas_div.addEventListener(\n",
       "        'mousedown',\n",
       "        on_mouse_event_closure('button_press')\n",
       "    );\n",
       "    canvas_div.addEventListener(\n",
       "        'mouseup',\n",
       "        on_mouse_event_closure('button_release')\n",
       "    );\n",
       "    canvas_div.addEventListener(\n",
       "        'dblclick',\n",
       "        on_mouse_event_closure('dblclick')\n",
       "    );\n",
       "    // Throttle sequential mouse events to 1 every 20ms.\n",
       "    canvas_div.addEventListener(\n",
       "        'mousemove',\n",
       "        on_mouse_event_closure('motion_notify')\n",
       "    );\n",
       "\n",
       "    canvas_div.addEventListener(\n",
       "        'mouseenter',\n",
       "        on_mouse_event_closure('figure_enter')\n",
       "    );\n",
       "    canvas_div.addEventListener(\n",
       "        'mouseleave',\n",
       "        on_mouse_event_closure('figure_leave')\n",
       "    );\n",
       "\n",
       "    canvas_div.addEventListener('wheel', function (event) {\n",
       "        if (event.deltaY < 0) {\n",
       "            event.step = 1;\n",
       "        } else {\n",
       "            event.step = -1;\n",
       "        }\n",
       "        on_mouse_event_closure('scroll')(event);\n",
       "    });\n",
       "\n",
       "    canvas_div.appendChild(canvas);\n",
       "    canvas_div.appendChild(rubberband_canvas);\n",
       "\n",
       "    this.rubberband_context = rubberband_canvas.getContext('2d');\n",
       "    this.rubberband_context.strokeStyle = '#000000';\n",
       "\n",
       "    this._resize_canvas = function (width, height, forward) {\n",
       "        if (forward) {\n",
       "            canvas_div.style.width = width + 'px';\n",
       "            canvas_div.style.height = height + 'px';\n",
       "        }\n",
       "    };\n",
       "\n",
       "    // Disable right mouse context menu.\n",
       "    canvas_div.addEventListener('contextmenu', function (_e) {\n",
       "        event.preventDefault();\n",
       "        return false;\n",
       "    });\n",
       "\n",
       "    function set_focus() {\n",
       "        canvas.focus();\n",
       "        canvas_div.focus();\n",
       "    }\n",
       "\n",
       "    window.setTimeout(set_focus, 100);\n",
       "};\n",
       "\n",
       "mpl.figure.prototype._init_toolbar = function () {\n",
       "    var fig = this;\n",
       "\n",
       "    var toolbar = document.createElement('div');\n",
       "    toolbar.classList = 'mpl-toolbar';\n",
       "    this.root.appendChild(toolbar);\n",
       "\n",
       "    function on_click_closure(name) {\n",
       "        return function (_event) {\n",
       "            return fig.toolbar_button_onclick(name);\n",
       "        };\n",
       "    }\n",
       "\n",
       "    function on_mouseover_closure(tooltip) {\n",
       "        return function (event) {\n",
       "            if (!event.currentTarget.disabled) {\n",
       "                return fig.toolbar_button_onmouseover(tooltip);\n",
       "            }\n",
       "        };\n",
       "    }\n",
       "\n",
       "    fig.buttons = {};\n",
       "    var buttonGroup = document.createElement('div');\n",
       "    buttonGroup.classList = 'mpl-button-group';\n",
       "    for (var toolbar_ind in mpl.toolbar_items) {\n",
       "        var name = mpl.toolbar_items[toolbar_ind][0];\n",
       "        var tooltip = mpl.toolbar_items[toolbar_ind][1];\n",
       "        var image = mpl.toolbar_items[toolbar_ind][2];\n",
       "        var method_name = mpl.toolbar_items[toolbar_ind][3];\n",
       "\n",
       "        if (!name) {\n",
       "            /* Instead of a spacer, we start a new button group. */\n",
       "            if (buttonGroup.hasChildNodes()) {\n",
       "                toolbar.appendChild(buttonGroup);\n",
       "            }\n",
       "            buttonGroup = document.createElement('div');\n",
       "            buttonGroup.classList = 'mpl-button-group';\n",
       "            continue;\n",
       "        }\n",
       "\n",
       "        var button = (fig.buttons[name] = document.createElement('button'));\n",
       "        button.classList = 'mpl-widget';\n",
       "        button.setAttribute('role', 'button');\n",
       "        button.setAttribute('aria-disabled', 'false');\n",
       "        button.addEventListener('click', on_click_closure(method_name));\n",
       "        button.addEventListener('mouseover', on_mouseover_closure(tooltip));\n",
       "\n",
       "        var icon_img = document.createElement('img');\n",
       "        icon_img.src = '_images/' + image + '.png';\n",
       "        icon_img.srcset = '_images/' + image + '_large.png 2x';\n",
       "        icon_img.alt = tooltip;\n",
       "        button.appendChild(icon_img);\n",
       "\n",
       "        buttonGroup.appendChild(button);\n",
       "    }\n",
       "\n",
       "    if (buttonGroup.hasChildNodes()) {\n",
       "        toolbar.appendChild(buttonGroup);\n",
       "    }\n",
       "\n",
       "    var fmt_picker = document.createElement('select');\n",
       "    fmt_picker.classList = 'mpl-widget';\n",
       "    toolbar.appendChild(fmt_picker);\n",
       "    this.format_dropdown = fmt_picker;\n",
       "\n",
       "    for (var ind in mpl.extensions) {\n",
       "        var fmt = mpl.extensions[ind];\n",
       "        var option = document.createElement('option');\n",
       "        option.selected = fmt === mpl.default_extension;\n",
       "        option.innerHTML = fmt;\n",
       "        fmt_picker.appendChild(option);\n",
       "    }\n",
       "\n",
       "    var status_bar = document.createElement('span');\n",
       "    status_bar.classList = 'mpl-message';\n",
       "    toolbar.appendChild(status_bar);\n",
       "    this.message = status_bar;\n",
       "};\n",
       "\n",
       "mpl.figure.prototype.request_resize = function (x_pixels, y_pixels) {\n",
       "    // Request matplotlib to resize the figure. Matplotlib will then trigger a resize in the client,\n",
       "    // which will in turn request a refresh of the image.\n",
       "    this.send_message('resize', { width: x_pixels, height: y_pixels });\n",
       "};\n",
       "\n",
       "mpl.figure.prototype.send_message = function (type, properties) {\n",
       "    properties['type'] = type;\n",
       "    properties['figure_id'] = this.id;\n",
       "    this.ws.send(JSON.stringify(properties));\n",
       "};\n",
       "\n",
       "mpl.figure.prototype.send_draw_message = function () {\n",
       "    if (!this.waiting) {\n",
       "        this.waiting = true;\n",
       "        this.ws.send(JSON.stringify({ type: 'draw', figure_id: this.id }));\n",
       "    }\n",
       "};\n",
       "\n",
       "mpl.figure.prototype.handle_save = function (fig, _msg) {\n",
       "    var format_dropdown = fig.format_dropdown;\n",
       "    var format = format_dropdown.options[format_dropdown.selectedIndex].value;\n",
       "    fig.ondownload(fig, format);\n",
       "};\n",
       "\n",
       "mpl.figure.prototype.handle_resize = function (fig, msg) {\n",
       "    var size = msg['size'];\n",
       "    if (size[0] !== fig.canvas.width || size[1] !== fig.canvas.height) {\n",
       "        fig._resize_canvas(size[0], size[1], msg['forward']);\n",
       "        fig.send_message('refresh', {});\n",
       "    }\n",
       "};\n",
       "\n",
       "mpl.figure.prototype.handle_rubberband = function (fig, msg) {\n",
       "    var x0 = msg['x0'] / fig.ratio;\n",
       "    var y0 = (fig.canvas.height - msg['y0']) / fig.ratio;\n",
       "    var x1 = msg['x1'] / fig.ratio;\n",
       "    var y1 = (fig.canvas.height - msg['y1']) / fig.ratio;\n",
       "    x0 = Math.floor(x0) + 0.5;\n",
       "    y0 = Math.floor(y0) + 0.5;\n",
       "    x1 = Math.floor(x1) + 0.5;\n",
       "    y1 = Math.floor(y1) + 0.5;\n",
       "    var min_x = Math.min(x0, x1);\n",
       "    var min_y = Math.min(y0, y1);\n",
       "    var width = Math.abs(x1 - x0);\n",
       "    var height = Math.abs(y1 - y0);\n",
       "\n",
       "    fig.rubberband_context.clearRect(\n",
       "        0,\n",
       "        0,\n",
       "        fig.canvas.width / fig.ratio,\n",
       "        fig.canvas.height / fig.ratio\n",
       "    );\n",
       "\n",
       "    fig.rubberband_context.strokeRect(min_x, min_y, width, height);\n",
       "};\n",
       "\n",
       "mpl.figure.prototype.handle_figure_label = function (fig, msg) {\n",
       "    // Updates the figure title.\n",
       "    fig.header.textContent = msg['label'];\n",
       "};\n",
       "\n",
       "mpl.figure.prototype.handle_cursor = function (fig, msg) {\n",
       "    fig.canvas_div.style.cursor = msg['cursor'];\n",
       "};\n",
       "\n",
       "mpl.figure.prototype.handle_message = function (fig, msg) {\n",
       "    fig.message.textContent = msg['message'];\n",
       "};\n",
       "\n",
       "mpl.figure.prototype.handle_draw = function (fig, _msg) {\n",
       "    // Request the server to send over a new figure.\n",
       "    fig.send_draw_message();\n",
       "};\n",
       "\n",
       "mpl.figure.prototype.handle_image_mode = function (fig, msg) {\n",
       "    fig.image_mode = msg['mode'];\n",
       "};\n",
       "\n",
       "mpl.figure.prototype.handle_history_buttons = function (fig, msg) {\n",
       "    for (var key in msg) {\n",
       "        if (!(key in fig.buttons)) {\n",
       "            continue;\n",
       "        }\n",
       "        fig.buttons[key].disabled = !msg[key];\n",
       "        fig.buttons[key].setAttribute('aria-disabled', !msg[key]);\n",
       "    }\n",
       "};\n",
       "\n",
       "mpl.figure.prototype.handle_navigate_mode = function (fig, msg) {\n",
       "    if (msg['mode'] === 'PAN') {\n",
       "        fig.buttons['Pan'].classList.add('active');\n",
       "        fig.buttons['Zoom'].classList.remove('active');\n",
       "    } else if (msg['mode'] === 'ZOOM') {\n",
       "        fig.buttons['Pan'].classList.remove('active');\n",
       "        fig.buttons['Zoom'].classList.add('active');\n",
       "    } else {\n",
       "        fig.buttons['Pan'].classList.remove('active');\n",
       "        fig.buttons['Zoom'].classList.remove('active');\n",
       "    }\n",
       "};\n",
       "\n",
       "mpl.figure.prototype.updated_canvas_event = function () {\n",
       "    // Called whenever the canvas gets updated.\n",
       "    this.send_message('ack', {});\n",
       "};\n",
       "\n",
       "// A function to construct a web socket function for onmessage handling.\n",
       "// Called in the figure constructor.\n",
       "mpl.figure.prototype._make_on_message_function = function (fig) {\n",
       "    return function socket_on_message(evt) {\n",
       "        if (evt.data instanceof Blob) {\n",
       "            var img = evt.data;\n",
       "            if (img.type !== 'image/png') {\n",
       "                /* FIXME: We get \"Resource interpreted as Image but\n",
       "                 * transferred with MIME type text/plain:\" errors on\n",
       "                 * Chrome.  But how to set the MIME type?  It doesn't seem\n",
       "                 * to be part of the websocket stream */\n",
       "                img.type = 'image/png';\n",
       "            }\n",
       "\n",
       "            /* Free the memory for the previous frames */\n",
       "            if (fig.imageObj.src) {\n",
       "                (window.URL || window.webkitURL).revokeObjectURL(\n",
       "                    fig.imageObj.src\n",
       "                );\n",
       "            }\n",
       "\n",
       "            fig.imageObj.src = (window.URL || window.webkitURL).createObjectURL(\n",
       "                img\n",
       "            );\n",
       "            fig.updated_canvas_event();\n",
       "            fig.waiting = false;\n",
       "            return;\n",
       "        } else if (\n",
       "            typeof evt.data === 'string' &&\n",
       "            evt.data.slice(0, 21) === 'data:image/png;base64'\n",
       "        ) {\n",
       "            fig.imageObj.src = evt.data;\n",
       "            fig.updated_canvas_event();\n",
       "            fig.waiting = false;\n",
       "            return;\n",
       "        }\n",
       "\n",
       "        var msg = JSON.parse(evt.data);\n",
       "        var msg_type = msg['type'];\n",
       "\n",
       "        // Call the  \"handle_{type}\" callback, which takes\n",
       "        // the figure and JSON message as its only arguments.\n",
       "        try {\n",
       "            var callback = fig['handle_' + msg_type];\n",
       "        } catch (e) {\n",
       "            console.log(\n",
       "                \"No handler for the '\" + msg_type + \"' message type: \",\n",
       "                msg\n",
       "            );\n",
       "            return;\n",
       "        }\n",
       "\n",
       "        if (callback) {\n",
       "            try {\n",
       "                // console.log(\"Handling '\" + msg_type + \"' message: \", msg);\n",
       "                callback(fig, msg);\n",
       "            } catch (e) {\n",
       "                console.log(\n",
       "                    \"Exception inside the 'handler_\" + msg_type + \"' callback:\",\n",
       "                    e,\n",
       "                    e.stack,\n",
       "                    msg\n",
       "                );\n",
       "            }\n",
       "        }\n",
       "    };\n",
       "};\n",
       "\n",
       "function getModifiers(event) {\n",
       "    var mods = [];\n",
       "    if (event.ctrlKey) {\n",
       "        mods.push('ctrl');\n",
       "    }\n",
       "    if (event.altKey) {\n",
       "        mods.push('alt');\n",
       "    }\n",
       "    if (event.shiftKey) {\n",
       "        mods.push('shift');\n",
       "    }\n",
       "    if (event.metaKey) {\n",
       "        mods.push('meta');\n",
       "    }\n",
       "    return mods;\n",
       "}\n",
       "\n",
       "/*\n",
       " * return a copy of an object with only non-object keys\n",
       " * we need this to avoid circular references\n",
       " * https://stackoverflow.com/a/24161582/3208463\n",
       " */\n",
       "function simpleKeys(original) {\n",
       "    return Object.keys(original).reduce(function (obj, key) {\n",
       "        if (typeof original[key] !== 'object') {\n",
       "            obj[key] = original[key];\n",
       "        }\n",
       "        return obj;\n",
       "    }, {});\n",
       "}\n",
       "\n",
       "mpl.figure.prototype.mouse_event = function (event, name) {\n",
       "    if (name === 'button_press') {\n",
       "        this.canvas.focus();\n",
       "        this.canvas_div.focus();\n",
       "    }\n",
       "\n",
       "    // from https://stackoverflow.com/q/1114465\n",
       "    var boundingRect = this.canvas.getBoundingClientRect();\n",
       "    var x = (event.clientX - boundingRect.left) * this.ratio;\n",
       "    var y = (event.clientY - boundingRect.top) * this.ratio;\n",
       "\n",
       "    this.send_message(name, {\n",
       "        x: x,\n",
       "        y: y,\n",
       "        button: event.button,\n",
       "        step: event.step,\n",
       "        modifiers: getModifiers(event),\n",
       "        guiEvent: simpleKeys(event),\n",
       "    });\n",
       "\n",
       "    return false;\n",
       "};\n",
       "\n",
       "mpl.figure.prototype._key_event_extra = function (_event, _name) {\n",
       "    // Handle any extra behaviour associated with a key event\n",
       "};\n",
       "\n",
       "mpl.figure.prototype.key_event = function (event, name) {\n",
       "    // Prevent repeat events\n",
       "    if (name === 'key_press') {\n",
       "        if (event.key === this._key) {\n",
       "            return;\n",
       "        } else {\n",
       "            this._key = event.key;\n",
       "        }\n",
       "    }\n",
       "    if (name === 'key_release') {\n",
       "        this._key = null;\n",
       "    }\n",
       "\n",
       "    var value = '';\n",
       "    if (event.ctrlKey && event.key !== 'Control') {\n",
       "        value += 'ctrl+';\n",
       "    }\n",
       "    else if (event.altKey && event.key !== 'Alt') {\n",
       "        value += 'alt+';\n",
       "    }\n",
       "    else if (event.shiftKey && event.key !== 'Shift') {\n",
       "        value += 'shift+';\n",
       "    }\n",
       "\n",
       "    value += 'k' + event.key;\n",
       "\n",
       "    this._key_event_extra(event, name);\n",
       "\n",
       "    this.send_message(name, { key: value, guiEvent: simpleKeys(event) });\n",
       "    return false;\n",
       "};\n",
       "\n",
       "mpl.figure.prototype.toolbar_button_onclick = function (name) {\n",
       "    if (name === 'download') {\n",
       "        this.handle_save(this, null);\n",
       "    } else {\n",
       "        this.send_message('toolbar_button', { name: name });\n",
       "    }\n",
       "};\n",
       "\n",
       "mpl.figure.prototype.toolbar_button_onmouseover = function (tooltip) {\n",
       "    this.message.textContent = tooltip;\n",
       "};\n",
       "\n",
       "///////////////// REMAINING CONTENT GENERATED BY embed_js.py /////////////////\n",
       "// prettier-ignore\n",
       "var _JSXTOOLS_RESIZE_OBSERVER=function(A){var t,i=new WeakMap,n=new WeakMap,a=new WeakMap,r=new WeakMap,o=new Set;function s(e){if(!(this instanceof s))throw new TypeError(\"Constructor requires 'new' operator\");i.set(this,e)}function h(){throw new TypeError(\"Function is not a constructor\")}function c(e,t,i,n){e=0 in arguments?Number(arguments[0]):0,t=1 in arguments?Number(arguments[1]):0,i=2 in arguments?Number(arguments[2]):0,n=3 in arguments?Number(arguments[3]):0,this.right=(this.x=this.left=e)+(this.width=i),this.bottom=(this.y=this.top=t)+(this.height=n),Object.freeze(this)}function d(){t=requestAnimationFrame(d);var s=new WeakMap,p=new Set;o.forEach((function(t){r.get(t).forEach((function(i){var r=t instanceof window.SVGElement,o=a.get(t),d=r?0:parseFloat(o.paddingTop),f=r?0:parseFloat(o.paddingRight),l=r?0:parseFloat(o.paddingBottom),u=r?0:parseFloat(o.paddingLeft),g=r?0:parseFloat(o.borderTopWidth),m=r?0:parseFloat(o.borderRightWidth),w=r?0:parseFloat(o.borderBottomWidth),b=u+f,F=d+l,v=(r?0:parseFloat(o.borderLeftWidth))+m,W=g+w,y=r?0:t.offsetHeight-W-t.clientHeight,E=r?0:t.offsetWidth-v-t.clientWidth,R=b+v,z=F+W,M=r?t.width:parseFloat(o.width)-R-E,O=r?t.height:parseFloat(o.height)-z-y;if(n.has(t)){var k=n.get(t);if(k[0]===M&&k[1]===O)return}n.set(t,[M,O]);var S=Object.create(h.prototype);S.target=t,S.contentRect=new c(u,d,M,O),s.has(i)||(s.set(i,[]),p.add(i)),s.get(i).push(S)}))})),p.forEach((function(e){i.get(e).call(e,s.get(e),e)}))}return s.prototype.observe=function(i){if(i instanceof window.Element){r.has(i)||(r.set(i,new Set),o.add(i),a.set(i,window.getComputedStyle(i)));var n=r.get(i);n.has(this)||n.add(this),cancelAnimationFrame(t),t=requestAnimationFrame(d)}},s.prototype.unobserve=function(i){if(i instanceof window.Element&&r.has(i)){var n=r.get(i);n.has(this)&&(n.delete(this),n.size||(r.delete(i),o.delete(i))),n.size||r.delete(i),o.size||cancelAnimationFrame(t)}},A.DOMRectReadOnly=c,A.ResizeObserver=s,A.ResizeObserverEntry=h,A}; // eslint-disable-line\n",
       "mpl.toolbar_items = [[\"Home\", \"Reset original view\", \"fa fa-home\", \"home\"], [\"Back\", \"Back to previous view\", \"fa fa-arrow-left\", \"back\"], [\"Forward\", \"Forward to next view\", \"fa fa-arrow-right\", \"forward\"], [\"\", \"\", \"\", \"\"], [\"Pan\", \"Left button pans, Right button zooms\\nx/y fixes axis, CTRL fixes aspect\", \"fa fa-arrows\", \"pan\"], [\"Zoom\", \"Zoom to rectangle\\nx/y fixes axis\", \"fa fa-square-o\", \"zoom\"], [\"\", \"\", \"\", \"\"], [\"Download\", \"Download plot\", \"fa fa-floppy-o\", \"download\"]];\n",
       "\n",
       "mpl.extensions = [\"eps\", \"jpeg\", \"pgf\", \"pdf\", \"png\", \"ps\", \"raw\", \"svg\", \"tif\", \"webp\"];\n",
       "\n",
       "mpl.default_extension = \"png\";/* global mpl */\n",
       "\n",
       "var comm_websocket_adapter = function (comm) {\n",
       "    // Create a \"websocket\"-like object which calls the given IPython comm\n",
       "    // object with the appropriate methods. Currently this is a non binary\n",
       "    // socket, so there is still some room for performance tuning.\n",
       "    var ws = {};\n",
       "\n",
       "    ws.binaryType = comm.kernel.ws.binaryType;\n",
       "    ws.readyState = comm.kernel.ws.readyState;\n",
       "    function updateReadyState(_event) {\n",
       "        if (comm.kernel.ws) {\n",
       "            ws.readyState = comm.kernel.ws.readyState;\n",
       "        } else {\n",
       "            ws.readyState = 3; // Closed state.\n",
       "        }\n",
       "    }\n",
       "    comm.kernel.ws.addEventListener('open', updateReadyState);\n",
       "    comm.kernel.ws.addEventListener('close', updateReadyState);\n",
       "    comm.kernel.ws.addEventListener('error', updateReadyState);\n",
       "\n",
       "    ws.close = function () {\n",
       "        comm.close();\n",
       "    };\n",
       "    ws.send = function (m) {\n",
       "        //console.log('sending', m);\n",
       "        comm.send(m);\n",
       "    };\n",
       "    // Register the callback with on_msg.\n",
       "    comm.on_msg(function (msg) {\n",
       "        //console.log('receiving', msg['content']['data'], msg);\n",
       "        var data = msg['content']['data'];\n",
       "        if (data['blob'] !== undefined) {\n",
       "            data = {\n",
       "                data: new Blob(msg['buffers'], { type: data['blob'] }),\n",
       "            };\n",
       "        }\n",
       "        // Pass the mpl event to the overridden (by mpl) onmessage function.\n",
       "        ws.onmessage(data);\n",
       "    });\n",
       "    return ws;\n",
       "};\n",
       "\n",
       "mpl.mpl_figure_comm = function (comm, msg) {\n",
       "    // This is the function which gets called when the mpl process\n",
       "    // starts-up an IPython Comm through the \"matplotlib\" channel.\n",
       "\n",
       "    var id = msg.content.data.id;\n",
       "    // Get hold of the div created by the display call when the Comm\n",
       "    // socket was opened in Python.\n",
       "    var element = document.getElementById(id);\n",
       "    var ws_proxy = comm_websocket_adapter(comm);\n",
       "\n",
       "    function ondownload(figure, _format) {\n",
       "        window.open(figure.canvas.toDataURL());\n",
       "    }\n",
       "\n",
       "    var fig = new mpl.figure(id, ws_proxy, ondownload, element);\n",
       "\n",
       "    // Call onopen now - mpl needs it, as it is assuming we've passed it a real\n",
       "    // web socket which is closed, not our websocket->open comm proxy.\n",
       "    ws_proxy.onopen();\n",
       "\n",
       "    fig.parent_element = element;\n",
       "    fig.cell_info = mpl.find_output_cell(\"<div id='\" + id + \"'></div>\");\n",
       "    if (!fig.cell_info) {\n",
       "        console.error('Failed to find cell for figure', id, fig);\n",
       "        return;\n",
       "    }\n",
       "    fig.cell_info[0].output_area.element.on(\n",
       "        'cleared',\n",
       "        { fig: fig },\n",
       "        fig._remove_fig_handler\n",
       "    );\n",
       "};\n",
       "\n",
       "mpl.figure.prototype.handle_close = function (fig, msg) {\n",
       "    var width = fig.canvas.width / fig.ratio;\n",
       "    fig.cell_info[0].output_area.element.off(\n",
       "        'cleared',\n",
       "        fig._remove_fig_handler\n",
       "    );\n",
       "    fig.resizeObserverInstance.unobserve(fig.canvas_div);\n",
       "\n",
       "    // Update the output cell to use the data from the current canvas.\n",
       "    fig.push_to_output();\n",
       "    var dataURL = fig.canvas.toDataURL();\n",
       "    // Re-enable the keyboard manager in IPython - without this line, in FF,\n",
       "    // the notebook keyboard shortcuts fail.\n",
       "    IPython.keyboard_manager.enable();\n",
       "    fig.parent_element.innerHTML =\n",
       "        '<img src=\"' + dataURL + '\" width=\"' + width + '\">';\n",
       "    fig.close_ws(fig, msg);\n",
       "};\n",
       "\n",
       "mpl.figure.prototype.close_ws = function (fig, msg) {\n",
       "    fig.send_message('closing', msg);\n",
       "    // fig.ws.close()\n",
       "};\n",
       "\n",
       "mpl.figure.prototype.push_to_output = function (_remove_interactive) {\n",
       "    // Turn the data on the canvas into data in the output cell.\n",
       "    var width = this.canvas.width / this.ratio;\n",
       "    var dataURL = this.canvas.toDataURL();\n",
       "    this.cell_info[1]['text/html'] =\n",
       "        '<img src=\"' + dataURL + '\" width=\"' + width + '\">';\n",
       "};\n",
       "\n",
       "mpl.figure.prototype.updated_canvas_event = function () {\n",
       "    // Tell IPython that the notebook contents must change.\n",
       "    IPython.notebook.set_dirty(true);\n",
       "    this.send_message('ack', {});\n",
       "    var fig = this;\n",
       "    // Wait a second, then push the new image to the DOM so\n",
       "    // that it is saved nicely (might be nice to debounce this).\n",
       "    setTimeout(function () {\n",
       "        fig.push_to_output();\n",
       "    }, 1000);\n",
       "};\n",
       "\n",
       "mpl.figure.prototype._init_toolbar = function () {\n",
       "    var fig = this;\n",
       "\n",
       "    var toolbar = document.createElement('div');\n",
       "    toolbar.classList = 'btn-toolbar';\n",
       "    this.root.appendChild(toolbar);\n",
       "\n",
       "    function on_click_closure(name) {\n",
       "        return function (_event) {\n",
       "            return fig.toolbar_button_onclick(name);\n",
       "        };\n",
       "    }\n",
       "\n",
       "    function on_mouseover_closure(tooltip) {\n",
       "        return function (event) {\n",
       "            if (!event.currentTarget.disabled) {\n",
       "                return fig.toolbar_button_onmouseover(tooltip);\n",
       "            }\n",
       "        };\n",
       "    }\n",
       "\n",
       "    fig.buttons = {};\n",
       "    var buttonGroup = document.createElement('div');\n",
       "    buttonGroup.classList = 'btn-group';\n",
       "    var button;\n",
       "    for (var toolbar_ind in mpl.toolbar_items) {\n",
       "        var name = mpl.toolbar_items[toolbar_ind][0];\n",
       "        var tooltip = mpl.toolbar_items[toolbar_ind][1];\n",
       "        var image = mpl.toolbar_items[toolbar_ind][2];\n",
       "        var method_name = mpl.toolbar_items[toolbar_ind][3];\n",
       "\n",
       "        if (!name) {\n",
       "            /* Instead of a spacer, we start a new button group. */\n",
       "            if (buttonGroup.hasChildNodes()) {\n",
       "                toolbar.appendChild(buttonGroup);\n",
       "            }\n",
       "            buttonGroup = document.createElement('div');\n",
       "            buttonGroup.classList = 'btn-group';\n",
       "            continue;\n",
       "        }\n",
       "\n",
       "        button = fig.buttons[name] = document.createElement('button');\n",
       "        button.classList = 'btn btn-default';\n",
       "        button.href = '#';\n",
       "        button.title = name;\n",
       "        button.innerHTML = '<i class=\"fa ' + image + ' fa-lg\"></i>';\n",
       "        button.addEventListener('click', on_click_closure(method_name));\n",
       "        button.addEventListener('mouseover', on_mouseover_closure(tooltip));\n",
       "        buttonGroup.appendChild(button);\n",
       "    }\n",
       "\n",
       "    if (buttonGroup.hasChildNodes()) {\n",
       "        toolbar.appendChild(buttonGroup);\n",
       "    }\n",
       "\n",
       "    // Add the status bar.\n",
       "    var status_bar = document.createElement('span');\n",
       "    status_bar.classList = 'mpl-message pull-right';\n",
       "    toolbar.appendChild(status_bar);\n",
       "    this.message = status_bar;\n",
       "\n",
       "    // Add the close button to the window.\n",
       "    var buttongrp = document.createElement('div');\n",
       "    buttongrp.classList = 'btn-group inline pull-right';\n",
       "    button = document.createElement('button');\n",
       "    button.classList = 'btn btn-mini btn-primary';\n",
       "    button.href = '#';\n",
       "    button.title = 'Stop Interaction';\n",
       "    button.innerHTML = '<i class=\"fa fa-power-off icon-remove icon-large\"></i>';\n",
       "    button.addEventListener('click', function (_evt) {\n",
       "        fig.handle_close(fig, {});\n",
       "    });\n",
       "    button.addEventListener(\n",
       "        'mouseover',\n",
       "        on_mouseover_closure('Stop Interaction')\n",
       "    );\n",
       "    buttongrp.appendChild(button);\n",
       "    var titlebar = this.root.querySelector('.ui-dialog-titlebar');\n",
       "    titlebar.insertBefore(buttongrp, titlebar.firstChild);\n",
       "};\n",
       "\n",
       "mpl.figure.prototype._remove_fig_handler = function (event) {\n",
       "    var fig = event.data.fig;\n",
       "    if (event.target !== this) {\n",
       "        // Ignore bubbled events from children.\n",
       "        return;\n",
       "    }\n",
       "    fig.close_ws(fig, {});\n",
       "};\n",
       "\n",
       "mpl.figure.prototype._root_extra_style = function (el) {\n",
       "    el.style.boxSizing = 'content-box'; // override notebook setting of border-box.\n",
       "};\n",
       "\n",
       "mpl.figure.prototype._canvas_extra_style = function (el) {\n",
       "    // this is important to make the div 'focusable\n",
       "    el.setAttribute('tabindex', 0);\n",
       "    // reach out to IPython and tell the keyboard manager to turn it's self\n",
       "    // off when our div gets focus\n",
       "\n",
       "    // location in version 3\n",
       "    if (IPython.notebook.keyboard_manager) {\n",
       "        IPython.notebook.keyboard_manager.register_events(el);\n",
       "    } else {\n",
       "        // location in version 2\n",
       "        IPython.keyboard_manager.register_events(el);\n",
       "    }\n",
       "};\n",
       "\n",
       "mpl.figure.prototype._key_event_extra = function (event, _name) {\n",
       "    // Check for shift+enter\n",
       "    if (event.shiftKey && event.which === 13) {\n",
       "        this.canvas_div.blur();\n",
       "        // select the cell after this one\n",
       "        var index = IPython.notebook.find_cell_index(this.cell_info[0]);\n",
       "        IPython.notebook.select(index + 1);\n",
       "    }\n",
       "};\n",
       "\n",
       "mpl.figure.prototype.handle_save = function (fig, _msg) {\n",
       "    fig.ondownload(fig, null);\n",
       "};\n",
       "\n",
       "mpl.find_output_cell = function (html_output) {\n",
       "    // Return the cell and output element which can be found *uniquely* in the notebook.\n",
       "    // Note - this is a bit hacky, but it is done because the \"notebook_saving.Notebook\"\n",
       "    // IPython event is triggered only after the cells have been serialised, which for\n",
       "    // our purposes (turning an active figure into a static one), is too late.\n",
       "    var cells = IPython.notebook.get_cells();\n",
       "    var ncells = cells.length;\n",
       "    for (var i = 0; i < ncells; i++) {\n",
       "        var cell = cells[i];\n",
       "        if (cell.cell_type === 'code') {\n",
       "            for (var j = 0; j < cell.output_area.outputs.length; j++) {\n",
       "                var data = cell.output_area.outputs[j];\n",
       "                if (data.data) {\n",
       "                    // IPython >= 3 moved mimebundle to data attribute of output\n",
       "                    data = data.data;\n",
       "                }\n",
       "                if (data['text/html'] === html_output) {\n",
       "                    return [cell, data, j];\n",
       "                }\n",
       "            }\n",
       "        }\n",
       "    }\n",
       "};\n",
       "\n",
       "// Register the function which deals with the matplotlib target/channel.\n",
       "// The kernel may be null if the page has been refreshed.\n",
       "if (IPython.notebook.kernel !== null) {\n",
       "    IPython.notebook.kernel.comm_manager.register_target(\n",
       "        'matplotlib',\n",
       "        mpl.mpl_figure_comm\n",
       "    );\n",
       "}\n"
      ],
      "text/plain": [
       "<IPython.core.display.Javascript object>"
      ]
     },
     "metadata": {},
     "output_type": "display_data"
    },
    {
     "data": {
      "text/html": [
       "<img src=\"data:image/png;base64,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\" width=\"640\">"
      ],
      "text/plain": [
       "<IPython.core.display.HTML object>"
      ]
     },
     "metadata": {},
     "output_type": "display_data"
    }
   ],
   "source": [
    "display_closestwords_tsnescatterplot(model_2, 'Porsche 718 Cayman', 50)"
   ]
  },
  {
   "cell_type": "code",
   "execution_count": 25,
   "metadata": {},
   "outputs": [
    {
     "data": {
      "text/plain": [
       "[('Maserati Coupe', 0.9635833501815796),\n",
       " ('Bentley Continental GTC', 0.9627379179000854),\n",
       " ('Maserati GranSport', 0.9606457948684692),\n",
       " ('Lotus Evora', 0.9596203565597534),\n",
       " ('Bentley Continental', 0.9592800736427307)]"
      ]
     },
     "execution_count": 25,
     "metadata": {},
     "output_type": "execute_result"
    }
   ],
   "source": [
    "model_2.wv.most_similar('Porsche 718 Cayman')[:5]"
   ]
  },
  {
   "cell_type": "code",
   "execution_count": 26,
   "metadata": {},
   "outputs": [
    {
     "data": {
      "text/plain": [
       "[('Maserati Coupe', 0.9635833501815796),\n",
       " ('Bentley Continental GTC', 0.9627379179000854),\n",
       " ('Maserati GranSport', 0.9606457948684692),\n",
       " ('Lotus Evora', 0.9596203565597534),\n",
       " ('Bentley Continental', 0.9592800736427307),\n",
       " ('Mercedes-Benz SL-Class', 0.9587737917900085),\n",
       " ('Mercedes-Benz SLS AMG GT', 0.9578372240066528),\n",
       " ('Lexus LS 460', 0.9572257995605469),\n",
       " ('BMW M4', 0.9566463232040405),\n",
       " ('Dodge SRT Viper', 0.9566370844841003)]"
      ]
     },
     "execution_count": 26,
     "metadata": {},
     "output_type": "execute_result"
    }
   ],
   "source": [
    "close_words = model_2.wv.most_similar('Porsche 718 Cayman')\n",
    "close_words"
   ]
  },
  {
   "cell_type": "code",
   "execution_count": 27,
   "metadata": {},
   "outputs": [
    {
     "name": "stdout",
     "output_type": "stream",
     "text": [
      "[[-0.00297626 -0.00181871  0.01926162  0.01423207 -0.04172595 -0.07988526\n",
      "  -0.02778458  0.07780071  0.01253483 -0.07154375  0.07388287  0.02062879\n",
      "  -0.01671162  0.01123806  0.00108833  0.04001457  0.07039101  0.02958606\n",
      "  -0.01155382 -0.09738801 -0.01574541 -0.00240135  0.08024716  0.01299823\n",
      "   0.0513749  -0.00983822 -0.0517784   0.12133785 -0.01033858 -0.04712969\n",
      "  -0.02870472  0.02587957 -0.01527952  0.01396451  0.01386292  0.00404715\n",
      "   0.0441565  -0.00682656  0.02536604  0.02902729  0.02263985  0.01006462\n",
      "  -0.07839922  0.00823343  0.09203961  0.0376733  -0.0111587  -0.00274377\n",
      "   0.0173374   0.02884528]]\n"
     ]
    }
   ],
   "source": [
    "arr = np.empty((0,50), dtype='f')\n",
    "arr = np.append(arr, np.array([model_2.wv['Porsche 718 Cayman']]), axis=0)\n",
    "print(arr)"
   ]
  },
  {
   "cell_type": "code",
   "execution_count": 28,
   "metadata": {},
   "outputs": [
    {
     "name": "stdout",
     "output_type": "stream",
     "text": [
      "[[-0.00297626 -0.00181871  0.01926162  0.01423207 -0.04172595 -0.07988526\n",
      "  -0.02778458  0.07780071  0.01253483 -0.07154375  0.07388287  0.02062879\n",
      "  -0.01671162  0.01123806  0.00108833  0.04001457  0.07039101  0.02958606\n",
      "  -0.01155382 -0.09738801 -0.01574541 -0.00240135  0.08024716  0.01299823\n",
      "   0.0513749  -0.00983822 -0.0517784   0.12133785 -0.01033858 -0.04712969\n",
      "  -0.02870472  0.02587957 -0.01527952  0.01396451  0.01386292  0.00404715\n",
      "   0.0441565  -0.00682656  0.02536604  0.02902729  0.02263985  0.01006462\n",
      "  -0.07839922  0.00823343  0.09203961  0.0376733  -0.0111587  -0.00274377\n",
      "   0.0173374   0.02884528]\n",
      " [-0.04676676  0.015915    0.06904712 -0.00248098 -0.06440618 -0.17038348\n",
      "  -0.03577318  0.25114423 -0.0063177  -0.12700233  0.1610872   0.01604864\n",
      "  -0.0340013   0.00616686  0.00777363  0.12187146  0.1670158   0.09561657\n",
      "  -0.03641292 -0.28478888 -0.05357888 -0.03552511  0.20001094 -0.00461052\n",
      "   0.15365748  0.01584215 -0.15774755  0.28733316  0.01743927 -0.10006302\n",
      "  -0.04346047  0.09591691 -0.02500144  0.08213616  0.01825234 -0.01250922\n",
      "   0.11679092  0.03386531  0.09968317  0.11493282  0.05400101 -0.0042011\n",
      "  -0.18797828  0.01493924  0.22231911  0.06948087 -0.07026538 -0.03893961\n",
      "   0.00123832  0.09734149]]\n"
     ]
    }
   ],
   "source": [
    "wrd_vector = model_2.wv[close_words[0][0]]\n",
    "arr = np.append(arr, np.array([wrd_vector]), axis=0)\n",
    "print(arr)"
   ]
  },
  {
   "cell_type": "markdown",
   "metadata": {},
   "source": [
    "# 3) Read pre-trained models\n",
    "\n",
    "As we said, it's usually far better to use some pre-trained embeddings instead of starting from scratches\n",
    "\n",
    "Read more: https://radimrehurek.com/gensim/models/keyedvectors.html\n",
    "\n",
    "\n",
    "I will read GloVe's pre-trained vectors here. Gensim offers download of some other pre-trained vectors. See\n",
    "https://github.com/RaRe-Technologies/gensim-data\n",
    "\n",
    "\n",
    "And a more complete pre-trained vector dataset can be found here\n",
    "http://vectors.nlpl.eu/repository/\n",
    "\n",
    "You may need to manually download them to your disk and let Gensim read in.\n",
    "\n",
    "\n",
    "Another source for Pre-trainned word and phrase vectors from Google: https://code.google.com/archive/p/word2vec/"
   ]
  },
  {
   "cell_type": "code",
   "execution_count": 29,
   "metadata": {},
   "outputs": [
    {
     "name": "stdout",
     "output_type": "stream",
     "text": [
      "[=========-----------------------------------------] 18.3% 23.4/128.1MB downloaded"
     ]
    },
    {
     "name": "stderr",
     "output_type": "stream",
     "text": [
      "IOPub message rate exceeded.\n",
      "The notebook server will temporarily stop sending output\n",
      "to the client in order to avoid crashing it.\n",
      "To change this limit, set the config variable\n",
      "`--NotebookApp.iopub_msg_rate_limit`.\n",
      "\n",
      "Current values:\n",
      "NotebookApp.iopub_msg_rate_limit=1000.0 (msgs/sec)\n",
      "NotebookApp.rate_limit_window=3.0 (secs)\n",
      "\n"
     ]
    },
    {
     "name": "stdout",
     "output_type": "stream",
     "text": [
      "[===========================-----------------------] 55.6% 71.2/128.1MB downloaded"
     ]
    },
    {
     "name": "stderr",
     "output_type": "stream",
     "text": [
      "IOPub message rate exceeded.\n",
      "The notebook server will temporarily stop sending output\n",
      "to the client in order to avoid crashing it.\n",
      "To change this limit, set the config variable\n",
      "`--NotebookApp.iopub_msg_rate_limit`.\n",
      "\n",
      "Current values:\n",
      "NotebookApp.iopub_msg_rate_limit=1000.0 (msgs/sec)\n",
      "NotebookApp.rate_limit_window=3.0 (secs)\n",
      "\n"
     ]
    },
    {
     "name": "stdout",
     "output_type": "stream",
     "text": [
      "[==============================================----] 93.4% 119.6/128.1MB downloaded"
     ]
    },
    {
     "name": "stderr",
     "output_type": "stream",
     "text": [
      "IOPub message rate exceeded.\n",
      "The notebook server will temporarily stop sending output\n",
      "to the client in order to avoid crashing it.\n",
      "To change this limit, set the config variable\n",
      "`--NotebookApp.iopub_msg_rate_limit`.\n",
      "\n",
      "Current values:\n",
      "NotebookApp.iopub_msg_rate_limit=1000.0 (msgs/sec)\n",
      "NotebookApp.rate_limit_window=3.0 (secs)\n",
      "\n"
     ]
    }
   ],
   "source": [
    "import gensim.downloader as api\n",
    "\n",
    "word_vectors = api.load(\"glove-wiki-gigaword-100\")  # load pre-trained word-vectors from gensim-data\n"
   ]
  },
  {
   "cell_type": "markdown",
   "metadata": {},
   "source": [
    "Then we can find similar words"
   ]
  },
  {
   "cell_type": "code",
   "execution_count": 30,
   "metadata": {},
   "outputs": [
    {
     "data": {
      "text/plain": [
       "[('girl', 0.8472672700881958),\n",
       " ('man', 0.832349419593811),\n",
       " ('mother', 0.8275688290596008),\n",
       " ('boy', 0.7720510959625244),\n",
       " ('she', 0.7632068395614624),\n",
       " ('child', 0.7601761817932129),\n",
       " ('wife', 0.7505022883415222),\n",
       " ('her', 0.7445706129074097),\n",
       " ('herself', 0.7426273822784424),\n",
       " ('daughter', 0.726445734500885)]"
      ]
     },
     "execution_count": 30,
     "metadata": {},
     "output_type": "execute_result"
    }
   ],
   "source": [
    "result = word_vectors.most_similar(positive=['woman'])\n",
    "result"
   ]
  },
  {
   "cell_type": "markdown",
   "metadata": {},
   "source": [
    "As you may observe, girl and man are really different things. So we can use the king/queen and man/women analogy to find what's the similar word to \"woman\", if we hope to find pairs such as (king, queen)"
   ]
  },
  {
   "cell_type": "markdown",
   "metadata": {},
   "source": [
    "$ man = woman + king - queen $"
   ]
  },
  {
   "cell_type": "code",
   "execution_count": 31,
   "metadata": {},
   "outputs": [
    {
     "data": {
      "text/plain": [
       "[('man', 0.7907769083976746),\n",
       " ('father', 0.722454309463501),\n",
       " ('son', 0.7012037038803101),\n",
       " ('boy', 0.6988654732704163),\n",
       " ('another', 0.6853840351104736),\n",
       " ('person', 0.6754910945892334),\n",
       " ('who', 0.6728037595748901),\n",
       " ('brother', 0.6645877957344055),\n",
       " ('mother', 0.6613163948059082),\n",
       " ('one', 0.6554158329963684)]"
      ]
     },
     "execution_count": 31,
     "metadata": {},
     "output_type": "execute_result"
    }
   ],
   "source": [
    "result = word_vectors.most_similar(positive=['king', 'woman'], negative=['queen'])\n",
    "result"
   ]
  },
  {
   "cell_type": "markdown",
   "metadata": {},
   "source": [
    "$ queen = king + woman - man $"
   ]
  },
  {
   "cell_type": "code",
   "execution_count": 32,
   "metadata": {},
   "outputs": [
    {
     "data": {
      "text/plain": [
       "[('queen', 0.7698541283607483),\n",
       " ('monarch', 0.6843380928039551),\n",
       " ('throne', 0.6755736470222473),\n",
       " ('daughter', 0.6594555974006653),\n",
       " ('princess', 0.6520534157752991),\n",
       " ('prince', 0.651703417301178),\n",
       " ('elizabeth', 0.6464518308639526),\n",
       " ('mother', 0.631171703338623),\n",
       " ('emperor', 0.6106470823287964),\n",
       " ('wife', 0.6098655462265015)]"
      ]
     },
     "execution_count": 32,
     "metadata": {},
     "output_type": "execute_result"
    }
   ],
   "source": [
    "result = word_vectors.most_similar(positive=[ 'king', 'woman'], negative=['man'])\n",
    "result"
   ]
  },
  {
   "cell_type": "markdown",
   "metadata": {},
   "source": [
    "### Using GoogleNews-vectors-negative300.bin.gz  as an example"
   ]
  },
  {
   "cell_type": "markdown",
   "metadata": {},
   "source": [
    "The GoogleNews-vectors-negative300.bin.gz is pretty large and I won't upload it to GitHub. Please download it from [the official source](https://drive.google.com/file/d/0B7XkCwpI5KDYNlNUTTlSS21pQmM/edit?resourcekey=0-wjGZdNAUop6WykTtMip30g) to your local computer if you want to try out the following code. "
   ]
  },
  {
   "cell_type": "code",
   "execution_count": 35,
   "metadata": {},
   "outputs": [],
   "source": [
    "file = 'GoogleNews-vectors-negative300.bin.gz'"
   ]
  },
  {
   "cell_type": "code",
   "execution_count": 36,
   "metadata": {},
   "outputs": [],
   "source": [
    "# Load pretrained model (since intermediate data is not included, the model cannot be refined with additional data)\n",
    "import gensim\n",
    "model_google = gensim.models.KeyedVectors.load_word2vec_format(file, binary=True,limit= 100000) "
   ]
  },
  {
   "cell_type": "code",
   "execution_count": 37,
   "metadata": {},
   "outputs": [
    {
     "name": "stdout",
     "output_type": "stream",
     "text": [
      "(300,)\n",
      "[ 0.05126953 -0.02233887 -0.17285156  0.16113281 -0.08447266  0.05737305\n",
      "  0.05859375 -0.08251953 -0.01538086 -0.06347656  0.1796875  -0.42382812\n",
      " -0.02258301 -0.16601562 -0.02514648  0.10742188 -0.19921875  0.15917969\n",
      " -0.1875     -0.12011719  0.15527344 -0.09912109  0.14257812 -0.1640625\n",
      " -0.08935547  0.20019531 -0.14941406  0.3203125   0.328125    0.02441406\n",
      " -0.09716797 -0.08203125 -0.03637695 -0.0859375  -0.09863281  0.00778198\n",
      " -0.01342773  0.05273438  0.1484375   0.33398438  0.01660156 -0.21289062\n",
      " -0.01507568  0.05249023 -0.10742188 -0.08886719  0.24902344 -0.0703125\n",
      " -0.01599121  0.07568359 -0.0703125   0.11914062  0.22949219  0.01416016\n",
      "  0.11523438  0.00750732  0.27539062 -0.24414062  0.296875    0.03491211\n",
      "  0.2421875   0.13574219  0.14257812  0.01757812  0.02929688 -0.12158203\n",
      "  0.02282715 -0.04760742 -0.15527344  0.00314331  0.34570312  0.12255859\n",
      " -0.1953125   0.08105469 -0.06835938 -0.01470947  0.21484375 -0.12109375\n",
      "  0.15722656 -0.20703125  0.13671875 -0.12988281  0.05297852 -0.27148438\n",
      " -0.29882812 -0.18457031 -0.22949219  0.11914062  0.01531982 -0.26171875\n",
      " -0.12304688 -0.01867676 -0.06494141 -0.08154297  0.07861328 -0.35351562\n",
      "  0.05249023 -0.02453613 -0.00543213 -0.20898438 -0.2109375  -0.1796875\n",
      "  0.2421875   0.2578125   0.13769531 -0.2109375  -0.02172852 -0.13867188\n",
      "  0.01843262 -0.01239014 -0.15917969  0.16113281  0.20800781  0.10302734\n",
      "  0.09814453 -0.06835938 -0.00872803 -0.2890625  -0.21484375 -0.11425781\n",
      " -0.22167969  0.04125977 -0.3125     -0.0559082  -0.09765625  0.05810547\n",
      " -0.04052734 -0.17382812  0.1640625  -0.25390625 -0.15429688 -0.02319336\n",
      " -0.23828125  0.02075195 -0.2734375   0.00390625  0.11376953 -0.17382812\n",
      "  0.2578125   0.23535156  0.05224609  0.06835938 -0.17578125  0.16015625\n",
      " -0.00059891  0.05981445 -0.21191406 -0.05541992 -0.07519531 -0.30664062\n",
      "  0.42773438  0.05322266 -0.20898438 -0.05712891 -0.20996094  0.03295898\n",
      "  0.10546875 -0.15039062 -0.09375     0.11669922  0.06445312  0.02807617\n",
      "  0.24121094 -0.12597656 -0.10058594 -0.01226807 -0.00032616  0.01586914\n",
      "  0.12792969 -0.03320312  0.04077148 -0.13183594  0.09814453  0.17480469\n",
      " -0.23632812  0.05175781  0.18359375  0.02429199 -0.43164062  0.24609375\n",
      " -0.03039551 -0.02478027 -0.1171875   0.16113281 -0.05712891  0.01165771\n",
      "  0.28125     0.42773438  0.0456543   0.10107422 -0.03955078  0.0177002\n",
      " -0.08984375  0.13574219  0.20800781  0.18847656 -0.15234375 -0.23730469\n",
      " -0.19042969  0.07128906 -0.24609375 -0.26171875 -0.234375   -0.14550781\n",
      " -0.01171875 -0.15039062 -0.11328125  0.18261719  0.26367188 -0.13769531\n",
      " -0.45898438 -0.046875   -0.12695312 -0.04223633 -0.16699219  0.12695312\n",
      "  0.25976562 -0.24414062 -0.21972656 -0.08691406  0.15917969 -0.0378418\n",
      "  0.00897217 -0.27734375 -0.10498047 -0.17578125  0.22851562 -0.02709961\n",
      "  0.28515625 -0.2734375   0.01611328  0.05908203 -0.23925781  0.17773438\n",
      " -0.13476562  0.13867188  0.35351562  0.12207031  0.14355469  0.09228516\n",
      "  0.22949219 -0.30078125 -0.04882812 -0.1796875   0.296875    0.17578125\n",
      "  0.0480957  -0.00338745  0.07910156 -0.23828125 -0.23144531  0.16601562\n",
      " -0.21386719 -0.0703125  -0.07568359  0.19628906 -0.12988281 -0.10595703\n",
      " -0.35351562 -0.11669922 -0.05102539  0.03393555 -0.14355469 -0.00390625\n",
      "  0.17382812 -0.09960938 -0.16601562 -0.08544922 -0.3828125   0.05908203\n",
      " -0.06225586  0.08837891 -0.08886719  0.328125    0.06835938 -0.19140625\n",
      " -0.00083542  0.10400391  0.15234375 -0.00153351  0.41601562 -0.03320312\n",
      "  0.14941406  0.2421875  -0.17675781 -0.04931641 -0.12451172  0.12597656\n",
      "  0.17480469  0.28125    -0.18066406  0.10302734 -0.27539062  0.26171875\n",
      "  0.24609375 -0.04711914  0.0625      0.41601562 -0.35546875  0.22265625]\n"
     ]
    }
   ],
   "source": [
    "dog = model_google['dog']\n",
    "print(dog.shape)\n",
    "print(dog)"
   ]
  },
  {
   "cell_type": "code",
   "execution_count": 38,
   "metadata": {},
   "outputs": [
    {
     "name": "stdout",
     "output_type": "stream",
     "text": [
      "Михаил is an out of dictionary word\n"
     ]
    }
   ],
   "source": [
    "# Deal with an out of dictionary word: Михаил (Michail)\n",
    "if 'Михаил' in model_google:\n",
    "    print(model_google['Михаил'].shape)\n",
    "else:\n",
    "    print('{0} is an out of dictionary word'.format('Михаил'))"
   ]
  },
  {
   "cell_type": "code",
   "execution_count": 39,
   "metadata": {},
   "outputs": [
    {
     "data": {
      "text/plain": [
       "[('queens', 0.739944338798523),\n",
       " ('princess', 0.7070531249046326),\n",
       " ('king', 0.6510956883430481),\n",
       " ('monarch', 0.6383602023124695),\n",
       " ('Queen', 0.6163408160209656),\n",
       " ('princesses', 0.5908075571060181),\n",
       " ('royal', 0.5637185573577881),\n",
       " ('prince', 0.5534094572067261),\n",
       " ('duchess', 0.5475091934204102),\n",
       " ('Queen_Elizabeth_II', 0.5321037173271179)]"
      ]
     },
     "execution_count": 39,
     "metadata": {},
     "output_type": "execute_result"
    }
   ],
   "source": [
    "model_google.most_similar('queen')"
   ]
  },
  {
   "cell_type": "code",
   "execution_count": 40,
   "metadata": {},
   "outputs": [
    {
     "data": {
      "text/plain": [
       "[('queen', 0.7118192911148071),\n",
       " ('monarch', 0.6189674139022827),\n",
       " ('princess', 0.5902430415153503),\n",
       " ('crown_prince', 0.5499460697174072),\n",
       " ('prince', 0.5377321839332581),\n",
       " ('kings', 0.5236844420433044),\n",
       " ('queens', 0.5181134939193726),\n",
       " ('sultan', 0.5098593235015869),\n",
       " ('monarchy', 0.5087411403656006),\n",
       " ('royal_palace', 0.5087166428565979)]"
      ]
     },
     "execution_count": 40,
     "metadata": {},
     "output_type": "execute_result"
    }
   ],
   "source": [
    "# Some predefined functions that show content related information for given words\n",
    "model_google.most_similar(positive=['woman', 'king'], negative=['man'])"
   ]
  },
  {
   "cell_type": "code",
   "execution_count": 41,
   "metadata": {},
   "outputs": [
    {
     "data": {
      "text/plain": [
       "[('king', 0.844939112663269),\n",
       " ('queen', 0.7300516366958618),\n",
       " ('monarch', 0.6454660296440125),\n",
       " ('princess', 0.6156251430511475),\n",
       " ('crown_prince', 0.5818676352500916),\n",
       " ('prince', 0.577711820602417),\n",
       " ('kings', 0.5613663792610168),\n",
       " ('sultan', 0.5376777052879333),\n",
       " ('queens', 0.5289887189865112),\n",
       " ('ruler', 0.5247419476509094)]"
      ]
     },
     "execution_count": 41,
     "metadata": {},
     "output_type": "execute_result"
    }
   ],
   "source": [
    "vec = model_google['king'] - model_google['man'] + model_google['woman']\n",
    "model_google.most_similar([vec])"
   ]
  },
  {
   "cell_type": "code",
   "execution_count": 43,
   "metadata": {},
   "outputs": [
    {
     "data": {
      "text/plain": [
       "[('Beijing', 0.7503446936607361),\n",
       " ('China', 0.690947413444519),\n",
       " ('Shanghai', 0.6311317086219788),\n",
       " ('Chinese', 0.5892248749732971),\n",
       " ('Wen', 0.5494182109832764),\n",
       " ('Taipei', 0.5488865971565247),\n",
       " ('Hu', 0.5421319007873535),\n",
       " ('Berlin', 0.540385901927948),\n",
       " ('Jiang', 0.5400534272193909),\n",
       " ('Nanjing', 0.5362175107002258)]"
      ]
     },
     "execution_count": 43,
     "metadata": {},
     "output_type": "execute_result"
    }
   ],
   "source": [
    "vec = model_google['Berlin'] - model_google['Germany'] + model_google['China']\n",
    "model_google.most_similar([vec])"
   ]
  },
  {
   "cell_type": "code",
   "execution_count": 44,
   "metadata": {},
   "outputs": [
    {
     "data": {
      "text/plain": [
       "[('China', 0.78082674741745),\n",
       " ('Beijing', 0.7486749887466431),\n",
       " ('Chinese', 0.6215003132820129),\n",
       " ('Taiwan', 0.6076850891113281),\n",
       " ('Guangzhou', 0.5951666235923767),\n",
       " ('South_Korea', 0.5853776931762695),\n",
       " ('Guangdong', 0.557560384273529),\n",
       " ('Tianjin', 0.5540564060211182),\n",
       " ('Hong_Kong', 0.5525559186935425),\n",
       " ('Hangzhou', 0.5507877469062805)]"
      ]
     },
     "execution_count": 44,
     "metadata": {},
     "output_type": "execute_result"
    }
   ],
   "source": [
    "vec = model_google['Germany'] - model_google['Berlin'] + model_google['Beijing']\n",
    "model_google.most_similar([vec])"
   ]
  },
  {
   "cell_type": "code",
   "execution_count": 42,
   "metadata": {},
   "outputs": [
    {
     "data": {
      "text/plain": [
       "[('Messi', 0.8166202902793884),\n",
       " ('Nadal', 0.7505947947502136),\n",
       " ('Lionel_Messi', 0.7263434529304504),\n",
       " ('Federer', 0.7245291471481323),\n",
       " ('Del_Potro', 0.7131719589233398),\n",
       " ('Djokovic', 0.6933086514472961),\n",
       " ('Xavi', 0.6920369267463684),\n",
       " ('Wawrinka', 0.6769295334815979),\n",
       " ('Safin', 0.6765395402908325),\n",
       " ('Verdasco', 0.6752811670303345)]"
      ]
     },
     "execution_count": 42,
     "metadata": {},
     "output_type": "execute_result"
    }
   ],
   "source": [
    "vec = model_google['Messi'] - model_google['soccer'] + model_google['tennis']\n",
    "model_google.most_similar([vec])"
   ]
  },
  {
   "cell_type": "code",
   "execution_count": 46,
   "metadata": {},
   "outputs": [
    {
     "data": {
      "text/plain": [
       "'economics'"
      ]
     },
     "execution_count": 46,
     "metadata": {},
     "output_type": "execute_result"
    }
   ],
   "source": [
    "model_google.doesnt_match(\"breakfast economics dinner lunch\".split())"
   ]
  },
  {
   "cell_type": "code",
   "execution_count": 47,
   "metadata": {},
   "outputs": [
    {
     "data": {
      "text/plain": [
       "0.7664013"
      ]
     },
     "execution_count": 47,
     "metadata": {},
     "output_type": "execute_result"
    }
   ],
   "source": [
    "model_google.similarity('woman', 'man')"
   ]
  },
  {
   "cell_type": "code",
   "execution_count": 49,
   "metadata": {},
   "outputs": [
    {
     "data": {
      "text/plain": [
       "0.5616391"
      ]
     },
     "execution_count": 49,
     "metadata": {},
     "output_type": "execute_result"
    }
   ],
   "source": [
    "model_google.similarity('Harvard', 'Stanford')"
   ]
  },
  {
   "cell_type": "code",
   "execution_count": 50,
   "metadata": {},
   "outputs": [
    {
     "data": {
      "text/plain": [
       "0.7489214"
      ]
     },
     "execution_count": 50,
     "metadata": {},
     "output_type": "execute_result"
    }
   ],
   "source": [
    "model_google.similarity('Cambridge', 'Oxford')"
   ]
  },
  {
   "cell_type": "code",
   "execution_count": 51,
   "metadata": {},
   "outputs": [
    {
     "data": {
      "text/plain": [
       "[('Yale', 0.7817695736885071),\n",
       " ('MIT', 0.6923760771751404),\n",
       " ('Tufts', 0.6757500171661377),\n",
       " ('Princeton', 0.6723749041557312),\n",
       " ('Dartmouth_College', 0.6639551520347595),\n",
       " ('Tufts_University', 0.6623229384422302),\n",
       " ('Dartmouth', 0.6545069813728333),\n",
       " ('Cornell', 0.6406891942024231),\n",
       " ('Ivy_League', 0.6399901509284973),\n",
       " ('Harvard_Law', 0.639301061630249)]"
      ]
     },
     "execution_count": 51,
     "metadata": {},
     "output_type": "execute_result"
    }
   ],
   "source": [
    "model_google.most_similar('Harvard')"
   ]
  },
  {
   "cell_type": "code",
   "execution_count": 43,
   "metadata": {},
   "outputs": [
    {
     "ename": "KeyError",
     "evalue": "\"Key 'HKUST' not present\"",
     "output_type": "error",
     "traceback": [
      "\u001b[0;31m---------------------------------------------------------------------------\u001b[0m",
      "\u001b[0;31mKeyError\u001b[0m                                  Traceback (most recent call last)",
      "Cell \u001b[0;32mIn[43], line 1\u001b[0m\n\u001b[0;32m----> 1\u001b[0m \u001b[43mmodel_google\u001b[49m\u001b[38;5;241;43m.\u001b[39;49m\u001b[43msimilarity\u001b[49m\u001b[43m(\u001b[49m\u001b[38;5;124;43m'\u001b[39;49m\u001b[38;5;124;43mHKUST\u001b[39;49m\u001b[38;5;124;43m'\u001b[39;49m\u001b[43m,\u001b[49m\u001b[43m \u001b[49m\u001b[38;5;124;43m'\u001b[39;49m\u001b[38;5;124;43mHKU\u001b[39;49m\u001b[38;5;124;43m'\u001b[39;49m\u001b[43m)\u001b[49m\n",
      "File \u001b[0;32m~/opt/anaconda3/lib/python3.9/site-packages/gensim/models/keyedvectors.py:1234\u001b[0m, in \u001b[0;36mKeyedVectors.similarity\u001b[0;34m(self, w1, w2)\u001b[0m\n\u001b[1;32m   1218\u001b[0m \u001b[38;5;28;01mdef\u001b[39;00m \u001b[38;5;21msimilarity\u001b[39m(\u001b[38;5;28mself\u001b[39m, w1, w2):\n\u001b[1;32m   1219\u001b[0m     \u001b[38;5;124;03m\"\"\"Compute cosine similarity between two keys.\u001b[39;00m\n\u001b[1;32m   1220\u001b[0m \n\u001b[1;32m   1221\u001b[0m \u001b[38;5;124;03m    Parameters\u001b[39;00m\n\u001b[0;32m   (...)\u001b[0m\n\u001b[1;32m   1232\u001b[0m \n\u001b[1;32m   1233\u001b[0m \u001b[38;5;124;03m    \"\"\"\u001b[39;00m\n\u001b[0;32m-> 1234\u001b[0m     \u001b[38;5;28;01mreturn\u001b[39;00m dot(matutils\u001b[38;5;241m.\u001b[39munitvec(\u001b[38;5;28;43mself\u001b[39;49m\u001b[43m[\u001b[49m\u001b[43mw1\u001b[49m\u001b[43m]\u001b[49m), matutils\u001b[38;5;241m.\u001b[39munitvec(\u001b[38;5;28mself\u001b[39m[w2]))\n",
      "File \u001b[0;32m~/opt/anaconda3/lib/python3.9/site-packages/gensim/models/keyedvectors.py:403\u001b[0m, in \u001b[0;36mKeyedVectors.__getitem__\u001b[0;34m(self, key_or_keys)\u001b[0m\n\u001b[1;32m    389\u001b[0m \u001b[38;5;124;03m\"\"\"Get vector representation of `key_or_keys`.\u001b[39;00m\n\u001b[1;32m    390\u001b[0m \n\u001b[1;32m    391\u001b[0m \u001b[38;5;124;03mParameters\u001b[39;00m\n\u001b[0;32m   (...)\u001b[0m\n\u001b[1;32m    400\u001b[0m \n\u001b[1;32m    401\u001b[0m \u001b[38;5;124;03m\"\"\"\u001b[39;00m\n\u001b[1;32m    402\u001b[0m \u001b[38;5;28;01mif\u001b[39;00m \u001b[38;5;28misinstance\u001b[39m(key_or_keys, _KEY_TYPES):\n\u001b[0;32m--> 403\u001b[0m     \u001b[38;5;28;01mreturn\u001b[39;00m \u001b[38;5;28;43mself\u001b[39;49m\u001b[38;5;241;43m.\u001b[39;49m\u001b[43mget_vector\u001b[49m\u001b[43m(\u001b[49m\u001b[43mkey_or_keys\u001b[49m\u001b[43m)\u001b[49m\n\u001b[1;32m    405\u001b[0m \u001b[38;5;28;01mreturn\u001b[39;00m vstack([\u001b[38;5;28mself\u001b[39m\u001b[38;5;241m.\u001b[39mget_vector(key) \u001b[38;5;28;01mfor\u001b[39;00m key \u001b[38;5;129;01min\u001b[39;00m key_or_keys])\n",
      "File \u001b[0;32m~/opt/anaconda3/lib/python3.9/site-packages/gensim/models/keyedvectors.py:446\u001b[0m, in \u001b[0;36mKeyedVectors.get_vector\u001b[0;34m(self, key, norm)\u001b[0m\n\u001b[1;32m    422\u001b[0m \u001b[38;5;28;01mdef\u001b[39;00m \u001b[38;5;21mget_vector\u001b[39m(\u001b[38;5;28mself\u001b[39m, key, norm\u001b[38;5;241m=\u001b[39m\u001b[38;5;28;01mFalse\u001b[39;00m):\n\u001b[1;32m    423\u001b[0m     \u001b[38;5;124;03m\"\"\"Get the key's vector, as a 1D numpy array.\u001b[39;00m\n\u001b[1;32m    424\u001b[0m \n\u001b[1;32m    425\u001b[0m \u001b[38;5;124;03m    Parameters\u001b[39;00m\n\u001b[0;32m   (...)\u001b[0m\n\u001b[1;32m    444\u001b[0m \n\u001b[1;32m    445\u001b[0m \u001b[38;5;124;03m    \"\"\"\u001b[39;00m\n\u001b[0;32m--> 446\u001b[0m     index \u001b[38;5;241m=\u001b[39m \u001b[38;5;28;43mself\u001b[39;49m\u001b[38;5;241;43m.\u001b[39;49m\u001b[43mget_index\u001b[49m\u001b[43m(\u001b[49m\u001b[43mkey\u001b[49m\u001b[43m)\u001b[49m\n\u001b[1;32m    447\u001b[0m     \u001b[38;5;28;01mif\u001b[39;00m norm:\n\u001b[1;32m    448\u001b[0m         \u001b[38;5;28mself\u001b[39m\u001b[38;5;241m.\u001b[39mfill_norms()\n",
      "File \u001b[0;32m~/opt/anaconda3/lib/python3.9/site-packages/gensim/models/keyedvectors.py:420\u001b[0m, in \u001b[0;36mKeyedVectors.get_index\u001b[0;34m(self, key, default)\u001b[0m\n\u001b[1;32m    418\u001b[0m     \u001b[38;5;28;01mreturn\u001b[39;00m default\n\u001b[1;32m    419\u001b[0m \u001b[38;5;28;01melse\u001b[39;00m:\n\u001b[0;32m--> 420\u001b[0m     \u001b[38;5;28;01mraise\u001b[39;00m \u001b[38;5;167;01mKeyError\u001b[39;00m(\u001b[38;5;124mf\u001b[39m\u001b[38;5;124m\"\u001b[39m\u001b[38;5;124mKey \u001b[39m\u001b[38;5;124m'\u001b[39m\u001b[38;5;132;01m{\u001b[39;00mkey\u001b[38;5;132;01m}\u001b[39;00m\u001b[38;5;124m'\u001b[39m\u001b[38;5;124m not present\u001b[39m\u001b[38;5;124m\"\u001b[39m)\n",
      "\u001b[0;31mKeyError\u001b[0m: \"Key 'HKUST' not present\""
     ]
    }
   ],
   "source": [
    "model_google.similarity('HKUST', 'HKU')"
   ]
  },
  {
   "cell_type": "code",
   "execution_count": 55,
   "metadata": {},
   "outputs": [
    {
     "data": {
      "text/plain": [
       "0.5652766"
      ]
     },
     "execution_count": 55,
     "metadata": {},
     "output_type": "execute_result"
    }
   ],
   "source": [
    "model_google.similarity('Economics', 'Sociology')"
   ]
  },
  {
   "cell_type": "code",
   "execution_count": 56,
   "metadata": {},
   "outputs": [
    {
     "data": {
      "text/plain": [
       "0.36622703"
      ]
     },
     "execution_count": 56,
     "metadata": {},
     "output_type": "execute_result"
    }
   ],
   "source": [
    "model_google.similarity('Statistics', 'Economics')"
   ]
  },
  {
   "cell_type": "code",
   "execution_count": 57,
   "metadata": {},
   "outputs": [
    {
     "data": {
      "text/plain": [
       "0.30566943"
      ]
     },
     "execution_count": 57,
     "metadata": {},
     "output_type": "execute_result"
    }
   ],
   "source": [
    "model_google.similarity('Statistics', 'Sociology')"
   ]
  },
  {
   "cell_type": "markdown",
   "metadata": {},
   "source": [
    "# Software \n",
    "- GloVe: https://nlp.stanford.edu/projects/glove/\n",
    "- Word2Vec: https://code.google.com/archive/p/word2vec/\n",
    "- Tensorflow Word2Vec tutorial: https://www.tensorflow.org/tutorials/text/word_embeddings"
   ]
  },
  {
   "cell_type": "code",
   "execution_count": null,
   "metadata": {},
   "outputs": [],
   "source": []
  }
 ],
 "metadata": {
  "kernelspec": {
   "display_name": "Python 3 (ipykernel)",
   "language": "python",
   "name": "python3"
  },
  "language_info": {
   "codemirror_mode": {
    "name": "ipython",
    "version": 3
   },
   "file_extension": ".py",
   "mimetype": "text/x-python",
   "name": "python",
   "nbconvert_exporter": "python",
   "pygments_lexer": "ipython3",
   "version": "3.9.12"
  }
 },
 "nbformat": 4,
 "nbformat_minor": 4
}
