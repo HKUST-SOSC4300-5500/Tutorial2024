{
 "cells": [
  {
   "cell_type": "markdown",
   "metadata": {},
   "source": [
    "# Regular Expression"
   ]
  },
  {
   "cell_type": "markdown",
   "metadata": {},
   "source": [
    "- In this tutorial, you will learn about regular expressions (RegEx), and use Python's re module to work with RegEx.\n",
    "- A Regular Expression (RegEx) is a sequence of characters that defines a search pattern. For example,\n",
    "    ```\n",
    "    ^a...e$\n",
    "    ```\n",
    "- The above code defines a RegEx pattern. The pattern is: any five letter string starting with a and ending with e.\n",
    "- A pattern defined using RegEx can be used to match against a string.\n",
    "\n",
    "|Expression|String|Matched?|\n",
    "|----------|:-------------:|------:|\n",
    "| ^a...e$ | abe | No match |\n",
    "| - | abcde | Match |\n",
    "| - | abbbe | Match |\n",
    "| - | abbcde | No match |\n"
   ]
  },
  {
   "cell_type": "markdown",
   "metadata": {},
   "source": [
    "- Python has a module named re to work with RegEx. Here's an example:"
   ]
  },
  {
   "cell_type": "code",
   "execution_count": 1,
   "metadata": {},
   "outputs": [],
   "source": [
    "import re"
   ]
  },
  {
   "cell_type": "code",
   "execution_count": 2,
   "metadata": {},
   "outputs": [
    {
     "name": "stdout",
     "output_type": "stream",
     "text": [
      "Search unsuccessful.\n"
     ]
    }
   ],
   "source": [
    "pattern = '^c...i$'\n",
    "test_string = 'chen-pei'\n",
    "result = re.match(pattern, test_string)\n",
    "\n",
    "if result:\n",
    "  print(\"Search successful.\")\n",
    "else:\n",
    "  print(\"Search unsuccessful.\")"
   ]
  },
  {
   "cell_type": "markdown",
   "metadata": {},
   "source": [
    "- Here, we used re.match() function to search pattern within the test_string. \n",
    "- The method returns a match object if the search is successful. If not, it returns None."
   ]
  },
  {
   "cell_type": "code",
   "execution_count": 3,
   "metadata": {},
   "outputs": [
    {
     "name": "stdout",
     "output_type": "stream",
     "text": [
      "None\n"
     ]
    }
   ],
   "source": [
    "print(result)"
   ]
  },
  {
   "cell_type": "code",
   "execution_count": 4,
   "metadata": {},
   "outputs": [
    {
     "name": "stdout",
     "output_type": "stream",
     "text": [
      "Search successful.\n"
     ]
    }
   ],
   "source": [
    "pattern = '^c...i$'\n",
    "test_string = 'cheni'\n",
    "result = re.match(pattern, test_string)\n",
    "\n",
    "if result:\n",
    "  print(\"Search successful.\")\n",
    "else:\n",
    "  print(\"Search unsuccessful.\") "
   ]
  },
  {
   "cell_type": "code",
   "execution_count": 5,
   "metadata": {},
   "outputs": [
    {
     "name": "stdout",
     "output_type": "stream",
     "text": [
      "<re.Match object; span=(0, 5), match='cheni'>\n"
     ]
    }
   ],
   "source": [
    "print(result)"
   ]
  },
  {
   "cell_type": "code",
   "execution_count": 6,
   "metadata": {},
   "outputs": [
    {
     "data": {
      "text/plain": [
       "'cheni'"
      ]
     },
     "execution_count": 6,
     "metadata": {},
     "output_type": "execute_result"
    }
   ],
   "source": [
    "result[0]"
   ]
  },
  {
   "cell_type": "markdown",
   "metadata": {},
   "source": [
    "- There are other several functions defined in the re module to work with RegEx. \n",
    "- Before we explore that, let's learn about regular expressions themselves."
   ]
  },
  {
   "cell_type": "markdown",
   "metadata": {},
   "source": [
    "- Specify Pattern Using RegEx\n",
    "    - To specify regular expressions, metacharacters are used. \n",
    "    - In the above example, ^ and $ are metacharacters."
   ]
  },
  {
   "cell_type": "markdown",
   "metadata": {},
   "source": [
    "- **MetaCharacters**\n",
    "  \n",
    "    - Metacharacters are characters that are interpreted in a special way by a RegEx engine. \n",
    "    - Here's a list of metacharacters:\n",
    "```\n",
    "[] . ^ $ * + ? {} () \\ |\n",
    "```"
   ]
  },
  {
   "cell_type": "markdown",
   "metadata": {},
   "source": [
    "- Square brackets: [] \n",
    "\n",
    "    - Square brackets specifies a set of characters you wish to match.\n",
    "\n",
    "\n",
    "|Expression|String|\tMatched?|\n",
    "|----------|:-------------:|------:|\n",
    "|[abc]|\ta| 1 match|\n",
    " |- |ac|2 matches|\n",
    " |- |Hey Joe|\tNo match|\n",
    " |- |abc de ca|5 matches|\n",
    " \n",
    " \n",
    "- Here, [abc] will match if the string you are trying to match contains any of the a, b or c.\n",
    "\n",
    "- You can also specify a range of characters using - inside square brackets.\n",
    "\n",
    "    - [a-e] is the same as [abcde].\n",
    "    - [1-4] is the same as [1234].\n",
    "    - [0-39] is the same as [01239].\n",
    "    \n",
    "- You can complement (invert) the character set by using caret ^ symbol at the start of a square-bracket.\n",
    "\n",
    "    - [^abc] means any character except a or b or c.\n",
    "    - [^0-9] means any non-digit character."
   ]
  },
  {
   "cell_type": "markdown",
   "metadata": {},
   "source": [
    "- Period: . \n",
    "\n",
    "    - A period matches any single character (except newline '\\n').\n",
    "\n",
    "|Expression\t|String\t|Matched?|\n",
    "|----------|:-------------:|------:|\n",
    "|..|\ta|\tNo match|\n",
    "|..| ac\t|1 match|\n",
    "|.. |acd|\t1 match (non-overlapping)|\n",
    "|..|acde\t|2 matches (contains 4 characters)|"
   ]
  },
  {
   "cell_type": "markdown",
   "metadata": {},
   "source": [
    "-  Caret: ^ \n",
    "\n",
    "    - The caret symbol ^ is used to check if a string starts with a certain character.\n",
    "\n",
    "|Expression|\tString|\tMatched?|\n",
    "|----------|:-------------:|------:|\n",
    "|^a\t|a\t|1 match|\n",
    "|^a\t|abc\t|1 match|\n",
    "|^a\t|bac|\tNo match|\n",
    "|^ab |\tabc\t|1 match|\n",
    "|^ab |acb|\tNo match (starts with a but not followed by b)|"
   ]
  },
  {
   "cell_type": "markdown",
   "metadata": {},
   "source": [
    "- Dollar: \\$\n",
    "    - The dollar symbol $ is used to check if a string ends with a certain character.\n",
    "\n",
    "|Expression|\tString\t|Matched?|\n",
    "|----------|:-------------:|------:|\n",
    "|a\\$\t|a\t | 1 match|\n",
    "|a\\$\t|formula\t |1 match|\n",
    "|a\\$\t|cab\t|No match|"
   ]
  },
  {
   "cell_type": "markdown",
   "metadata": {},
   "source": [
    "- Star: \\* \n",
    "\n",
    "    - The star symbol * matches zero or more occurrences of the pattern left to it.\n",
    "\n",
    "|Expression\t|String\t|Matched?|\n",
    "|----------|:-------------:|------:|\n",
    "|ma*n|\tmn\t|1 match|\n",
    "|ma*n|man\t|1 match|\n",
    "|ma*n|maaan\t|1 match|\n",
    "|ma*n|main\t|No match (a is not followed by n)|\n",
    "|ma*n|woman\t|1 match|"
   ]
  },
  {
   "cell_type": "markdown",
   "metadata": {},
   "source": [
    "- Plus: \\+ \n",
    "\n",
    "    - The plus symbol + matches one or more occurrences of the pattern left to it.\n",
    "\n",
    "|Expression\t|String\t|Matched?|\n",
    "|----------|:-------------:|------:|\n",
    "|ma+n|\tmn\t|No match (no a character)|\n",
    "|ma+n|man\t|1 match|\n",
    "|ma+n|maaan\t|1 match|\n",
    "|ma+n|main\t|No match (a is not followed by n)|\n",
    "|ma+n|woman\t|1 match|"
   ]
  },
  {
   "cell_type": "markdown",
   "metadata": {},
   "source": [
    "- Question Mark: ? \n",
    "\n",
    "    - The question mark symbol ? matches zero or one occurrence of the pattern left to it.\n",
    "\n",
    "|Expression\t|String\t|Matched?|\n",
    "|----------|:-------------:|------:|\n",
    "|ma?n\t|mn\t|1 match|\n",
    "|ma?n|man|\t1 match|\n",
    "|ma?n|maaan|\tNo match (more than one a character)|\n",
    "|ma?n|main\t|No match (a is not followed by n)|\n",
    "|ma?n|woman\t|1 match|"
   ]
  },
  {
   "cell_type": "markdown",
   "metadata": {},
   "source": [
    "- Braces: {}\n",
    "\n",
    "    - Consider this code: {n,m}. This means at least n, and at most m repetitions of the pattern left to it.\n",
    "\n",
    "|Expression\t|String\t|Matched?|\n",
    "|----------|:-------------:|------:|\n",
    "|a{2,3}\t|abc dat\t|No match|\n",
    "|a{2,3}|abc daat\t|1 match (at daat)|\n",
    "|a{2,3}|aabc daaat\t|2 matches (at aabc and daaat)|\n",
    "|a{2,3}|aabc daaaat\t|2 matches (at aabc and daaaat)|\n",
    "\n",
    "\n",
    "    - Let's try one more example. This RegEx [0-9]{2, 4} matches at least 2 digits but not more than 4 digits\n",
    "\n",
    "|Expression\t|String\t|Matched?|\n",
    "|----------|:-------------:|------:|\n",
    "|[0-9]{2,4}\t|ab123csde\t|1 match (match at ab123csde)|\n",
    "|[0-9]{2,4}\t|12 and 345673\t|3 matches (12, 3456, 73)|\n",
    "|[0-9]{2,4}\t|1 and  2\t|No match|"
   ]
  },
  {
   "cell_type": "markdown",
   "metadata": {},
   "source": [
    "- Alternation: \\|\n",
    "   - Vertical bar \\| is used for alternation (OR operator).\n",
    "\n",
    "|Expression\t|String\t|Matched?|\n",
    "|----------|:-------------:|------:|\n",
    "|a\\|b|\tcde|\tNo match|\n",
    "|a\\|b| ade\t|1 match (match at ade)|\n",
    "|a\\|b| acdbea|\t3 matches (at acdbea)|\n",
    "\n",
    "   - Here, a\\|b match any string that contains either a or b"
   ]
  },
  {
   "cell_type": "markdown",
   "metadata": {},
   "source": [
    "- Group: ()\n",
    "    - Parentheses () is used to group sub-patterns. \n",
    "    - For example, (a|b|c)xz match any string that matches either a or b or c followed by xz\n",
    "\n",
    "|Expression\t|String\t|Matched?|\n",
    "|----------|:-------------:|------:|\n",
    "|(a\\|b\\|c)xz |xz     |\tNo match|\n",
    "|(a\\|b\\|c)xz |abxz\t|1 match (match at abxz)|\n",
    "|(a\\|b\\|c)xz |axz cabxz|\t2 matches (at axzbc cabxz)|"
   ]
  },
  {
   "cell_type": "markdown",
   "metadata": {},
   "source": [
    "\n",
    "- Backslash: \\\\ \n",
    "\n",
    "    - Backlash \\\\ is used to escape various characters including all metacharacters. For example,\n",
    "   \n",
    "    ```\n",
    "    \\$a\n",
    "    ```\n",
    "    - match if a string contains \\$ followed by a. \n",
    "    - Here, \\$ is not interpreted by a RegEx engine in a special way.\n",
    "\n",
    "    - If you are unsure if a character has special meaning or not, you can put \\\\ in front of it. This makes sure the character is not treated in a special way.\n"
   ]
  },
  {
   "cell_type": "markdown",
   "metadata": {},
   "source": [
    "- Special Sequences\n",
    "\n",
    "    - Special sequences make commonly used patterns easier to write. Here's a list of special sequences:\n",
    "        - \\\\A  Matches if the specified characters are at the start of a string.\n",
    "        - \\\\b - Matches if the specified characters are at the beginning or end of a word.\n",
    "        - \\\\B - Opposite of \\b. Matches if the specified characters are not at the beginning or end of a word.\n",
    "        - **\\\\d - Matches any decimal digit. Equivalent to [0-9]**\n",
    "        - \\\\D - Matches any non-decimal digit. Equivalent to [^0-9]\n",
    "        - \\\\s - Matches where a string contains any whitespace character. Equivalent to [ \\\\t\\\\n\\\\r\\\\f\\\\v].\n",
    "        - \\\\S - Matches where a string contains any non-whitespace character. Equivalent to [^ \\\\t\\\\n\\\\r\\\\f\\\\v].\n",
    "        - ..."
   ]
  },
  {
   "cell_type": "markdown",
   "metadata": {},
   "source": [
    "## RegEx  in Python\n",
    "\n",
    "- Python has a module named re to work with regular expressions. To use it, we need to import the module.\n",
    "    ```python\n",
    "    import re\n",
    "    ```   \n",
    "- The module defines several functions and constants to work with RegEx。\n",
    "\n",
    "### re.findall()\n",
    "\n",
    "   - The re.findall() method returns a list of strings containing all matches.\n",
    "   \n",
    "    ```python\n",
    "    re.findall()\n",
    "\n",
    "    ```\n"
   ]
  },
  {
   "cell_type": "code",
   "execution_count": 7,
   "metadata": {},
   "outputs": [
    {
     "name": "stdout",
     "output_type": "stream",
     "text": [
      "['2020', '22']\n"
     ]
    }
   ],
   "source": [
    "# Program to extract numbers from a string\n",
    "import re\n",
    "\n",
    "string = 'hello 2020, I am 22 years old'\n",
    "pattern = '\\d+'\n",
    "\n",
    "result = re.findall(pattern, string) \n",
    "print(result)"
   ]
  },
  {
   "cell_type": "markdown",
   "metadata": {},
   "source": [
    " ### re.split()\n",
    " - The re.split method splits the string where there is a match \n",
    " - and returns a list of strings where the splits have occurred."
   ]
  },
  {
   "cell_type": "code",
   "execution_count": 8,
   "metadata": {},
   "outputs": [
    {
     "name": "stdout",
     "output_type": "stream",
     "text": [
      "['Highet:', '; Price:', 'HKD.']\n"
     ]
    }
   ],
   "source": [
    "string = 'Highet:12; Price:89000HKD.'\n",
    "pattern = '\\d+'\n",
    "\n",
    "result = re.split(pattern, string) \n",
    "print(result)"
   ]
  },
  {
   "cell_type": "code",
   "execution_count": 9,
   "metadata": {},
   "outputs": [
    {
     "name": "stdout",
     "output_type": "stream",
     "text": [
      "['Highet:', '; Price:89000HKD.']\n"
     ]
    }
   ],
   "source": [
    "#You can pass maxsplit argument to the re.split() method. \n",
    "# It's the maximum number of splits that will occur.\n",
    "\n",
    "string = 'Highet:12; Price:89000HKD.'\n",
    "pattern = '\\d+'\n",
    "\n",
    "# maxsplit = 1\n",
    "# split only at the first occurrence\n",
    "result = re.split(pattern, string, 1) \n",
    "print(result)"
   ]
  },
  {
   "cell_type": "markdown",
   "metadata": {},
   "source": [
    "### re.search() \n",
    "- The re.search() method takes two arguments: \n",
    "    - a pattern and a string. \n",
    "    - The method looks for the first location where the RegEx pattern produces a match with the string.\n",
    "\n",
    "- If the search is successful, re.search() returns a match object; if not, it returns None.\n",
    "\n",
    "```python\n",
    "match = re.search(pattern, str)\n",
    "```"
   ]
  },
  {
   "cell_type": "code",
   "execution_count": 11,
   "metadata": {},
   "outputs": [
    {
     "name": "stdout",
     "output_type": "stream",
     "text": [
      "pattern found inside the string\n"
     ]
    }
   ],
   "source": [
    "string = \"Python fun\"\n",
    "\n",
    "# check if 'Python' is at the beginning\n",
    "match = re.search('\\APython', string)\n",
    "\n",
    "if match:\n",
    "  print(\"pattern found inside the string\")\n",
    "else:\n",
    "  print(\"pattern not found\")  \n",
    "\n",
    "# Output: pattern found inside the string"
   ]
  },
  {
   "cell_type": "markdown",
   "metadata": {},
   "source": [
    "### Using r prefix before RegEx\n",
    "\n",
    "- When r or R prefix is used before a regular expression, it means raw string. \n",
    "- For example, '\\\\n' is a new line whereas r'\\\\n' means two characters: a backslash \\\\ followed by n.\n",
    "- Backlash \\\\ is used to escape various characters including all metacharacters. \n",
    "- However, using r prefix makes \\\\ treat as a normal character."
   ]
  },
  {
   "cell_type": "code",
   "execution_count": 7,
   "metadata": {},
   "outputs": [
    {
     "name": "stdout",
     "output_type": "stream",
     "text": [
      "['\\n', '\\r']\n"
     ]
    }
   ],
   "source": [
    "string = '\\n and \\r are escape sequences.'\n",
    "\n",
    "result = re.findall(r'[\\n\\r]', string) \n",
    "print(result)\n",
    "# Output: ['\\n', '\\r']"
   ]
  },
  {
   "cell_type": "markdown",
   "metadata": {},
   "source": [
    "### Look-ahead and Look-behind\n",
    "useful when we want to match a pattern by its relative position\n",
    "\n",
    "`(?<=)`: look behind — pattern before the pattern we want\n",
    "\n",
    "`(?=)`: look ahead — pattern after the pattern we want"
   ]
  },
  {
   "cell_type": "code",
   "execution_count": 15,
   "metadata": {},
   "outputs": [],
   "source": [
    "logs = '''\n",
    "146.204.224.152 - feest6811 [21/Jun/2019:15:45:24 -0700] \"POST /incentivize HTTP/1.1\" 302 4622\n",
    "197.109.77.178 - kertzmann3129 [21/Jun/2019:15:45:25 -0700] \"DELETE /virtual/solutions/target/web+services HTTP/2.0\" 203 26554\n",
    "156.127.178.177 - okuneva5222 [21/Jun/2019:15:45:27 -0700] \"DELETE /interactive/transparent/niches/revolutionize HTTP/1.1\" 416 14701\n",
    "100.32.205.59 - ortiz8891 [21/Jun/2019:15:45:28 -0700] \"PATCH /architectures HTTP/1.0\" 204 6048\n",
    "168.95.156.240 - stark2413 [21/Jun/2019:15:45:31 -0700] \"GET /engage HTTP/2.0\" 201 9645\n",
    "71.172.239.195 - dooley1853 [21/Jun/2019:15:45:32 -0700] \"PUT /cutting-edge HTTP/2.0\" 406 24498\n",
    "'''"
   ]
  },
  {
   "cell_type": "code",
   "execution_count": 16,
   "metadata": {},
   "outputs": [
    {
     "data": {
      "text/plain": [
       "['feest6811',\n",
       " 'kertzmann3129',\n",
       " 'okuneva5222',\n",
       " 'ortiz8891',\n",
       " 'stark2413',\n",
       " 'dooley1853']"
      ]
     },
     "execution_count": 16,
     "metadata": {},
     "output_type": "execute_result"
    }
   ],
   "source": [
    "# find all the user names\n",
    "re.findall('(?<=-\\s).+(?= \\[)', logs)"
   ]
  },
  {
   "cell_type": "markdown",
   "metadata": {},
   "source": [
    "## Web Scraping with RegEx"
   ]
  },
  {
   "cell_type": "code",
   "execution_count": 23,
   "metadata": {},
   "outputs": [
    {
     "name": "stdout",
     "output_type": "stream",
     "text": [
      "<img src=\"../img/gifts/img1.jpg\"/>\n",
      "<img src=\"../img/gifts/img2.jpg\"/>\n",
      "<img src=\"../img/gifts/img3.jpg\"/>\n",
      "<img src=\"../img/gifts/img4.jpg\"/>\n",
      "<img src=\"../img/gifts/img6.jpg\"/>\n"
     ]
    }
   ],
   "source": [
    "import requests\n",
    "from bs4 import BeautifulSoup\n",
    "\n",
    "URL = 'http://www.pythonscraping.com/pages/page3.html'\n",
    "page = requests.get(URL)\n",
    "\n",
    "bs = BeautifulSoup(page.content, 'html.parser')\n",
    "\n",
    "images = bs.find_all('img',\n",
    "    {'src':re.compile('../img/gifts/img\\d*.jpg')})\n",
    "for image in images: \n",
    "    print(image)"
   ]
  },
  {
   "cell_type": "code",
   "execution_count": 25,
   "metadata": {},
   "outputs": [
    {
     "data": {
      "text/plain": [
       "<img src=\"../img/gifts/img1.jpg\"/>"
      ]
     },
     "execution_count": 25,
     "metadata": {},
     "output_type": "execute_result"
    }
   ],
   "source": [
    "images[0][]"
   ]
  },
  {
   "cell_type": "markdown",
   "metadata": {},
   "source": [
    "## Tips\n",
    "\n",
    "- To build and test regular expressions, you can use RegEx - tester tools such as regex101: https://regex101.com/.\n",
    "- Learn More at : https://docs.python.org/3/library/re.html \n",
    "- Ask ChatGPT to write it for you!\n",
    " "
   ]
  },
  {
   "cell_type": "code",
   "execution_count": null,
   "metadata": {},
   "outputs": [],
   "source": []
  }
 ],
 "metadata": {
  "kernelspec": {
   "display_name": "Python 3 (ipykernel)",
   "language": "python",
   "name": "python3"
  },
  "language_info": {
   "codemirror_mode": {
    "name": "ipython",
    "version": 3
   },
   "file_extension": ".py",
   "mimetype": "text/x-python",
   "name": "python",
   "nbconvert_exporter": "python",
   "pygments_lexer": "ipython3",
   "version": "3.9.12"
  }
 },
 "nbformat": 4,
 "nbformat_minor": 2
}
