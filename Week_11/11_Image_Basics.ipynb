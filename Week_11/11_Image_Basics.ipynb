{
 "cells": [
  {
   "cell_type": "markdown",
   "metadata": {},
   "source": [
    "# Image Basics"
   ]
  },
  {
   "cell_type": "markdown",
   "metadata": {
    "id": "67NLL70olGh3"
   },
   "source": [
    "## Vectorization \n",
    "\n",
    "Below is a minimum working procedure to turn an image into a low-dimensional vector using VGG (a widely-studied image processing architecture). "
   ]
  },
  {
   "cell_type": "code",
   "execution_count": 1,
   "metadata": {
    "id": "dGD7BXhjlL54"
   },
   "outputs": [
    {
     "name": "stderr",
     "output_type": "stream",
     "text": [
      "2024-04-29 21:02:23.191623: I tensorflow/core/platform/cpu_feature_guard.cc:182] This TensorFlow binary is optimized to use available CPU instructions in performance-critical operations.\n",
      "To enable the following instructions: SSE4.1 SSE4.2, in other operations, rebuild TensorFlow with the appropriate compiler flags.\n"
     ]
    },
    {
     "name": "stdout",
     "output_type": "stream",
     "text": [
      "Intel MKL WARNING: Support of Intel(R) Streaming SIMD Extensions 4.2 (Intel(R) SSE4.2) enabled only processors has been deprecated. Intel oneAPI Math Kernel Library 2025.0 will require Intel(R) Advanced Vector Extensions (Intel(R) AVX) instructions.\n",
      "Intel MKL WARNING: Support of Intel(R) Streaming SIMD Extensions 4.2 (Intel(R) SSE4.2) enabled only processors has been deprecated. Intel oneAPI Math Kernel Library 2025.0 will require Intel(R) Advanced Vector Extensions (Intel(R) AVX) instructions.\n",
      "Downloading data from https://storage.googleapis.com/tensorflow/keras-applications/vgg19/vgg19_weights_tf_dim_ordering_tf_kernels_notop.h5\n",
      "80134624/80134624 [==============================] - 4s 0us/step\n"
     ]
    }
   ],
   "source": [
    "from keras.applications.vgg19 import VGG19\n",
    "from keras.models import Model\n",
    "import keras.utils as image\n",
    "\n",
    "from tensorflow.keras import regularizers\n",
    "from tensorflow.keras.applications.resnet50 import ResNet50, preprocess_input\n",
    "from tensorflow.keras.applications.vgg19 import preprocess_input\n",
    "import numpy as np\n",
    "from numpy.linalg import norm\n",
    "\n",
    "\n",
    "vgg_model = VGG19(include_top = False, weights = 'imagenet', pooling='max', input_shape=(224, 224, 3))\n",
    "# trick here: set include_top = F so that the model can be used for feature extraction"
   ]
  },
  {
   "cell_type": "markdown",
   "metadata": {
    "id": "cMwVi1VBycor"
   },
   "source": [
    "Read in image and do some preprocessing"
   ]
  },
  {
   "cell_type": "code",
   "execution_count": 2,
   "metadata": {
    "colab": {
     "base_uri": "https://localhost:8080/"
    },
    "id": "pCOmd--Xqs9h",
    "outputId": "c5fefa28-bc20-454b-e997-ffd4a1690960"
   },
   "outputs": [
    {
     "name": "stdout",
     "output_type": "stream",
     "text": [
      "(1, 224, 224, 3)\n"
     ]
    }
   ],
   "source": [
    "imgpath = \"content/005BHtGojw1f30um7zp9yj30np0hsgnb.jpg\"\n",
    "\n",
    "# read images as pixel representations\n",
    "img = image.load_img(imgpath, target_size = (224, 224, 3))\n",
    "\n",
    "x = image.img_to_array(img)\n",
    "\n",
    "# add new axis to x; the model expects an input tensor of shape (batch_size, height, width, channels)\n",
    "x = np.expand_dims(x, axis = 0)\n",
    "print (x.shape)\n",
    "\n",
    "x = preprocess_input(x)"
   ]
  },
  {
   "cell_type": "code",
   "execution_count": 3,
   "metadata": {
    "colab": {
     "base_uri": "https://localhost:8080/"
    },
    "id": "173hvLoLS60u",
    "outputId": "c21bede9-83a3-4945-d319-f782938ed092"
   },
   "outputs": [
    {
     "data": {
      "text/plain": [
       "array([[[[138.061   , 121.221   , 109.32    ],\n",
       "         [138.061   , 121.221   , 109.32    ],\n",
       "         [138.061   , 121.221   , 109.32    ],\n",
       "         ...,\n",
       "         [111.061   ,  65.221   ,  32.32    ],\n",
       "         [109.061   ,  63.221   ,  30.32    ],\n",
       "         [107.061   ,  65.221   ,  31.32    ]],\n",
       "\n",
       "        [[138.061   , 121.221   , 109.32    ],\n",
       "         [138.061   , 121.221   , 109.32    ],\n",
       "         [138.061   , 121.221   , 109.32    ],\n",
       "         ...,\n",
       "         [109.061   ,  66.221   ,  32.32    ],\n",
       "         [107.061   ,  64.221   ,  30.32    ],\n",
       "         [105.061   ,  63.221   ,  29.32    ]],\n",
       "\n",
       "        [[138.061   , 121.221   , 109.32    ],\n",
       "         [138.061   , 121.221   , 109.32    ],\n",
       "         [138.061   , 121.221   , 109.32    ],\n",
       "         ...,\n",
       "         [109.061   ,  66.221   ,  32.32    ],\n",
       "         [107.061   ,  64.221   ,  30.32    ],\n",
       "         [105.061   ,  63.221   ,  29.32    ]],\n",
       "\n",
       "        ...,\n",
       "\n",
       "        [[ 55.060997,  54.221   ,  51.32    ],\n",
       "         [ 56.060997,  55.221   ,  52.32    ],\n",
       "         [ 59.060997,  58.221   ,  55.32    ],\n",
       "         ...,\n",
       "         [ 68.061   ,  67.221   ,  70.32    ],\n",
       "         [ 63.060997,  62.221   ,  65.32    ],\n",
       "         [ 61.060997,  61.221   ,  62.32    ]],\n",
       "\n",
       "        [[ 50.060997,  49.221   ,  46.32    ],\n",
       "         [ 52.060997,  51.221   ,  48.32    ],\n",
       "         [ 55.060997,  54.221   ,  51.32    ],\n",
       "         ...,\n",
       "         [ 68.061   ,  67.221   ,  70.32    ],\n",
       "         [ 67.061   ,  66.221   ,  69.32    ],\n",
       "         [ 67.061   ,  67.221   ,  68.32    ]],\n",
       "\n",
       "        [[ 51.060997,  50.221   ,  47.32    ],\n",
       "         [ 52.060997,  51.221   ,  48.32    ],\n",
       "         [ 56.060997,  55.221   ,  52.32    ],\n",
       "         ...,\n",
       "         [ 67.061   ,  66.221   ,  69.32    ],\n",
       "         [ 70.061   ,  69.221   ,  72.32    ],\n",
       "         [ 68.061   ,  68.221   ,  69.32    ]]]], dtype=float32)"
      ]
     },
     "execution_count": 3,
     "metadata": {},
     "output_type": "execute_result"
    }
   ],
   "source": [
    "x"
   ]
  },
  {
   "cell_type": "markdown",
   "metadata": {
    "id": "K5fejo6QCP1V"
   },
   "source": [
    "turning this 224 * 224 * 3 input image vector into a 512 dimensinoal vector"
   ]
  },
  {
   "cell_type": "code",
   "execution_count": 4,
   "metadata": {
    "colab": {
     "base_uri": "https://localhost:8080/"
    },
    "id": "yT5zHSSSrv2x",
    "outputId": "c3123ccc-bc68-45e3-b6ea-92f01d91998c"
   },
   "outputs": [
    {
     "name": "stdout",
     "output_type": "stream",
     "text": [
      "1/1 [==============================] - 1s 1s/step\n",
      "(1, 512)\n"
     ]
    }
   ],
   "source": [
    "features = vgg_model.predict(x)\n",
    "print (features.shape)"
   ]
  },
  {
   "cell_type": "code",
   "execution_count": 5,
   "metadata": {
    "colab": {
     "base_uri": "https://localhost:8080/"
    },
    "id": "53jn8STDr6sZ",
    "outputId": "109ccbd7-64a8-4a24-80e3-acb22e1caf07"
   },
   "outputs": [
    {
     "name": "stdout",
     "output_type": "stream",
     "text": [
      "(512,)\n"
     ]
    }
   ],
   "source": [
    "flattened_features = features.flatten()\n",
    "normalized_features = flattened_features / norm(flattened_features)\n",
    "print (normalized_features.shape)"
   ]
  },
  {
   "cell_type": "code",
   "execution_count": 6,
   "metadata": {
    "colab": {
     "base_uri": "https://localhost:8080/"
    },
    "id": "NFa7ZU4Qs3hx",
    "outputId": "c3739dbd-7557-4cfd-e2ff-5915cf5ec70f"
   },
   "outputs": [
    {
     "name": "stdout",
     "output_type": "stream",
     "text": [
      "[0.00615704 0.00099961 0.         0.02136492 0.03949049 0.00691726\n",
      " 0.         0.         0.         0.07155347 0.         0.\n",
      " 0.03074658 0.         0.03790263 0.00425444 0.00433585 0.00599406\n",
      " 0.         0.05028516 0.07530899 0.03993706 0.         0.02500179\n",
      " 0.01967025 0.         0.06795363 0.         0.04755968 0.01186159\n",
      " 0.05865788 0.10625745 0.00271707 0.         0.10744192 0.00693026\n",
      " 0.03321005 0.08212536 0.         0.         0.05355053 0.00969568\n",
      " 0.035594   0.         0.         0.00844507 0.03981892 0.\n",
      " 0.02438352 0.02150263 0.05838768 0.         0.01871988 0.02523691\n",
      " 0.07887344 0.06988721 0.01303031 0.         0.05287678 0.0755858\n",
      " 0.         0.0390576  0.05471928 0.02711317 0.         0.\n",
      " 0.03866674 0.04163147 0.         0.04667988 0.03908895 0.\n",
      " 0.04343482 0.042733   0.         0.00434791 0.15439717 0.01520454\n",
      " 0.06400329 0.00417809 0.         0.10102465 0.         0.\n",
      " 0.02518681 0.01722774 0.14448677 0.05098615 0.0244447  0.0114516\n",
      " 0.         0.00269314 0.0469655  0.         0.05904905 0.02351398\n",
      " 0.02519974 0.         0.10108972 0.07030442 0.         0.04247301\n",
      " 0.01497634 0.02180709 0.         0.         0.00273446 0.03636613\n",
      " 0.00939844 0.04594226 0.02272877 0.         0.         0.\n",
      " 0.03957428 0.04040479 0.11498567 0.01367695 0.14432232 0.06395259\n",
      " 0.01614841 0.         0.         0.07586271 0.04931937 0.04663121\n",
      " 0.         0.00559105 0.         0.10999986 0.0628567  0.\n",
      " 0.         0.         0.01099298 0.04521973 0.10880703 0.00331077\n",
      " 0.00589856 0.01451095 0.02335787 0.         0.0044871  0.06549814\n",
      " 0.07468056 0.         0.01026138 0.04833125 0.11010715 0.\n",
      " 0.01459912 0.         0.01461974 0.00575924 0.02612345 0.04780163\n",
      " 0.00719449 0.00137971 0.         0.03588144 0.03869161 0.02237835\n",
      " 0.00175632 0.08021834 0.01225017 0.03858598 0.02489153 0.\n",
      " 0.07919288 0.03122526 0.02907217 0.0011135  0.01758753 0.11516014\n",
      " 0.00036198 0.0171385  0.02301173 0.08240297 0.01058442 0.01220681\n",
      " 0.03848175 0.02010006 0.02069028 0.00579028 0.1188075  0.0062465\n",
      " 0.04214016 0.05329642 0.01148442 0.         0.0174378  0.06502037\n",
      " 0.02567578 0.         0.         0.         0.         0.00226714\n",
      " 0.         0.         0.         0.         0.         0.\n",
      " 0.0017226  0.01688603 0.02475572 0.00706179 0.01717165 0.\n",
      " 0.10781852 0.00743212 0.         0.         0.028526   0.04959339\n",
      " 0.         0.         0.         0.02865961 0.08987401 0.04306757\n",
      " 0.         0.09200596 0.0533747  0.00466642 0.         0.00868113\n",
      " 0.00560148 0.         0.05463365 0.04860738 0.02731856 0.04673683\n",
      " 0.09920762 0.         0.0298151  0.03709234 0.         0.\n",
      " 0.0403581  0.00022385 0.02566107 0.         0.01219112 0.18924418\n",
      " 0.         0.22129646 0.06203819 0.03947246 0.0679138  0.01382967\n",
      " 0.0181117  0.         0.         0.03456123 0.0125707  0.0021683\n",
      " 0.02686154 0.05835496 0.01679416 0.03891002 0.         0.02397303\n",
      " 0.04774868 0.00526924 0.07230306 0.0052545  0.01502989 0.04048336\n",
      " 0.1288402  0.04566265 0.01024177 0.00935815 0.01981649 0.03795461\n",
      " 0.04483631 0.00661414 0.00213959 0.01057395 0.         0.00930731\n",
      " 0.06181004 0.02305498 0.         0.01598052 0.         0.03717714\n",
      " 0.0217639  0.03889843 0.01427029 0.09478404 0.02098727 0.04159827\n",
      " 0.         0.         0.01091969 0.         0.0299557  0.\n",
      " 0.02584003 0.0007878  0.00574432 0.0163455  0.02708035 0.01902614\n",
      " 0.         0.00636485 0.         0.03036791 0.         0.\n",
      " 0.01584136 0.05327762 0.         0.04673112 0.01559489 0.06714554\n",
      " 0.06568252 0.         0.05786344 0.03331706 0.         0.02063376\n",
      " 0.03005157 0.08567459 0.01713042 0.02487927 0.00644894 0.\n",
      " 0.         0.02472132 0.         0.         0.11657381 0.01824746\n",
      " 0.         0.         0.05780645 0.         0.06578818 0.\n",
      " 0.         0.01644939 0.         0.         0.01166504 0.02259013\n",
      " 0.         0.         0.06098654 0.         0.04481626 0.\n",
      " 0.00595034 0.         0.01248773 0.0604657  0.06114534 0.06700998\n",
      " 0.20746818 0.02548706 0.14541821 0.         0.00432326 0.\n",
      " 0.         0.         0.00539255 0.04376093 0.0073951  0.00320387\n",
      " 0.00682108 0.         0.         0.01514847 0.         0.02467684\n",
      " 0.05531875 0.00827519 0.02064411 0.15441146 0.0321268  0.\n",
      " 0.         0.         0.         0.06419823 0.         0.03737498\n",
      " 0.05691015 0.0651268  0.01884227 0.03641411 0.         0.00126249\n",
      " 0.09338475 0.06434065 0.02003648 0.         0.05374847 0.\n",
      " 0.01535843 0.03092699 0.         0.         0.15208644 0.00981416\n",
      " 0.02476785 0.00570108 0.         0.04527662 0.04743969 0.03854185\n",
      " 0.01560729 0.02335588 0.08830592 0.05134785 0.         0.06686553\n",
      " 0.04229826 0.05559498 0.00975112 0.0414376  0.         0.00157987\n",
      " 0.00358118 0.01507527 0.00494978 0.         0.01855005 0.02848238\n",
      " 0.04955965 0.02022309 0.         0.04468797 0.         0.\n",
      " 0.03482312 0.04951953 0.         0.01285562 0.02803339 0.\n",
      " 0.02668168 0.02339684 0.         0.06148482 0.02142542 0.00894614\n",
      " 0.10313714 0.         0.05025046 0.03274947 0.05201443 0.00558945\n",
      " 0.         0.         0.00900026 0.00280468 0.0020249  0.\n",
      " 0.         0.01476732 0.         0.02037403 0.         0.09188958\n",
      " 0.01020419 0.01625175 0.         0.0398072  0.00123158 0.\n",
      " 0.00626624 0.0158179  0.         0.13333066 0.         0.00477666\n",
      " 0.03605897 0.00249922 0.02938172 0.07887945 0.         0.02938427\n",
      " 0.17766207 0.08492772 0.03656946 0.02623388 0.04194372 0.\n",
      " 0.03287407 0.00655447 0.         0.02700537 0.         0.\n",
      " 0.01071361 0.01786594 0.07972746 0.05698691 0.01955536 0.02809265\n",
      " 0.03789207 0.0018217  0.02600926 0.         0.         0.0275886\n",
      " 0.06257476 0.12692961]\n"
     ]
    }
   ],
   "source": [
    "print (normalized_features)"
   ]
  },
  {
   "cell_type": "markdown",
   "metadata": {
    "id": "jSH3SALqcEbK"
   },
   "source": [
    "## Calculate similarity\n",
    "\n",
    "here, we calculate cosine similarities between each pair of images\n"
   ]
  },
  {
   "cell_type": "code",
   "execution_count": 7,
   "metadata": {
    "colab": {
     "base_uri": "https://localhost:8080/"
    },
    "id": "kVOwu9nkcDJ5",
    "outputId": "a8ce2fa6-07f6-401e-e686-df297bde3129"
   },
   "outputs": [
    {
     "name": "stdout",
     "output_type": "stream",
     "text": [
      "['content/006bebWOjw1f0n9bzie63j30m80ciq49.jpg', 'content/005uVUl0jw1f0s7o0dd23j30zk0qodij.jpg', 'content/6e8300fejw1ezs1esyxr0j20hs0npdgq.jpg', 'content/006dr64Ejw1f4tlp5vlatj30qo0zkq82.jpg', 'content/006dr64Ejw1f4tlp4jxyej30qo0zkjxc.jpg', 'content/6c89ce75jw1f0n7ryeqi8j20ht0vk0vd.jpg', 'content/6c89ce75jw1f0n7rzogbaj20zk0qo480.jpg', 'content/005XjOvXjw1ezxotjwc1hj30qo0zkq9v.jpg', 'content/006c88epjw1f3924h0a5bj30qo1bets0.jpg', 'content/005zdmz5gw1f0gc6s570zj30hs0np3zq.jpg', 'content/005zUX8Igw1f05o64a7iuj30hs0np40a.jpg', 'content/005YgCQZjw1ezozh5wq5xj30qe0zk0xt.jpg', 'content/006asriVjw1f4lmx3g83ej31120kutgm.jpg', 'content/005BHtGojw1f30um7zp9yj30np0hsgnb.jpg', 'content/006dr64Ejw1f4tlp9spu0j30k00qoady.jpg', 'content/005RhvjZgw1f0ju4ze04xj30qo1beq76.jpg', 'content/005DrjbEgw1f3bazhhurwj30zk0qon5f.jpg', 'content/6e8300fejw1ezs1ey71irj20hs0npwfq.jpg', 'content/006dr64Ejw1f4tlp6sgmdj30zk0qoq9l.jpg', 'content/006dr64Ejw1f4tlp7wmljj30zk0qoagu.jpg', 'content/006aGxzHjw1f2hloon40rj30g00sgwit.jpg', 'content/6e8300fejw1ezvclzoljbj20f00qo0t7.jpg', 'content/006dQWVljw1f2m7307ivxj30hs0nqmzm.jpg', 'content/6e8300fejw1ezvcm70z98j20np0hsdh0.jpg', 'content/005wLpSfgw1f38rb3db4yj30k00zkwmu.jpg', 'content/006cdrxagw1ezwitkmugcj30xc18g4cm.jpg', 'content/006dr64Ejw1f4tlp8fa4fj30k10zk43c.jpg', 'content/6e8300fejw1ezvcmfqoo5j20f00qo751.jpg', 'content/6e8300fejw1ezpi043j59j21bh0qojwt.jpg', 'content/6e8300fejw1ezs1f4papxj20hs0npjsw.jpg', 'content/006dLHDNjw1f08k45422dj30hs0vkn19.jpg', 'content/006dr64Ejw1f4tlp54cqaj30qo0zkjwk.jpg']\n"
     ]
    }
   ],
   "source": [
    "## first, get all images ending up with jpg\n",
    "\n",
    "\n",
    "import glob\n",
    "imgs = glob.glob(\"content/*.jpg\") \n",
    "print (imgs)"
   ]
  },
  {
   "cell_type": "code",
   "execution_count": 8,
   "metadata": {
    "colab": {
     "base_uri": "https://localhost:8080/",
     "height": 1000
    },
    "id": "1zCu6odPconW",
    "outputId": "2e6acb62-18a3-499d-e147-9e5735fef184"
   },
   "outputs": [],
   "source": [
    "## second, calculate pairwise similarity\n",
    "\n",
    "import math\n",
    "def cosine_similarity(v1,v2):\n",
    "    \"compute cosine similarity of v1 to v2: (v1 dot v2)/{||v1||*||v2||)\"\n",
    "    sumxx, sumxy, sumyy = 0, 0, 0\n",
    "    for i in range(len(v1)):\n",
    "        x = v1[i]; y = v2[i]\n",
    "        sumxx += x*x\n",
    "        sumyy += y*y\n",
    "        sumxy += x*y\n",
    "    return sumxy/math.sqrt(sumxx*sumyy)\n",
    "\n"
   ]
  },
  {
   "cell_type": "code",
   "execution_count": 9,
   "metadata": {},
   "outputs": [
    {
     "name": "stdout",
     "output_type": "stream",
     "text": [
      "content/006bebWOjw1f0n9bzie63j30m80ciq49.jpg\n",
      "1/1 [==============================] - 1s 584ms/step\n"
     ]
    }
   ],
   "source": [
    "## extracted image representation for the first image\n",
    "result_tuple = []\n",
    "\n",
    "img1 = imgs[0]\n",
    "print (img1)\n",
    "\n",
    "img = image.load_img(img1, target_size = (224, 224, 3))\n",
    "x = image.img_to_array(img)\n",
    "x = np.expand_dims(x, axis = 0)\n",
    "x = preprocess_input(x)\n",
    "features = vgg_model.predict(x)\n",
    "flattened_features = features.flatten()\n",
    "normalized_features1 = flattened_features / norm(flattened_features)"
   ]
  },
  {
   "cell_type": "code",
   "execution_count": 10,
   "metadata": {},
   "outputs": [
    {
     "name": "stdout",
     "output_type": "stream",
     "text": [
      "1/1 [==============================] - 0s 385ms/step\n",
      "content/005uVUl0jw1f0s7o0dd23j30zk0qodij.jpg 0.6427494930069056\n",
      "1/1 [==============================] - 0s 382ms/step\n",
      "content/6e8300fejw1ezs1esyxr0j20hs0npdgq.jpg 0.5394797093440581\n",
      "1/1 [==============================] - 0s 392ms/step\n",
      "content/006dr64Ejw1f4tlp5vlatj30qo0zkq82.jpg 0.5026351846049261\n",
      "1/1 [==============================] - 0s 449ms/step\n",
      "content/006dr64Ejw1f4tlp4jxyej30qo0zkjxc.jpg 0.46929724672286666\n",
      "1/1 [==============================] - 0s 493ms/step\n",
      "content/6c89ce75jw1f0n7ryeqi8j20ht0vk0vd.jpg 0.48050923143287144\n",
      "1/1 [==============================] - 1s 545ms/step\n",
      "content/6c89ce75jw1f0n7rzogbaj20zk0qo480.jpg 0.5728521654525268\n",
      "1/1 [==============================] - 1s 751ms/step\n",
      "content/005XjOvXjw1ezxotjwc1hj30qo0zkq9v.jpg 0.5031360919821111\n",
      "1/1 [==============================] - 1s 767ms/step\n",
      "content/006c88epjw1f3924h0a5bj30qo1bets0.jpg 0.47417447409279795\n",
      "1/1 [==============================] - 1s 753ms/step\n",
      "content/005zdmz5gw1f0gc6s570zj30hs0np3zq.jpg 0.5271149255934522\n",
      "1/1 [==============================] - 1s 721ms/step\n",
      "content/005zUX8Igw1f05o64a7iuj30hs0np40a.jpg 0.6111078769670315\n",
      "1/1 [==============================] - 1s 695ms/step\n",
      "content/005YgCQZjw1ezozh5wq5xj30qe0zk0xt.jpg 0.4577572281581139\n",
      "1/1 [==============================] - 1s 709ms/step\n",
      "content/006asriVjw1f4lmx3g83ej31120kutgm.jpg 0.6524528570657465\n",
      "1/1 [==============================] - 1s 848ms/step\n",
      "content/005BHtGojw1f30um7zp9yj30np0hsgnb.jpg 0.5005958681878891\n",
      "1/1 [==============================] - 1s 827ms/step\n",
      "content/006dr64Ejw1f4tlp9spu0j30k00qoady.jpg 0.5427763622460785\n",
      "1/1 [==============================] - 1s 730ms/step\n",
      "content/005RhvjZgw1f0ju4ze04xj30qo1beq76.jpg 0.5094146449705033\n",
      "1/1 [==============================] - 1s 720ms/step\n",
      "content/005DrjbEgw1f3bazhhurwj30zk0qon5f.jpg 0.6552901512138034\n",
      "1/1 [==============================] - 1s 716ms/step\n",
      "content/6e8300fejw1ezs1ey71irj20hs0npwfq.jpg 0.5394797093440581\n",
      "1/1 [==============================] - 1s 712ms/step\n",
      "content/006dr64Ejw1f4tlp6sgmdj30zk0qoq9l.jpg 0.6300571999217852\n",
      "1/1 [==============================] - 1s 724ms/step\n",
      "content/006dr64Ejw1f4tlp7wmljj30zk0qoagu.jpg 0.5818050985798405\n",
      "1/1 [==============================] - 1s 685ms/step\n",
      "content/006aGxzHjw1f2hloon40rj30g00sgwit.jpg 0.48565542157440006\n",
      "1/1 [==============================] - 1s 698ms/step\n",
      "content/6e8300fejw1ezvclzoljbj20f00qo0t7.jpg 0.5443398256111945\n",
      "1/1 [==============================] - 1s 687ms/step\n",
      "content/006dQWVljw1f2m7307ivxj30hs0nqmzm.jpg 0.515831758723313\n",
      "1/1 [==============================] - 1s 694ms/step\n",
      "content/6e8300fejw1ezvcm70z98j20np0hsdh0.jpg 0.5873699031772514\n",
      "1/1 [==============================] - 1s 667ms/step\n",
      "content/005wLpSfgw1f38rb3db4yj30k00zkwmu.jpg 0.5864040896352182\n",
      "1/1 [==============================] - 1s 728ms/step\n",
      "content/006cdrxagw1ezwitkmugcj30xc18g4cm.jpg 0.586738108397749\n",
      "1/1 [==============================] - 1s 772ms/step\n",
      "content/006dr64Ejw1f4tlp8fa4fj30k10zk43c.jpg 0.5187815612768675\n",
      "1/1 [==============================] - 1s 732ms/step\n",
      "content/6e8300fejw1ezvcmfqoo5j20f00qo751.jpg 0.5946118887528776\n",
      "1/1 [==============================] - 1s 729ms/step\n",
      "content/6e8300fejw1ezpi043j59j21bh0qojwt.jpg 0.577872592036407\n",
      "1/1 [==============================] - 1s 692ms/step\n",
      "content/6e8300fejw1ezs1f4papxj20hs0npjsw.jpg 0.5931173654760683\n",
      "1/1 [==============================] - 1s 700ms/step\n",
      "content/006dLHDNjw1f08k45422dj30hs0vkn19.jpg 0.5507895615932443\n",
      "1/1 [==============================] - 1s 733ms/step\n",
      "content/006dr64Ejw1f4tlp54cqaj30qo0zkjwk.jpg 0.5314930185402859\n"
     ]
    },
    {
     "data": {
      "text/html": [
       "<div>\n",
       "<style scoped>\n",
       "    .dataframe tbody tr th:only-of-type {\n",
       "        vertical-align: middle;\n",
       "    }\n",
       "\n",
       "    .dataframe tbody tr th {\n",
       "        vertical-align: top;\n",
       "    }\n",
       "\n",
       "    .dataframe thead th {\n",
       "        text-align: right;\n",
       "    }\n",
       "</style>\n",
       "<table border=\"1\" class=\"dataframe\">\n",
       "  <thead>\n",
       "    <tr style=\"text-align: right;\">\n",
       "      <th></th>\n",
       "      <th>0</th>\n",
       "      <th>1</th>\n",
       "    </tr>\n",
       "  </thead>\n",
       "  <tbody>\n",
       "    <tr>\n",
       "      <th>0</th>\n",
       "      <td>content/005uVUl0jw1f0s7o0dd23j30zk0qodij.jpg</td>\n",
       "      <td>0.642749</td>\n",
       "    </tr>\n",
       "    <tr>\n",
       "      <th>1</th>\n",
       "      <td>content/6e8300fejw1ezs1esyxr0j20hs0npdgq.jpg</td>\n",
       "      <td>0.539480</td>\n",
       "    </tr>\n",
       "    <tr>\n",
       "      <th>2</th>\n",
       "      <td>content/006dr64Ejw1f4tlp5vlatj30qo0zkq82.jpg</td>\n",
       "      <td>0.502635</td>\n",
       "    </tr>\n",
       "    <tr>\n",
       "      <th>3</th>\n",
       "      <td>content/006dr64Ejw1f4tlp4jxyej30qo0zkjxc.jpg</td>\n",
       "      <td>0.469297</td>\n",
       "    </tr>\n",
       "    <tr>\n",
       "      <th>4</th>\n",
       "      <td>content/6c89ce75jw1f0n7ryeqi8j20ht0vk0vd.jpg</td>\n",
       "      <td>0.480509</td>\n",
       "    </tr>\n",
       "  </tbody>\n",
       "</table>\n",
       "</div>"
      ],
      "text/plain": [
       "                                              0         1\n",
       "0  content/005uVUl0jw1f0s7o0dd23j30zk0qodij.jpg  0.642749\n",
       "1  content/6e8300fejw1ezs1esyxr0j20hs0npdgq.jpg  0.539480\n",
       "2  content/006dr64Ejw1f4tlp5vlatj30qo0zkq82.jpg  0.502635\n",
       "3  content/006dr64Ejw1f4tlp4jxyej30qo0zkjxc.jpg  0.469297\n",
       "4  content/6c89ce75jw1f0n7ryeqi8j20ht0vk0vd.jpg  0.480509"
      ]
     },
     "execution_count": 10,
     "metadata": {},
     "output_type": "execute_result"
    }
   ],
   "source": [
    "## extracted image representation for the second to the last image\n",
    "## and calculate cosine similarity between the first image and each of the rest image\n",
    "\n",
    "for img2 in imgs[1:]:\n",
    "\n",
    "    if img1 == img2:\n",
    "      continue # avoid comparing the same picture\n",
    "    img = image.load_img(img2, target_size = (224, 224, 3))\n",
    "    x = image.img_to_array(img)\n",
    "    x = np.expand_dims(x, axis = 0)\n",
    "    x = preprocess_input(x)\n",
    "    features = vgg_model.predict(x)\n",
    "    flattened_features = features.flatten()\n",
    "    normalized_features2 = flattened_features / norm(flattened_features)\n",
    "\n",
    "    cos = cosine_similarity(normalized_features1, normalized_features2)\n",
    "    print (img2, cos)\n",
    "\n",
    "    result_tuple.append((img2, cos))\n",
    "\n",
    "import pandas as pd\n",
    "d = pd.DataFrame(result_tuple)\n",
    "d.head()\n",
    "\n",
    "\n"
   ]
  },
  {
   "cell_type": "markdown",
   "metadata": {
    "id": "QmiIWBciuqkw"
   },
   "source": [
    "## Exercise\n",
    "I take a sample of dataset from here \n",
    "https://www.kaggle.com/crowdflower/twitter-user-gender-classification\n",
    "\n",
    "There are two tasks you may explore:\n",
    "\n",
    "- Try a clustering algorithm on the image dataset (`profile_pictures_training`) \n",
    "   - Can you find meaningful clusters?\n",
    "- Try a supervised ML task:\n",
    "   - use images in `profile_pictures_training` train your model. The `training_metadata.csv` contains a `gender` column which is the outcome for training.\n",
    "   - Then predict gender of images in `profile_pictures_test`. Verify your predictions the the gender in `test_metadata.csv`.\n",
    "   - You can use any method, e.g., logistic regression, SVM, random forests, or any other things you know.\n",
    "\n",
    "\n"
   ]
  },
  {
   "cell_type": "markdown",
   "metadata": {
    "id": "tbNvdzHFOvKf"
   },
   "source": [
    "If you are not familiar with coding in Python, feel free to save the data to R and download that to your disk and use R.\n",
    "\n",
    "For instance, the below code will save your data to a file \"test.csv\" and then you can download that to your local disk."
   ]
  },
  {
   "cell_type": "code",
   "execution_count": null,
   "metadata": {
    "id": "wALtFUZMvejI"
   },
   "outputs": [],
   "source": [
    "with open (\"test.csv\", 'w') as w:\n",
    "  for cell in normalized_features:\n",
    "    w.write(f\"{cell},\")"
   ]
  },
  {
   "cell_type": "markdown",
   "metadata": {
    "id": "yiLG-ncgORsR"
   },
   "source": [
    "the below cell is how you upload the material on google colab"
   ]
  },
  {
   "cell_type": "code",
   "execution_count": null,
   "metadata": {
    "colab": {
     "base_uri": "https://localhost:8080/"
    },
    "id": "YDJTpCYm_OM-",
    "outputId": "2b76885f-3bf4-489b-c4aa-af1e26ece22a"
   },
   "outputs": [],
   "source": [
    "!unzip -uq /content/material.zip"
   ]
  }
 ],
 "metadata": {
  "colab": {
   "provenance": []
  },
  "kernelspec": {
   "display_name": "Python 3 (ipykernel)",
   "language": "python",
   "name": "python3"
  },
  "language_info": {
   "codemirror_mode": {
    "name": "ipython",
    "version": 3
   },
   "file_extension": ".py",
   "mimetype": "text/x-python",
   "name": "python",
   "nbconvert_exporter": "python",
   "pygments_lexer": "ipython3",
   "version": "3.11.9"
  }
 },
 "nbformat": 4,
 "nbformat_minor": 4
}
